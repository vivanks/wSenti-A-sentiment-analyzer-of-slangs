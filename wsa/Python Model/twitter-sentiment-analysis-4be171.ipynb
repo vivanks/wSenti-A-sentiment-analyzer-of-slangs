{
 "cells": [
  {
   "cell_type": "markdown",
   "metadata": {
    "_uuid": "92b885dd147dac19bd0a33db3cd0da100bd5bc23"
   },
   "source": [
    "# Twitter Sentiment Analysis"
   ]
  },
  {
   "cell_type": "code",
   "execution_count": 1,
   "metadata": {
    "_uuid": "70282bce8b42a51e4d44f2c7d85c4ca9567b0fd4"
   },
   "outputs": [
    {
     "name": "stdout",
     "output_type": "stream",
     "text": [
      "Collecting gensim\r\n",
      "\u001b[?25l  Downloading https://files.pythonhosted.org/packages/d7/b9/6c93685bed0026b6a1cce55ab173f6b617f6db0d1325d25489c2fd43e711/gensim-3.7.1-cp36-cp36m-manylinux1_x86_64.whl (24.2MB)\r\n",
      "\u001b[K    100% |████████████████████████████████| 24.2MB 2.3MB/s \r\n",
      "\u001b[?25hRequirement already satisfied, skipping upgrade: numpy>=1.11.3 in /opt/conda/lib/python3.6/site-packages (from gensim) (1.16.0)\r\n",
      "Requirement already satisfied, skipping upgrade: scipy>=0.18.1 in /opt/conda/lib/python3.6/site-packages (from gensim) (1.1.0)\r\n",
      "Requirement already satisfied, skipping upgrade: six>=1.5.0 in /opt/conda/lib/python3.6/site-packages (from gensim) (1.12.0)\r\n",
      "Requirement already satisfied, skipping upgrade: smart-open>=1.7.0 in /opt/conda/lib/python3.6/site-packages (from gensim) (1.7.1)\r\n",
      "Requirement already satisfied, skipping upgrade: requests in /opt/conda/lib/python3.6/site-packages (from smart-open>=1.7.0->gensim) (2.21.0)\r\n",
      "Requirement already satisfied, skipping upgrade: bz2file in /opt/conda/lib/python3.6/site-packages (from smart-open>=1.7.0->gensim) (0.98)\r\n",
      "Requirement already satisfied, skipping upgrade: boto>=2.32 in /opt/conda/lib/python3.6/site-packages (from smart-open>=1.7.0->gensim) (2.48.0)\r\n",
      "Requirement already satisfied, skipping upgrade: boto3 in /opt/conda/lib/python3.6/site-packages (from smart-open>=1.7.0->gensim) (1.9.80)\r\n",
      "Requirement already satisfied, skipping upgrade: idna<2.9,>=2.5 in /opt/conda/lib/python3.6/site-packages (from requests->smart-open>=1.7.0->gensim) (2.6)\r\n",
      "Requirement already satisfied, skipping upgrade: urllib3<1.25,>=1.21.1 in /opt/conda/lib/python3.6/site-packages (from requests->smart-open>=1.7.0->gensim) (1.22)\r\n",
      "Requirement already satisfied, skipping upgrade: certifi>=2017.4.17 in /opt/conda/lib/python3.6/site-packages (from requests->smart-open>=1.7.0->gensim) (2018.11.29)\r\n",
      "Requirement already satisfied, skipping upgrade: chardet<3.1.0,>=3.0.2 in /opt/conda/lib/python3.6/site-packages (from requests->smart-open>=1.7.0->gensim) (3.0.4)\r\n",
      "Requirement already satisfied, skipping upgrade: s3transfer<0.2.0,>=0.1.10 in /opt/conda/lib/python3.6/site-packages (from boto3->smart-open>=1.7.0->gensim) (0.1.13)\r\n",
      "Requirement already satisfied, skipping upgrade: botocore<1.13.0,>=1.12.80 in /opt/conda/lib/python3.6/site-packages (from boto3->smart-open>=1.7.0->gensim) (1.12.80)\r\n",
      "Requirement already satisfied, skipping upgrade: jmespath<1.0.0,>=0.7.1 in /opt/conda/lib/python3.6/site-packages (from boto3->smart-open>=1.7.0->gensim) (0.9.3)\r\n",
      "Requirement already satisfied, skipping upgrade: python-dateutil<3.0.0,>=2.1; python_version >= \"2.7\" in /opt/conda/lib/python3.6/site-packages (from botocore<1.13.0,>=1.12.80->boto3->smart-open>=1.7.0->gensim) (2.6.0)\r\n",
      "Requirement already satisfied, skipping upgrade: docutils>=0.10 in /opt/conda/lib/python3.6/site-packages (from botocore<1.13.0,>=1.12.80->boto3->smart-open>=1.7.0->gensim) (0.14)\r\n",
      "Installing collected packages: gensim\r\n",
      "  Found existing installation: gensim 3.6.0\r\n",
      "    Uninstalling gensim-3.6.0:\r\n",
      "      Successfully uninstalled gensim-3.6.0\r\n",
      "Successfully installed gensim-3.7.1\r\n",
      "\u001b[33mYou are using pip version 18.1, however version 19.0.2 is available.\r\n",
      "You should consider upgrading via the 'pip install --upgrade pip' command.\u001b[0m\r\n",
      "Requirement already up-to-date: keras in /opt/conda/lib/python3.6/site-packages/Keras-2.2.4-py3.6.egg (2.2.4)\r\n",
      "Requirement already satisfied, skipping upgrade: numpy>=1.9.1 in /opt/conda/lib/python3.6/site-packages (from keras) (1.16.0)\r\n",
      "Requirement already satisfied, skipping upgrade: scipy>=0.14 in /opt/conda/lib/python3.6/site-packages (from keras) (1.1.0)\r\n",
      "Requirement already satisfied, skipping upgrade: six>=1.9.0 in /opt/conda/lib/python3.6/site-packages (from keras) (1.12.0)\r\n",
      "Requirement already satisfied, skipping upgrade: pyyaml in /opt/conda/lib/python3.6/site-packages (from keras) (3.12)\r\n",
      "Requirement already satisfied, skipping upgrade: h5py in /opt/conda/lib/python3.6/site-packages (from keras) (2.9.0)\r\n",
      "Requirement already satisfied, skipping upgrade: keras_applications>=1.0.6 in /opt/conda/lib/python3.6/site-packages (from keras) (1.0.6)\r\n",
      "Requirement already satisfied, skipping upgrade: keras_preprocessing>=1.0.5 in /opt/conda/lib/python3.6/site-packages (from keras) (1.0.5)\r\n",
      "\u001b[33mYou are using pip version 18.1, however version 19.0.2 is available.\r\n",
      "You should consider upgrading via the 'pip install --upgrade pip' command.\u001b[0m\r\n",
      "Collecting pandas\r\n",
      "\u001b[?25l  Downloading https://files.pythonhosted.org/packages/e6/de/a0d3defd8f338eaf53ef716e40ef6d6c277c35d50e09b586e170169cdf0d/pandas-0.24.1-cp36-cp36m-manylinux1_x86_64.whl (10.1MB)\r\n",
      "\u001b[K    100% |████████████████████████████████| 10.1MB 5.3MB/s \r\n",
      "\u001b[?25hRequirement already satisfied, skipping upgrade: pytz>=2011k in /opt/conda/lib/python3.6/site-packages (from pandas) (2018.4)\r\n",
      "Requirement already satisfied, skipping upgrade: numpy>=1.12.0 in /opt/conda/lib/python3.6/site-packages (from pandas) (1.16.0)\r\n",
      "Requirement already satisfied, skipping upgrade: python-dateutil>=2.5.0 in /opt/conda/lib/python3.6/site-packages (from pandas) (2.6.0)\r\n",
      "Requirement already satisfied, skipping upgrade: six>=1.5 in /opt/conda/lib/python3.6/site-packages (from python-dateutil>=2.5.0->pandas) (1.12.0)\r\n",
      "Installing collected packages: pandas\r\n",
      "  Found existing installation: pandas 0.23.4\r\n",
      "    Uninstalling pandas-0.23.4:\r\n",
      "      Successfully uninstalled pandas-0.23.4\r\n",
      "Successfully installed pandas-0.24.1\r\n",
      "\u001b[33mYou are using pip version 18.1, however version 19.0.2 is available.\r\n",
      "You should consider upgrading via the 'pip install --upgrade pip' command.\u001b[0m\r\n"
     ]
    }
   ],
   "source": [
    "!pip install gensim --upgrade\n",
    "!pip install keras --upgrade\n",
    "!pip install pandas --upgrade"
   ]
  },
  {
   "cell_type": "code",
   "execution_count": 2,
   "metadata": {
    "_uuid": "303e72966af732ddef0bd8108a321095314e44af"
   },
   "outputs": [
    {
     "name": "stderr",
     "output_type": "stream",
     "text": [
      "Using TensorFlow backend.\n"
     ]
    }
   ],
   "source": [
    "# DataFrame\n",
    "import pandas as pd\n",
    "\n",
    "# Matplot\n",
    "import matplotlib.pyplot as plt\n",
    "%matplotlib inline\n",
    "\n",
    "# Scikit-learn\n",
    "from sklearn.model_selection import train_test_split\n",
    "from sklearn.preprocessing import LabelEncoder\n",
    "from sklearn.metrics import confusion_matrix, classification_report, accuracy_score\n",
    "from sklearn.manifold import TSNE\n",
    "from sklearn.feature_extraction.text import TfidfVectorizer\n",
    "\n",
    "# Keras\n",
    "from keras.preprocessing.text import Tokenizer\n",
    "from keras.preprocessing.sequence import pad_sequences\n",
    "from keras.models import Sequential\n",
    "from keras.layers import Activation, Dense, Dropout, Embedding, Flatten, Conv1D, MaxPooling1D, LSTM\n",
    "from keras import utils\n",
    "from keras.callbacks import ReduceLROnPlateau, EarlyStopping\n",
    "\n",
    "# nltk\n",
    "import nltk\n",
    "from nltk.corpus import stopwords\n",
    "from  nltk.stem import SnowballStemmer\n",
    "\n",
    "# Word2vec\n",
    "import gensim\n",
    "\n",
    "# Utility\n",
    "import re\n",
    "import numpy as np\n",
    "import os\n",
    "from collections import Counter\n",
    "import logging\n",
    "import time\n",
    "import pickle\n",
    "import itertools\n",
    "\n",
    "# Set log\n",
    "logging.basicConfig(format='%(asctime)s : %(levelname)s : %(message)s', level=logging.INFO)"
   ]
  },
  {
   "cell_type": "code",
   "execution_count": 3,
   "metadata": {
    "_uuid": "35e1a89dead5fd160e4c9a024a21d2e569fc89ff"
   },
   "outputs": [
    {
     "name": "stdout",
     "output_type": "stream",
     "text": [
      "[nltk_data] Downloading package stopwords to /usr/share/nltk_data...\n",
      "[nltk_data]   Package stopwords is already up-to-date!\n"
     ]
    },
    {
     "data": {
      "text/plain": [
       "True"
      ]
     },
     "execution_count": 3,
     "metadata": {},
     "output_type": "execute_result"
    }
   ],
   "source": [
    "nltk.download('stopwords')"
   ]
  },
  {
   "cell_type": "markdown",
   "metadata": {
    "_uuid": "e8b01a07df001e4abcc745900336c4db06e455f3"
   },
   "source": [
    "### Settings"
   ]
  },
  {
   "cell_type": "code",
   "execution_count": 4,
   "metadata": {
    "_uuid": "180f0dd2a95419e4602b5c0229822b0111c826f6"
   },
   "outputs": [],
   "source": [
    "# DATASET\n",
    "DATASET_COLUMNS = [\"target\", \"ids\", \"date\", \"flag\", \"user\", \"text\"]\n",
    "DATASET_ENCODING = \"ISO-8859-1\"\n",
    "TRAIN_SIZE = 0.8\n",
    "\n",
    "# TEXT CLENAING\n",
    "TEXT_CLEANING_RE = \"@\\S+|https?:\\S+|http?:\\S|[^A-Za-z0-9]+\"\n",
    "\n",
    "# WORD2VEC \n",
    "W2V_SIZE = 300\n",
    "W2V_WINDOW = 7\n",
    "W2V_EPOCH = 32\n",
    "W2V_MIN_COUNT = 10\n",
    "\n",
    "# KERAS\n",
    "SEQUENCE_LENGTH = 300\n",
    "EPOCHS = 8\n",
    "BATCH_SIZE = 1024\n",
    "\n",
    "# SENTIMENT\n",
    "POSITIVE = \"POSITIVE\"\n",
    "NEGATIVE = \"NEGATIVE\"\n",
    "NEUTRAL = \"NEUTRAL\"\n",
    "SENTIMENT_THRESHOLDS = (0.4, 0.7)\n",
    "\n",
    "# EXPORT\n",
    "KERAS_MODEL = \"model.h5\"\n",
    "WORD2VEC_MODEL = \"model.w2v\"\n",
    "TOKENIZER_MODEL = \"tokenizer.pkl\"\n",
    "ENCODER_MODEL = \"encoder.pkl\""
   ]
  },
  {
   "cell_type": "markdown",
   "metadata": {
    "_uuid": "1c3beecc618be68480b3d4f0de08d9d863da1dc1"
   },
   "source": [
    "### Read Dataset"
   ]
  },
  {
   "cell_type": "markdown",
   "metadata": {
    "_uuid": "563b3c44f1092dba0b853747b098e00509098cca"
   },
   "source": [
    "### Dataset details\n",
    "* **target**: the polarity of the tweet (0 = negative, 2 = neutral, 4 = positive)\n",
    "* **ids**: The id of the tweet ( 2087)\n",
    "* **date**: the date of the tweet (Sat May 16 23:58:44 UTC 2009)\n",
    "* **flag**: The query (lyx). If there is no query, then this value is NO_QUERY.\n",
    "* **user**: the user that tweeted (robotickilldozr)\n",
    "* **text**: the text of the tweet (Lyx is cool)"
   ]
  },
  {
   "cell_type": "code",
   "execution_count": 5,
   "metadata": {
    "_uuid": "bba8f91cd70de4f5ea0fb0870ae2029b6e3dcc24"
   },
   "outputs": [
    {
     "name": "stdout",
     "output_type": "stream",
     "text": [
      "Open file: ../input/training.1600000.processed.noemoticon.csv\n"
     ]
    }
   ],
   "source": [
    "dataset_filename = os.listdir(\"../input\")[0]\n",
    "dataset_path = os.path.join(\"..\",\"input\",dataset_filename)\n",
    "print(\"Open file:\", dataset_path)\n",
    "df = pd.read_csv(dataset_path, encoding =DATASET_ENCODING , names=DATASET_COLUMNS)"
   ]
  },
  {
   "cell_type": "code",
   "execution_count": 6,
   "metadata": {
    "_uuid": "936d499c00c4f1648bc16ca9d283c3b39be7fb10"
   },
   "outputs": [
    {
     "name": "stdout",
     "output_type": "stream",
     "text": [
      "Dataset size: 1600000\n"
     ]
    }
   ],
   "source": [
    "print(\"Dataset size:\", len(df))"
   ]
  },
  {
   "cell_type": "code",
   "execution_count": 7,
   "metadata": {
    "_uuid": "7486ed895b813c5246f97b31b6162b0f65ff763b"
   },
   "outputs": [
    {
     "ename": "TypeError",
     "evalue": "__init__() got an unexpected keyword argument 'max_rows'",
     "output_type": "error",
     "traceback": [
      "\u001b[0;31m---------------------------------------------------------------------------\u001b[0m",
      "\u001b[0;31mTypeError\u001b[0m                                 Traceback (most recent call last)",
      "\u001b[0;32m/opt/conda/lib/python3.6/site-packages/IPython/core/formatters.py\u001b[0m in \u001b[0;36m__call__\u001b[0;34m(self, obj)\u001b[0m\n\u001b[1;32m    343\u001b[0m             \u001b[0mmethod\u001b[0m \u001b[0;34m=\u001b[0m \u001b[0mget_real_method\u001b[0m\u001b[0;34m(\u001b[0m\u001b[0mobj\u001b[0m\u001b[0;34m,\u001b[0m \u001b[0mself\u001b[0m\u001b[0;34m.\u001b[0m\u001b[0mprint_method\u001b[0m\u001b[0;34m)\u001b[0m\u001b[0;34m\u001b[0m\u001b[0m\n\u001b[1;32m    344\u001b[0m             \u001b[0;32mif\u001b[0m \u001b[0mmethod\u001b[0m \u001b[0;32mis\u001b[0m \u001b[0;32mnot\u001b[0m \u001b[0;32mNone\u001b[0m\u001b[0;34m:\u001b[0m\u001b[0;34m\u001b[0m\u001b[0m\n\u001b[0;32m--> 345\u001b[0;31m                 \u001b[0;32mreturn\u001b[0m \u001b[0mmethod\u001b[0m\u001b[0;34m(\u001b[0m\u001b[0;34m)\u001b[0m\u001b[0;34m\u001b[0m\u001b[0m\n\u001b[0m\u001b[1;32m    346\u001b[0m             \u001b[0;32mreturn\u001b[0m \u001b[0;32mNone\u001b[0m\u001b[0;34m\u001b[0m\u001b[0m\n\u001b[1;32m    347\u001b[0m         \u001b[0;32melse\u001b[0m\u001b[0;34m:\u001b[0m\u001b[0;34m\u001b[0m\u001b[0m\n",
      "\u001b[0;32m/opt/conda/lib/python3.6/site-packages/pandas/core/frame.py\u001b[0m in \u001b[0;36m_repr_html_\u001b[0;34m(self)\u001b[0m\n\u001b[1;32m    694\u001b[0m         \u001b[0mSee\u001b[0m \u001b[0mAlso\u001b[0m\u001b[0;34m\u001b[0m\u001b[0m\n\u001b[1;32m    695\u001b[0m         \u001b[0;34m-\u001b[0m\u001b[0;34m-\u001b[0m\u001b[0;34m-\u001b[0m\u001b[0;34m-\u001b[0m\u001b[0;34m-\u001b[0m\u001b[0;34m-\u001b[0m\u001b[0;34m-\u001b[0m\u001b[0;34m-\u001b[0m\u001b[0;34m\u001b[0m\u001b[0m\n\u001b[0;32m--> 696\u001b[0;31m         \u001b[0mto_html\u001b[0m \u001b[0;34m:\u001b[0m \u001b[0mConvert\u001b[0m \u001b[0mDataFrame\u001b[0m \u001b[0mto\u001b[0m \u001b[0mHTML\u001b[0m\u001b[0;34m.\u001b[0m\u001b[0;34m\u001b[0m\u001b[0m\n\u001b[0m\u001b[1;32m    697\u001b[0m \u001b[0;34m\u001b[0m\u001b[0m\n\u001b[1;32m    698\u001b[0m         \u001b[0mExamples\u001b[0m\u001b[0;34m\u001b[0m\u001b[0m\n",
      "\u001b[0;32m/opt/conda/lib/python3.6/site-packages/pandas/core/frame.py\u001b[0m in \u001b[0;36mto_html\u001b[0;34m(self, buf, columns, col_space, header, index, na_rep, formatters, float_format, sparsify, index_names, justify, bold_rows, classes, escape, max_rows, max_cols, show_dimensions, notebook, decimal, border, table_id)\u001b[0m\n\u001b[1;32m   2035\u001b[0m             \u001b[0mDictionary\u001b[0m \u001b[0mmapping\u001b[0m \u001b[0mcolumns\u001b[0m \u001b[0mcontaining\u001b[0m \u001b[0mdatetime\u001b[0m \u001b[0mtypes\u001b[0m \u001b[0mto\u001b[0m \u001b[0mstata\u001b[0m\u001b[0;34m\u001b[0m\u001b[0m\n\u001b[1;32m   2036\u001b[0m             \u001b[0minternal\u001b[0m \u001b[0mformat\u001b[0m \u001b[0mto\u001b[0m \u001b[0muse\u001b[0m \u001b[0mwhen\u001b[0m \u001b[0mwriting\u001b[0m \u001b[0mthe\u001b[0m \u001b[0mdates\u001b[0m\u001b[0;34m.\u001b[0m \u001b[0mOptions\u001b[0m \u001b[0mare\u001b[0m \u001b[0;34m'tc'\u001b[0m\u001b[0;34m,\u001b[0m\u001b[0;34m\u001b[0m\u001b[0m\n\u001b[0;32m-> 2037\u001b[0;31m             \u001b[0;34m'td'\u001b[0m\u001b[0;34m,\u001b[0m \u001b[0;34m'tm'\u001b[0m\u001b[0;34m,\u001b[0m \u001b[0;34m'tw'\u001b[0m\u001b[0;34m,\u001b[0m \u001b[0;34m'th'\u001b[0m\u001b[0;34m,\u001b[0m \u001b[0;34m'tq'\u001b[0m\u001b[0;34m,\u001b[0m \u001b[0;34m'ty'\u001b[0m\u001b[0;34m.\u001b[0m \u001b[0mColumn\u001b[0m \u001b[0mcan\u001b[0m \u001b[0mbe\u001b[0m \u001b[0meither\u001b[0m \u001b[0man\u001b[0m \u001b[0minteger\u001b[0m\u001b[0;34m\u001b[0m\u001b[0m\n\u001b[0m\u001b[1;32m   2038\u001b[0m             \u001b[0;32mor\u001b[0m \u001b[0ma\u001b[0m \u001b[0mname\u001b[0m\u001b[0;34m.\u001b[0m \u001b[0mDatetime\u001b[0m \u001b[0mcolumns\u001b[0m \u001b[0mthat\u001b[0m \u001b[0mdo\u001b[0m \u001b[0;32mnot\u001b[0m \u001b[0mhave\u001b[0m \u001b[0ma\u001b[0m \u001b[0mconversion\u001b[0m \u001b[0mtype\u001b[0m\u001b[0;34m\u001b[0m\u001b[0m\n\u001b[1;32m   2039\u001b[0m             \u001b[0mspecified\u001b[0m \u001b[0mwill\u001b[0m \u001b[0mbe\u001b[0m \u001b[0mconverted\u001b[0m \u001b[0mto\u001b[0m \u001b[0;34m'tc'\u001b[0m\u001b[0;34m.\u001b[0m \u001b[0mRaises\u001b[0m \u001b[0mNotImplementedError\u001b[0m \u001b[0;32mif\u001b[0m\u001b[0;34m\u001b[0m\u001b[0m\n",
      "\u001b[0;32m/opt/conda/lib/python3.6/site-packages/pandas/io/formats/format.py\u001b[0m in \u001b[0;36mto_html\u001b[0;34m(self, classes, notebook, border)\u001b[0m\n\u001b[1;32m    751\u001b[0m             \u001b[0mneed_leadsp\u001b[0m \u001b[0;34m=\u001b[0m \u001b[0mdict\u001b[0m\u001b[0;34m(\u001b[0m\u001b[0mzip\u001b[0m\u001b[0;34m(\u001b[0m\u001b[0mfmt_columns\u001b[0m\u001b[0;34m,\u001b[0m \u001b[0mmap\u001b[0m\u001b[0;34m(\u001b[0m\u001b[0mis_numeric_dtype\u001b[0m\u001b[0;34m,\u001b[0m \u001b[0mdtypes\u001b[0m\u001b[0;34m)\u001b[0m\u001b[0;34m)\u001b[0m\u001b[0;34m)\u001b[0m\u001b[0;34m\u001b[0m\u001b[0m\n\u001b[1;32m    752\u001b[0m \u001b[0;34m\u001b[0m\u001b[0m\n\u001b[0;32m--> 753\u001b[0;31m             \u001b[0;32mdef\u001b[0m \u001b[0mspace_format\u001b[0m\u001b[0;34m(\u001b[0m\u001b[0mx\u001b[0m\u001b[0;34m,\u001b[0m \u001b[0my\u001b[0m\u001b[0;34m)\u001b[0m\u001b[0;34m:\u001b[0m\u001b[0;34m\u001b[0m\u001b[0m\n\u001b[0m\u001b[1;32m    754\u001b[0m                 if (y not in self.formatters and\n\u001b[1;32m    755\u001b[0m                         need_leadsp[x] and not restrict_formatting):\n",
      "\u001b[0;31mTypeError\u001b[0m: __init__() got an unexpected keyword argument 'max_rows'"
     ]
    },
    {
     "data": {
      "text/plain": [
       "   target                        ...                                                                       text\n",
       "0       0                        ...                          @switchfoot http://twitpic.com/2y1zl - Awww, t...\n",
       "1       0                        ...                          is upset that he can't update his Facebook by ...\n",
       "2       0                        ...                          @Kenichan I dived many times for the ball. Man...\n",
       "3       0                        ...                            my whole body feels itchy and like its on fire \n",
       "4       0                        ...                          @nationwideclass no, it's not behaving at all....\n",
       "\n",
       "[5 rows x 6 columns]"
      ]
     },
     "execution_count": 7,
     "metadata": {},
     "output_type": "execute_result"
    }
   ],
   "source": [
    "df.head(5)"
   ]
  },
  {
   "cell_type": "markdown",
   "metadata": {
    "_uuid": "3f9a7bb129e184967b13261fb5d253af451c75c5"
   },
   "source": [
    "### Map target label to String\n",
    "* **0** -> **NEGATIVE**\n",
    "* **2** -> **NEUTRAL**\n",
    "* **4** -> **POSITIVE**"
   ]
  },
  {
   "cell_type": "code",
   "execution_count": 8,
   "metadata": {
    "_uuid": "14074b59106cb9550440839e48b832223fc9502f"
   },
   "outputs": [],
   "source": [
    "decode_map = {0: \"NEGATIVE\", 2: \"NEUTRAL\", 4: \"POSITIVE\"}\n",
    "def decode_sentiment(label):\n",
    "    return decode_map[int(label)]"
   ]
  },
  {
   "cell_type": "code",
   "execution_count": 9,
   "metadata": {
    "_uuid": "4449d473187f647a195a6ac6986b009da32a7f4b"
   },
   "outputs": [
    {
     "name": "stdout",
     "output_type": "stream",
     "text": [
      "CPU times: user 584 ms, sys: 16 ms, total: 600 ms\n",
      "Wall time: 602 ms\n"
     ]
    }
   ],
   "source": [
    "%%time\n",
    "df.target = df.target.apply(lambda x: decode_sentiment(x))"
   ]
  },
  {
   "cell_type": "code",
   "execution_count": 10,
   "metadata": {
    "_uuid": "19eb327803192f31cce3512aacb232f4d6b38715"
   },
   "outputs": [
    {
     "data": {
      "text/plain": [
       "Text(0.5,1,'Dataset labels distribuition')"
      ]
     },
     "execution_count": 10,
     "metadata": {},
     "output_type": "execute_result"
    },
    {
     "data": {
      "image/png": "[encoded data removed]",
      "text/plain": [
       "<Figure size 1152x576 with 1 Axes>"
      ]
     },
     "metadata": {},
     "output_type": "display_data"
    }
   ],
   "source": [
    "target_cnt = Counter(df.target)\n",
    "\n",
    "plt.figure(figsize=(16,8))\n",
    "plt.bar(list(target_cnt.keys()), list(target_cnt.values()))\n",
    "plt.title(\"Dataset labels distribuition\")"
   ]
  },
  {
   "cell_type": "markdown",
   "metadata": {
    "_uuid": "4329b1573518b03e497213efa7676220734ebb4b"
   },
   "source": [
    "### Pre-Process dataset"
   ]
  },
  {
   "cell_type": "code",
   "execution_count": 11,
   "metadata": {
    "_uuid": "8aeee8b7b9ea11b749c7f91cd4787a7b50ed1a91"
   },
   "outputs": [],
   "source": [
    "stop_words = stopwords.words(\"english\")\n",
    "stemmer = SnowballStemmer(\"english\")"
   ]
  },
  {
   "cell_type": "code",
   "execution_count": 12,
   "metadata": {
    "_uuid": "649ebcb97969b9ac4301138783704bb3d7846a49"
   },
   "outputs": [],
   "source": [
    "def preprocess(text, stem=False):\n",
    "    # Remove link,user and special characters\n",
    "    text = re.sub(TEXT_CLEANING_RE, ' ', str(text).lower()).strip()\n",
    "    tokens = []\n",
    "    for token in text.split():\n",
    "        if token not in stop_words:\n",
    "            if stem:\n",
    "                tokens.append(stemmer.stem(token))\n",
    "            else:\n",
    "                tokens.append(token)\n",
    "    return \" \".join(tokens)"
   ]
  },
  {
   "cell_type": "code",
   "execution_count": 13,
   "metadata": {
    "_uuid": "f7f3e77ab9291d14687c49e71ba9b2b1e3323432"
   },
   "outputs": [
    {
     "name": "stdout",
     "output_type": "stream",
     "text": [
      "CPU times: user 50.1 s, sys: 172 ms, total: 50.3 s\n",
      "Wall time: 50.3 s\n"
     ]
    }
   ],
   "source": [
    "%%time\n",
    "df.text = df.text.apply(lambda x: preprocess(x))"
   ]
  },
  {
   "cell_type": "markdown",
   "metadata": {
    "_uuid": "f5f9714a8507409bbe780eebf2855a33e8e6ba37"
   },
   "source": [
    "### Split train and test"
   ]
  },
  {
   "cell_type": "code",
   "execution_count": 14,
   "metadata": {
    "_uuid": "d2b1179c968e3f3910c790ecf0c5b2cbb34b0e68"
   },
   "outputs": [
    {
     "name": "stdout",
     "output_type": "stream",
     "text": [
      "TRAIN size: 1280000\n",
      "TEST size: 320000\n"
     ]
    }
   ],
   "source": [
    "df_train, df_test = train_test_split(df, test_size=1-TRAIN_SIZE, random_state=42)\n",
    "print(\"TRAIN size:\", len(df_train))\n",
    "print(\"TEST size:\", len(df_test))"
   ]
  },
  {
   "cell_type": "markdown",
   "metadata": {
    "_uuid": "f08a28aab2c3d16d8b9681a7d5d07587153a1cd6"
   },
   "source": [
    "### Word2Vec "
   ]
  },
  {
   "cell_type": "code",
   "execution_count": 15,
   "metadata": {
    "_uuid": "2461bf564de1b4414841933d0c1d1bee5f5cc5a6"
   },
   "outputs": [
    {
     "name": "stdout",
     "output_type": "stream",
     "text": [
      "CPU times: user 2.94 s, sys: 252 ms, total: 3.19 s\n",
      "Wall time: 3.19 s\n"
     ]
    }
   ],
   "source": [
    "%%time\n",
    "documents = [_text.split() for _text in df_train.text] "
   ]
  },
  {
   "cell_type": "code",
   "execution_count": 16,
   "metadata": {
    "_uuid": "8e19b9f25801ba86420decc266d2b3e6fb44f1ea"
   },
   "outputs": [],
   "source": [
    "w2v_model = gensim.models.word2vec.Word2Vec(size=W2V_SIZE, \n",
    "                                            window=W2V_WINDOW, \n",
    "                                            min_count=W2V_MIN_COUNT, \n",
    "                                            workers=8)"
   ]
  },
  {
   "cell_type": "code",
   "execution_count": 17,
   "metadata": {
    "_uuid": "58d655af07653c594bec6bebcfb302a973b0ad9c"
   },
   "outputs": [
    {
     "name": "stderr",
     "output_type": "stream",
     "text": [
      "2019-02-17 04:49:27,381 : INFO : collecting all words and their counts\n",
      "2019-02-17 04:49:27,382 : INFO : PROGRESS: at sentence #0, processed 0 words, keeping 0 word types\n",
      "2019-02-17 04:49:27,404 : INFO : PROGRESS: at sentence #10000, processed 72565 words, keeping 14005 word types\n",
      "2019-02-17 04:49:27,425 : INFO : PROGRESS: at sentence #20000, processed 144393 words, keeping 21587 word types\n",
      "2019-02-17 04:49:27,445 : INFO : PROGRESS: at sentence #30000, processed 215826 words, keeping 27541 word types\n",
      "2019-02-17 04:49:27,468 : INFO : PROGRESS: at sentence #40000, processed 288271 words, keeping 32764 word types\n",
      "2019-02-17 04:49:27,492 : INFO : PROGRESS: at sentence #50000, processed 359772 words, keeping 37587 word types\n",
      "2019-02-17 04:49:27,517 : INFO : PROGRESS: at sentence #60000, processed 431431 words, keeping 42198 word types\n",
      "2019-02-17 04:49:27,540 : INFO : PROGRESS: at sentence #70000, processed 503103 words, keeping 46458 word types\n",
      "2019-02-17 04:49:27,561 : INFO : PROGRESS: at sentence #80000, processed 575709 words, keeping 50476 word types\n",
      "2019-02-17 04:49:27,583 : INFO : PROGRESS: at sentence #90000, processed 647100 words, keeping 54140 word types\n",
      "2019-02-17 04:49:27,603 : INFO : PROGRESS: at sentence #100000, processed 718681 words, keeping 57777 word types\n",
      "2019-02-17 04:49:27,624 : INFO : PROGRESS: at sentence #110000, processed 790696 words, keeping 61207 word types\n",
      "2019-02-17 04:49:27,646 : INFO : PROGRESS: at sentence #120000, processed 863134 words, keeping 64583 word types\n",
      "2019-02-17 04:49:27,669 : INFO : PROGRESS: at sentence #130000, processed 935111 words, keeping 67865 word types\n",
      "2019-02-17 04:49:27,692 : INFO : PROGRESS: at sentence #140000, processed 1006668 words, keeping 70966 word types\n",
      "2019-02-17 04:49:27,714 : INFO : PROGRESS: at sentence #150000, processed 1078512 words, keeping 74119 word types\n",
      "2019-02-17 04:49:27,735 : INFO : PROGRESS: at sentence #160000, processed 1149914 words, keeping 77187 word types\n",
      "2019-02-17 04:49:27,758 : INFO : PROGRESS: at sentence #170000, processed 1222145 words, keeping 80267 word types\n",
      "2019-02-17 04:49:27,781 : INFO : PROGRESS: at sentence #180000, processed 1294708 words, keeping 83393 word types\n",
      "2019-02-17 04:49:27,805 : INFO : PROGRESS: at sentence #190000, processed 1367608 words, keeping 86329 word types\n",
      "2019-02-17 04:49:27,829 : INFO : PROGRESS: at sentence #200000, processed 1439469 words, keeping 89103 word types\n",
      "2019-02-17 04:49:27,852 : INFO : PROGRESS: at sentence #210000, processed 1512099 words, keeping 91840 word types\n",
      "2019-02-17 04:49:27,875 : INFO : PROGRESS: at sentence #220000, processed 1584149 words, keeping 94636 word types\n",
      "2019-02-17 04:49:27,901 : INFO : PROGRESS: at sentence #230000, processed 1656354 words, keeping 97353 word types\n",
      "2019-02-17 04:49:27,924 : INFO : PROGRESS: at sentence #240000, processed 1728573 words, keeping 99975 word types\n",
      "2019-02-17 04:49:27,947 : INFO : PROGRESS: at sentence #250000, processed 1801102 words, keeping 102594 word types\n",
      "2019-02-17 04:49:27,970 : INFO : PROGRESS: at sentence #260000, processed 1873103 words, keeping 105162 word types\n",
      "2019-02-17 04:49:27,993 : INFO : PROGRESS: at sentence #270000, processed 1945245 words, keeping 107626 word types\n",
      "2019-02-17 04:49:28,017 : INFO : PROGRESS: at sentence #280000, processed 2017163 words, keeping 110141 word types\n",
      "2019-02-17 04:49:28,039 : INFO : PROGRESS: at sentence #290000, processed 2089574 words, keeping 112539 word types\n",
      "2019-02-17 04:49:28,061 : INFO : PROGRESS: at sentence #300000, processed 2160996 words, keeping 114893 word types\n",
      "2019-02-17 04:49:28,084 : INFO : PROGRESS: at sentence #310000, processed 2232913 words, keeping 117298 word types\n",
      "2019-02-17 04:49:28,106 : INFO : PROGRESS: at sentence #320000, processed 2305039 words, keeping 119693 word types\n",
      "2019-02-17 04:49:28,128 : INFO : PROGRESS: at sentence #330000, processed 2377119 words, keeping 122131 word types\n",
      "2019-02-17 04:49:28,151 : INFO : PROGRESS: at sentence #340000, processed 2449370 words, keeping 124416 word types\n",
      "2019-02-17 04:49:28,175 : INFO : PROGRESS: at sentence #350000, processed 2521564 words, keeping 126669 word types\n",
      "2019-02-17 04:49:28,197 : INFO : PROGRESS: at sentence #360000, processed 2593681 words, keeping 128912 word types\n",
      "2019-02-17 04:49:28,219 : INFO : PROGRESS: at sentence #370000, processed 2665692 words, keeping 131135 word types\n",
      "2019-02-17 04:49:28,242 : INFO : PROGRESS: at sentence #380000, processed 2737859 words, keeping 133403 word types\n",
      "2019-02-17 04:49:28,263 : INFO : PROGRESS: at sentence #390000, processed 2809848 words, keeping 135551 word types\n",
      "2019-02-17 04:49:28,290 : INFO : PROGRESS: at sentence #400000, processed 2882438 words, keeping 137742 word types\n",
      "2019-02-17 04:49:28,313 : INFO : PROGRESS: at sentence #410000, processed 2954075 words, keeping 139909 word types\n",
      "2019-02-17 04:49:28,336 : INFO : PROGRESS: at sentence #420000, processed 3026247 words, keeping 142144 word types\n",
      "2019-02-17 04:49:28,359 : INFO : PROGRESS: at sentence #430000, processed 3098659 words, keeping 144364 word types\n",
      "2019-02-17 04:49:28,382 : INFO : PROGRESS: at sentence #440000, processed 3170663 words, keeping 146439 word types\n",
      "2019-02-17 04:49:28,405 : INFO : PROGRESS: at sentence #450000, processed 3243344 words, keeping 148526 word types\n",
      "2019-02-17 04:49:28,428 : INFO : PROGRESS: at sentence #460000, processed 3315466 words, keeping 150610 word types\n",
      "2019-02-17 04:49:28,451 : INFO : PROGRESS: at sentence #470000, processed 3388295 words, keeping 152737 word types\n",
      "2019-02-17 04:49:28,476 : INFO : PROGRESS: at sentence #480000, processed 3460120 words, keeping 154757 word types\n",
      "2019-02-17 04:49:28,503 : INFO : PROGRESS: at sentence #490000, processed 3531883 words, keeping 156825 word types\n",
      "2019-02-17 04:49:28,527 : INFO : PROGRESS: at sentence #500000, processed 3604217 words, keeping 158859 word types\n",
      "2019-02-17 04:49:28,550 : INFO : PROGRESS: at sentence #510000, processed 3676427 words, keeping 160852 word types\n",
      "2019-02-17 04:49:28,574 : INFO : PROGRESS: at sentence #520000, processed 3749045 words, keeping 162863 word types\n",
      "2019-02-17 04:49:28,598 : INFO : PROGRESS: at sentence #530000, processed 3821622 words, keeping 164929 word types\n",
      "2019-02-17 04:49:28,620 : INFO : PROGRESS: at sentence #540000, processed 3893627 words, keeping 166840 word types\n",
      "2019-02-17 04:49:28,643 : INFO : PROGRESS: at sentence #550000, processed 3965477 words, keeping 168799 word types\n",
      "2019-02-17 04:49:28,668 : INFO : PROGRESS: at sentence #560000, processed 4038050 words, keeping 170802 word types\n",
      "2019-02-17 04:49:28,690 : INFO : PROGRESS: at sentence #570000, processed 4110296 words, keeping 172760 word types\n",
      "2019-02-17 04:49:28,715 : INFO : PROGRESS: at sentence #580000, processed 4182385 words, keeping 174635 word types\n",
      "2019-02-17 04:49:28,746 : INFO : PROGRESS: at sentence #590000, processed 4254632 words, keeping 176470 word types\n",
      "2019-02-17 04:49:28,769 : INFO : PROGRESS: at sentence #600000, processed 4326859 words, keeping 178350 word types\n",
      "2019-02-17 04:49:28,793 : INFO : PROGRESS: at sentence #610000, processed 4399183 words, keeping 180290 word types\n",
      "2019-02-17 04:49:28,816 : INFO : PROGRESS: at sentence #620000, processed 4471343 words, keeping 182129 word types\n",
      "2019-02-17 04:49:28,839 : INFO : PROGRESS: at sentence #630000, processed 4543286 words, keeping 184005 word types\n",
      "2019-02-17 04:49:28,861 : INFO : PROGRESS: at sentence #640000, processed 4615780 words, keeping 185835 word types\n",
      "2019-02-17 04:49:28,883 : INFO : PROGRESS: at sentence #650000, processed 4688481 words, keeping 187705 word types\n",
      "2019-02-17 04:49:28,904 : INFO : PROGRESS: at sentence #660000, processed 4760481 words, keeping 189439 word types\n",
      "2019-02-17 04:49:28,927 : INFO : PROGRESS: at sentence #670000, processed 4833024 words, keeping 191232 word types\n",
      "2019-02-17 04:49:28,949 : INFO : PROGRESS: at sentence #680000, processed 4904516 words, keeping 193177 word types\n",
      "2019-02-17 04:49:28,971 : INFO : PROGRESS: at sentence #690000, processed 4976968 words, keeping 194960 word types\n",
      "2019-02-17 04:49:28,992 : INFO : PROGRESS: at sentence #700000, processed 5049412 words, keeping 196725 word types\n",
      "2019-02-17 04:49:29,016 : INFO : PROGRESS: at sentence #710000, processed 5121976 words, keeping 198516 word types\n",
      "2019-02-17 04:49:29,037 : INFO : PROGRESS: at sentence #720000, processed 5193881 words, keeping 200325 word types\n",
      "2019-02-17 04:49:29,058 : INFO : PROGRESS: at sentence #730000, processed 5265467 words, keeping 202133 word types\n",
      "2019-02-17 04:49:29,082 : INFO : PROGRESS: at sentence #740000, processed 5337518 words, keeping 203818 word types\n",
      "2019-02-17 04:49:29,104 : INFO : PROGRESS: at sentence #750000, processed 5409321 words, keeping 205535 word types\n",
      "2019-02-17 04:49:29,129 : INFO : PROGRESS: at sentence #760000, processed 5481512 words, keeping 207282 word types\n",
      "2019-02-17 04:49:29,152 : INFO : PROGRESS: at sentence #770000, processed 5554093 words, keeping 209076 word types\n",
      "2019-02-17 04:49:29,174 : INFO : PROGRESS: at sentence #780000, processed 5625382 words, keeping 210805 word types\n",
      "2019-02-17 04:49:29,197 : INFO : PROGRESS: at sentence #790000, processed 5698066 words, keeping 212618 word types\n",
      "2019-02-17 04:49:29,219 : INFO : PROGRESS: at sentence #800000, processed 5770880 words, keeping 214374 word types\n",
      "2019-02-17 04:49:29,241 : INFO : PROGRESS: at sentence #810000, processed 5843418 words, keeping 216009 word types\n",
      "2019-02-17 04:49:29,264 : INFO : PROGRESS: at sentence #820000, processed 5915628 words, keeping 217804 word types\n",
      "2019-02-17 04:49:29,287 : INFO : PROGRESS: at sentence #830000, processed 5987499 words, keeping 219585 word types\n",
      "2019-02-17 04:49:29,308 : INFO : PROGRESS: at sentence #840000, processed 6058973 words, keeping 221344 word types\n",
      "2019-02-17 04:49:29,331 : INFO : PROGRESS: at sentence #850000, processed 6131125 words, keeping 223002 word types\n",
      "2019-02-17 04:49:29,353 : INFO : PROGRESS: at sentence #860000, processed 6202951 words, keeping 224643 word types\n",
      "2019-02-17 04:49:29,376 : INFO : PROGRESS: at sentence #870000, processed 6275461 words, keeping 226362 word types\n",
      "2019-02-17 04:49:29,400 : INFO : PROGRESS: at sentence #880000, processed 6347661 words, keeping 227986 word types\n",
      "2019-02-17 04:49:29,423 : INFO : PROGRESS: at sentence #890000, processed 6419806 words, keeping 229634 word types\n",
      "2019-02-17 04:49:29,445 : INFO : PROGRESS: at sentence #900000, processed 6491644 words, keeping 231389 word types\n",
      "2019-02-17 04:49:29,470 : INFO : PROGRESS: at sentence #910000, processed 6564022 words, keeping 233050 word types\n",
      "2019-02-17 04:49:29,495 : INFO : PROGRESS: at sentence #920000, processed 6636228 words, keeping 234686 word types\n",
      "2019-02-17 04:49:29,521 : INFO : PROGRESS: at sentence #930000, processed 6708573 words, keeping 236393 word types\n",
      "2019-02-17 04:49:29,545 : INFO : PROGRESS: at sentence #940000, processed 6779956 words, keeping 238052 word types\n",
      "2019-02-17 04:49:29,568 : INFO : PROGRESS: at sentence #950000, processed 6852599 words, keeping 239716 word types\n",
      "2019-02-17 04:49:29,593 : INFO : PROGRESS: at sentence #960000, processed 6924717 words, keeping 241354 word types\n",
      "2019-02-17 04:49:29,615 : INFO : PROGRESS: at sentence #970000, processed 6996992 words, keeping 242980 word types\n",
      "2019-02-17 04:49:29,636 : INFO : PROGRESS: at sentence #980000, processed 7068402 words, keeping 244646 word types\n",
      "2019-02-17 04:49:29,660 : INFO : PROGRESS: at sentence #990000, processed 7140346 words, keeping 246186 word types\n",
      "2019-02-17 04:49:29,682 : INFO : PROGRESS: at sentence #1000000, processed 7211757 words, keeping 247726 word types\n",
      "2019-02-17 04:49:29,705 : INFO : PROGRESS: at sentence #1010000, processed 7283267 words, keeping 249288 word types\n",
      "2019-02-17 04:49:29,727 : INFO : PROGRESS: at sentence #1020000, processed 7355299 words, keeping 250860 word types\n",
      "2019-02-17 04:49:29,750 : INFO : PROGRESS: at sentence #1030000, processed 7426918 words, keeping 252366 word types\n",
      "2019-02-17 04:49:29,774 : INFO : PROGRESS: at sentence #1040000, processed 7498815 words, keeping 253930 word types\n",
      "2019-02-17 04:49:29,797 : INFO : PROGRESS: at sentence #1050000, processed 7570499 words, keeping 255471 word types\n",
      "2019-02-17 04:49:29,821 : INFO : PROGRESS: at sentence #1060000, processed 7643251 words, keeping 257035 word types\n",
      "2019-02-17 04:49:29,843 : INFO : PROGRESS: at sentence #1070000, processed 7714721 words, keeping 258509 word types\n",
      "2019-02-17 04:49:29,866 : INFO : PROGRESS: at sentence #1080000, processed 7787371 words, keeping 260071 word types\n",
      "2019-02-17 04:49:29,889 : INFO : PROGRESS: at sentence #1090000, processed 7859336 words, keeping 261683 word types\n",
      "2019-02-17 04:49:29,912 : INFO : PROGRESS: at sentence #1100000, processed 7932029 words, keeping 263278 word types\n",
      "2019-02-17 04:49:29,934 : INFO : PROGRESS: at sentence #1110000, processed 8004146 words, keeping 264800 word types\n",
      "2019-02-17 04:49:29,956 : INFO : PROGRESS: at sentence #1120000, processed 8075880 words, keeping 266309 word types\n",
      "2019-02-17 04:49:29,978 : INFO : PROGRESS: at sentence #1130000, processed 8148163 words, keeping 267826 word types\n",
      "2019-02-17 04:49:29,999 : INFO : PROGRESS: at sentence #1140000, processed 8220487 words, keeping 269391 word types\n",
      "2019-02-17 04:49:30,023 : INFO : PROGRESS: at sentence #1150000, processed 8292498 words, keeping 270894 word types\n",
      "2019-02-17 04:49:30,044 : INFO : PROGRESS: at sentence #1160000, processed 8363838 words, keeping 272400 word types\n",
      "2019-02-17 04:49:30,067 : INFO : PROGRESS: at sentence #1170000, processed 8435510 words, keeping 273970 word types\n",
      "2019-02-17 04:49:30,089 : INFO : PROGRESS: at sentence #1180000, processed 8507795 words, keeping 275521 word types\n",
      "2019-02-17 04:49:30,110 : INFO : PROGRESS: at sentence #1190000, processed 8579080 words, keeping 277007 word types\n",
      "2019-02-17 04:49:30,133 : INFO : PROGRESS: at sentence #1200000, processed 8650606 words, keeping 278457 word types\n",
      "2019-02-17 04:49:30,155 : INFO : PROGRESS: at sentence #1210000, processed 8721893 words, keeping 279959 word types\n",
      "2019-02-17 04:49:30,177 : INFO : PROGRESS: at sentence #1220000, processed 8793795 words, keeping 281427 word types\n",
      "2019-02-17 04:49:30,200 : INFO : PROGRESS: at sentence #1230000, processed 8865726 words, keeping 282981 word types\n",
      "2019-02-17 04:49:30,222 : INFO : PROGRESS: at sentence #1240000, processed 8938173 words, keeping 284542 word types\n",
      "2019-02-17 04:49:30,244 : INFO : PROGRESS: at sentence #1250000, processed 9010842 words, keeping 286064 word types\n",
      "2019-02-17 04:49:30,266 : INFO : PROGRESS: at sentence #1260000, processed 9083261 words, keeping 287521 word types\n",
      "2019-02-17 04:49:30,288 : INFO : PROGRESS: at sentence #1270000, processed 9155616 words, keeping 288987 word types\n",
      "2019-02-17 04:49:30,311 : INFO : collected 290418 word types from a corpus of 9227204 raw words and 1280000 sentences\n",
      "2019-02-17 04:49:30,312 : INFO : Loading a fresh vocabulary\n",
      "2019-02-17 04:49:30,905 : INFO : effective_min_count=10 retains 30369 unique words (10% of original 290418, drops 260049)\n",
      "2019-02-17 04:49:30,906 : INFO : effective_min_count=10 leaves 8780739 word corpus (95% of original 9227204, drops 446465)\n",
      "2019-02-17 04:49:30,993 : INFO : deleting the raw counts dictionary of 290418 items\n",
      "2019-02-17 04:49:31,000 : INFO : sample=0.001 downsamples 45 most-common words\n",
      "2019-02-17 04:49:31,000 : INFO : downsampling leaves estimated 8222658 word corpus (93.6% of prior 8780739)\n",
      "2019-02-17 04:49:31,072 : INFO : estimated required memory for 30369 words and 300 dimensions: 88070100 bytes\n",
      "2019-02-17 04:49:31,073 : INFO : resetting layer weights\n"
     ]
    }
   ],
   "source": [
    "w2v_model.build_vocab(documents)"
   ]
  },
  {
   "cell_type": "code",
   "execution_count": 18,
   "metadata": {
    "_uuid": "72a5628ca81fd4b8983c12d93ae0bf950b86b6ae"
   },
   "outputs": [
    {
     "name": "stdout",
     "output_type": "stream",
     "text": [
      "Vocab size 30369\n"
     ]
    }
   ],
   "source": [
    "words = w2v_model.wv.vocab.keys()\n",
    "vocab_size = len(words)\n",
    "print(\"Vocab size\", vocab_size)"
   ]
  },
  {
   "cell_type": "code",
   "execution_count": 19,
   "metadata": {
    "_uuid": "68c3e4a5ba07cac3dee67f78ecdd1404c7f83f14"
   },
   "outputs": [
    {
     "name": "stderr",
     "output_type": "stream",
     "text": [
      "2019-02-17 04:49:31,547 : INFO : training model with 8 workers on 30369 vocabulary and 300 features, using sg=0 hs=0 sample=0.001 negative=5 window=7\n",
      "2019-02-17 04:49:32,562 : INFO : EPOCH 1 - PROGRESS: at 4.56% examples, 372151 words/s, in_qsize 15, out_qsize 0\n",
      "2019-02-17 04:49:33,590 : INFO : EPOCH 1 - PROGRESS: at 9.77% examples, 394537 words/s, in_qsize 15, out_qsize 0\n",
      "2019-02-17 04:49:34,601 : INFO : EPOCH 1 - PROGRESS: at 15.08% examples, 406877 words/s, in_qsize 13, out_qsize 3\n",
      "2019-02-17 04:49:35,602 : INFO : EPOCH 1 - PROGRESS: at 20.05% examples, 407380 words/s, in_qsize 13, out_qsize 2\n",
      "2019-02-17 04:49:36,636 : INFO : EPOCH 1 - PROGRESS: at 25.70% examples, 415708 words/s, in_qsize 14, out_qsize 1\n",
      "2019-02-17 04:49:37,703 : INFO : EPOCH 1 - PROGRESS: at 31.21% examples, 417556 words/s, in_qsize 15, out_qsize 0\n",
      "2019-02-17 04:49:38,703 : INFO : EPOCH 1 - PROGRESS: at 36.61% examples, 421425 words/s, in_qsize 16, out_qsize 0\n",
      "2019-02-17 04:49:39,710 : INFO : EPOCH 1 - PROGRESS: at 41.59% examples, 419933 words/s, in_qsize 15, out_qsize 0\n",
      "2019-02-17 04:49:40,748 : INFO : EPOCH 1 - PROGRESS: at 46.67% examples, 417804 words/s, in_qsize 15, out_qsize 0\n",
      "2019-02-17 04:49:41,767 : INFO : EPOCH 1 - PROGRESS: at 52.29% examples, 421574 words/s, in_qsize 15, out_qsize 0\n",
      "2019-02-17 04:49:42,808 : INFO : EPOCH 1 - PROGRESS: at 57.38% examples, 419794 words/s, in_qsize 16, out_qsize 1\n",
      "2019-02-17 04:49:43,846 : INFO : EPOCH 1 - PROGRESS: at 62.68% examples, 420500 words/s, in_qsize 15, out_qsize 2\n",
      "2019-02-17 04:49:44,871 : INFO : EPOCH 1 - PROGRESS: at 67.99% examples, 420322 words/s, in_qsize 15, out_qsize 0\n",
      "2019-02-17 04:49:45,886 : INFO : EPOCH 1 - PROGRESS: at 73.51% examples, 422249 words/s, in_qsize 15, out_qsize 0\n",
      "2019-02-17 04:49:46,892 : INFO : EPOCH 1 - PROGRESS: at 78.62% examples, 421843 words/s, in_qsize 15, out_qsize 1\n",
      "2019-02-17 04:49:47,911 : INFO : EPOCH 1 - PROGRESS: at 83.94% examples, 422260 words/s, in_qsize 15, out_qsize 0\n",
      "2019-02-17 04:49:48,956 : INFO : EPOCH 1 - PROGRESS: at 89.13% examples, 421454 words/s, in_qsize 14, out_qsize 1\n",
      "2019-02-17 04:49:49,962 : INFO : EPOCH 1 - PROGRESS: at 94.68% examples, 423070 words/s, in_qsize 15, out_qsize 0\n",
      "2019-02-17 04:49:50,856 : INFO : worker thread finished; awaiting finish of 7 more threads\n",
      "2019-02-17 04:49:50,860 : INFO : worker thread finished; awaiting finish of 6 more threads\n",
      "2019-02-17 04:49:50,862 : INFO : worker thread finished; awaiting finish of 5 more threads\n",
      "2019-02-17 04:49:50,863 : INFO : worker thread finished; awaiting finish of 4 more threads\n",
      "2019-02-17 04:49:50,864 : INFO : worker thread finished; awaiting finish of 3 more threads\n",
      "2019-02-17 04:49:50,864 : INFO : worker thread finished; awaiting finish of 2 more threads\n",
      "2019-02-17 04:49:50,882 : INFO : worker thread finished; awaiting finish of 1 more threads\n",
      "2019-02-17 04:49:50,892 : INFO : worker thread finished; awaiting finish of 0 more threads\n",
      "2019-02-17 04:49:50,893 : INFO : EPOCH - 1 : training on 9227204 raw words (8223675 effective words) took 19.3s, 425333 effective words/s\n",
      "2019-02-17 04:49:51,971 : INFO : EPOCH 2 - PROGRESS: at 4.78% examples, 374501 words/s, in_qsize 14, out_qsize 5\n",
      "2019-02-17 04:49:52,962 : INFO : EPOCH 2 - PROGRESS: at 10.10% examples, 404272 words/s, in_qsize 15, out_qsize 0\n",
      "2019-02-17 04:49:54,008 : INFO : EPOCH 2 - PROGRESS: at 15.41% examples, 408537 words/s, in_qsize 16, out_qsize 1\n",
      "2019-02-17 04:49:55,038 : INFO : EPOCH 2 - PROGRESS: at 20.70% examples, 412403 words/s, in_qsize 15, out_qsize 0\n",
      "2019-02-17 04:49:56,039 : INFO : EPOCH 2 - PROGRESS: at 25.69% examples, 411805 words/s, in_qsize 14, out_qsize 1\n",
      "2019-02-17 04:49:57,089 : INFO : EPOCH 2 - PROGRESS: at 30.99% examples, 412497 words/s, in_qsize 14, out_qsize 1\n",
      "2019-02-17 04:49:58,093 : INFO : EPOCH 2 - PROGRESS: at 36.07% examples, 413057 words/s, in_qsize 16, out_qsize 3\n",
      "2019-02-17 04:49:59,110 : INFO : EPOCH 2 - PROGRESS: at 41.37% examples, 415107 words/s, in_qsize 15, out_qsize 0\n",
      "2019-02-17 04:50:00,115 : INFO : EPOCH 2 - PROGRESS: at 46.57% examples, 416278 words/s, in_qsize 16, out_qsize 0\n",
      "2019-02-17 04:50:01,115 : INFO : EPOCH 2 - PROGRESS: at 51.75% examples, 417388 words/s, in_qsize 16, out_qsize 0\n",
      "2019-02-17 04:50:02,148 : INFO : EPOCH 2 - PROGRESS: at 56.73% examples, 415504 words/s, in_qsize 14, out_qsize 1\n",
      "2019-02-17 04:50:03,166 : INFO : EPOCH 2 - PROGRESS: at 62.25% examples, 418059 words/s, in_qsize 16, out_qsize 0\n",
      "2019-02-17 04:50:04,221 : INFO : EPOCH 2 - PROGRESS: at 67.45% examples, 417465 words/s, in_qsize 15, out_qsize 1\n",
      "2019-02-17 04:50:05,304 : INFO : EPOCH 2 - PROGRESS: at 72.54% examples, 414711 words/s, in_qsize 13, out_qsize 2\n",
      "2019-02-17 04:50:06,315 : INFO : EPOCH 2 - PROGRESS: at 77.31% examples, 412920 words/s, in_qsize 14, out_qsize 1\n",
      "2019-02-17 04:50:07,336 : INFO : EPOCH 2 - PROGRESS: at 81.66% examples, 408963 words/s, in_qsize 15, out_qsize 0\n",
      "2019-02-17 04:50:08,368 : INFO : EPOCH 2 - PROGRESS: at 86.21% examples, 406206 words/s, in_qsize 15, out_qsize 0\n",
      "2019-02-17 04:50:09,379 : INFO : EPOCH 2 - PROGRESS: at 90.98% examples, 405177 words/s, in_qsize 14, out_qsize 1\n",
      "2019-02-17 04:50:10,388 : INFO : EPOCH 2 - PROGRESS: at 95.45% examples, 402907 words/s, in_qsize 15, out_qsize 0\n",
      "2019-02-17 04:50:11,234 : INFO : worker thread finished; awaiting finish of 7 more threads\n",
      "2019-02-17 04:50:11,237 : INFO : worker thread finished; awaiting finish of 6 more threads\n",
      "2019-02-17 04:50:11,244 : INFO : worker thread finished; awaiting finish of 5 more threads\n",
      "2019-02-17 04:50:11,248 : INFO : worker thread finished; awaiting finish of 4 more threads\n",
      "2019-02-17 04:50:11,282 : INFO : worker thread finished; awaiting finish of 3 more threads\n",
      "2019-02-17 04:50:11,293 : INFO : worker thread finished; awaiting finish of 2 more threads\n",
      "2019-02-17 04:50:11,299 : INFO : worker thread finished; awaiting finish of 1 more threads\n",
      "2019-02-17 04:50:11,303 : INFO : worker thread finished; awaiting finish of 0 more threads\n",
      "2019-02-17 04:50:11,304 : INFO : EPOCH - 2 : training on 9227204 raw words (8222104 effective words) took 20.4s, 403203 effective words/s\n",
      "2019-02-17 04:50:12,447 : INFO : EPOCH 3 - PROGRESS: at 4.23% examples, 306985 words/s, in_qsize 11, out_qsize 4\n",
      "2019-02-17 04:50:13,467 : INFO : EPOCH 3 - PROGRESS: at 9.12% examples, 347895 words/s, in_qsize 15, out_qsize 0\n",
      "2019-02-17 04:50:14,559 : INFO : EPOCH 3 - PROGRESS: at 13.79% examples, 348819 words/s, in_qsize 13, out_qsize 2\n",
      "2019-02-17 04:50:15,570 : INFO : EPOCH 3 - PROGRESS: at 18.97% examples, 366364 words/s, in_qsize 15, out_qsize 0\n",
      "2019-02-17 04:50:16,623 : INFO : EPOCH 3 - PROGRESS: at 24.18% examples, 374333 words/s, in_qsize 15, out_qsize 0\n",
      "2019-02-17 04:50:17,630 : INFO : EPOCH 3 - PROGRESS: at 29.26% examples, 380958 words/s, in_qsize 16, out_qsize 0\n",
      "2019-02-17 04:50:18,711 : INFO : EPOCH 3 - PROGRESS: at 34.57% examples, 384312 words/s, in_qsize 15, out_qsize 0\n",
      "2019-02-17 04:50:19,753 : INFO : EPOCH 3 - PROGRESS: at 39.86% examples, 388553 words/s, in_qsize 15, out_qsize 0\n",
      "2019-02-17 04:50:20,787 : INFO : EPOCH 3 - PROGRESS: at 45.05% examples, 391279 words/s, in_qsize 15, out_qsize 0\n",
      "2019-02-17 04:50:21,806 : INFO : EPOCH 3 - PROGRESS: at 50.24% examples, 394057 words/s, in_qsize 15, out_qsize 0\n",
      "2019-02-17 04:50:22,839 : INFO : EPOCH 3 - PROGRESS: at 54.78% examples, 391522 words/s, in_qsize 15, out_qsize 2\n",
      "2019-02-17 04:50:23,934 : INFO : EPOCH 3 - PROGRESS: at 60.41% examples, 394027 words/s, in_qsize 13, out_qsize 2\n",
      "2019-02-17 04:50:24,942 : INFO : EPOCH 3 - PROGRESS: at 65.72% examples, 396880 words/s, in_qsize 14, out_qsize 1\n",
      "2019-02-17 04:50:26,005 : INFO : EPOCH 3 - PROGRESS: at 70.91% examples, 397280 words/s, in_qsize 15, out_qsize 0\n",
      "2019-02-17 04:50:27,015 : INFO : EPOCH 3 - PROGRESS: at 75.67% examples, 396654 words/s, in_qsize 15, out_qsize 0\n",
      "2019-02-17 04:50:28,106 : INFO : EPOCH 3 - PROGRESS: at 81.01% examples, 397545 words/s, in_qsize 15, out_qsize 0\n",
      "2019-02-17 04:50:29,098 : INFO : EPOCH 3 - PROGRESS: at 86.10% examples, 398271 words/s, in_qsize 15, out_qsize 0\n",
      "2019-02-17 04:50:30,099 : INFO : EPOCH 3 - PROGRESS: at 91.31% examples, 399812 words/s, in_qsize 15, out_qsize 0\n",
      "2019-02-17 04:50:31,107 : INFO : EPOCH 3 - PROGRESS: at 96.31% examples, 400146 words/s, in_qsize 16, out_qsize 0\n",
      "2019-02-17 04:50:31,646 : INFO : worker thread finished; awaiting finish of 7 more threads\n",
      "2019-02-17 04:50:31,682 : INFO : worker thread finished; awaiting finish of 6 more threads\n",
      "2019-02-17 04:50:31,716 : INFO : worker thread finished; awaiting finish of 5 more threads\n",
      "2019-02-17 04:50:31,718 : INFO : worker thread finished; awaiting finish of 4 more threads\n",
      "2019-02-17 04:50:31,720 : INFO : worker thread finished; awaiting finish of 3 more threads\n",
      "2019-02-17 04:50:31,722 : INFO : worker thread finished; awaiting finish of 2 more threads\n",
      "2019-02-17 04:50:31,723 : INFO : worker thread finished; awaiting finish of 1 more threads\n",
      "2019-02-17 04:50:31,726 : INFO : worker thread finished; awaiting finish of 0 more threads\n",
      "2019-02-17 04:50:31,727 : INFO : EPOCH - 3 : training on 9227204 raw words (8223288 effective words) took 20.4s, 402870 effective words/s\n",
      "2019-02-17 04:50:32,791 : INFO : EPOCH 4 - PROGRESS: at 4.67% examples, 363837 words/s, in_qsize 14, out_qsize 1\n",
      "2019-02-17 04:50:33,832 : INFO : EPOCH 4 - PROGRESS: at 9.99% examples, 391676 words/s, in_qsize 15, out_qsize 0\n",
      "2019-02-17 04:50:34,836 : INFO : EPOCH 4 - PROGRESS: at 15.30% examples, 405545 words/s, in_qsize 15, out_qsize 0\n",
      "2019-02-17 04:50:35,884 : INFO : EPOCH 4 - PROGRESS: at 20.48% examples, 406120 words/s, in_qsize 15, out_qsize 0\n",
      "2019-02-17 04:50:36,890 : INFO : EPOCH 4 - PROGRESS: at 25.48% examples, 406390 words/s, in_qsize 15, out_qsize 2\n",
      "2019-02-17 04:50:37,949 : INFO : EPOCH 4 - PROGRESS: at 30.89% examples, 408853 words/s, in_qsize 15, out_qsize 0\n",
      "2019-02-17 04:50:39,025 : INFO : EPOCH 4 - PROGRESS: at 36.08% examples, 408791 words/s, in_qsize 16, out_qsize 2\n",
      "2019-02-17 04:50:40,010 : INFO : EPOCH 4 - PROGRESS: at 41.16% examples, 409264 words/s, in_qsize 15, out_qsize 1\n",
      "2019-02-17 04:50:41,037 : INFO : EPOCH 4 - PROGRESS: at 46.57% examples, 411995 words/s, in_qsize 16, out_qsize 0\n",
      "2019-02-17 04:50:42,081 : INFO : EPOCH 4 - PROGRESS: at 51.32% examples, 408436 words/s, in_qsize 15, out_qsize 2\n",
      "2019-02-17 04:50:43,103 : INFO : EPOCH 4 - PROGRESS: at 56.73% examples, 410797 words/s, in_qsize 13, out_qsize 2\n",
      "2019-02-17 04:50:44,139 : INFO : EPOCH 4 - PROGRESS: at 61.93% examples, 410987 words/s, in_qsize 15, out_qsize 0\n",
      "2019-02-17 04:50:45,144 : INFO : EPOCH 4 - PROGRESS: at 67.24% examples, 412696 words/s, in_qsize 15, out_qsize 0\n",
      "2019-02-17 04:50:46,152 : INFO : EPOCH 4 - PROGRESS: at 72.42% examples, 413504 words/s, in_qsize 15, out_qsize 0\n",
      "2019-02-17 04:50:47,155 : INFO : EPOCH 4 - PROGRESS: at 77.31% examples, 412596 words/s, in_qsize 15, out_qsize 0\n",
      "2019-02-17 04:50:48,160 : INFO : EPOCH 4 - PROGRESS: at 82.85% examples, 415028 words/s, in_qsize 15, out_qsize 0\n",
      "2019-02-17 04:50:49,203 : INFO : EPOCH 4 - PROGRESS: at 87.72% examples, 413175 words/s, in_qsize 15, out_qsize 0\n",
      "2019-02-17 04:50:50,207 : INFO : EPOCH 4 - PROGRESS: at 93.15% examples, 414812 words/s, in_qsize 16, out_qsize 0\n",
      "2019-02-17 04:50:51,251 : INFO : EPOCH 4 - PROGRESS: at 98.15% examples, 413609 words/s, in_qsize 15, out_qsize 0\n",
      "2019-02-17 04:50:51,443 : INFO : worker thread finished; awaiting finish of 7 more threads\n",
      "2019-02-17 04:50:51,447 : INFO : worker thread finished; awaiting finish of 6 more threads\n",
      "2019-02-17 04:50:51,448 : INFO : worker thread finished; awaiting finish of 5 more threads\n",
      "2019-02-17 04:50:51,465 : INFO : worker thread finished; awaiting finish of 4 more threads\n",
      "2019-02-17 04:50:51,472 : INFO : worker thread finished; awaiting finish of 3 more threads\n",
      "2019-02-17 04:50:51,480 : INFO : worker thread finished; awaiting finish of 2 more threads\n",
      "2019-02-17 04:50:51,483 : INFO : worker thread finished; awaiting finish of 1 more threads\n",
      "2019-02-17 04:50:51,486 : INFO : worker thread finished; awaiting finish of 0 more threads\n",
      "2019-02-17 04:50:51,487 : INFO : EPOCH - 4 : training on 9227204 raw words (8222765 effective words) took 19.7s, 416394 effective words/s\n",
      "2019-02-17 04:50:52,652 : INFO : EPOCH 5 - PROGRESS: at 5.11% examples, 363118 words/s, in_qsize 16, out_qsize 4\n",
      "2019-02-17 04:50:53,664 : INFO : EPOCH 5 - PROGRESS: at 10.86% examples, 411710 words/s, in_qsize 15, out_qsize 0\n",
      "2019-02-17 04:50:54,720 : INFO : EPOCH 5 - PROGRESS: at 16.05% examples, 409316 words/s, in_qsize 14, out_qsize 1\n",
      "2019-02-17 04:50:55,743 : INFO : EPOCH 5 - PROGRESS: at 21.46% examples, 415564 words/s, in_qsize 15, out_qsize 0\n",
      "2019-02-17 04:50:56,747 : INFO : EPOCH 5 - PROGRESS: at 26.67% examples, 417589 words/s, in_qsize 16, out_qsize 0\n",
      "2019-02-17 04:50:57,783 : INFO : EPOCH 5 - PROGRESS: at 31.86% examples, 418338 words/s, in_qsize 15, out_qsize 0\n",
      "2019-02-17 04:50:58,815 : INFO : EPOCH 5 - PROGRESS: at 37.16% examples, 417698 words/s, in_qsize 15, out_qsize 0\n",
      "2019-02-17 04:50:59,840 : INFO : EPOCH 5 - PROGRESS: at 42.46% examples, 418647 words/s, in_qsize 15, out_qsize 0\n",
      "2019-02-17 04:51:00,844 : INFO : EPOCH 5 - PROGRESS: at 47.43% examples, 417557 words/s, in_qsize 16, out_qsize 2\n",
      "2019-02-17 04:51:01,876 : INFO : EPOCH 5 - PROGRESS: at 52.62% examples, 417245 words/s, in_qsize 14, out_qsize 1\n",
      "2019-02-17 04:51:02,902 : INFO : EPOCH 5 - PROGRESS: at 57.60% examples, 416595 words/s, in_qsize 13, out_qsize 3\n",
      "2019-02-17 04:51:03,917 : INFO : EPOCH 5 - PROGRESS: at 63.00% examples, 417577 words/s, in_qsize 13, out_qsize 0\n",
      "2019-02-17 04:51:04,951 : INFO : EPOCH 5 - PROGRESS: at 68.21% examples, 417254 words/s, in_qsize 15, out_qsize 0\n",
      "2019-02-17 04:51:06,016 : INFO : EPOCH 5 - PROGRESS: at 73.41% examples, 416081 words/s, in_qsize 14, out_qsize 4\n",
      "2019-02-17 04:51:07,023 : INFO : EPOCH 5 - PROGRESS: at 78.84% examples, 417787 words/s, in_qsize 15, out_qsize 0\n",
      "2019-02-17 04:51:08,035 : INFO : EPOCH 5 - PROGRESS: at 83.94% examples, 417555 words/s, in_qsize 15, out_qsize 0\n",
      "2019-02-17 04:51:09,038 : INFO : EPOCH 5 - PROGRESS: at 88.91% examples, 417037 words/s, in_qsize 15, out_qsize 0\n",
      "2019-02-17 04:51:10,144 : INFO : EPOCH 5 - PROGRESS: at 94.25% examples, 415675 words/s, in_qsize 13, out_qsize 2\n",
      "2019-02-17 04:51:11,150 : INFO : EPOCH 5 - PROGRESS: at 99.22% examples, 415247 words/s, in_qsize 8, out_qsize 0\n",
      "2019-02-17 04:51:11,166 : INFO : worker thread finished; awaiting finish of 7 more threads\n",
      "2019-02-17 04:51:11,175 : INFO : worker thread finished; awaiting finish of 6 more threads\n",
      "2019-02-17 04:51:11,177 : INFO : worker thread finished; awaiting finish of 5 more threads\n",
      "2019-02-17 04:51:11,212 : INFO : worker thread finished; awaiting finish of 4 more threads\n",
      "2019-02-17 04:51:11,225 : INFO : worker thread finished; awaiting finish of 3 more threads\n",
      "2019-02-17 04:51:11,227 : INFO : worker thread finished; awaiting finish of 2 more threads\n",
      "2019-02-17 04:51:11,227 : INFO : worker thread finished; awaiting finish of 1 more threads\n",
      "2019-02-17 04:51:11,228 : INFO : worker thread finished; awaiting finish of 0 more threads\n",
      "2019-02-17 04:51:11,229 : INFO : EPOCH - 5 : training on 9227204 raw words (8223057 effective words) took 19.7s, 416792 effective words/s\n",
      "2019-02-17 04:51:12,252 : INFO : EPOCH 6 - PROGRESS: at 3.91% examples, 316699 words/s, in_qsize 15, out_qsize 0\n",
      "2019-02-17 04:51:13,263 : INFO : EPOCH 6 - PROGRESS: at 8.58% examples, 347666 words/s, in_qsize 16, out_qsize 0\n",
      "2019-02-17 04:51:14,282 : INFO : EPOCH 6 - PROGRESS: at 12.93% examples, 348518 words/s, in_qsize 15, out_qsize 0\n",
      "2019-02-17 04:51:15,315 : INFO : EPOCH 6 - PROGRESS: at 17.57% examples, 356515 words/s, in_qsize 16, out_qsize 2\n",
      "2019-02-17 04:51:16,293 : INFO : EPOCH 6 - PROGRESS: at 22.01% examples, 357819 words/s, in_qsize 15, out_qsize 2\n",
      "2019-02-17 04:51:17,304 : INFO : EPOCH 6 - PROGRESS: at 27.42% examples, 371739 words/s, in_qsize 15, out_qsize 1\n",
      "2019-02-17 04:51:18,311 : INFO : EPOCH 6 - PROGRESS: at 32.62% examples, 379198 words/s, in_qsize 15, out_qsize 0\n",
      "2019-02-17 04:51:19,327 : INFO : EPOCH 6 - PROGRESS: at 37.70% examples, 383318 words/s, in_qsize 16, out_qsize 0\n",
      "2019-02-17 04:51:20,337 : INFO : EPOCH 6 - PROGRESS: at 42.68% examples, 385746 words/s, in_qsize 16, out_qsize 2\n",
      "2019-02-17 04:51:21,343 : INFO : EPOCH 6 - PROGRESS: at 47.75% examples, 388970 words/s, in_qsize 16, out_qsize 2\n",
      "2019-02-17 04:51:22,459 : INFO : EPOCH 6 - PROGRESS: at 53.05% examples, 389052 words/s, in_qsize 15, out_qsize 0\n",
      "2019-02-17 04:51:23,482 : INFO : EPOCH 6 - PROGRESS: at 57.92% examples, 389331 words/s, in_qsize 13, out_qsize 5\n",
      "2019-02-17 04:51:24,498 : INFO : EPOCH 6 - PROGRESS: at 63.33% examples, 393307 words/s, in_qsize 15, out_qsize 1\n",
      "2019-02-17 04:51:25,499 : INFO : EPOCH 6 - PROGRESS: at 68.42% examples, 394847 words/s, in_qsize 14, out_qsize 1\n",
      "2019-02-17 04:51:26,531 : INFO : EPOCH 6 - PROGRESS: at 73.40% examples, 394986 words/s, in_qsize 15, out_qsize 0\n",
      "2019-02-17 04:51:27,557 : INFO : EPOCH 6 - PROGRESS: at 78.62% examples, 396336 words/s, in_qsize 15, out_qsize 0\n",
      "2019-02-17 04:51:28,584 : INFO : EPOCH 6 - PROGRESS: at 83.51% examples, 396574 words/s, in_qsize 16, out_qsize 4\n",
      "2019-02-17 04:51:29,611 : INFO : EPOCH 6 - PROGRESS: at 88.70% examples, 397129 words/s, in_qsize 15, out_qsize 0\n",
      "2019-02-17 04:51:30,633 : INFO : EPOCH 6 - PROGRESS: at 93.92% examples, 398197 words/s, in_qsize 14, out_qsize 1\n",
      "2019-02-17 04:51:31,636 : INFO : EPOCH 6 - PROGRESS: at 99.11% examples, 399585 words/s, in_qsize 9, out_qsize 0\n",
      "2019-02-17 04:51:31,659 : INFO : worker thread finished; awaiting finish of 7 more threads\n",
      "2019-02-17 04:51:31,663 : INFO : worker thread finished; awaiting finish of 6 more threads\n",
      "2019-02-17 04:51:31,676 : INFO : worker thread finished; awaiting finish of 5 more threads\n",
      "2019-02-17 04:51:31,694 : INFO : worker thread finished; awaiting finish of 4 more threads\n",
      "2019-02-17 04:51:31,714 : INFO : worker thread finished; awaiting finish of 3 more threads\n",
      "2019-02-17 04:51:31,732 : INFO : worker thread finished; awaiting finish of 2 more threads\n",
      "2019-02-17 04:51:31,733 : INFO : worker thread finished; awaiting finish of 1 more threads\n",
      "2019-02-17 04:51:31,737 : INFO : worker thread finished; awaiting finish of 0 more threads\n",
      "2019-02-17 04:51:31,738 : INFO : EPOCH - 6 : training on 9227204 raw words (8222062 effective words) took 20.5s, 401113 effective words/s\n",
      "2019-02-17 04:51:32,879 : INFO : EPOCH 7 - PROGRESS: at 5.00% examples, 363156 words/s, in_qsize 15, out_qsize 0\n",
      "2019-02-17 04:51:33,925 : INFO : EPOCH 7 - PROGRESS: at 10.42% examples, 393601 words/s, in_qsize 15, out_qsize 0\n",
      "2019-02-17 04:51:34,928 : INFO : EPOCH 7 - PROGRESS: at 15.51% examples, 401016 words/s, in_qsize 15, out_qsize 0\n",
      "2019-02-17 04:51:35,945 : INFO : EPOCH 7 - PROGRESS: at 20.92% examples, 410001 words/s, in_qsize 15, out_qsize 0\n",
      "2019-02-17 04:51:36,965 : INFO : EPOCH 7 - PROGRESS: at 25.69% examples, 405007 words/s, in_qsize 16, out_qsize 0\n",
      "2019-02-17 04:51:37,972 : INFO : EPOCH 7 - PROGRESS: at 30.67% examples, 405363 words/s, in_qsize 13, out_qsize 1\n",
      "2019-02-17 04:51:38,973 : INFO : EPOCH 7 - PROGRESS: at 34.78% examples, 396013 words/s, in_qsize 15, out_qsize 0\n",
      "2019-02-17 04:51:40,067 : INFO : EPOCH 7 - PROGRESS: at 40.08% examples, 396376 words/s, in_qsize 15, out_qsize 0\n",
      "2019-02-17 04:51:41,081 : INFO : EPOCH 7 - PROGRESS: at 44.83% examples, 395333 words/s, in_qsize 13, out_qsize 4\n",
      "2019-02-17 04:51:42,099 : INFO : EPOCH 7 - PROGRESS: at 50.13% examples, 398647 words/s, in_qsize 16, out_qsize 2\n",
      "2019-02-17 04:51:43,115 : INFO : EPOCH 7 - PROGRESS: at 55.21% examples, 399835 words/s, in_qsize 15, out_qsize 0\n",
      "2019-02-17 04:51:44,212 : INFO : EPOCH 7 - PROGRESS: at 60.63% examples, 400409 words/s, in_qsize 16, out_qsize 1\n",
      "2019-02-17 04:51:45,247 : INFO : EPOCH 7 - PROGRESS: at 65.93% examples, 402509 words/s, in_qsize 16, out_qsize 1\n",
      "2019-02-17 04:51:46,248 : INFO : EPOCH 7 - PROGRESS: at 71.35% examples, 404996 words/s, in_qsize 16, out_qsize 0\n",
      "2019-02-17 04:51:47,312 : INFO : EPOCH 7 - PROGRESS: at 76.55% examples, 404792 words/s, in_qsize 15, out_qsize 0\n",
      "2019-02-17 04:51:48,334 : INFO : EPOCH 7 - PROGRESS: at 81.77% examples, 405633 words/s, in_qsize 13, out_qsize 2\n",
      "2019-02-17 04:51:49,353 : INFO : EPOCH 7 - PROGRESS: at 87.07% examples, 406928 words/s, in_qsize 16, out_qsize 0\n",
      "2019-02-17 04:51:50,355 : INFO : EPOCH 7 - PROGRESS: at 91.96% examples, 406536 words/s, in_qsize 13, out_qsize 2\n",
      "2019-02-17 04:51:51,384 : INFO : EPOCH 7 - PROGRESS: at 97.28% examples, 407712 words/s, in_qsize 15, out_qsize 0\n",
      "2019-02-17 04:51:51,731 : INFO : worker thread finished; awaiting finish of 7 more threads\n",
      "2019-02-17 04:51:51,744 : INFO : worker thread finished; awaiting finish of 6 more threads\n",
      "2019-02-17 04:51:51,745 : INFO : worker thread finished; awaiting finish of 5 more threads\n",
      "2019-02-17 04:51:51,759 : INFO : worker thread finished; awaiting finish of 4 more threads\n",
      "2019-02-17 04:51:51,774 : INFO : worker thread finished; awaiting finish of 3 more threads\n",
      "2019-02-17 04:51:51,778 : INFO : worker thread finished; awaiting finish of 2 more threads\n",
      "2019-02-17 04:51:51,786 : INFO : worker thread finished; awaiting finish of 1 more threads\n",
      "2019-02-17 04:51:51,791 : INFO : worker thread finished; awaiting finish of 0 more threads\n",
      "2019-02-17 04:51:51,792 : INFO : EPOCH - 7 : training on 9227204 raw words (8223081 effective words) took 20.0s, 410327 effective words/s\n",
      "2019-02-17 04:51:52,818 : INFO : EPOCH 8 - PROGRESS: at 4.67% examples, 376503 words/s, in_qsize 15, out_qsize 0\n",
      "2019-02-17 04:51:53,819 : INFO : EPOCH 8 - PROGRESS: at 10.10% examples, 410846 words/s, in_qsize 15, out_qsize 0\n",
      "2019-02-17 04:51:54,825 : INFO : EPOCH 8 - PROGRESS: at 15.19% examples, 412515 words/s, in_qsize 14, out_qsize 1\n",
      "2019-02-17 04:51:55,851 : INFO : EPOCH 8 - PROGRESS: at 20.38% examples, 413576 words/s, in_qsize 14, out_qsize 0\n",
      "2019-02-17 04:51:56,857 : INFO : EPOCH 8 - PROGRESS: at 25.80% examples, 419517 words/s, in_qsize 16, out_qsize 0\n",
      "2019-02-17 04:51:57,877 : INFO : EPOCH 8 - PROGRESS: at 30.78% examples, 416517 words/s, in_qsize 14, out_qsize 1\n",
      "2019-02-17 04:51:58,918 : INFO : EPOCH 8 - PROGRESS: at 35.97% examples, 415640 words/s, in_qsize 13, out_qsize 2\n",
      "2019-02-17 04:51:59,925 : INFO : EPOCH 8 - PROGRESS: at 41.59% examples, 421105 words/s, in_qsize 14, out_qsize 0\n",
      "2019-02-17 04:52:00,932 : INFO : EPOCH 8 - PROGRESS: at 46.57% examples, 419546 words/s, in_qsize 15, out_qsize 0\n",
      "2019-02-17 04:52:01,959 : INFO : EPOCH 8 - PROGRESS: at 51.53% examples, 418491 words/s, in_qsize 14, out_qsize 2\n",
      "2019-02-17 04:52:02,936 : INFO : EPOCH 8 - PROGRESS: at 56.40% examples, 416895 words/s, in_qsize 13, out_qsize 2\n",
      "2019-02-17 04:52:03,938 : INFO : EPOCH 8 - PROGRESS: at 61.71% examples, 418403 words/s, in_qsize 13, out_qsize 2\n",
      "2019-02-17 04:52:04,967 : INFO : EPOCH 8 - PROGRESS: at 67.01% examples, 418879 words/s, in_qsize 15, out_qsize 0\n",
      "2019-02-17 04:52:06,007 : INFO : EPOCH 8 - PROGRESS: at 72.21% examples, 418297 words/s, in_qsize 15, out_qsize 1\n",
      "2019-02-17 04:52:07,042 : INFO : EPOCH 8 - PROGRESS: at 77.53% examples, 418489 words/s, in_qsize 14, out_qsize 1\n",
      "2019-02-17 04:52:08,045 : INFO : EPOCH 8 - PROGRESS: at 82.74% examples, 418973 words/s, in_qsize 15, out_qsize 0\n",
      "2019-02-17 04:52:09,049 : INFO : EPOCH 8 - PROGRESS: at 87.83% examples, 418868 words/s, in_qsize 16, out_qsize 0\n",
      "2019-02-17 04:52:10,050 : INFO : EPOCH 8 - PROGRESS: at 92.83% examples, 418295 words/s, in_qsize 16, out_qsize 0\n",
      "2019-02-17 04:52:11,058 : INFO : EPOCH 8 - PROGRESS: at 98.36% examples, 419992 words/s, in_qsize 15, out_qsize 0\n",
      "2019-02-17 04:52:11,226 : INFO : worker thread finished; awaiting finish of 7 more threads\n",
      "2019-02-17 04:52:11,250 : INFO : worker thread finished; awaiting finish of 6 more threads\n",
      "2019-02-17 04:52:11,291 : INFO : worker thread finished; awaiting finish of 5 more threads\n",
      "2019-02-17 04:52:11,296 : INFO : worker thread finished; awaiting finish of 4 more threads\n",
      "2019-02-17 04:52:11,297 : INFO : worker thread finished; awaiting finish of 3 more threads\n",
      "2019-02-17 04:52:11,309 : INFO : worker thread finished; awaiting finish of 2 more threads\n",
      "2019-02-17 04:52:11,310 : INFO : worker thread finished; awaiting finish of 1 more threads\n",
      "2019-02-17 04:52:11,317 : INFO : worker thread finished; awaiting finish of 0 more threads\n",
      "2019-02-17 04:52:11,317 : INFO : EPOCH - 8 : training on 9227204 raw words (8222463 effective words) took 19.5s, 421305 effective words/s\n",
      "2019-02-17 04:52:12,357 : INFO : EPOCH 9 - PROGRESS: at 4.67% examples, 371805 words/s, in_qsize 16, out_qsize 1\n",
      "2019-02-17 04:52:13,431 : INFO : EPOCH 9 - PROGRESS: at 10.10% examples, 393839 words/s, in_qsize 13, out_qsize 2\n",
      "2019-02-17 04:52:14,473 : INFO : EPOCH 9 - PROGRESS: at 15.95% examples, 416336 words/s, in_qsize 15, out_qsize 0\n",
      "2019-02-17 04:52:15,484 : INFO : EPOCH 9 - PROGRESS: at 20.81% examples, 411430 words/s, in_qsize 16, out_qsize 1\n",
      "2019-02-17 04:52:16,498 : INFO : EPOCH 9 - PROGRESS: at 26.02% examples, 413452 words/s, in_qsize 13, out_qsize 2\n",
      "2019-02-17 04:52:17,549 : INFO : EPOCH 9 - PROGRESS: at 31.32% examples, 413803 words/s, in_qsize 16, out_qsize 1\n",
      "2019-02-17 04:52:18,568 : INFO : EPOCH 9 - PROGRESS: at 36.94% examples, 419550 words/s, in_qsize 15, out_qsize 1\n",
      "2019-02-17 04:52:19,581 : INFO : EPOCH 9 - PROGRESS: at 41.80% examples, 416601 words/s, in_qsize 16, out_qsize 1\n",
      "2019-02-17 04:52:20,618 : INFO : EPOCH 9 - PROGRESS: at 47.00% examples, 416879 words/s, in_qsize 14, out_qsize 2\n",
      "2019-02-17 04:52:21,615 : INFO : EPOCH 9 - PROGRESS: at 51.97% examples, 415674 words/s, in_qsize 15, out_qsize 0\n",
      "2019-02-17 04:52:22,645 : INFO : EPOCH 9 - PROGRESS: at 56.84% examples, 413273 words/s, in_qsize 16, out_qsize 1\n",
      "2019-02-17 04:52:23,669 : INFO : EPOCH 9 - PROGRESS: at 62.14% examples, 414351 words/s, in_qsize 15, out_qsize 0\n",
      "2019-02-17 04:52:24,715 : INFO : EPOCH 9 - PROGRESS: at 67.45% examples, 414600 words/s, in_qsize 15, out_qsize 0\n",
      "2019-02-17 04:52:25,823 : INFO : EPOCH 9 - PROGRESS: at 73.19% examples, 415473 words/s, in_qsize 15, out_qsize 0\n",
      "2019-02-17 04:52:26,879 : INFO : EPOCH 9 - PROGRESS: at 78.40% examples, 414751 words/s, in_qsize 12, out_qsize 3\n",
      "2019-02-17 04:52:27,890 : INFO : EPOCH 9 - PROGRESS: at 83.40% examples, 414162 words/s, in_qsize 16, out_qsize 1\n",
      "2019-02-17 04:52:28,901 : INFO : EPOCH 9 - PROGRESS: at 88.80% examples, 415659 words/s, in_qsize 14, out_qsize 0\n",
      "2019-02-17 04:52:29,930 : INFO : EPOCH 9 - PROGRESS: at 93.81% examples, 414655 words/s, in_qsize 15, out_qsize 2\n",
      "2019-02-17 04:52:30,944 : INFO : EPOCH 9 - PROGRESS: at 98.26% examples, 411823 words/s, in_qsize 14, out_qsize 1\n",
      "2019-02-17 04:52:31,130 : INFO : worker thread finished; awaiting finish of 7 more threads\n",
      "2019-02-17 04:52:31,131 : INFO : worker thread finished; awaiting finish of 6 more threads\n",
      "2019-02-17 04:52:31,134 : INFO : worker thread finished; awaiting finish of 5 more threads\n",
      "2019-02-17 04:52:31,135 : INFO : worker thread finished; awaiting finish of 4 more threads\n",
      "2019-02-17 04:52:31,146 : INFO : worker thread finished; awaiting finish of 3 more threads\n",
      "2019-02-17 04:52:31,168 : INFO : worker thread finished; awaiting finish of 2 more threads\n",
      "2019-02-17 04:52:31,173 : INFO : worker thread finished; awaiting finish of 1 more threads\n",
      "2019-02-17 04:52:31,178 : INFO : worker thread finished; awaiting finish of 0 more threads\n",
      "2019-02-17 04:52:31,178 : INFO : EPOCH - 9 : training on 9227204 raw words (8222181 effective words) took 19.9s, 414197 effective words/s\n",
      "2019-02-17 04:52:32,197 : INFO : EPOCH 10 - PROGRESS: at 4.45% examples, 361987 words/s, in_qsize 16, out_qsize 0\n",
      "2019-02-17 04:52:33,202 : INFO : EPOCH 10 - PROGRESS: at 9.66% examples, 393671 words/s, in_qsize 13, out_qsize 2\n",
      "2019-02-17 04:52:34,207 : INFO : EPOCH 10 - PROGRESS: at 14.65% examples, 398368 words/s, in_qsize 15, out_qsize 0\n",
      "2019-02-17 04:52:35,221 : INFO : EPOCH 10 - PROGRESS: at 19.84% examples, 404148 words/s, in_qsize 15, out_qsize 0\n",
      "2019-02-17 04:52:36,279 : INFO : EPOCH 10 - PROGRESS: at 25.04% examples, 404269 words/s, in_qsize 15, out_qsize 0\n",
      "2019-02-17 04:52:37,311 : INFO : EPOCH 10 - PROGRESS: at 30.24% examples, 405961 words/s, in_qsize 14, out_qsize 1\n",
      "2019-02-17 04:52:38,316 : INFO : EPOCH 10 - PROGRESS: at 35.65% examples, 411212 words/s, in_qsize 16, out_qsize 0\n",
      "2019-02-17 04:52:39,323 : INFO : EPOCH 10 - PROGRESS: at 40.29% examples, 407401 words/s, in_qsize 15, out_qsize 0\n",
      "2019-02-17 04:52:40,337 : INFO : EPOCH 10 - PROGRESS: at 45.59% examples, 409888 words/s, in_qsize 15, out_qsize 0\n",
      "2019-02-17 04:52:41,432 : INFO : EPOCH 10 - PROGRESS: at 50.99% examples, 409597 words/s, in_qsize 15, out_qsize 0\n",
      "2019-02-17 04:52:42,442 : INFO : EPOCH 10 - PROGRESS: at 56.51% examples, 413261 words/s, in_qsize 15, out_qsize 0\n",
      "2019-02-17 04:52:43,491 : INFO : EPOCH 10 - PROGRESS: at 61.71% examples, 412759 words/s, in_qsize 16, out_qsize 0\n",
      "2019-02-17 04:52:44,508 : INFO : EPOCH 10 - PROGRESS: at 67.02% examples, 414051 words/s, in_qsize 15, out_qsize 0\n",
      "2019-02-17 04:52:45,526 : INFO : EPOCH 10 - PROGRESS: at 72.43% examples, 415716 words/s, in_qsize 15, out_qsize 0\n",
      "2019-02-17 04:52:46,557 : INFO : EPOCH 10 - PROGRESS: at 77.63% examples, 415639 words/s, in_qsize 15, out_qsize 0\n",
      "2019-02-17 04:52:47,577 : INFO : EPOCH 10 - PROGRESS: at 82.74% examples, 415337 words/s, in_qsize 16, out_qsize 1\n",
      "2019-02-17 04:52:48,583 : INFO : EPOCH 10 - PROGRESS: at 88.16% examples, 416921 words/s, in_qsize 15, out_qsize 0\n",
      "2019-02-17 04:52:49,587 : INFO : EPOCH 10 - PROGRESS: at 92.93% examples, 415436 words/s, in_qsize 14, out_qsize 1\n",
      "2019-02-17 04:52:50,602 : INFO : EPOCH 10 - PROGRESS: at 98.36% examples, 416660 words/s, in_qsize 14, out_qsize 1\n",
      "2019-02-17 04:52:50,762 : INFO : worker thread finished; awaiting finish of 7 more threads\n",
      "2019-02-17 04:52:50,770 : INFO : worker thread finished; awaiting finish of 6 more threads\n",
      "2019-02-17 04:52:50,795 : INFO : worker thread finished; awaiting finish of 5 more threads\n",
      "2019-02-17 04:52:50,800 : INFO : worker thread finished; awaiting finish of 4 more threads\n",
      "2019-02-17 04:52:50,819 : INFO : worker thread finished; awaiting finish of 3 more threads\n",
      "2019-02-17 04:52:50,827 : INFO : worker thread finished; awaiting finish of 2 more threads\n",
      "2019-02-17 04:52:50,828 : INFO : worker thread finished; awaiting finish of 1 more threads\n",
      "2019-02-17 04:52:50,829 : INFO : worker thread finished; awaiting finish of 0 more threads\n",
      "2019-02-17 04:52:50,829 : INFO : EPOCH - 10 : training on 9227204 raw words (8223243 effective words) took 19.6s, 418685 effective words/s\n",
      "2019-02-17 04:52:51,849 : INFO : EPOCH 11 - PROGRESS: at 5.00% examples, 405728 words/s, in_qsize 14, out_qsize 1\n",
      "2019-02-17 04:52:52,883 : INFO : EPOCH 11 - PROGRESS: at 10.31% examples, 414176 words/s, in_qsize 15, out_qsize 0\n",
      "2019-02-17 04:52:53,907 : INFO : EPOCH 11 - PROGRESS: at 15.84% examples, 423827 words/s, in_qsize 16, out_qsize 0\n",
      "2019-02-17 04:52:54,918 : INFO : EPOCH 11 - PROGRESS: at 20.81% examples, 419228 words/s, in_qsize 14, out_qsize 1\n",
      "2019-02-17 04:52:55,919 : INFO : EPOCH 11 - PROGRESS: at 26.12% examples, 422566 words/s, in_qsize 14, out_qsize 1\n",
      "2019-02-17 04:52:56,963 : INFO : EPOCH 11 - PROGRESS: at 31.10% examples, 417416 words/s, in_qsize 16, out_qsize 0\n",
      "2019-02-17 04:52:57,981 : INFO : EPOCH 11 - PROGRESS: at 36.07% examples, 415337 words/s, in_qsize 15, out_qsize 0\n",
      "2019-02-17 04:52:59,023 : INFO : EPOCH 11 - PROGRESS: at 41.26% examples, 414704 words/s, in_qsize 12, out_qsize 3\n",
      "2019-02-17 04:53:00,041 : INFO : EPOCH 11 - PROGRESS: at 46.46% examples, 415289 words/s, in_qsize 15, out_qsize 2\n",
      "2019-02-17 04:53:01,054 : INFO : EPOCH 11 - PROGRESS: at 51.64% examples, 416001 words/s, in_qsize 15, out_qsize 0\n",
      "2019-02-17 04:53:02,121 : INFO : EPOCH 11 - PROGRESS: at 56.95% examples, 415369 words/s, in_qsize 14, out_qsize 1\n",
      "2019-02-17 04:53:03,153 : INFO : EPOCH 11 - PROGRESS: at 62.25% examples, 416000 words/s, in_qsize 15, out_qsize 0\n",
      "2019-02-17 04:53:04,198 : INFO : EPOCH 11 - PROGRESS: at 67.88% examples, 418145 words/s, in_qsize 15, out_qsize 0\n",
      "2019-02-17 04:53:05,302 : INFO : EPOCH 11 - PROGRESS: at 73.30% examples, 416990 words/s, in_qsize 15, out_qsize 0\n",
      "2019-02-17 04:53:06,337 : INFO : EPOCH 11 - PROGRESS: at 78.73% examples, 417876 words/s, in_qsize 16, out_qsize 1\n",
      "2019-02-17 04:53:07,366 : INFO : EPOCH 11 - PROGRESS: at 84.37% examples, 419897 words/s, in_qsize 16, out_qsize 0\n",
      "2019-02-17 04:53:08,369 : INFO : EPOCH 11 - PROGRESS: at 89.56% examples, 420229 words/s, in_qsize 16, out_qsize 0\n",
      "2019-02-17 04:53:09,384 : INFO : EPOCH 11 - PROGRESS: at 94.36% examples, 418340 words/s, in_qsize 15, out_qsize 0\n",
      "2019-02-17 04:53:10,333 : INFO : worker thread finished; awaiting finish of 7 more threads\n",
      "2019-02-17 04:53:10,342 : INFO : worker thread finished; awaiting finish of 6 more threads\n",
      "2019-02-17 04:53:10,343 : INFO : worker thread finished; awaiting finish of 5 more threads\n",
      "2019-02-17 04:53:10,344 : INFO : worker thread finished; awaiting finish of 4 more threads\n",
      "2019-02-17 04:53:10,345 : INFO : worker thread finished; awaiting finish of 3 more threads\n",
      "2019-02-17 04:53:10,346 : INFO : worker thread finished; awaiting finish of 2 more threads\n",
      "2019-02-17 04:53:10,360 : INFO : worker thread finished; awaiting finish of 1 more threads\n",
      "2019-02-17 04:53:10,375 : INFO : worker thread finished; awaiting finish of 0 more threads\n",
      "2019-02-17 04:53:10,376 : INFO : EPOCH - 11 : training on 9227204 raw words (8221907 effective words) took 19.5s, 420866 effective words/s\n",
      "2019-02-17 04:53:11,439 : INFO : EPOCH 12 - PROGRESS: at 4.56% examples, 356003 words/s, in_qsize 15, out_qsize 2\n",
      "2019-02-17 04:53:12,493 : INFO : EPOCH 12 - PROGRESS: at 10.10% examples, 397888 words/s, in_qsize 15, out_qsize 0\n",
      "2019-02-17 04:53:13,500 : INFO : EPOCH 12 - PROGRESS: at 15.30% examples, 403559 words/s, in_qsize 14, out_qsize 1\n",
      "2019-02-17 04:53:14,510 : INFO : EPOCH 12 - PROGRESS: at 20.59% examples, 410512 words/s, in_qsize 14, out_qsize 1\n",
      "2019-02-17 04:53:15,531 : INFO : EPOCH 12 - PROGRESS: at 25.91% examples, 413958 words/s, in_qsize 15, out_qsize 0\n",
      "2019-02-17 04:53:16,544 : INFO : EPOCH 12 - PROGRESS: at 30.99% examples, 414758 words/s, in_qsize 15, out_qsize 1\n",
      "2019-02-17 04:53:17,568 : INFO : EPOCH 12 - PROGRESS: at 36.40% examples, 416902 words/s, in_qsize 13, out_qsize 2\n",
      "2019-02-17 04:53:18,611 : INFO : EPOCH 12 - PROGRESS: at 41.80% examples, 418123 words/s, in_qsize 15, out_qsize 0\n",
      "2019-02-17 04:53:19,673 : INFO : EPOCH 12 - PROGRESS: at 47.21% examples, 418309 words/s, in_qsize 15, out_qsize 0\n",
      "2019-02-17 04:53:20,675 : INFO : EPOCH 12 - PROGRESS: at 52.29% examples, 418331 words/s, in_qsize 15, out_qsize 0\n",
      "2019-02-17 04:53:21,697 : INFO : EPOCH 12 - PROGRESS: at 57.81% examples, 420705 words/s, in_qsize 15, out_qsize 0\n",
      "2019-02-17 04:53:22,723 : INFO : EPOCH 12 - PROGRESS: at 62.68% examples, 418230 words/s, in_qsize 16, out_qsize 1\n",
      "2019-02-17 04:53:23,735 : INFO : EPOCH 12 - PROGRESS: at 67.88% examples, 418523 words/s, in_qsize 15, out_qsize 0\n",
      "2019-02-17 04:53:24,748 : INFO : EPOCH 12 - PROGRESS: at 73.41% examples, 420667 words/s, in_qsize 15, out_qsize 0\n",
      "2019-02-17 04:53:25,862 : INFO : EPOCH 12 - PROGRESS: at 78.62% examples, 418000 words/s, in_qsize 12, out_qsize 3\n",
      "2019-02-17 04:53:26,874 : INFO : EPOCH 12 - PROGRESS: at 83.94% examples, 418826 words/s, in_qsize 16, out_qsize 0\n",
      "2019-02-17 04:53:27,882 : INFO : EPOCH 12 - PROGRESS: at 89.34% examples, 420154 words/s, in_qsize 15, out_qsize 0\n",
      "2019-02-17 04:53:28,884 : INFO : EPOCH 12 - PROGRESS: at 94.03% examples, 418064 words/s, in_qsize 14, out_qsize 1\n",
      "2019-02-17 04:53:29,814 : INFO : worker thread finished; awaiting finish of 7 more threads\n",
      "2019-02-17 04:53:29,868 : INFO : worker thread finished; awaiting finish of 6 more threads\n",
      "2019-02-17 04:53:29,870 : INFO : worker thread finished; awaiting finish of 5 more threads\n",
      "2019-02-17 04:53:29,881 : INFO : worker thread finished; awaiting finish of 4 more threads\n",
      "2019-02-17 04:53:29,895 : INFO : EPOCH 12 - PROGRESS: at 99.67% examples, 420180 words/s, in_qsize 3, out_qsize 1\n",
      "2019-02-17 04:53:29,897 : INFO : worker thread finished; awaiting finish of 3 more threads\n",
      "2019-02-17 04:53:29,899 : INFO : worker thread finished; awaiting finish of 2 more threads\n",
      "2019-02-17 04:53:29,902 : INFO : worker thread finished; awaiting finish of 1 more threads\n",
      "2019-02-17 04:53:29,905 : INFO : worker thread finished; awaiting finish of 0 more threads\n",
      "2019-02-17 04:53:29,905 : INFO : EPOCH - 12 : training on 9227204 raw words (8223107 effective words) took 19.5s, 421343 effective words/s\n",
      "2019-02-17 04:53:30,964 : INFO : EPOCH 13 - PROGRESS: at 4.56% examples, 367261 words/s, in_qsize 15, out_qsize 1\n",
      "2019-02-17 04:53:31,963 : INFO : EPOCH 13 - PROGRESS: at 9.88% examples, 397961 words/s, in_qsize 15, out_qsize 0\n",
      "2019-02-17 04:53:33,046 : INFO : EPOCH 13 - PROGRESS: at 15.19% examples, 399469 words/s, in_qsize 16, out_qsize 0\n",
      "2019-02-17 04:53:34,059 : INFO : EPOCH 13 - PROGRESS: at 20.59% examples, 409348 words/s, in_qsize 15, out_qsize 0\n",
      "2019-02-17 04:53:35,080 : INFO : EPOCH 13 - PROGRESS: at 25.80% examples, 411279 words/s, in_qsize 15, out_qsize 0\n",
      "2019-02-17 04:53:36,115 : INFO : EPOCH 13 - PROGRESS: at 31.21% examples, 414513 words/s, in_qsize 15, out_qsize 0\n",
      "2019-02-17 04:53:37,119 : INFO : EPOCH 13 - PROGRESS: at 36.72% examples, 419775 words/s, in_qsize 15, out_qsize 0\n",
      "2019-02-17 04:53:38,131 : INFO : EPOCH 13 - PROGRESS: at 41.70% examples, 417917 words/s, in_qsize 15, out_qsize 0\n",
      "2019-02-17 04:53:39,137 : INFO : EPOCH 13 - PROGRESS: at 46.78% examples, 417739 words/s, in_qsize 15, out_qsize 0\n",
      "2019-02-17 04:53:40,171 : INFO : EPOCH 13 - PROGRESS: at 52.07% examples, 418210 words/s, in_qsize 15, out_qsize 0\n",
      "2019-02-17 04:53:41,238 : INFO : EPOCH 13 - PROGRESS: at 57.27% examples, 416516 words/s, in_qsize 15, out_qsize 0\n",
      "2019-02-17 04:53:42,279 : INFO : EPOCH 13 - PROGRESS: at 62.68% examples, 417492 words/s, in_qsize 15, out_qsize 0\n",
      "2019-02-17 04:53:43,287 : INFO : EPOCH 13 - PROGRESS: at 68.10% examples, 419320 words/s, in_qsize 16, out_qsize 1\n",
      "2019-02-17 04:53:44,290 : INFO : EPOCH 13 - PROGRESS: at 73.30% examples, 419783 words/s, in_qsize 15, out_qsize 0\n",
      "2019-02-17 04:53:45,318 : INFO : EPOCH 13 - PROGRESS: at 78.40% examples, 418950 words/s, in_qsize 15, out_qsize 0\n",
      "2019-02-17 04:53:46,329 : INFO : EPOCH 13 - PROGRESS: at 83.94% examples, 420831 words/s, in_qsize 16, out_qsize 0\n",
      "2019-02-17 04:53:47,332 : INFO : EPOCH 13 - PROGRESS: at 88.70% examples, 419090 words/s, in_qsize 15, out_qsize 0\n",
      "2019-02-17 04:53:48,442 : INFO : EPOCH 13 - PROGRESS: at 94.25% examples, 418465 words/s, in_qsize 15, out_qsize 1\n",
      "2019-02-17 04:53:49,380 : INFO : worker thread finished; awaiting finish of 7 more threads\n",
      "2019-02-17 04:53:49,395 : INFO : worker thread finished; awaiting finish of 6 more threads\n",
      "2019-02-17 04:53:49,403 : INFO : worker thread finished; awaiting finish of 5 more threads\n",
      "2019-02-17 04:53:49,408 : INFO : worker thread finished; awaiting finish of 4 more threads\n",
      "2019-02-17 04:53:49,409 : INFO : worker thread finished; awaiting finish of 3 more threads\n",
      "2019-02-17 04:53:49,411 : INFO : worker thread finished; awaiting finish of 2 more threads\n",
      "2019-02-17 04:53:49,413 : INFO : worker thread finished; awaiting finish of 1 more threads\n",
      "2019-02-17 04:53:49,414 : INFO : worker thread finished; awaiting finish of 0 more threads\n",
      "2019-02-17 04:53:49,414 : INFO : EPOCH - 13 : training on 9227204 raw words (8222250 effective words) took 19.5s, 421868 effective words/s\n",
      "2019-02-17 04:53:50,455 : INFO : EPOCH 14 - PROGRESS: at 4.56% examples, 364020 words/s, in_qsize 15, out_qsize 0\n",
      "2019-02-17 04:53:51,544 : INFO : EPOCH 14 - PROGRESS: at 10.10% examples, 391660 words/s, in_qsize 10, out_qsize 5\n",
      "2019-02-17 04:53:52,559 : INFO : EPOCH 14 - PROGRESS: at 15.52% examples, 406765 words/s, in_qsize 16, out_qsize 1\n",
      "2019-02-17 04:53:53,565 : INFO : EPOCH 14 - PROGRESS: at 20.92% examples, 415597 words/s, in_qsize 15, out_qsize 1\n",
      "2019-02-17 04:53:54,568 : INFO : EPOCH 14 - PROGRESS: at 26.02% examples, 415955 words/s, in_qsize 12, out_qsize 3\n",
      "2019-02-17 04:53:55,573 : INFO : EPOCH 14 - PROGRESS: at 31.21% examples, 417472 words/s, in_qsize 15, out_qsize 0\n",
      "2019-02-17 04:53:56,584 : INFO : EPOCH 14 - PROGRESS: at 36.40% examples, 418239 words/s, in_qsize 14, out_qsize 1\n",
      "2019-02-17 04:53:57,619 : INFO : EPOCH 14 - PROGRESS: at 41.69% examples, 418655 words/s, in_qsize 15, out_qsize 0\n",
      "2019-02-17 04:53:58,673 : INFO : EPOCH 14 - PROGRESS: at 46.67% examples, 415268 words/s, in_qsize 15, out_qsize 0\n",
      "2019-02-17 04:53:59,702 : INFO : EPOCH 14 - PROGRESS: at 51.96% examples, 416187 words/s, in_qsize 16, out_qsize 0\n",
      "2019-02-17 04:54:00,723 : INFO : EPOCH 14 - PROGRESS: at 57.16% examples, 416450 words/s, in_qsize 15, out_qsize 0\n",
      "2019-02-17 04:54:01,747 : INFO : EPOCH 14 - PROGRESS: at 62.46% examples, 417286 words/s, in_qsize 15, out_qsize 0\n",
      "2019-02-17 04:54:02,829 : INFO : EPOCH 14 - PROGRESS: at 67.67% examples, 415479 words/s, in_qsize 14, out_qsize 1\n",
      "2019-02-17 04:54:03,845 : INFO : EPOCH 14 - PROGRESS: at 73.19% examples, 417720 words/s, in_qsize 15, out_qsize 0\n",
      "2019-02-17 04:54:04,871 : INFO : EPOCH 14 - PROGRESS: at 78.40% examples, 417638 words/s, in_qsize 15, out_qsize 0\n",
      "2019-02-17 04:54:05,935 : INFO : EPOCH 14 - PROGRESS: at 83.29% examples, 415035 words/s, in_qsize 13, out_qsize 2\n",
      "2019-02-17 04:54:06,954 : INFO : EPOCH 14 - PROGRESS: at 88.59% examples, 416185 words/s, in_qsize 15, out_qsize 0\n",
      "2019-02-17 04:54:07,986 : INFO : EPOCH 14 - PROGRESS: at 93.81% examples, 415685 words/s, in_qsize 14, out_qsize 1\n",
      "2019-02-17 04:54:08,998 : INFO : EPOCH 14 - PROGRESS: at 99.01% examples, 416052 words/s, in_qsize 10, out_qsize 0\n",
      "2019-02-17 04:54:09,038 : INFO : worker thread finished; awaiting finish of 7 more threads\n",
      "2019-02-17 04:54:09,047 : INFO : worker thread finished; awaiting finish of 6 more threads\n",
      "2019-02-17 04:54:09,075 : INFO : worker thread finished; awaiting finish of 5 more threads\n",
      "2019-02-17 04:54:09,086 : INFO : worker thread finished; awaiting finish of 4 more threads\n",
      "2019-02-17 04:54:09,090 : INFO : worker thread finished; awaiting finish of 3 more threads\n",
      "2019-02-17 04:54:09,093 : INFO : worker thread finished; awaiting finish of 2 more threads\n",
      "2019-02-17 04:54:09,094 : INFO : worker thread finished; awaiting finish of 1 more threads\n",
      "2019-02-17 04:54:09,094 : INFO : worker thread finished; awaiting finish of 0 more threads\n",
      "2019-02-17 04:54:09,095 : INFO : EPOCH - 14 : training on 9227204 raw words (8223097 effective words) took 19.7s, 418118 effective words/s\n",
      "2019-02-17 04:54:10,128 : INFO : EPOCH 15 - PROGRESS: at 4.67% examples, 374727 words/s, in_qsize 15, out_qsize 0\n",
      "2019-02-17 04:54:11,132 : INFO : EPOCH 15 - PROGRESS: at 9.23% examples, 373977 words/s, in_qsize 12, out_qsize 0\n",
      "2019-02-17 04:54:12,192 : INFO : EPOCH 15 - PROGRESS: at 14.54% examples, 386849 words/s, in_qsize 16, out_qsize 0\n",
      "2019-02-17 04:54:13,194 : INFO : EPOCH 15 - PROGRESS: at 19.73% examples, 396564 words/s, in_qsize 14, out_qsize 1\n",
      "2019-02-17 04:54:14,224 : INFO : EPOCH 15 - PROGRESS: at 24.94% examples, 400387 words/s, in_qsize 15, out_qsize 0\n",
      "2019-02-17 04:54:15,235 : INFO : EPOCH 15 - PROGRESS: at 30.24% examples, 405584 words/s, in_qsize 16, out_qsize 0\n",
      "2019-02-17 04:54:16,262 : INFO : EPOCH 15 - PROGRESS: at 35.43% examples, 407083 words/s, in_qsize 15, out_qsize 0\n",
      "2019-02-17 04:54:17,270 : INFO : EPOCH 15 - PROGRESS: at 40.29% examples, 405901 words/s, in_qsize 16, out_qsize 0\n",
      "2019-02-17 04:54:18,283 : INFO : EPOCH 15 - PROGRESS: at 45.59% examples, 408675 words/s, in_qsize 16, out_qsize 0\n",
      "2019-02-17 04:54:19,284 : INFO : EPOCH 15 - PROGRESS: at 50.46% examples, 407855 words/s, in_qsize 16, out_qsize 0\n",
      "2019-02-17 04:54:20,313 : INFO : EPOCH 15 - PROGRESS: at 55.64% examples, 408590 words/s, in_qsize 15, out_qsize 0\n",
      "2019-02-17 04:54:21,335 : INFO : EPOCH 15 - PROGRESS: at 60.74% examples, 408700 words/s, in_qsize 14, out_qsize 1\n",
      "2019-02-17 04:54:22,371 : INFO : EPOCH 15 - PROGRESS: at 65.39% examples, 405644 words/s, in_qsize 13, out_qsize 2\n",
      "2019-02-17 04:54:23,416 : INFO : EPOCH 15 - PROGRESS: at 70.59% examples, 405906 words/s, in_qsize 12, out_qsize 3\n",
      "2019-02-17 04:54:24,429 : INFO : EPOCH 15 - PROGRESS: at 75.67% examples, 406396 words/s, in_qsize 14, out_qsize 1\n",
      "2019-02-17 04:54:25,540 : INFO : EPOCH 15 - PROGRESS: at 81.12% examples, 406004 words/s, in_qsize 15, out_qsize 0\n",
      "2019-02-17 04:54:26,547 : INFO : EPOCH 15 - PROGRESS: at 86.42% examples, 407565 words/s, in_qsize 15, out_qsize 0\n",
      "2019-02-17 04:54:27,562 : INFO : EPOCH 15 - PROGRESS: at 91.20% examples, 406371 words/s, in_qsize 14, out_qsize 1\n",
      "2019-02-17 04:54:28,605 : INFO : EPOCH 15 - PROGRESS: at 96.31% examples, 406108 words/s, in_qsize 15, out_qsize 0\n",
      "2019-02-17 04:54:29,133 : INFO : worker thread finished; awaiting finish of 7 more threads\n",
      "2019-02-17 04:54:29,168 : INFO : worker thread finished; awaiting finish of 6 more threads\n",
      "2019-02-17 04:54:29,187 : INFO : worker thread finished; awaiting finish of 5 more threads\n",
      "2019-02-17 04:54:29,190 : INFO : worker thread finished; awaiting finish of 4 more threads\n",
      "2019-02-17 04:54:29,215 : INFO : worker thread finished; awaiting finish of 3 more threads\n",
      "2019-02-17 04:54:29,222 : INFO : worker thread finished; awaiting finish of 2 more threads\n",
      "2019-02-17 04:54:29,228 : INFO : worker thread finished; awaiting finish of 1 more threads\n",
      "2019-02-17 04:54:29,228 : INFO : worker thread finished; awaiting finish of 0 more threads\n",
      "2019-02-17 04:54:29,229 : INFO : EPOCH - 15 : training on 9227204 raw words (8222540 effective words) took 20.1s, 408611 effective words/s\n",
      "2019-02-17 04:54:30,266 : INFO : EPOCH 16 - PROGRESS: at 4.56% examples, 363927 words/s, in_qsize 15, out_qsize 0\n",
      "2019-02-17 04:54:31,275 : INFO : EPOCH 16 - PROGRESS: at 9.77% examples, 393668 words/s, in_qsize 14, out_qsize 1\n",
      "2019-02-17 04:54:32,285 : INFO : EPOCH 16 - PROGRESS: at 14.97% examples, 403512 words/s, in_qsize 15, out_qsize 0\n",
      "2019-02-17 04:54:33,305 : INFO : EPOCH 16 - PROGRESS: at 19.84% examples, 400792 words/s, in_qsize 15, out_qsize 0\n",
      "2019-02-17 04:54:34,307 : INFO : EPOCH 16 - PROGRESS: at 25.04% examples, 405993 words/s, in_qsize 14, out_qsize 1\n",
      "2019-02-17 04:54:35,342 : INFO : EPOCH 16 - PROGRESS: at 30.13% examples, 407014 words/s, in_qsize 15, out_qsize 2\n",
      "2019-02-17 04:54:36,337 : INFO : EPOCH 16 - PROGRESS: at 35.32% examples, 409176 words/s, in_qsize 14, out_qsize 1\n",
      "2019-02-17 04:54:37,373 : INFO : EPOCH 16 - PROGRESS: at 40.40% examples, 408532 words/s, in_qsize 13, out_qsize 2\n",
      "2019-02-17 04:54:38,388 : INFO : EPOCH 16 - PROGRESS: at 45.81% examples, 411905 words/s, in_qsize 14, out_qsize 0\n",
      "2019-02-17 04:54:39,405 : INFO : EPOCH 16 - PROGRESS: at 51.21% examples, 414517 words/s, in_qsize 15, out_qsize 0\n",
      "2019-02-17 04:54:40,423 : INFO : EPOCH 16 - PROGRESS: at 55.97% examples, 411857 words/s, in_qsize 15, out_qsize 0\n",
      "2019-02-17 04:54:41,464 : INFO : EPOCH 16 - PROGRESS: at 60.63% examples, 408128 words/s, in_qsize 15, out_qsize 0\n",
      "2019-02-17 04:54:42,479 : INFO : EPOCH 16 - PROGRESS: at 66.15% examples, 411130 words/s, in_qsize 15, out_qsize 0\n",
      "2019-02-17 04:54:43,522 : INFO : EPOCH 16 - PROGRESS: at 70.81% examples, 407930 words/s, in_qsize 15, out_qsize 0\n",
      "2019-02-17 04:54:44,551 : INFO : EPOCH 16 - PROGRESS: at 76.11% examples, 409001 words/s, in_qsize 15, out_qsize 0\n",
      "2019-02-17 04:54:45,565 : INFO : EPOCH 16 - PROGRESS: at 81.34% examples, 409792 words/s, in_qsize 16, out_qsize 1\n",
      "2019-02-17 04:54:46,578 : INFO : EPOCH 16 - PROGRESS: at 86.53% examples, 410484 words/s, in_qsize 14, out_qsize 1\n",
      "2019-02-17 04:54:47,599 : INFO : EPOCH 16 - PROGRESS: at 91.63% examples, 410427 words/s, in_qsize 16, out_qsize 1\n",
      "2019-02-17 04:54:48,614 : INFO : EPOCH 16 - PROGRESS: at 96.53% examples, 409614 words/s, in_qsize 15, out_qsize 0\n",
      "2019-02-17 04:54:49,091 : INFO : worker thread finished; awaiting finish of 7 more threads\n",
      "2019-02-17 04:54:49,103 : INFO : worker thread finished; awaiting finish of 6 more threads\n",
      "2019-02-17 04:54:49,120 : INFO : worker thread finished; awaiting finish of 5 more threads\n",
      "2019-02-17 04:54:49,124 : INFO : worker thread finished; awaiting finish of 4 more threads\n",
      "2019-02-17 04:54:49,148 : INFO : worker thread finished; awaiting finish of 3 more threads\n",
      "2019-02-17 04:54:49,165 : INFO : worker thread finished; awaiting finish of 2 more threads\n",
      "2019-02-17 04:54:49,177 : INFO : worker thread finished; awaiting finish of 1 more threads\n",
      "2019-02-17 04:54:49,179 : INFO : worker thread finished; awaiting finish of 0 more threads\n",
      "2019-02-17 04:54:49,179 : INFO : EPOCH - 16 : training on 9227204 raw words (8222512 effective words) took 19.9s, 412349 effective words/s\n",
      "2019-02-17 04:54:50,230 : INFO : EPOCH 17 - PROGRESS: at 4.45% examples, 351126 words/s, in_qsize 15, out_qsize 3\n",
      "2019-02-17 04:54:51,250 : INFO : EPOCH 17 - PROGRESS: at 9.44% examples, 379418 words/s, in_qsize 16, out_qsize 3\n",
      "2019-02-17 04:54:52,312 : INFO : EPOCH 17 - PROGRESS: at 14.97% examples, 393865 words/s, in_qsize 14, out_qsize 1\n",
      "2019-02-17 04:54:53,340 : INFO : EPOCH 17 - PROGRESS: at 20.48% examples, 405690 words/s, in_qsize 15, out_qsize 0\n",
      "2019-02-17 04:54:54,381 : INFO : EPOCH 17 - PROGRESS: at 25.59% examples, 406280 words/s, in_qsize 15, out_qsize 0\n",
      "2019-02-17 04:54:55,369 : INFO : EPOCH 17 - PROGRESS: at 30.78% examples, 409456 words/s, in_qsize 14, out_qsize 1\n",
      "2019-02-17 04:54:56,376 : INFO : EPOCH 17 - PROGRESS: at 35.75% examples, 409070 words/s, in_qsize 15, out_qsize 1\n",
      "2019-02-17 04:54:57,380 : INFO : EPOCH 17 - PROGRESS: at 40.94% examples, 411126 words/s, in_qsize 15, out_qsize 0\n",
      "2019-02-17 04:54:58,385 : INFO : EPOCH 17 - PROGRESS: at 46.13% examples, 412642 words/s, in_qsize 15, out_qsize 0\n",
      "2019-02-17 04:54:59,395 : INFO : EPOCH 17 - PROGRESS: at 51.21% examples, 412868 words/s, in_qsize 15, out_qsize 0\n",
      "2019-02-17 04:55:00,455 : INFO : EPOCH 17 - PROGRESS: at 56.40% examples, 412024 words/s, in_qsize 15, out_qsize 0\n",
      "2019-02-17 04:55:01,469 : INFO : EPOCH 17 - PROGRESS: at 61.71% examples, 413524 words/s, in_qsize 15, out_qsize 0\n",
      "2019-02-17 04:55:02,532 : INFO : EPOCH 17 - PROGRESS: at 66.80% examples, 411941 words/s, in_qsize 15, out_qsize 0\n",
      "2019-02-17 04:55:03,607 : INFO : EPOCH 17 - PROGRESS: at 72.10% examples, 411495 words/s, in_qsize 15, out_qsize 0\n",
      "2019-02-17 04:55:04,673 : INFO : EPOCH 17 - PROGRESS: at 77.42% examples, 411757 words/s, in_qsize 15, out_qsize 0\n",
      "2019-02-17 04:55:05,743 : INFO : EPOCH 17 - PROGRESS: at 82.85% examples, 411666 words/s, in_qsize 15, out_qsize 0\n",
      "2019-02-17 04:55:06,770 : INFO : EPOCH 17 - PROGRESS: at 88.48% examples, 414000 words/s, in_qsize 16, out_qsize 0\n",
      "2019-02-17 04:55:07,789 : INFO : EPOCH 17 - PROGRESS: at 93.05% examples, 411542 words/s, in_qsize 15, out_qsize 1\n",
      "2019-02-17 04:55:08,785 : INFO : EPOCH 17 - PROGRESS: at 98.36% examples, 412754 words/s, in_qsize 15, out_qsize 0\n",
      "2019-02-17 04:55:08,943 : INFO : worker thread finished; awaiting finish of 7 more threads\n",
      "2019-02-17 04:55:08,958 : INFO : worker thread finished; awaiting finish of 6 more threads\n",
      "2019-02-17 04:55:08,991 : INFO : worker thread finished; awaiting finish of 5 more threads\n",
      "2019-02-17 04:55:09,001 : INFO : worker thread finished; awaiting finish of 4 more threads\n",
      "2019-02-17 04:55:09,003 : INFO : worker thread finished; awaiting finish of 3 more threads\n",
      "2019-02-17 04:55:09,011 : INFO : worker thread finished; awaiting finish of 2 more threads\n",
      "2019-02-17 04:55:09,017 : INFO : worker thread finished; awaiting finish of 1 more threads\n",
      "2019-02-17 04:55:09,019 : INFO : worker thread finished; awaiting finish of 0 more threads\n",
      "2019-02-17 04:55:09,020 : INFO : EPOCH - 17 : training on 9227204 raw words (8222966 effective words) took 19.8s, 414655 effective words/s\n",
      "2019-02-17 04:55:10,048 : INFO : EPOCH 18 - PROGRESS: at 4.78% examples, 384848 words/s, in_qsize 15, out_qsize 0\n",
      "2019-02-17 04:55:11,063 : INFO : EPOCH 18 - PROGRESS: at 9.45% examples, 381262 words/s, in_qsize 15, out_qsize 1\n",
      "2019-02-17 04:55:12,118 : INFO : EPOCH 18 - PROGRESS: at 14.97% examples, 397927 words/s, in_qsize 15, out_qsize 1\n",
      "2019-02-17 04:55:13,132 : INFO : EPOCH 18 - PROGRESS: at 20.16% examples, 403811 words/s, in_qsize 15, out_qsize 0\n",
      "2019-02-17 04:55:14,153 : INFO : EPOCH 18 - PROGRESS: at 25.26% examples, 405096 words/s, in_qsize 14, out_qsize 1\n",
      "2019-02-17 04:55:15,158 : INFO : EPOCH 18 - PROGRESS: at 30.13% examples, 404064 words/s, in_qsize 14, out_qsize 1\n",
      "2019-02-17 04:55:16,193 : INFO : EPOCH 18 - PROGRESS: at 34.78% examples, 399123 words/s, in_qsize 14, out_qsize 1\n",
      "2019-02-17 04:55:17,212 : INFO : EPOCH 18 - PROGRESS: at 39.65% examples, 398373 words/s, in_qsize 16, out_qsize 0\n",
      "2019-02-17 04:55:18,230 : INFO : EPOCH 18 - PROGRESS: at 44.18% examples, 394949 words/s, in_qsize 15, out_qsize 0\n",
      "2019-02-17 04:55:19,241 : INFO : EPOCH 18 - PROGRESS: at 48.51% examples, 390745 words/s, in_qsize 16, out_qsize 0\n",
      "2019-02-17 04:55:20,255 : INFO : EPOCH 18 - PROGRESS: at 53.16% examples, 389556 words/s, in_qsize 15, out_qsize 0\n",
      "2019-02-17 04:55:21,267 : INFO : EPOCH 18 - PROGRESS: at 57.71% examples, 387946 words/s, in_qsize 16, out_qsize 0\n",
      "2019-02-17 04:55:22,288 : INFO : EPOCH 18 - PROGRESS: at 62.14% examples, 385603 words/s, in_qsize 15, out_qsize 0\n",
      "2019-02-17 04:55:23,303 : INFO : EPOCH 18 - PROGRESS: at 66.58% examples, 383764 words/s, in_qsize 15, out_qsize 0\n",
      "2019-02-17 04:55:24,374 : INFO : EPOCH 18 - PROGRESS: at 71.35% examples, 382529 words/s, in_qsize 12, out_qsize 3\n",
      "2019-02-17 04:55:25,394 : INFO : EPOCH 18 - PROGRESS: at 76.22% examples, 383172 words/s, in_qsize 15, out_qsize 0\n",
      "2019-02-17 04:55:26,410 : INFO : EPOCH 18 - PROGRESS: at 81.12% examples, 383818 words/s, in_qsize 14, out_qsize 1\n",
      "2019-02-17 04:55:27,431 : INFO : EPOCH 18 - PROGRESS: at 85.98% examples, 384304 words/s, in_qsize 13, out_qsize 1\n",
      "2019-02-17 04:55:28,481 : INFO : EPOCH 18 - PROGRESS: at 91.20% examples, 385513 words/s, in_qsize 15, out_qsize 0\n",
      "2019-02-17 04:55:29,488 : INFO : EPOCH 18 - PROGRESS: at 96.42% examples, 387442 words/s, in_qsize 14, out_qsize 1\n",
      "2019-02-17 04:55:30,031 : INFO : worker thread finished; awaiting finish of 7 more threads\n",
      "2019-02-17 04:55:30,035 : INFO : worker thread finished; awaiting finish of 6 more threads\n",
      "2019-02-17 04:55:30,049 : INFO : worker thread finished; awaiting finish of 5 more threads\n",
      "2019-02-17 04:55:30,060 : INFO : worker thread finished; awaiting finish of 4 more threads\n",
      "2019-02-17 04:55:30,069 : INFO : worker thread finished; awaiting finish of 3 more threads\n",
      "2019-02-17 04:55:30,075 : INFO : worker thread finished; awaiting finish of 2 more threads\n",
      "2019-02-17 04:55:30,076 : INFO : worker thread finished; awaiting finish of 1 more threads\n",
      "2019-02-17 04:55:30,089 : INFO : worker thread finished; awaiting finish of 0 more threads\n",
      "2019-02-17 04:55:30,090 : INFO : EPOCH - 18 : training on 9227204 raw words (8221262 effective words) took 21.1s, 390372 effective words/s\n",
      "2019-02-17 04:55:31,200 : INFO : EPOCH 19 - PROGRESS: at 4.67% examples, 348062 words/s, in_qsize 15, out_qsize 0\n",
      "2019-02-17 04:55:32,239 : INFO : EPOCH 19 - PROGRESS: at 10.10% examples, 387243 words/s, in_qsize 13, out_qsize 2\n",
      "2019-02-17 04:55:33,282 : INFO : EPOCH 19 - PROGRESS: at 15.41% examples, 397513 words/s, in_qsize 16, out_qsize 0\n",
      "2019-02-17 04:55:34,323 : INFO : EPOCH 19 - PROGRESS: at 20.70% examples, 402955 words/s, in_qsize 16, out_qsize 1\n",
      "2019-02-17 04:55:35,328 : INFO : EPOCH 19 - PROGRESS: at 25.59% examples, 402176 words/s, in_qsize 15, out_qsize 0\n",
      "2019-02-17 04:55:36,392 : INFO : EPOCH 19 - PROGRESS: at 30.89% examples, 403538 words/s, in_qsize 14, out_qsize 1\n",
      "2019-02-17 04:55:37,410 : INFO : EPOCH 19 - PROGRESS: at 36.29% examples, 408242 words/s, in_qsize 15, out_qsize 0\n",
      "2019-02-17 04:55:38,418 : INFO : EPOCH 19 - PROGRESS: at 41.26% examples, 408006 words/s, in_qsize 15, out_qsize 0\n",
      "2019-02-17 04:55:39,523 : INFO : EPOCH 19 - PROGRESS: at 46.02% examples, 401781 words/s, in_qsize 12, out_qsize 3\n",
      "2019-02-17 04:55:40,527 : INFO : EPOCH 19 - PROGRESS: at 51.10% examples, 403264 words/s, in_qsize 12, out_qsize 3\n",
      "2019-02-17 04:55:41,559 : INFO : EPOCH 19 - PROGRESS: at 56.29% examples, 404288 words/s, in_qsize 14, out_qsize 1\n",
      "2019-02-17 04:55:42,639 : INFO : EPOCH 19 - PROGRESS: at 61.71% examples, 404995 words/s, in_qsize 15, out_qsize 0\n",
      "2019-02-17 04:55:43,651 : INFO : EPOCH 19 - PROGRESS: at 66.80% examples, 405635 words/s, in_qsize 15, out_qsize 0\n",
      "2019-02-17 04:55:44,666 : INFO : EPOCH 19 - PROGRESS: at 72.21% examples, 407946 words/s, in_qsize 16, out_qsize 1\n",
      "2019-02-17 04:55:45,712 : INFO : EPOCH 19 - PROGRESS: at 77.31% examples, 407406 words/s, in_qsize 15, out_qsize 1\n",
      "2019-02-17 04:55:46,743 : INFO : EPOCH 19 - PROGRESS: at 82.32% examples, 406804 words/s, in_qsize 13, out_qsize 3\n",
      "2019-02-17 04:55:47,765 : INFO : EPOCH 19 - PROGRESS: at 87.62% examples, 407936 words/s, in_qsize 15, out_qsize 0\n",
      "2019-02-17 04:55:48,769 : INFO : EPOCH 19 - PROGRESS: at 92.28% examples, 406498 words/s, in_qsize 16, out_qsize 0\n",
      "2019-02-17 04:55:49,819 : INFO : EPOCH 19 - PROGRESS: at 97.50% examples, 406699 words/s, in_qsize 15, out_qsize 0\n",
      "2019-02-17 04:55:50,114 : INFO : worker thread finished; awaiting finish of 7 more threads\n",
      "2019-02-17 04:55:50,140 : INFO : worker thread finished; awaiting finish of 6 more threads\n",
      "2019-02-17 04:55:50,142 : INFO : worker thread finished; awaiting finish of 5 more threads\n",
      "2019-02-17 04:55:50,143 : INFO : worker thread finished; awaiting finish of 4 more threads\n",
      "2019-02-17 04:55:50,147 : INFO : worker thread finished; awaiting finish of 3 more threads\n",
      "2019-02-17 04:55:50,168 : INFO : worker thread finished; awaiting finish of 2 more threads\n",
      "2019-02-17 04:55:50,174 : INFO : worker thread finished; awaiting finish of 1 more threads\n",
      "2019-02-17 04:55:50,177 : INFO : worker thread finished; awaiting finish of 0 more threads\n",
      "2019-02-17 04:55:50,178 : INFO : EPOCH - 19 : training on 9227204 raw words (8222213 effective words) took 20.1s, 409520 effective words/s\n",
      "2019-02-17 04:55:51,197 : INFO : EPOCH 20 - PROGRESS: at 4.23% examples, 346248 words/s, in_qsize 14, out_qsize 3\n",
      "2019-02-17 04:55:52,206 : INFO : EPOCH 20 - PROGRESS: at 9.34% examples, 380742 words/s, in_qsize 15, out_qsize 0\n",
      "2019-02-17 04:55:53,259 : INFO : EPOCH 20 - PROGRESS: at 14.65% examples, 392297 words/s, in_qsize 16, out_qsize 1\n",
      "2019-02-17 04:55:54,279 : INFO : EPOCH 20 - PROGRESS: at 19.84% examples, 399018 words/s, in_qsize 15, out_qsize 0\n",
      "2019-02-17 04:55:55,283 : INFO : EPOCH 20 - PROGRESS: at 25.04% examples, 404289 words/s, in_qsize 15, out_qsize 0\n",
      "2019-02-17 04:55:56,302 : INFO : EPOCH 20 - PROGRESS: at 30.13% examples, 405439 words/s, in_qsize 15, out_qsize 0\n",
      "2019-02-17 04:55:57,335 : INFO : EPOCH 20 - PROGRESS: at 35.32% examples, 406684 words/s, in_qsize 15, out_qsize 0\n",
      "2019-02-17 04:55:58,343 : INFO : EPOCH 20 - PROGRESS: at 40.51% examples, 408787 words/s, in_qsize 15, out_qsize 0\n",
      "2019-02-17 04:55:59,349 : INFO : EPOCH 20 - PROGRESS: at 45.37% examples, 407649 words/s, in_qsize 14, out_qsize 1\n",
      "2019-02-17 04:56:00,377 : INFO : EPOCH 20 - PROGRESS: at 50.13% examples, 405019 words/s, in_qsize 15, out_qsize 0\n",
      "2019-02-17 04:56:01,415 : INFO : EPOCH 20 - PROGRESS: at 55.21% examples, 404899 words/s, in_qsize 15, out_qsize 0\n",
      "2019-02-17 04:56:02,429 : INFO : EPOCH 20 - PROGRESS: at 60.30% examples, 405537 words/s, in_qsize 15, out_qsize 0\n",
      "2019-02-17 04:56:03,459 : INFO : EPOCH 20 - PROGRESS: at 65.28% examples, 404958 words/s, in_qsize 15, out_qsize 0\n",
      "2019-02-17 04:56:04,565 : INFO : EPOCH 20 - PROGRESS: at 70.80% examples, 405389 words/s, in_qsize 14, out_qsize 1\n",
      "2019-02-17 04:56:05,571 : INFO : EPOCH 20 - PROGRESS: at 76.00% examples, 406652 words/s, in_qsize 14, out_qsize 1\n",
      "2019-02-17 04:56:06,596 : INFO : EPOCH 20 - PROGRESS: at 81.01% examples, 406231 words/s, in_qsize 15, out_qsize 0\n",
      "2019-02-17 04:56:07,624 : INFO : EPOCH 20 - PROGRESS: at 86.10% examples, 406277 words/s, in_qsize 15, out_qsize 0\n",
      "2019-02-17 04:56:08,626 : INFO : EPOCH 20 - PROGRESS: at 91.09% examples, 406394 words/s, in_qsize 16, out_qsize 0\n",
      "2019-02-17 04:56:09,626 : INFO : EPOCH 20 - PROGRESS: at 96.42% examples, 407929 words/s, in_qsize 15, out_qsize 0\n",
      "2019-02-17 04:56:10,219 : INFO : worker thread finished; awaiting finish of 7 more threads\n",
      "2019-02-17 04:56:10,221 : INFO : worker thread finished; awaiting finish of 6 more threads\n",
      "2019-02-17 04:56:10,236 : INFO : worker thread finished; awaiting finish of 5 more threads\n",
      "2019-02-17 04:56:10,262 : INFO : worker thread finished; awaiting finish of 4 more threads\n",
      "2019-02-17 04:56:10,282 : INFO : worker thread finished; awaiting finish of 3 more threads\n",
      "2019-02-17 04:56:10,286 : INFO : worker thread finished; awaiting finish of 2 more threads\n",
      "2019-02-17 04:56:10,292 : INFO : worker thread finished; awaiting finish of 1 more threads\n",
      "2019-02-17 04:56:10,294 : INFO : worker thread finished; awaiting finish of 0 more threads\n",
      "2019-02-17 04:56:10,295 : INFO : EPOCH - 20 : training on 9227204 raw words (8222482 effective words) took 20.1s, 409025 effective words/s\n",
      "2019-02-17 04:56:11,333 : INFO : EPOCH 21 - PROGRESS: at 4.56% examples, 364610 words/s, in_qsize 15, out_qsize 3\n",
      "2019-02-17 04:56:12,377 : INFO : EPOCH 21 - PROGRESS: at 9.44% examples, 374660 words/s, in_qsize 16, out_qsize 1\n",
      "2019-02-17 04:56:13,477 : INFO : EPOCH 21 - PROGRESS: at 14.86% examples, 385100 words/s, in_qsize 14, out_qsize 3\n",
      "2019-02-17 04:56:14,546 : INFO : EPOCH 21 - PROGRESS: at 20.48% examples, 397227 words/s, in_qsize 15, out_qsize 0\n",
      "2019-02-17 04:56:15,571 : INFO : EPOCH 21 - PROGRESS: at 25.48% examples, 397725 words/s, in_qsize 14, out_qsize 2\n",
      "2019-02-17 04:56:16,575 : INFO : EPOCH 21 - PROGRESS: at 30.34% examples, 398026 words/s, in_qsize 14, out_qsize 2\n",
      "2019-02-17 04:56:17,587 : INFO : EPOCH 21 - PROGRESS: at 34.67% examples, 391661 words/s, in_qsize 13, out_qsize 2\n",
      "2019-02-17 04:56:18,618 : INFO : EPOCH 21 - PROGRESS: at 39.22% examples, 388073 words/s, in_qsize 15, out_qsize 0\n",
      "2019-02-17 04:56:19,643 : INFO : EPOCH 21 - PROGRESS: at 44.07% examples, 388414 words/s, in_qsize 16, out_qsize 1\n",
      "2019-02-17 04:56:20,663 : INFO : EPOCH 21 - PROGRESS: at 48.40% examples, 384557 words/s, in_qsize 15, out_qsize 1\n",
      "2019-02-17 04:56:21,692 : INFO : EPOCH 21 - PROGRESS: at 52.73% examples, 381356 words/s, in_qsize 15, out_qsize 1\n",
      "2019-02-17 04:56:22,691 : INFO : EPOCH 21 - PROGRESS: at 57.49% examples, 382080 words/s, in_qsize 15, out_qsize 0\n",
      "2019-02-17 04:56:23,736 : INFO : EPOCH 21 - PROGRESS: at 62.46% examples, 382847 words/s, in_qsize 15, out_qsize 0\n",
      "2019-02-17 04:56:24,822 : INFO : EPOCH 21 - PROGRESS: at 67.99% examples, 385483 words/s, in_qsize 15, out_qsize 0\n",
      "2019-02-17 04:56:25,934 : INFO : EPOCH 21 - PROGRESS: at 73.51% examples, 387126 words/s, in_qsize 15, out_qsize 0\n",
      "2019-02-17 04:56:26,957 : INFO : EPOCH 21 - PROGRESS: at 78.51% examples, 387924 words/s, in_qsize 13, out_qsize 2\n",
      "2019-02-17 04:56:27,984 : INFO : EPOCH 21 - PROGRESS: at 83.62% examples, 389097 words/s, in_qsize 15, out_qsize 0\n",
      "2019-02-17 04:56:28,994 : INFO : EPOCH 21 - PROGRESS: at 88.80% examples, 390920 words/s, in_qsize 16, out_qsize 2\n",
      "2019-02-17 04:56:30,001 : INFO : EPOCH 21 - PROGRESS: at 93.48% examples, 390370 words/s, in_qsize 13, out_qsize 2\n",
      "2019-02-17 04:56:31,001 : INFO : EPOCH 21 - PROGRESS: at 98.58% examples, 391738 words/s, in_qsize 14, out_qsize 0\n",
      "2019-02-17 04:56:31,081 : INFO : worker thread finished; awaiting finish of 7 more threads\n",
      "2019-02-17 04:56:31,083 : INFO : worker thread finished; awaiting finish of 6 more threads\n",
      "2019-02-17 04:56:31,119 : INFO : worker thread finished; awaiting finish of 5 more threads\n",
      "2019-02-17 04:56:31,131 : INFO : worker thread finished; awaiting finish of 4 more threads\n",
      "2019-02-17 04:56:31,132 : INFO : worker thread finished; awaiting finish of 3 more threads\n",
      "2019-02-17 04:56:31,146 : INFO : worker thread finished; awaiting finish of 2 more threads\n",
      "2019-02-17 04:56:31,149 : INFO : worker thread finished; awaiting finish of 1 more threads\n",
      "2019-02-17 04:56:31,154 : INFO : worker thread finished; awaiting finish of 0 more threads\n",
      "2019-02-17 04:56:31,155 : INFO : EPOCH - 21 : training on 9227204 raw words (8223224 effective words) took 20.8s, 394452 effective words/s\n",
      "2019-02-17 04:56:32,225 : INFO : EPOCH 22 - PROGRESS: at 4.67% examples, 368988 words/s, in_qsize 14, out_qsize 2\n",
      "2019-02-17 04:56:33,230 : INFO : EPOCH 22 - PROGRESS: at 10.10% examples, 403178 words/s, in_qsize 14, out_qsize 1\n",
      "2019-02-17 04:56:34,277 : INFO : EPOCH 22 - PROGRESS: at 14.97% examples, 396373 words/s, in_qsize 13, out_qsize 2\n",
      "2019-02-17 04:56:35,284 : INFO : EPOCH 22 - PROGRESS: at 20.05% examples, 401066 words/s, in_qsize 16, out_qsize 0\n",
      "2019-02-17 04:56:36,414 : INFO : EPOCH 22 - PROGRESS: at 25.48% examples, 399607 words/s, in_qsize 15, out_qsize 1\n",
      "2019-02-17 04:56:37,431 : INFO : EPOCH 22 - PROGRESS: at 30.67% examples, 403018 words/s, in_qsize 13, out_qsize 2\n",
      "2019-02-17 04:56:38,499 : INFO : EPOCH 22 - PROGRESS: at 35.21% examples, 395298 words/s, in_qsize 14, out_qsize 1\n",
      "2019-02-17 04:56:39,513 : INFO : EPOCH 22 - PROGRESS: at 40.08% examples, 395329 words/s, in_qsize 15, out_qsize 0\n",
      "2019-02-17 04:56:40,522 : INFO : EPOCH 22 - PROGRESS: at 45.16% examples, 397398 words/s, in_qsize 15, out_qsize 0\n",
      "2019-02-17 04:56:41,540 : INFO : EPOCH 22 - PROGRESS: at 49.81% examples, 395352 words/s, in_qsize 16, out_qsize 0\n",
      "2019-02-17 04:56:42,613 : INFO : EPOCH 22 - PROGRESS: at 54.89% examples, 394901 words/s, in_qsize 15, out_qsize 0\n",
      "2019-02-17 04:56:43,676 : INFO : EPOCH 22 - PROGRESS: at 60.41% examples, 397664 words/s, in_qsize 15, out_qsize 0\n",
      "2019-02-17 04:56:44,717 : INFO : EPOCH 22 - PROGRESS: at 65.50% examples, 398030 words/s, in_qsize 16, out_qsize 1\n",
      "2019-02-17 04:56:45,733 : INFO : EPOCH 22 - PROGRESS: at 70.70% examples, 399615 words/s, in_qsize 15, out_qsize 0\n",
      "2019-02-17 04:56:46,749 : INFO : EPOCH 22 - PROGRESS: at 75.67% examples, 399852 words/s, in_qsize 15, out_qsize 0\n",
      "2019-02-17 04:56:47,799 : INFO : EPOCH 22 - PROGRESS: at 80.90% examples, 400317 words/s, in_qsize 15, out_qsize 0\n",
      "2019-02-17 04:56:48,828 : INFO : EPOCH 22 - PROGRESS: at 86.10% examples, 401166 words/s, in_qsize 14, out_qsize 1\n",
      "2019-02-17 04:56:49,831 : INFO : EPOCH 22 - PROGRESS: at 91.09% examples, 401550 words/s, in_qsize 14, out_qsize 1\n",
      "2019-02-17 04:56:50,962 : INFO : EPOCH 22 - PROGRESS: at 96.53% examples, 401451 words/s, in_qsize 13, out_qsize 7\n",
      "2019-02-17 04:56:51,404 : INFO : worker thread finished; awaiting finish of 7 more threads\n",
      "2019-02-17 04:56:51,423 : INFO : worker thread finished; awaiting finish of 6 more threads\n",
      "2019-02-17 04:56:51,433 : INFO : worker thread finished; awaiting finish of 5 more threads\n",
      "2019-02-17 04:56:51,453 : INFO : worker thread finished; awaiting finish of 4 more threads\n",
      "2019-02-17 04:56:51,460 : INFO : worker thread finished; awaiting finish of 3 more threads\n",
      "2019-02-17 04:56:51,462 : INFO : worker thread finished; awaiting finish of 2 more threads\n",
      "2019-02-17 04:56:51,467 : INFO : worker thread finished; awaiting finish of 1 more threads\n",
      "2019-02-17 04:56:51,473 : INFO : worker thread finished; awaiting finish of 0 more threads\n",
      "2019-02-17 04:56:51,474 : INFO : EPOCH - 22 : training on 9227204 raw words (8222529 effective words) took 20.3s, 405081 effective words/s\n",
      "2019-02-17 04:56:52,488 : INFO : EPOCH 23 - PROGRESS: at 4.45% examples, 363671 words/s, in_qsize 16, out_qsize 1\n",
      "2019-02-17 04:56:53,491 : INFO : EPOCH 23 - PROGRESS: at 9.55% examples, 390761 words/s, in_qsize 15, out_qsize 0\n",
      "2019-02-17 04:56:54,509 : INFO : EPOCH 23 - PROGRESS: at 14.97% examples, 406320 words/s, in_qsize 16, out_qsize 0\n",
      "2019-02-17 04:56:55,520 : INFO : EPOCH 23 - PROGRESS: at 19.84% examples, 403823 words/s, in_qsize 14, out_qsize 1\n",
      "2019-02-17 04:56:56,552 : INFO : EPOCH 23 - PROGRESS: at 24.72% examples, 400783 words/s, in_qsize 15, out_qsize 4\n",
      "2019-02-17 04:56:57,577 : INFO : EPOCH 23 - PROGRESS: at 30.13% examples, 406488 words/s, in_qsize 14, out_qsize 1\n",
      "2019-02-17 04:56:58,620 : INFO : EPOCH 23 - PROGRESS: at 35.32% examples, 406963 words/s, in_qsize 15, out_qsize 0\n",
      "2019-02-17 04:56:59,685 : INFO : EPOCH 23 - PROGRESS: at 40.62% examples, 407322 words/s, in_qsize 15, out_qsize 0\n",
      "2019-02-17 04:57:00,719 : INFO : EPOCH 23 - PROGRESS: at 45.92% examples, 408946 words/s, in_qsize 12, out_qsize 3\n",
      "2019-02-17 04:57:01,775 : INFO : EPOCH 23 - PROGRESS: at 51.21% examples, 410278 words/s, in_qsize 15, out_qsize 0\n",
      "2019-02-17 04:57:02,790 : INFO : EPOCH 23 - PROGRESS: at 56.29% examples, 410311 words/s, in_qsize 15, out_qsize 0\n",
      "2019-02-17 04:57:03,821 : INFO : EPOCH 23 - PROGRESS: at 61.71% examples, 411610 words/s, in_qsize 16, out_qsize 0\n",
      "2019-02-17 04:57:04,839 : INFO : EPOCH 23 - PROGRESS: at 66.80% examples, 411583 words/s, in_qsize 15, out_qsize 0\n",
      "2019-02-17 04:57:05,842 : INFO : EPOCH 23 - PROGRESS: at 71.56% examples, 410150 words/s, in_qsize 16, out_qsize 1\n",
      "2019-02-17 04:57:06,899 : INFO : EPOCH 23 - PROGRESS: at 76.44% examples, 408005 words/s, in_qsize 16, out_qsize 0\n",
      "2019-02-17 04:57:07,939 : INFO : EPOCH 23 - PROGRESS: at 81.66% examples, 408206 words/s, in_qsize 14, out_qsize 1\n",
      "2019-02-17 04:57:08,954 : INFO : EPOCH 23 - PROGRESS: at 86.64% examples, 407925 words/s, in_qsize 15, out_qsize 0\n",
      "2019-02-17 04:57:10,000 : INFO : EPOCH 23 - PROGRESS: at 91.52% examples, 406501 words/s, in_qsize 12, out_qsize 3\n",
      "2019-02-17 04:57:11,027 : INFO : EPOCH 23 - PROGRESS: at 96.96% examples, 407916 words/s, in_qsize 15, out_qsize 0\n",
      "2019-02-17 04:57:11,496 : INFO : worker thread finished; awaiting finish of 7 more threads\n",
      "2019-02-17 04:57:11,506 : INFO : worker thread finished; awaiting finish of 6 more threads\n",
      "2019-02-17 04:57:11,514 : INFO : worker thread finished; awaiting finish of 5 more threads\n",
      "2019-02-17 04:57:11,518 : INFO : worker thread finished; awaiting finish of 4 more threads\n",
      "2019-02-17 04:57:11,519 : INFO : worker thread finished; awaiting finish of 3 more threads\n",
      "2019-02-17 04:57:11,531 : INFO : worker thread finished; awaiting finish of 2 more threads\n",
      "2019-02-17 04:57:11,533 : INFO : worker thread finished; awaiting finish of 1 more threads\n",
      "2019-02-17 04:57:11,543 : INFO : worker thread finished; awaiting finish of 0 more threads\n",
      "2019-02-17 04:57:11,544 : INFO : EPOCH - 23 : training on 9227204 raw words (8222360 effective words) took 20.1s, 409907 effective words/s\n",
      "2019-02-17 04:57:12,584 : INFO : EPOCH 24 - PROGRESS: at 4.89% examples, 393985 words/s, in_qsize 15, out_qsize 0\n",
      "2019-02-17 04:57:13,617 : INFO : EPOCH 24 - PROGRESS: at 9.99% examples, 400122 words/s, in_qsize 16, out_qsize 0\n",
      "2019-02-17 04:57:14,657 : INFO : EPOCH 24 - PROGRESS: at 15.19% examples, 403585 words/s, in_qsize 15, out_qsize 1\n",
      "2019-02-17 04:57:15,708 : INFO : EPOCH 24 - PROGRESS: at 20.70% examples, 410904 words/s, in_qsize 15, out_qsize 0\n",
      "2019-02-17 04:57:16,709 : INFO : EPOCH 24 - PROGRESS: at 25.48% examples, 407211 words/s, in_qsize 15, out_qsize 0\n",
      "2019-02-17 04:57:17,730 : INFO : EPOCH 24 - PROGRESS: at 30.56% examples, 407777 words/s, in_qsize 15, out_qsize 0\n",
      "2019-02-17 04:57:18,750 : INFO : EPOCH 24 - PROGRESS: at 35.65% examples, 408103 words/s, in_qsize 15, out_qsize 0\n",
      "2019-02-17 04:57:19,761 : INFO : EPOCH 24 - PROGRESS: at 40.73% examples, 408876 words/s, in_qsize 15, out_qsize 0\n",
      "2019-02-17 04:57:20,781 : INFO : EPOCH 24 - PROGRESS: at 45.81% examples, 409024 words/s, in_qsize 15, out_qsize 0\n",
      "2019-02-17 04:57:21,808 : INFO : EPOCH 24 - PROGRESS: at 50.78% examples, 408016 words/s, in_qsize 14, out_qsize 1\n",
      "2019-02-17 04:57:22,828 : INFO : EPOCH 24 - PROGRESS: at 55.75% examples, 407489 words/s, in_qsize 14, out_qsize 1\n",
      "2019-02-17 04:57:23,843 : INFO : EPOCH 24 - PROGRESS: at 61.07% examples, 409374 words/s, in_qsize 14, out_qsize 1\n",
      "2019-02-17 04:57:24,885 : INFO : EPOCH 24 - PROGRESS: at 65.93% examples, 407408 words/s, in_qsize 15, out_qsize 0\n",
      "2019-02-17 04:57:25,914 : INFO : EPOCH 24 - PROGRESS: at 71.35% examples, 409245 words/s, in_qsize 15, out_qsize 0\n",
      "2019-02-17 04:57:27,022 : INFO : EPOCH 24 - PROGRESS: at 76.44% examples, 406946 words/s, in_qsize 15, out_qsize 0\n",
      "2019-02-17 04:57:28,025 : INFO : EPOCH 24 - PROGRESS: at 81.55% examples, 407611 words/s, in_qsize 15, out_qsize 0\n",
      "2019-02-17 04:57:29,106 : INFO : EPOCH 24 - PROGRESS: at 86.64% examples, 406349 words/s, in_qsize 15, out_qsize 0\n",
      "2019-02-17 04:57:30,145 : INFO : EPOCH 24 - PROGRESS: at 91.96% examples, 407094 words/s, in_qsize 15, out_qsize 0\n",
      "2019-02-17 04:57:31,155 : INFO : EPOCH 24 - PROGRESS: at 97.07% examples, 407482 words/s, in_qsize 16, out_qsize 0\n",
      "2019-02-17 04:57:31,563 : INFO : worker thread finished; awaiting finish of 7 more threads\n",
      "2019-02-17 04:57:31,579 : INFO : worker thread finished; awaiting finish of 6 more threads\n",
      "2019-02-17 04:57:31,596 : INFO : worker thread finished; awaiting finish of 5 more threads\n",
      "2019-02-17 04:57:31,597 : INFO : worker thread finished; awaiting finish of 4 more threads\n",
      "2019-02-17 04:57:31,609 : INFO : worker thread finished; awaiting finish of 3 more threads\n",
      "2019-02-17 04:57:31,616 : INFO : worker thread finished; awaiting finish of 2 more threads\n",
      "2019-02-17 04:57:31,627 : INFO : worker thread finished; awaiting finish of 1 more threads\n",
      "2019-02-17 04:57:31,631 : INFO : worker thread finished; awaiting finish of 0 more threads\n",
      "2019-02-17 04:57:31,632 : INFO : EPOCH - 24 : training on 9227204 raw words (8223114 effective words) took 20.1s, 409831 effective words/s\n",
      "2019-02-17 04:57:32,657 : INFO : EPOCH 25 - PROGRESS: at 4.45% examples, 359547 words/s, in_qsize 15, out_qsize 0\n",
      "2019-02-17 04:57:33,689 : INFO : EPOCH 25 - PROGRESS: at 9.34% examples, 374257 words/s, in_qsize 16, out_qsize 0\n",
      "2019-02-17 04:57:34,713 : INFO : EPOCH 25 - PROGRESS: at 14.33% examples, 382880 words/s, in_qsize 14, out_qsize 1\n",
      "2019-02-17 04:57:35,717 : INFO : EPOCH 25 - PROGRESS: at 19.08% examples, 384563 words/s, in_qsize 14, out_qsize 1\n",
      "2019-02-17 04:57:36,738 : INFO : EPOCH 25 - PROGRESS: at 23.95% examples, 386291 words/s, in_qsize 14, out_qsize 3\n",
      "2019-02-17 04:57:37,765 : INFO : EPOCH 25 - PROGRESS: at 28.94% examples, 388375 words/s, in_qsize 14, out_qsize 1\n",
      "2019-02-17 04:57:38,813 : INFO : EPOCH 25 - PROGRESS: at 34.03% examples, 389993 words/s, in_qsize 15, out_qsize 0\n",
      "2019-02-17 04:57:39,842 : INFO : EPOCH 25 - PROGRESS: at 39.00% examples, 391028 words/s, in_qsize 14, out_qsize 1\n",
      "2019-02-17 04:57:40,866 : INFO : EPOCH 25 - PROGRESS: at 44.18% examples, 393954 words/s, in_qsize 15, out_qsize 0\n",
      "2019-02-17 04:57:41,879 : INFO : EPOCH 25 - PROGRESS: at 49.16% examples, 395033 words/s, in_qsize 16, out_qsize 0\n",
      "2019-02-17 04:57:42,927 : INFO : EPOCH 25 - PROGRESS: at 54.14% examples, 394674 words/s, in_qsize 15, out_qsize 0\n",
      "2019-02-17 04:57:43,931 : INFO : EPOCH 25 - PROGRESS: at 59.23% examples, 396495 words/s, in_qsize 16, out_qsize 1\n",
      "2019-02-17 04:57:44,941 : INFO : EPOCH 25 - PROGRESS: at 64.30% examples, 397862 words/s, in_qsize 15, out_qsize 0\n",
      "2019-02-17 04:57:45,973 : INFO : EPOCH 25 - PROGRESS: at 69.50% examples, 399044 words/s, in_qsize 14, out_qsize 1\n",
      "2019-02-17 04:57:46,998 : INFO : EPOCH 25 - PROGRESS: at 74.59% examples, 399649 words/s, in_qsize 13, out_qsize 2\n",
      "2019-02-17 04:57:48,014 : INFO : EPOCH 25 - PROGRESS: at 79.71% examples, 400408 words/s, in_qsize 15, out_qsize 1\n",
      "2019-02-17 04:57:49,020 : INFO : EPOCH 25 - PROGRESS: at 84.58% examples, 400320 words/s, in_qsize 15, out_qsize 0\n",
      "2019-02-17 04:57:50,023 : INFO : EPOCH 25 - PROGRESS: at 89.45% examples, 400255 words/s, in_qsize 14, out_qsize 0\n",
      "2019-02-17 04:57:51,041 : INFO : EPOCH 25 - PROGRESS: at 94.14% examples, 398987 words/s, in_qsize 14, out_qsize 1\n",
      "2019-02-17 04:57:52,050 : INFO : EPOCH 25 - PROGRESS: at 99.24% examples, 399827 words/s, in_qsize 7, out_qsize 1\n",
      "2019-02-17 04:57:52,051 : INFO : worker thread finished; awaiting finish of 7 more threads\n",
      "2019-02-17 04:57:52,071 : INFO : worker thread finished; awaiting finish of 6 more threads\n",
      "2019-02-17 04:57:52,072 : INFO : worker thread finished; awaiting finish of 5 more threads\n",
      "2019-02-17 04:57:52,083 : INFO : worker thread finished; awaiting finish of 4 more threads\n",
      "2019-02-17 04:57:52,090 : INFO : worker thread finished; awaiting finish of 3 more threads\n",
      "2019-02-17 04:57:52,096 : INFO : worker thread finished; awaiting finish of 2 more threads\n",
      "2019-02-17 04:57:52,114 : INFO : worker thread finished; awaiting finish of 1 more threads\n",
      "2019-02-17 04:57:52,114 : INFO : worker thread finished; awaiting finish of 0 more threads\n",
      "2019-02-17 04:57:52,115 : INFO : EPOCH - 25 : training on 9227204 raw words (8221928 effective words) took 20.5s, 401597 effective words/s\n",
      "2019-02-17 04:57:53,167 : INFO : EPOCH 26 - PROGRESS: at 4.56% examples, 359983 words/s, in_qsize 15, out_qsize 0\n",
      "2019-02-17 04:57:54,181 : INFO : EPOCH 26 - PROGRESS: at 9.66% examples, 386238 words/s, in_qsize 15, out_qsize 0\n",
      "2019-02-17 04:57:55,193 : INFO : EPOCH 26 - PROGRESS: at 14.86% examples, 398125 words/s, in_qsize 15, out_qsize 0\n",
      "2019-02-17 04:57:56,197 : INFO : EPOCH 26 - PROGRESS: at 19.84% examples, 400591 words/s, in_qsize 14, out_qsize 1\n",
      "2019-02-17 04:57:57,198 : INFO : EPOCH 26 - PROGRESS: at 25.15% examples, 407596 words/s, in_qsize 15, out_qsize 0\n",
      "2019-02-17 04:57:58,203 : INFO : EPOCH 26 - PROGRESS: at 30.02% examples, 406199 words/s, in_qsize 15, out_qsize 0\n",
      "2019-02-17 04:57:59,216 : INFO : EPOCH 26 - PROGRESS: at 35.10% examples, 407234 words/s, in_qsize 15, out_qsize 0\n",
      "2019-02-17 04:58:00,227 : INFO : EPOCH 26 - PROGRESS: at 40.19% examples, 408085 words/s, in_qsize 13, out_qsize 2\n",
      "2019-02-17 04:58:01,228 : INFO : EPOCH 26 - PROGRESS: at 44.73% examples, 404289 words/s, in_qsize 15, out_qsize 0\n",
      "2019-02-17 04:58:02,232 : INFO : EPOCH 26 - PROGRESS: at 49.81% examples, 405565 words/s, in_qsize 15, out_qsize 0\n",
      "2019-02-17 04:58:03,256 : INFO : EPOCH 26 - PROGRESS: at 54.89% examples, 405897 words/s, in_qsize 15, out_qsize 0\n",
      "2019-02-17 04:58:04,271 : INFO : EPOCH 26 - PROGRESS: at 59.98% examples, 406499 words/s, in_qsize 16, out_qsize 1\n",
      "2019-02-17 04:58:05,331 : INFO : EPOCH 26 - PROGRESS: at 65.06% examples, 406368 words/s, in_qsize 15, out_qsize 0\n",
      "2019-02-17 04:58:06,359 : INFO : EPOCH 26 - PROGRESS: at 70.27% examples, 406307 words/s, in_qsize 14, out_qsize 0\n",
      "2019-02-17 04:58:07,420 : INFO : EPOCH 26 - PROGRESS: at 75.24% examples, 404901 words/s, in_qsize 16, out_qsize 2\n",
      "2019-02-17 04:58:08,427 : INFO : EPOCH 26 - PROGRESS: at 80.47% examples, 406118 words/s, in_qsize 15, out_qsize 0\n",
      "2019-02-17 04:58:09,499 : INFO : EPOCH 26 - PROGRESS: at 85.45% examples, 404632 words/s, in_qsize 15, out_qsize 0\n",
      "2019-02-17 04:58:10,529 : INFO : EPOCH 26 - PROGRESS: at 90.54% examples, 404728 words/s, in_qsize 15, out_qsize 0\n",
      "2019-02-17 04:58:11,563 : INFO : EPOCH 26 - PROGRESS: at 95.66% examples, 404730 words/s, in_qsize 15, out_qsize 0\n",
      "2019-02-17 04:58:12,252 : INFO : worker thread finished; awaiting finish of 7 more threads\n",
      "2019-02-17 04:58:12,261 : INFO : worker thread finished; awaiting finish of 6 more threads\n",
      "2019-02-17 04:58:12,279 : INFO : worker thread finished; awaiting finish of 5 more threads\n",
      "2019-02-17 04:58:12,281 : INFO : worker thread finished; awaiting finish of 4 more threads\n",
      "2019-02-17 04:58:12,293 : INFO : worker thread finished; awaiting finish of 3 more threads\n",
      "2019-02-17 04:58:12,315 : INFO : worker thread finished; awaiting finish of 2 more threads\n",
      "2019-02-17 04:58:12,321 : INFO : worker thread finished; awaiting finish of 1 more threads\n",
      "2019-02-17 04:58:12,325 : INFO : worker thread finished; awaiting finish of 0 more threads\n",
      "2019-02-17 04:58:12,326 : INFO : EPOCH - 26 : training on 9227204 raw words (8223287 effective words) took 20.2s, 407133 effective words/s\n",
      "2019-02-17 04:58:13,347 : INFO : EPOCH 27 - PROGRESS: at 4.56% examples, 371113 words/s, in_qsize 14, out_qsize 0\n",
      "2019-02-17 04:58:14,349 : INFO : EPOCH 27 - PROGRESS: at 9.45% examples, 385620 words/s, in_qsize 15, out_qsize 3\n",
      "2019-02-17 04:58:15,381 : INFO : EPOCH 27 - PROGRESS: at 14.33% examples, 386423 words/s, in_qsize 15, out_qsize 0\n",
      "2019-02-17 04:58:16,442 : INFO : EPOCH 27 - PROGRESS: at 19.62% examples, 392828 words/s, in_qsize 15, out_qsize 0\n",
      "2019-02-17 04:58:17,469 : INFO : EPOCH 27 - PROGRESS: at 24.61% examples, 394167 words/s, in_qsize 15, out_qsize 3\n",
      "2019-02-17 04:58:18,534 : INFO : EPOCH 27 - PROGRESS: at 29.70% examples, 393947 words/s, in_qsize 15, out_qsize 0\n",
      "2019-02-17 04:58:19,637 : INFO : EPOCH 27 - PROGRESS: at 35.10% examples, 395440 words/s, in_qsize 15, out_qsize 0\n",
      "2019-02-17 04:58:20,644 : INFO : EPOCH 27 - PROGRESS: at 40.19% examples, 397896 words/s, in_qsize 16, out_qsize 0\n",
      "2019-02-17 04:58:21,693 : INFO : EPOCH 27 - PROGRESS: at 45.27% examples, 398003 words/s, in_qsize 16, out_qsize 0\n",
      "2019-02-17 04:58:22,715 : INFO : EPOCH 27 - PROGRESS: at 50.02% examples, 396635 words/s, in_qsize 15, out_qsize 0\n",
      "2019-02-17 04:58:23,761 : INFO : EPOCH 27 - PROGRESS: at 55.00% examples, 396553 words/s, in_qsize 15, out_qsize 1\n",
      "2019-02-17 04:58:24,798 : INFO : EPOCH 27 - PROGRESS: at 59.97% examples, 396697 words/s, in_qsize 14, out_qsize 4\n",
      "2019-02-17 04:58:25,801 : INFO : EPOCH 27 - PROGRESS: at 64.95% examples, 397047 words/s, in_qsize 16, out_qsize 0\n",
      "2019-02-17 04:58:26,835 : INFO : EPOCH 27 - PROGRESS: at 70.05% examples, 397635 words/s, in_qsize 15, out_qsize 0\n",
      "2019-02-17 04:58:27,843 : INFO : EPOCH 27 - PROGRESS: at 74.92% examples, 397611 words/s, in_qsize 14, out_qsize 1\n",
      "2019-02-17 04:58:28,927 : INFO : EPOCH 27 - PROGRESS: at 79.92% examples, 396312 words/s, in_qsize 15, out_qsize 0\n",
      "2019-02-17 04:58:29,953 : INFO : EPOCH 27 - PROGRESS: at 85.45% examples, 399022 words/s, in_qsize 16, out_qsize 1\n",
      "2019-02-17 04:58:30,976 : INFO : EPOCH 27 - PROGRESS: at 89.89% examples, 396688 words/s, in_qsize 13, out_qsize 1\n",
      "2019-02-17 04:58:31,983 : INFO : EPOCH 27 - PROGRESS: at 95.01% examples, 397642 words/s, in_qsize 16, out_qsize 1\n",
      "2019-02-17 04:58:32,832 : INFO : worker thread finished; awaiting finish of 7 more threads\n",
      "2019-02-17 04:58:32,837 : INFO : worker thread finished; awaiting finish of 6 more threads\n",
      "2019-02-17 04:58:32,840 : INFO : worker thread finished; awaiting finish of 5 more threads\n",
      "2019-02-17 04:58:32,842 : INFO : worker thread finished; awaiting finish of 4 more threads\n",
      "2019-02-17 04:58:32,843 : INFO : worker thread finished; awaiting finish of 3 more threads\n",
      "2019-02-17 04:58:32,845 : INFO : worker thread finished; awaiting finish of 2 more threads\n",
      "2019-02-17 04:58:32,874 : INFO : worker thread finished; awaiting finish of 1 more threads\n",
      "2019-02-17 04:58:32,879 : INFO : worker thread finished; awaiting finish of 0 more threads\n",
      "2019-02-17 04:58:32,879 : INFO : EPOCH - 27 : training on 9227204 raw words (8222004 effective words) took 20.5s, 400296 effective words/s\n",
      "2019-02-17 04:58:33,894 : INFO : EPOCH 28 - PROGRESS: at 4.56% examples, 372191 words/s, in_qsize 15, out_qsize 0\n",
      "2019-02-17 04:58:34,910 : INFO : EPOCH 28 - PROGRESS: at 9.34% examples, 379027 words/s, in_qsize 15, out_qsize 0\n",
      "2019-02-17 04:58:35,927 : INFO : EPOCH 28 - PROGRESS: at 14.43% examples, 389959 words/s, in_qsize 15, out_qsize 0\n",
      "2019-02-17 04:58:36,947 : INFO : EPOCH 28 - PROGRESS: at 19.19% examples, 388490 words/s, in_qsize 15, out_qsize 0\n",
      "2019-02-17 04:58:37,958 : INFO : EPOCH 28 - PROGRESS: at 23.96% examples, 388343 words/s, in_qsize 13, out_qsize 2\n",
      "2019-02-17 04:58:38,966 : INFO : EPOCH 28 - PROGRESS: at 29.16% examples, 394316 words/s, in_qsize 12, out_qsize 2\n",
      "2019-02-17 04:58:40,025 : INFO : EPOCH 28 - PROGRESS: at 34.13% examples, 393235 words/s, in_qsize 15, out_qsize 0\n",
      "2019-02-17 04:58:41,051 : INFO : EPOCH 28 - PROGRESS: at 39.22% examples, 395101 words/s, in_qsize 15, out_qsize 0\n",
      "2019-02-17 04:58:42,077 : INFO : EPOCH 28 - PROGRESS: at 43.97% examples, 393623 words/s, in_qsize 13, out_qsize 2\n",
      "2019-02-17 04:58:43,078 : INFO : EPOCH 28 - PROGRESS: at 48.84% examples, 394318 words/s, in_qsize 14, out_qsize 2\n",
      "2019-02-17 04:58:44,084 : INFO : EPOCH 28 - PROGRESS: at 53.92% examples, 396282 words/s, in_qsize 15, out_qsize 0\n",
      "2019-02-17 04:58:45,107 : INFO : EPOCH 28 - PROGRESS: at 58.90% examples, 396683 words/s, in_qsize 15, out_qsize 0\n",
      "2019-02-17 04:58:46,112 : INFO : EPOCH 28 - PROGRESS: at 63.97% examples, 398144 words/s, in_qsize 16, out_qsize 0\n",
      "2019-02-17 04:58:47,145 : INFO : EPOCH 28 - PROGRESS: at 68.96% examples, 398050 words/s, in_qsize 15, out_qsize 0\n",
      "2019-02-17 04:58:48,163 : INFO : EPOCH 28 - PROGRESS: at 73.84% examples, 397756 words/s, in_qsize 15, out_qsize 0\n",
      "2019-02-17 04:58:49,166 : INFO : EPOCH 28 - PROGRESS: at 78.73% examples, 397851 words/s, in_qsize 15, out_qsize 0\n",
      "2019-02-17 04:58:50,189 : INFO : EPOCH 28 - PROGRESS: at 83.72% examples, 398016 words/s, in_qsize 14, out_qsize 1\n",
      "2019-02-17 04:58:51,274 : INFO : EPOCH 28 - PROGRESS: at 88.80% examples, 397283 words/s, in_qsize 14, out_qsize 1\n",
      "2019-02-17 04:58:52,296 : INFO : EPOCH 28 - PROGRESS: at 94.03% examples, 398382 words/s, in_qsize 15, out_qsize 0\n",
      "2019-02-17 04:58:53,309 : INFO : EPOCH 28 - PROGRESS: at 99.24% examples, 399621 words/s, in_qsize 7, out_qsize 1\n",
      "2019-02-17 04:58:53,310 : INFO : worker thread finished; awaiting finish of 7 more threads\n",
      "2019-02-17 04:58:53,318 : INFO : worker thread finished; awaiting finish of 6 more threads\n",
      "2019-02-17 04:58:53,330 : INFO : worker thread finished; awaiting finish of 5 more threads\n",
      "2019-02-17 04:58:53,363 : INFO : worker thread finished; awaiting finish of 4 more threads\n",
      "2019-02-17 04:58:53,376 : INFO : worker thread finished; awaiting finish of 3 more threads\n",
      "2019-02-17 04:58:53,386 : INFO : worker thread finished; awaiting finish of 2 more threads\n",
      "2019-02-17 04:58:53,391 : INFO : worker thread finished; awaiting finish of 1 more threads\n",
      "2019-02-17 04:58:53,394 : INFO : worker thread finished; awaiting finish of 0 more threads\n",
      "2019-02-17 04:58:53,395 : INFO : EPOCH - 28 : training on 9227204 raw words (8222735 effective words) took 20.5s, 400980 effective words/s\n",
      "2019-02-17 04:58:54,428 : INFO : EPOCH 29 - PROGRESS: at 4.34% examples, 352561 words/s, in_qsize 15, out_qsize 0\n",
      "2019-02-17 04:58:55,505 : INFO : EPOCH 29 - PROGRESS: at 9.66% examples, 379899 words/s, in_qsize 14, out_qsize 1\n",
      "2019-02-17 04:58:56,550 : INFO : EPOCH 29 - PROGRESS: at 14.86% examples, 389513 words/s, in_qsize 15, out_qsize 0\n",
      "2019-02-17 04:58:57,570 : INFO : EPOCH 29 - PROGRESS: at 19.84% examples, 392528 words/s, in_qsize 15, out_qsize 0\n",
      "2019-02-17 04:58:58,574 : INFO : EPOCH 29 - PROGRESS: at 24.72% examples, 393899 words/s, in_qsize 12, out_qsize 3\n",
      "2019-02-17 04:58:59,576 : INFO : EPOCH 29 - PROGRESS: at 29.91% examples, 399271 words/s, in_qsize 15, out_qsize 0\n",
      "2019-02-17 04:59:00,657 : INFO : EPOCH 29 - PROGRESS: at 34.89% examples, 396204 words/s, in_qsize 15, out_qsize 0\n",
      "2019-02-17 04:59:01,680 : INFO : EPOCH 29 - PROGRESS: at 40.08% examples, 398929 words/s, in_qsize 15, out_qsize 0\n",
      "2019-02-17 04:59:02,746 : INFO : EPOCH 29 - PROGRESS: at 45.26% examples, 399590 words/s, in_qsize 15, out_qsize 0\n",
      "2019-02-17 04:59:03,806 : INFO : EPOCH 29 - PROGRESS: at 50.45% examples, 399642 words/s, in_qsize 15, out_qsize 0\n",
      "2019-02-17 04:59:04,892 : INFO : EPOCH 29 - PROGRESS: at 55.64% examples, 399111 words/s, in_qsize 15, out_qsize 0\n",
      "2019-02-17 04:59:05,924 : INFO : EPOCH 29 - PROGRESS: at 60.85% examples, 400369 words/s, in_qsize 13, out_qsize 2\n",
      "2019-02-17 04:59:06,963 : INFO : EPOCH 29 - PROGRESS: at 65.93% examples, 400538 words/s, in_qsize 15, out_qsize 0\n",
      "2019-02-17 04:59:07,997 : INFO : EPOCH 29 - PROGRESS: at 71.24% examples, 402094 words/s, in_qsize 15, out_qsize 0\n",
      "2019-02-17 04:59:09,043 : INFO : EPOCH 29 - PROGRESS: at 75.89% examples, 399668 words/s, in_qsize 16, out_qsize 1\n",
      "2019-02-17 04:59:10,043 : INFO : EPOCH 29 - PROGRESS: at 81.23% examples, 401880 words/s, in_qsize 15, out_qsize 0\n",
      "2019-02-17 04:59:11,107 : INFO : EPOCH 29 - PROGRESS: at 85.99% examples, 399839 words/s, in_qsize 15, out_qsize 0\n",
      "2019-02-17 04:59:12,115 : INFO : EPOCH 29 - PROGRESS: at 91.09% examples, 400674 words/s, in_qsize 14, out_qsize 1\n",
      "2019-02-17 04:59:13,146 : INFO : EPOCH 29 - PROGRESS: at 95.88% examples, 399581 words/s, in_qsize 15, out_qsize 0\n",
      "2019-02-17 04:59:13,757 : INFO : worker thread finished; awaiting finish of 7 more threads\n",
      "2019-02-17 04:59:13,784 : INFO : worker thread finished; awaiting finish of 6 more threads\n",
      "2019-02-17 04:59:13,787 : INFO : worker thread finished; awaiting finish of 5 more threads\n",
      "2019-02-17 04:59:13,796 : INFO : worker thread finished; awaiting finish of 4 more threads\n",
      "2019-02-17 04:59:13,802 : INFO : worker thread finished; awaiting finish of 3 more threads\n",
      "2019-02-17 04:59:13,806 : INFO : worker thread finished; awaiting finish of 2 more threads\n",
      "2019-02-17 04:59:13,817 : INFO : worker thread finished; awaiting finish of 1 more threads\n",
      "2019-02-17 04:59:13,821 : INFO : worker thread finished; awaiting finish of 0 more threads\n",
      "2019-02-17 04:59:13,821 : INFO : EPOCH - 29 : training on 9227204 raw words (8222247 effective words) took 20.4s, 402994 effective words/s\n",
      "2019-02-17 04:59:14,886 : INFO : EPOCH 30 - PROGRESS: at 4.56% examples, 354841 words/s, in_qsize 15, out_qsize 0\n",
      "2019-02-17 04:59:15,920 : INFO : EPOCH 30 - PROGRESS: at 9.88% examples, 388153 words/s, in_qsize 15, out_qsize 0\n",
      "2019-02-17 04:59:16,928 : INFO : EPOCH 30 - PROGRESS: at 14.65% examples, 388429 words/s, in_qsize 16, out_qsize 0\n",
      "2019-02-17 04:59:17,948 : INFO : EPOCH 30 - PROGRESS: at 19.51% examples, 389427 words/s, in_qsize 14, out_qsize 1\n",
      "2019-02-17 04:59:19,057 : INFO : EPOCH 30 - PROGRESS: at 24.83% examples, 390498 words/s, in_qsize 16, out_qsize 2\n",
      "2019-02-17 04:59:20,068 : INFO : EPOCH 30 - PROGRESS: at 30.02% examples, 395741 words/s, in_qsize 14, out_qsize 1\n",
      "2019-02-17 04:59:21,095 : INFO : EPOCH 30 - PROGRESS: at 34.89% examples, 394927 words/s, in_qsize 13, out_qsize 2\n",
      "2019-02-17 04:59:22,144 : INFO : EPOCH 30 - PROGRESS: at 39.97% examples, 395510 words/s, in_qsize 16, out_qsize 0\n",
      "2019-02-17 04:59:23,167 : INFO : EPOCH 30 - PROGRESS: at 44.94% examples, 396000 words/s, in_qsize 15, out_qsize 0\n",
      "2019-02-17 04:59:24,177 : INFO : EPOCH 30 - PROGRESS: at 49.81% examples, 396104 words/s, in_qsize 16, out_qsize 0\n",
      "2019-02-17 04:59:25,183 : INFO : EPOCH 30 - PROGRESS: at 54.78% examples, 397114 words/s, in_qsize 15, out_qsize 0\n",
      "2019-02-17 04:59:26,195 : INFO : EPOCH 30 - PROGRESS: at 59.98% examples, 399197 words/s, in_qsize 15, out_qsize 0\n",
      "2019-02-17 04:59:27,272 : INFO : EPOCH 30 - PROGRESS: at 64.30% examples, 394310 words/s, in_qsize 16, out_qsize 6\n",
      "2019-02-17 04:59:28,358 : INFO : EPOCH 30 - PROGRESS: at 69.72% examples, 394924 words/s, in_qsize 14, out_qsize 4\n",
      "2019-02-17 04:59:29,397 : INFO : EPOCH 30 - PROGRESS: at 74.92% examples, 396025 words/s, in_qsize 15, out_qsize 0\n",
      "2019-02-17 04:59:30,435 : INFO : EPOCH 30 - PROGRESS: at 80.25% examples, 397576 words/s, in_qsize 15, out_qsize 0\n",
      "2019-02-17 04:59:31,470 : INFO : EPOCH 30 - PROGRESS: at 85.02% examples, 397016 words/s, in_qsize 15, out_qsize 2\n",
      "2019-02-17 04:59:32,496 : INFO : EPOCH 30 - PROGRESS: at 90.22% examples, 397571 words/s, in_qsize 15, out_qsize 0\n",
      "2019-02-17 04:59:33,507 : INFO : EPOCH 30 - PROGRESS: at 95.45% examples, 398909 words/s, in_qsize 14, out_qsize 0\n",
      "2019-02-17 04:59:34,259 : INFO : worker thread finished; awaiting finish of 7 more threads\n",
      "2019-02-17 04:59:34,276 : INFO : worker thread finished; awaiting finish of 6 more threads\n",
      "2019-02-17 04:59:34,309 : INFO : worker thread finished; awaiting finish of 5 more threads\n",
      "2019-02-17 04:59:34,313 : INFO : worker thread finished; awaiting finish of 4 more threads\n",
      "2019-02-17 04:59:34,318 : INFO : worker thread finished; awaiting finish of 3 more threads\n",
      "2019-02-17 04:59:34,323 : INFO : worker thread finished; awaiting finish of 2 more threads\n",
      "2019-02-17 04:59:34,324 : INFO : worker thread finished; awaiting finish of 1 more threads\n",
      "2019-02-17 04:59:34,325 : INFO : worker thread finished; awaiting finish of 0 more threads\n",
      "2019-02-17 04:59:34,325 : INFO : EPOCH - 30 : training on 9227204 raw words (8222477 effective words) took 20.5s, 401218 effective words/s\n",
      "2019-02-17 04:59:35,379 : INFO : EPOCH 31 - PROGRESS: at 4.34% examples, 346639 words/s, in_qsize 15, out_qsize 0\n",
      "2019-02-17 04:59:36,389 : INFO : EPOCH 31 - PROGRESS: at 9.45% examples, 380492 words/s, in_qsize 16, out_qsize 0\n",
      "2019-02-17 04:59:37,421 : INFO : EPOCH 31 - PROGRESS: at 14.33% examples, 383128 words/s, in_qsize 12, out_qsize 3\n",
      "2019-02-17 04:59:38,437 : INFO : EPOCH 31 - PROGRESS: at 19.51% examples, 392469 words/s, in_qsize 12, out_qsize 2\n",
      "2019-02-17 04:59:39,512 : INFO : EPOCH 31 - PROGRESS: at 24.39% examples, 388426 words/s, in_qsize 16, out_qsize 3\n",
      "2019-02-17 04:59:40,533 : INFO : EPOCH 31 - PROGRESS: at 29.59% examples, 393502 words/s, in_qsize 14, out_qsize 1\n",
      "2019-02-17 04:59:41,539 : INFO : EPOCH 31 - PROGRESS: at 34.46% examples, 394191 words/s, in_qsize 16, out_qsize 1\n",
      "2019-02-17 04:59:42,539 : INFO : EPOCH 31 - PROGRESS: at 39.65% examples, 398265 words/s, in_qsize 15, out_qsize 0\n",
      "2019-02-17 04:59:43,588 : INFO : EPOCH 31 - PROGRESS: at 44.40% examples, 396644 words/s, in_qsize 15, out_qsize 2\n",
      "2019-02-17 04:59:44,577 : INFO : EPOCH 31 - PROGRESS: at 49.49% examples, 398147 words/s, in_qsize 15, out_qsize 0\n",
      "2019-02-17 04:59:45,580 : INFO : EPOCH 31 - PROGRESS: at 54.24% examples, 397528 words/s, in_qsize 15, out_qsize 0\n",
      "2019-02-17 04:59:46,584 : INFO : EPOCH 31 - PROGRESS: at 59.34% examples, 399143 words/s, in_qsize 15, out_qsize 0\n",
      "2019-02-17 04:59:47,626 : INFO : EPOCH 31 - PROGRESS: at 64.19% examples, 398586 words/s, in_qsize 14, out_qsize 3\n",
      "2019-02-17 04:59:48,613 : INFO : EPOCH 31 - PROGRESS: at 69.18% examples, 399237 words/s, in_qsize 15, out_qsize 0\n",
      "2019-02-17 04:59:49,630 : INFO : EPOCH 31 - PROGRESS: at 74.16% examples, 399463 words/s, in_qsize 15, out_qsize 0\n",
      "2019-02-17 04:59:50,649 : INFO : EPOCH 31 - PROGRESS: at 79.05% examples, 399054 words/s, in_qsize 15, out_qsize 0\n",
      "2019-02-17 04:59:51,650 : INFO : EPOCH 31 - PROGRESS: at 84.26% examples, 400683 words/s, in_qsize 14, out_qsize 0\n",
      "2019-02-17 04:59:52,673 : INFO : EPOCH 31 - PROGRESS: at 89.02% examples, 399696 words/s, in_qsize 15, out_qsize 0\n",
      "2019-02-17 04:59:53,683 : INFO : EPOCH 31 - PROGRESS: at 93.92% examples, 399501 words/s, in_qsize 14, out_qsize 1\n",
      "2019-02-17 04:59:54,687 : INFO : EPOCH 31 - PROGRESS: at 98.90% examples, 399933 words/s, in_qsize 11, out_qsize 0\n",
      "2019-02-17 04:59:54,750 : INFO : worker thread finished; awaiting finish of 7 more threads\n",
      "2019-02-17 04:59:54,757 : INFO : worker thread finished; awaiting finish of 6 more threads\n",
      "2019-02-17 04:59:54,758 : INFO : worker thread finished; awaiting finish of 5 more threads\n",
      "2019-02-17 04:59:54,760 : INFO : worker thread finished; awaiting finish of 4 more threads\n",
      "2019-02-17 04:59:54,762 : INFO : worker thread finished; awaiting finish of 3 more threads\n",
      "2019-02-17 04:59:54,764 : INFO : worker thread finished; awaiting finish of 2 more threads\n",
      "2019-02-17 04:59:54,786 : INFO : worker thread finished; awaiting finish of 1 more threads\n",
      "2019-02-17 04:59:54,790 : INFO : worker thread finished; awaiting finish of 0 more threads\n",
      "2019-02-17 04:59:54,791 : INFO : EPOCH - 31 : training on 9227204 raw words (8222814 effective words) took 20.4s, 402303 effective words/s\n",
      "2019-02-17 04:59:55,828 : INFO : EPOCH 32 - PROGRESS: at 4.45% examples, 363743 words/s, in_qsize 15, out_qsize 1\n",
      "2019-02-17 04:59:56,814 : INFO : EPOCH 32 - PROGRESS: at 9.23% examples, 376899 words/s, in_qsize 15, out_qsize 0\n",
      "2019-02-17 04:59:57,841 : INFO : EPOCH 32 - PROGRESS: at 14.65% examples, 396034 words/s, in_qsize 16, out_qsize 0\n",
      "2019-02-17 04:59:58,897 : INFO : EPOCH 32 - PROGRESS: at 19.41% examples, 389671 words/s, in_qsize 15, out_qsize 0\n",
      "2019-02-17 04:59:59,922 : INFO : EPOCH 32 - PROGRESS: at 24.72% examples, 396947 words/s, in_qsize 15, out_qsize 0\n",
      "2019-02-17 05:00:00,933 : INFO : EPOCH 32 - PROGRESS: at 29.26% examples, 392524 words/s, in_qsize 16, out_qsize 0\n",
      "2019-02-17 05:00:01,934 : INFO : EPOCH 32 - PROGRESS: at 34.46% examples, 397347 words/s, in_qsize 15, out_qsize 0\n",
      "2019-02-17 05:00:02,972 : INFO : EPOCH 32 - PROGRESS: at 39.43% examples, 397051 words/s, in_qsize 15, out_qsize 0\n",
      "2019-02-17 05:00:03,976 : INFO : EPOCH 32 - PROGRESS: at 44.51% examples, 399210 words/s, in_qsize 16, out_qsize 0\n",
      "2019-02-17 05:00:05,032 : INFO : EPOCH 32 - PROGRESS: at 49.38% examples, 398176 words/s, in_qsize 16, out_qsize 2\n",
      "2019-02-17 05:00:06,008 : INFO : EPOCH 32 - PROGRESS: at 54.46% examples, 399952 words/s, in_qsize 16, out_qsize 0\n",
      "2019-02-17 05:00:07,047 : INFO : EPOCH 32 - PROGRESS: at 59.12% examples, 397341 words/s, in_qsize 13, out_qsize 2\n",
      "2019-02-17 05:00:08,057 : INFO : EPOCH 32 - PROGRESS: at 64.30% examples, 399315 words/s, in_qsize 14, out_qsize 1\n",
      "2019-02-17 05:00:09,080 : INFO : EPOCH 32 - PROGRESS: at 69.29% examples, 399397 words/s, in_qsize 16, out_qsize 1\n",
      "2019-02-17 05:00:10,138 : INFO : EPOCH 32 - PROGRESS: at 74.27% examples, 398543 words/s, in_qsize 14, out_qsize 1\n",
      "2019-02-17 05:00:11,216 : INFO : EPOCH 32 - PROGRESS: at 79.38% examples, 397877 words/s, in_qsize 16, out_qsize 1\n",
      "2019-02-17 05:00:12,218 : INFO : EPOCH 32 - PROGRESS: at 84.69% examples, 400039 words/s, in_qsize 16, out_qsize 0\n",
      "2019-02-17 05:00:13,225 : INFO : EPOCH 32 - PROGRESS: at 89.45% examples, 399434 words/s, in_qsize 15, out_qsize 0\n",
      "2019-02-17 05:00:14,278 : INFO : EPOCH 32 - PROGRESS: at 94.69% examples, 399768 words/s, in_qsize 15, out_qsize 0\n",
      "2019-02-17 05:00:15,172 : INFO : worker thread finished; awaiting finish of 7 more threads\n",
      "2019-02-17 05:00:15,175 : INFO : worker thread finished; awaiting finish of 6 more threads\n",
      "2019-02-17 05:00:15,198 : INFO : worker thread finished; awaiting finish of 5 more threads\n",
      "2019-02-17 05:00:15,202 : INFO : worker thread finished; awaiting finish of 4 more threads\n",
      "2019-02-17 05:00:15,213 : INFO : worker thread finished; awaiting finish of 3 more threads\n",
      "2019-02-17 05:00:15,218 : INFO : worker thread finished; awaiting finish of 2 more threads\n",
      "2019-02-17 05:00:15,223 : INFO : worker thread finished; awaiting finish of 1 more threads\n",
      "2019-02-17 05:00:15,225 : INFO : worker thread finished; awaiting finish of 0 more threads\n",
      "2019-02-17 05:00:15,226 : INFO : EPOCH - 32 : training on 9227204 raw words (8222284 effective words) took 20.4s, 402627 effective words/s\n",
      "2019-02-17 05:00:15,227 : INFO : training on a 295270528 raw words (263123258 effective words) took 643.7s, 408781 effective words/s\n"
     ]
    },
    {
     "name": "stdout",
     "output_type": "stream",
     "text": [
      "CPU times: user 20min 58s, sys: 5.61 s, total: 21min 4s\n",
      "Wall time: 10min 43s\n"
     ]
    },
    {
     "data": {
      "text/plain": [
       "(263123258, 295270528)"
      ]
     },
     "execution_count": 19,
     "metadata": {},
     "output_type": "execute_result"
    }
   ],
   "source": [
    "%%time\n",
    "w2v_model.train(documents, total_examples=len(documents), epochs=W2V_EPOCH)"
   ]
  },
  {
   "cell_type": "code",
   "execution_count": 20,
   "metadata": {
    "_uuid": "27cc2651c74227115d8bfd8c40e5618048e05edd"
   },
   "outputs": [
    {
     "name": "stderr",
     "output_type": "stream",
     "text": [
      "/opt/conda/lib/python3.6/site-packages/ipykernel_launcher.py:1: DeprecationWarning: Call to deprecated `most_similar` (Method will be removed in 4.0.0, use self.wv.most_similar() instead).\n",
      "  \"\"\"Entry point for launching an IPython kernel.\n",
      "2019-02-17 05:00:15,748 : INFO : precomputing L2-norms of word weight vectors\n"
     ]
    },
    {
     "data": {
      "text/plain": [
       "[('luv', 0.5783171653747559),\n",
       " ('loves', 0.5668890476226807),\n",
       " ('loved', 0.5473073124885559),\n",
       " ('adore', 0.5158698558807373),\n",
       " ('amazing', 0.5124187469482422),\n",
       " ('looove', 0.49903732538223267),\n",
       " ('awesome', 0.4689388573169708),\n",
       " ('loveee', 0.4519577920436859),\n",
       " ('lovee', 0.4389325976371765),\n",
       " ('loooove', 0.43229299783706665)]"
      ]
     },
     "execution_count": 20,
     "metadata": {},
     "output_type": "execute_result"
    }
   ],
   "source": [
    "w2v_model.most_similar(\"love\")"
   ]
  },
  {
   "cell_type": "markdown",
   "metadata": {
    "_uuid": "e13563644468037258598637b49373ca96b9b879"
   },
   "source": [
    "### Tokenize Text"
   ]
  },
  {
   "cell_type": "code",
   "execution_count": 21,
   "metadata": {
    "_uuid": "6852bc709a7cd20173cbeeb218505078f8f37c57"
   },
   "outputs": [
    {
     "name": "stdout",
     "output_type": "stream",
     "text": [
      "Total words 290419\n",
      "CPU times: user 22.4 s, sys: 176 ms, total: 22.6 s\n",
      "Wall time: 22.5 s\n"
     ]
    }
   ],
   "source": [
    "%%time\n",
    "tokenizer = Tokenizer()\n",
    "tokenizer.fit_on_texts(df_train.text)\n",
    "\n",
    "vocab_size = len(tokenizer.word_index) + 1\n",
    "print(\"Total words\", vocab_size)"
   ]
  },
  {
   "cell_type": "code",
   "execution_count": 22,
   "metadata": {
    "_uuid": "45de439df3015030c71f84c2d170346936a1d68f"
   },
   "outputs": [
    {
     "name": "stdout",
     "output_type": "stream",
     "text": [
      "CPU times: user 31.7 s, sys: 860 ms, total: 32.6 s\n",
      "Wall time: 32.6 s\n"
     ]
    }
   ],
   "source": [
    "%%time\n",
    "x_train = pad_sequences(tokenizer.texts_to_sequences(df_train.text), maxlen=SEQUENCE_LENGTH)\n",
    "x_test = pad_sequences(tokenizer.texts_to_sequences(df_test.text), maxlen=SEQUENCE_LENGTH)"
   ]
  },
  {
   "cell_type": "markdown",
   "metadata": {
    "_uuid": "03b35903fc6260e190d6928d240ef7432de117fc"
   },
   "source": [
    "### Label Encoder "
   ]
  },
  {
   "cell_type": "code",
   "execution_count": 23,
   "metadata": {
    "_uuid": "33676e0efa39e97d89bd650b8b4eae933a22fbf0"
   },
   "outputs": [
    {
     "data": {
      "text/plain": [
       "['POSITIVE', 'NEGATIVE', 'NEUTRAL']"
      ]
     },
     "execution_count": 23,
     "metadata": {},
     "output_type": "execute_result"
    }
   ],
   "source": [
    "labels = df_train.target.unique().tolist()\n",
    "labels.append(NEUTRAL)\n",
    "labels"
   ]
  },
  {
   "cell_type": "code",
   "execution_count": 24,
   "metadata": {
    "_uuid": "04239a9bef76e7922fd86098a5601dfde8ee4665"
   },
   "outputs": [
    {
     "name": "stdout",
     "output_type": "stream",
     "text": [
      "y_train (1280000, 1)\n",
      "y_test (320000, 1)\n"
     ]
    }
   ],
   "source": [
    "encoder = LabelEncoder()\n",
    "encoder.fit(df_train.target.tolist())\n",
    "\n",
    "y_train = encoder.transform(df_train.target.tolist())\n",
    "y_test = encoder.transform(df_test.target.tolist())\n",
    "\n",
    "y_train = y_train.reshape(-1,1)\n",
    "y_test = y_test.reshape(-1,1)\n",
    "\n",
    "print(\"y_train\",y_train.shape)\n",
    "print(\"y_test\",y_test.shape)"
   ]
  },
  {
   "cell_type": "code",
   "execution_count": 25,
   "metadata": {
    "_uuid": "04299c886911ca135583ab64878f213939a2990c"
   },
   "outputs": [
    {
     "name": "stdout",
     "output_type": "stream",
     "text": [
      "x_train (1280000, 300)\n",
      "y_train (1280000, 1)\n",
      "\n",
      "x_test (320000, 300)\n",
      "y_test (320000, 1)\n"
     ]
    }
   ],
   "source": [
    "print(\"x_train\", x_train.shape)\n",
    "print(\"y_train\", y_train.shape)\n",
    "print()\n",
    "print(\"x_test\", x_test.shape)\n",
    "print(\"y_test\", y_test.shape)"
   ]
  },
  {
   "cell_type": "code",
   "execution_count": 26,
   "metadata": {
    "_uuid": "232533fb27b7be99d9b8c2f8fb22c9c6bf121a6f"
   },
   "outputs": [
    {
     "data": {
      "text/plain": [
       "array([[1],\n",
       "       [1],\n",
       "       [1],\n",
       "       [0],\n",
       "       [1],\n",
       "       [1],\n",
       "       [1],\n",
       "       [1],\n",
       "       [1],\n",
       "       [1]])"
      ]
     },
     "execution_count": 26,
     "metadata": {},
     "output_type": "execute_result"
    }
   ],
   "source": [
    "y_train[:10]"
   ]
  },
  {
   "cell_type": "markdown",
   "metadata": {
    "_uuid": "233c0ea94055a03e2e7df3e2a13d036ec963484f"
   },
   "source": [
    "### Embedding layer"
   ]
  },
  {
   "cell_type": "code",
   "execution_count": 27,
   "metadata": {
    "_uuid": "9ab488374b59e3f30f8b1ea92767d853c4846bac"
   },
   "outputs": [
    {
     "name": "stdout",
     "output_type": "stream",
     "text": [
      "(290419, 300)\n"
     ]
    }
   ],
   "source": [
    "embedding_matrix = np.zeros((vocab_size, W2V_SIZE))\n",
    "for word, i in tokenizer.word_index.items():\n",
    "  if word in w2v_model.wv:\n",
    "    embedding_matrix[i] = w2v_model.wv[word]\n",
    "print(embedding_matrix.shape)"
   ]
  },
  {
   "cell_type": "code",
   "execution_count": 28,
   "metadata": {
    "_uuid": "833279d91e4286065968237fb5f2a0c2dd4d246c"
   },
   "outputs": [],
   "source": [
    "embedding_layer = Embedding(vocab_size, W2V_SIZE, weights=[embedding_matrix], input_length=SEQUENCE_LENGTH, trainable=False)"
   ]
  },
  {
   "cell_type": "markdown",
   "metadata": {
    "_uuid": "b299ef78f94c2085942c993a2d58753a7476305a"
   },
   "source": [
    "### Build Model"
   ]
  },
  {
   "cell_type": "code",
   "execution_count": 29,
   "metadata": {
    "_uuid": "e775ef4f1b74e6412457181383c39f2df554ef3f"
   },
   "outputs": [
    {
     "name": "stdout",
     "output_type": "stream",
     "text": [
      "_________________________________________________________________\n",
      "Layer (type)                 Output Shape              Param #   \n",
      "=================================================================\n",
      "embedding_1 (Embedding)      (None, 300, 300)          87125700  \n",
      "_________________________________________________________________\n",
      "dropout_1 (Dropout)          (None, 300, 300)          0         \n",
      "_________________________________________________________________\n",
      "lstm_1 (LSTM)                (None, 100)               160400    \n",
      "_________________________________________________________________\n",
      "dense_1 (Dense)              (None, 1)                 101       \n",
      "=================================================================\n",
      "Total params: 87,286,201\n",
      "Trainable params: 160,501\n",
      "Non-trainable params: 87,125,700\n",
      "_________________________________________________________________\n"
     ]
    }
   ],
   "source": [
    "model = Sequential()\n",
    "model.add(embedding_layer)\n",
    "model.add(Dropout(0.5))\n",
    "model.add(LSTM(100, dropout=0.2, recurrent_dropout=0.2))\n",
    "model.add(Dense(1, activation='sigmoid'))\n",
    "\n",
    "model.summary()"
   ]
  },
  {
   "cell_type": "markdown",
   "metadata": {
    "_uuid": "28d22eafd0c7d798dcf3d742bc92fb8577939e6c"
   },
   "source": [
    "### Compile model"
   ]
  },
  {
   "cell_type": "code",
   "execution_count": 30,
   "metadata": {
    "_uuid": "1331e08d590bb2aa2033706c8faca217afc0f1c3"
   },
   "outputs": [],
   "source": [
    "model.compile(loss='binary_crossentropy',\n",
    "              optimizer=\"adam\",\n",
    "              metrics=['accuracy'])"
   ]
  },
  {
   "cell_type": "markdown",
   "metadata": {
    "_uuid": "c7733127cb8b380e0c807268903bf4d03ef92542"
   },
   "source": [
    "### Callbacks"
   ]
  },
  {
   "cell_type": "code",
   "execution_count": 31,
   "metadata": {
    "_uuid": "a688df590386f5748da6fe00b01904fe6c71619e"
   },
   "outputs": [],
   "source": [
    "callbacks = [ ReduceLROnPlateau(monitor='val_loss', patience=5, cooldown=0),\n",
    "              EarlyStopping(monitor='val_acc', min_delta=1e-4, patience=5)]"
   ]
  },
  {
   "cell_type": "markdown",
   "metadata": {
    "_uuid": "8d0873633dd49179c8cae17377641b97d323ef3b"
   },
   "source": [
    "### Train"
   ]
  },
  {
   "cell_type": "code",
   "execution_count": 32,
   "metadata": {
    "_uuid": "2b659d390c6577dc5cdb6b6297934279b4e801d5"
   },
   "outputs": [
    {
     "name": "stdout",
     "output_type": "stream",
     "text": [
      "Train on 1152000 samples, validate on 128000 samples\n",
      "Epoch 1/8\n",
      "1152000/1152000 [==============================] - 1037s 900us/step - loss: 0.5057 - acc: 0.7494 - val_loss: 0.4690 - val_acc: 0.7790\n",
      "Epoch 2/8\n",
      "1152000/1152000 [==============================] - 1035s 898us/step - loss: 0.4801 - acc: 0.7666 - val_loss: 0.4600 - val_acc: 0.7835\n",
      "Epoch 3/8\n",
      "1152000/1152000 [==============================] - 1036s 899us/step - loss: 0.4734 - acc: 0.7714 - val_loss: 0.4562 - val_acc: 0.7867\n",
      "Epoch 4/8\n",
      "1152000/1152000 [==============================] - 1041s 903us/step - loss: 0.4702 - acc: 0.7733 - val_loss: 0.4537 - val_acc: 0.7874\n",
      "Epoch 5/8\n",
      "1152000/1152000 [==============================] - 1034s 898us/step - loss: 0.4677 - acc: 0.7740 - val_loss: 0.4522 - val_acc: 0.7889\n",
      "Epoch 6/8\n",
      "1152000/1152000 [==============================] - 1032s 896us/step - loss: 0.4658 - acc: 0.7758 - val_loss: 0.4496 - val_acc: 0.7897\n",
      "Epoch 7/8\n",
      "1152000/1152000 [==============================] - 1035s 898us/step - loss: 0.4644 - acc: 0.7768 - val_loss: 0.4481 - val_acc: 0.7899\n",
      "Epoch 8/8\n",
      "1152000/1152000 [==============================] - 1036s 899us/step - loss: 0.4629 - acc: 0.7777 - val_loss: 0.4477 - val_acc: 0.7895\n",
      "CPU times: user 2h 32min 56s, sys: 19min 57s, total: 2h 52min 54s\n",
      "Wall time: 2h 18min 6s\n"
     ]
    }
   ],
   "source": [
    "%%time\n",
    "history = model.fit(x_train, y_train,\n",
    "                    batch_size=BATCH_SIZE,\n",
    "                    epochs=EPOCHS,\n",
    "                    validation_split=0.1,\n",
    "                    verbose=1,\n",
    "                    callbacks=callbacks)"
   ]
  },
  {
   "cell_type": "markdown",
   "metadata": {
    "_uuid": "267258196d96796ac69a7b8c466314bcf5d6ee42"
   },
   "source": [
    "### Evaluate"
   ]
  },
  {
   "cell_type": "code",
   "execution_count": 33,
   "metadata": {
    "_uuid": "98ecd8f1b8b74594c3ea775dd68a094e92458022"
   },
   "outputs": [
    {
     "name": "stdout",
     "output_type": "stream",
     "text": [
      "320000/320000 [==============================] - 112s 350us/step\n",
      "\n",
      "ACCURACY: 0.79043125\n",
      "LOSS: 0.446621747303009\n",
      "CPU times: user 2min 14s, sys: 16.2 s, total: 2min 30s\n",
      "Wall time: 1min 52s\n"
     ]
    }
   ],
   "source": [
    "%%time\n",
    "score = model.evaluate(x_test, y_test, batch_size=BATCH_SIZE)\n",
    "print()\n",
    "print(\"ACCURACY:\",score[1])\n",
    "print(\"LOSS:\",score[0])"
   ]
  },
  {
   "cell_type": "code",
   "execution_count": 34,
   "metadata": {
    "_uuid": "40c72cd1e9d6c4fd799cbba7c813765ac4039dfc"
   },
   "outputs": [
    {
     "data": {
      "image/png": "[encoded data removed]",
      "text/plain": [
       "<Figure size 432x288 with 1 Axes>"
      ]
     },
     "metadata": {},
     "output_type": "display_data"
    },
    {
     "data": {
      "image/png": "[encoded data removed]",
      "text/plain": [
       "<Figure size 432x288 with 1 Axes>"
      ]
     },
     "metadata": {},
     "output_type": "display_data"
    }
   ],
   "source": [
    "acc = history.history['acc']\n",
    "val_acc = history.history['val_acc']\n",
    "loss = history.history['loss']\n",
    "val_loss = history.history['val_loss']\n",
    " \n",
    "epochs = range(len(acc))\n",
    " \n",
    "plt.plot(epochs, acc, 'b', label='Training acc')\n",
    "plt.plot(epochs, val_acc, 'r', label='Validation acc')\n",
    "plt.title('Training and validation accuracy')\n",
    "plt.legend()\n",
    " \n",
    "plt.figure()\n",
    " \n",
    "plt.plot(epochs, loss, 'b', label='Training loss')\n",
    "plt.plot(epochs, val_loss, 'r', label='Validation loss')\n",
    "plt.title('Training and validation loss')\n",
    "plt.legend()\n",
    " \n",
    "plt.show()"
   ]
  },
  {
   "cell_type": "markdown",
   "metadata": {
    "_uuid": "6bdfc0f6a6af5bebc0271d83dd7432c91001409b"
   },
   "source": [
    "### Predict"
   ]
  },
  {
   "cell_type": "code",
   "execution_count": 35,
   "metadata": {
    "_uuid": "f0b0fa3d4b1bb14b3f5e3d169a369f3ebef29ae1"
   },
   "outputs": [],
   "source": [
    "def decode_sentiment(score, include_neutral=True):\n",
    "    if include_neutral:        \n",
    "        label = NEUTRAL\n",
    "        if score <= SENTIMENT_THRESHOLDS[0]:\n",
    "            label = NEGATIVE\n",
    "        elif score >= SENTIMENT_THRESHOLDS[1]:\n",
    "            label = POSITIVE\n",
    "\n",
    "        return label\n",
    "    else:\n",
    "        return NEGATIVE if score < 0.5 else POSITIVE"
   ]
  },
  {
   "cell_type": "code",
   "execution_count": 36,
   "metadata": {
    "_uuid": "ed4086d651f2f8cbed11d3c909a8873607d29a06"
   },
   "outputs": [],
   "source": [
    "def predict(text, include_neutral=True):\n",
    "    start_at = time.time()\n",
    "    # Tokenize text\n",
    "    x_test = pad_sequences(tokenizer.texts_to_sequences([text]), maxlen=SEQUENCE_LENGTH)\n",
    "    # Predict\n",
    "    score = model.predict([x_test])[0]\n",
    "    # Decode sentiment\n",
    "    label = decode_sentiment(score, include_neutral=include_neutral)\n",
    "\n",
    "    return {\"label\": label, \"score\": float(score),\n",
    "       \"elapsed_time\": time.time()-start_at}  "
   ]
  },
  {
   "cell_type": "code",
   "execution_count": 37,
   "metadata": {
    "_uuid": "ca38b1e6c9b5acfed7467de2cf02a78333108872"
   },
   "outputs": [
    {
     "data": {
      "text/plain": [
       "{'label': 'POSITIVE',\n",
       " 'score': 0.971221387386322,\n",
       " 'elapsed_time': 0.40209317207336426}"
      ]
     },
     "execution_count": 37,
     "metadata": {},
     "output_type": "execute_result"
    }
   ],
   "source": [
    "predict(\"I love the music\")"
   ]
  },
  {
   "cell_type": "code",
   "execution_count": 38,
   "metadata": {
    "_uuid": "0e5fe647533be0148850de349fea6ef6f71303d1"
   },
   "outputs": [
    {
     "data": {
      "text/plain": [
       "{'label': 'NEGATIVE',\n",
       " 'score': 0.009068075567483902,\n",
       " 'elapsed_time': 0.23772883415222168}"
      ]
     },
     "execution_count": 38,
     "metadata": {},
     "output_type": "execute_result"
    }
   ],
   "source": [
    "predict(\"I hate the rain\")"
   ]
  },
  {
   "cell_type": "code",
   "execution_count": 39,
   "metadata": {
    "_uuid": "37064dffcc8920d34ccd54fac7c8b50e583a8269"
   },
   "outputs": [
    {
     "data": {
      "text/plain": [
       "{'label': 'NEGATIVE',\n",
       " 'score': 0.003486005589365959,\n",
       " 'elapsed_time': 0.23566746711730957}"
      ]
     },
     "execution_count": 39,
     "metadata": {},
     "output_type": "execute_result"
    }
   ],
   "source": [
    "predict(\"He is sad\")"
   ]
  },
  {
   "cell_type": "code",
   "execution_count": 40,
   "metadata": {
    "_uuid": "afdb0ae8b0cfb17d62ff3cc8fd6699aa4d5a6e86"
   },
   "outputs": [
    {
     "data": {
      "text/plain": [
       "{'label': 'NEGATIVE',\n",
       " 'score': 0.03035273402929306,\n",
       " 'elapsed_time': 0.237990140914917}"
      ]
     },
     "execution_count": 40,
     "metadata": {},
     "output_type": "execute_result"
    }
   ],
   "source": [
    "predict(\"is upset that he can't update his Facebook by texting it... and might cry as a result School today also. Blah!\")"
   ]
  },
  {
   "cell_type": "markdown",
   "metadata": {
    "_uuid": "3ee72e47f84b6dbc32e02a783de5ec1661f157e1"
   },
   "source": [
    "### Confusion Matrix"
   ]
  },
  {
   "cell_type": "code",
   "execution_count": 41,
   "metadata": {
    "_uuid": "0e920173eb05f04aecdd735bc5dff0f5be5f8d15"
   },
   "outputs": [
    {
     "name": "stdout",
     "output_type": "stream",
     "text": [
      "320000/320000 [==============================] - 66s 206us/step\n",
      "CPU times: user 23.7 s, sys: 3.78 s, total: 27.5 s\n",
      "Wall time: 1min 6s\n"
     ]
    }
   ],
   "source": [
    "%%time\n",
    "y_pred_1d = []\n",
    "y_test_1d = list(df_test.target)\n",
    "scores = model.predict(x_test, verbose=1, batch_size=8000)\n",
    "y_pred_1d = [decode_sentiment(score, include_neutral=False) for score in scores]"
   ]
  },
  {
   "cell_type": "code",
   "execution_count": 42,
   "metadata": {
    "_uuid": "b3575191bb425ab871f3f41e83812ee84bb7e595"
   },
   "outputs": [],
   "source": [
    "def plot_confusion_matrix(cm, classes,\n",
    "                          title='Confusion matrix',\n",
    "                          cmap=plt.cm.Blues):\n",
    "    \"\"\"\n",
    "    This function prints and plots the confusion matrix.\n",
    "    Normalization can be applied by setting `normalize=True`.\n",
    "    \"\"\"\n",
    "\n",
    "    cm = cm.astype('float') / cm.sum(axis=1)[:, np.newaxis]\n",
    "\n",
    "    plt.imshow(cm, interpolation='nearest', cmap=cmap)\n",
    "    plt.title(title, fontsize=30)\n",
    "    plt.colorbar()\n",
    "    tick_marks = np.arange(len(classes))\n",
    "    plt.xticks(tick_marks, classes, rotation=90, fontsize=22)\n",
    "    plt.yticks(tick_marks, classes, fontsize=22)\n",
    "\n",
    "    fmt = '.2f'\n",
    "    thresh = cm.max() / 2.\n",
    "    for i, j in itertools.product(range(cm.shape[0]), range(cm.shape[1])):\n",
    "        plt.text(j, i, format(cm[i, j], fmt),\n",
    "                 horizontalalignment=\"center\",\n",
    "                 color=\"white\" if cm[i, j] > thresh else \"black\")\n",
    "\n",
    "    plt.ylabel('True label', fontsize=25)\n",
    "    plt.xlabel('Predicted label', fontsize=25)"
   ]
  },
  {
   "cell_type": "code",
   "execution_count": 43,
   "metadata": {
    "_uuid": "a57dc6f6211c144491a70f533225edfa95a2dc66"
   },
   "outputs": [
    {
     "data": {
      "image/png": "[encoded data removed]",
      "text/plain": [
       "<Figure size 864x864 with 2 Axes>"
      ]
     },
     "metadata": {},
     "output_type": "display_data"
    },
    {
     "name": "stdout",
     "output_type": "stream",
     "text": [
      "CPU times: user 1.38 s, sys: 244 ms, total: 1.62 s\n",
      "Wall time: 1.35 s\n"
     ]
    }
   ],
   "source": [
    "%%time\n",
    "\n",
    "cnf_matrix = confusion_matrix(y_test_1d, y_pred_1d)\n",
    "plt.figure(figsize=(12,12))\n",
    "plot_confusion_matrix(cnf_matrix, classes=df_train.target.unique(), title=\"Confusion matrix\")\n",
    "plt.show()"
   ]
  },
  {
   "cell_type": "markdown",
   "metadata": {
    "_uuid": "e23b957348dcc084249d3cc7538b972da471c2cd"
   },
   "source": [
    "### Classification Report"
   ]
  },
  {
   "cell_type": "code",
   "execution_count": 44,
   "metadata": {
    "_uuid": "a7fe05b7caa1c984ff1deb0be2f7c6bc043df9f5"
   },
   "outputs": [
    {
     "name": "stdout",
     "output_type": "stream",
     "text": [
      "              precision    recall  f1-score   support\n",
      "\n",
      "    NEGATIVE       0.80      0.77      0.78    159494\n",
      "    POSITIVE       0.78      0.81      0.80    160506\n",
      "\n",
      "   micro avg       0.79      0.79      0.79    320000\n",
      "   macro avg       0.79      0.79      0.79    320000\n",
      "weighted avg       0.79      0.79      0.79    320000\n",
      "\n"
     ]
    }
   ],
   "source": [
    "print(classification_report(y_test_1d, y_pred_1d))"
   ]
  },
  {
   "cell_type": "markdown",
   "metadata": {
    "_uuid": "4eb300f0c6693a618587c7dcf32f77f5416cbfb9"
   },
   "source": [
    "### Accuracy Score"
   ]
  },
  {
   "cell_type": "code",
   "execution_count": 45,
   "metadata": {
    "_uuid": "5cf76e6e09f8a60ed25947932b94c772eda44d23"
   },
   "outputs": [
    {
     "data": {
      "text/plain": [
       "0.79043125"
      ]
     },
     "execution_count": 45,
     "metadata": {},
     "output_type": "execute_result"
    }
   ],
   "source": [
    "accuracy_score(y_test_1d, y_pred_1d)"
   ]
  },
  {
   "cell_type": "markdown",
   "metadata": {
    "_uuid": "4f014c32f3833db282e1a075c526604f34e3158c"
   },
   "source": [
    "### Save model"
   ]
  },
  {
   "cell_type": "code",
   "execution_count": 46,
   "metadata": {
    "_uuid": "3b2b3ad5b592977b404acfa1c9ad303a62837255"
   },
   "outputs": [
    {
     "name": "stderr",
     "output_type": "stream",
     "text": [
      "2019-02-17 07:22:32,864 : INFO : saving Word2Vec object under model.w2v, separately None\n",
      "2019-02-17 07:22:32,866 : INFO : not storing attribute vectors_norm\n",
      "2019-02-17 07:22:32,867 : INFO : not storing attribute cum_table\n",
      "2019-02-17 07:22:33,738 : INFO : saved model.w2v\n"
     ]
    }
   ],
   "source": [
    "model.save(KERAS_MODEL)\n",
    "w2v_model.save(WORD2VEC_MODEL)\n",
    "pickle.dump(tokenizer, open(TOKENIZER_MODEL, \"wb\"), protocol=0)\n",
    "pickle.dump(encoder, open(ENCODER_MODEL, \"wb\"), protocol=0)"
   ]
  },
  {
   "cell_type": "code",
   "execution_count": 47,
   "metadata": {
    "_uuid": "cc363c54782894757f5ea8820c6a170f2e16ef93"
   },
   "outputs": [],
   "source": []
  }
 ],
 "metadata": {
  "kernelspec": {
   "display_name": "Python 3",
   "language": "python",
   "name": "python3"
  },
  "language_info": {
   "codemirror_mode": {
    "name": "ipython",
    "version": 3
   },
   "file_extension": ".py",
   "mimetype": "text/x-python",
   "name": "python",
   "nbconvert_exporter": "python",
   "pygments_lexer": "ipython3",
   "version": "3.6.6"
  }
 },
 "nbformat": 4,
 "nbformat_minor": 1
}
