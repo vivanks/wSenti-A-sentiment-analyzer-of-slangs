{
 "cells": [
  {
   "cell_type": "markdown",
   "metadata": {
    "_uuid": "92b885dd147dac19bd0a33db3cd0da100bd5bc23"
   },
   "source": [
    "# Twitter Sentiment Analysis"
   ]
  },
  {
   "cell_type": "code",
   "execution_count": 1,
   "metadata": {
    "_uuid": "70282bce8b42a51e4d44f2c7d85c4ca9567b0fd4"
   },
   "outputs": [
    {
     "name": "stdout",
     "output_type": "stream",
     "text": [
      "Collecting gensim\r\n",
      "\u001b[?25l  Downloading https://files.pythonhosted.org/packages/d7/b9/6c93685bed0026b6a1cce55ab173f6b617f6db0d1325d25489c2fd43e711/gensim-3.7.1-cp36-cp36m-manylinux1_x86_64.whl (24.2MB)\r\n",
      "\u001b[K    100% |████████████████████████████████| 24.2MB 1.8MB/s \r\n",
      "\u001b[?25hRequirement already satisfied, skipping upgrade: numpy>=1.11.3 in /opt/conda/lib/python3.6/site-packages (from gensim) (1.16.0)\r\n",
      "Requirement already satisfied, skipping upgrade: smart-open>=1.7.0 in /opt/conda/lib/python3.6/site-packages (from gensim) (1.7.1)\r\n",
      "Requirement already satisfied, skipping upgrade: scipy>=0.18.1 in /opt/conda/lib/python3.6/site-packages (from gensim) (1.1.0)\r\n",
      "Requirement already satisfied, skipping upgrade: six>=1.5.0 in /opt/conda/lib/python3.6/site-packages (from gensim) (1.12.0)\r\n",
      "Requirement already satisfied, skipping upgrade: bz2file in /opt/conda/lib/python3.6/site-packages (from smart-open>=1.7.0->gensim) (0.98)\r\n",
      "Requirement already satisfied, skipping upgrade: boto3 in /opt/conda/lib/python3.6/site-packages (from smart-open>=1.7.0->gensim) (1.9.80)\r\n",
      "Requirement already satisfied, skipping upgrade: requests in /opt/conda/lib/python3.6/site-packages (from smart-open>=1.7.0->gensim) (2.21.0)\r\n",
      "Requirement already satisfied, skipping upgrade: boto>=2.32 in /opt/conda/lib/python3.6/site-packages (from smart-open>=1.7.0->gensim) (2.48.0)\r\n",
      "Requirement already satisfied, skipping upgrade: botocore<1.13.0,>=1.12.80 in /opt/conda/lib/python3.6/site-packages (from boto3->smart-open>=1.7.0->gensim) (1.12.80)\r\n",
      "Requirement already satisfied, skipping upgrade: jmespath<1.0.0,>=0.7.1 in /opt/conda/lib/python3.6/site-packages (from boto3->smart-open>=1.7.0->gensim) (0.9.3)\r\n",
      "Requirement already satisfied, skipping upgrade: s3transfer<0.2.0,>=0.1.10 in /opt/conda/lib/python3.6/site-packages (from boto3->smart-open>=1.7.0->gensim) (0.1.13)\r\n",
      "Requirement already satisfied, skipping upgrade: urllib3<1.25,>=1.21.1 in /opt/conda/lib/python3.6/site-packages (from requests->smart-open>=1.7.0->gensim) (1.22)\r\n",
      "Requirement already satisfied, skipping upgrade: chardet<3.1.0,>=3.0.2 in /opt/conda/lib/python3.6/site-packages (from requests->smart-open>=1.7.0->gensim) (3.0.4)\r\n",
      "Requirement already satisfied, skipping upgrade: certifi>=2017.4.17 in /opt/conda/lib/python3.6/site-packages (from requests->smart-open>=1.7.0->gensim) (2018.11.29)\r\n",
      "Requirement already satisfied, skipping upgrade: idna<2.9,>=2.5 in /opt/conda/lib/python3.6/site-packages (from requests->smart-open>=1.7.0->gensim) (2.6)\r\n",
      "Requirement already satisfied, skipping upgrade: docutils>=0.10 in /opt/conda/lib/python3.6/site-packages (from botocore<1.13.0,>=1.12.80->boto3->smart-open>=1.7.0->gensim) (0.14)\r\n",
      "Requirement already satisfied, skipping upgrade: python-dateutil<3.0.0,>=2.1; python_version >= \"2.7\" in /opt/conda/lib/python3.6/site-packages (from botocore<1.13.0,>=1.12.80->boto3->smart-open>=1.7.0->gensim) (2.6.0)\r\n",
      "Installing collected packages: gensim\r\n",
      "  Found existing installation: gensim 3.6.0\r\n",
      "    Uninstalling gensim-3.6.0:\r\n",
      "      Successfully uninstalled gensim-3.6.0\r\n",
      "Successfully installed gensim-3.7.1\r\n",
      "\u001b[33mYou are using pip version 18.1, however version 19.0.2 is available.\r\n",
      "You should consider upgrading via the 'pip install --upgrade pip' command.\u001b[0m\r\n",
      "Requirement already up-to-date: keras in /opt/conda/lib/python3.6/site-packages/Keras-2.2.4-py3.6.egg (2.2.4)\r\n",
      "Requirement already satisfied, skipping upgrade: numpy>=1.9.1 in /opt/conda/lib/python3.6/site-packages (from keras) (1.16.0)\r\n",
      "Requirement already satisfied, skipping upgrade: scipy>=0.14 in /opt/conda/lib/python3.6/site-packages (from keras) (1.1.0)\r\n",
      "Requirement already satisfied, skipping upgrade: six>=1.9.0 in /opt/conda/lib/python3.6/site-packages (from keras) (1.12.0)\r\n",
      "Requirement already satisfied, skipping upgrade: pyyaml in /opt/conda/lib/python3.6/site-packages (from keras) (3.12)\r\n",
      "Requirement already satisfied, skipping upgrade: h5py in /opt/conda/lib/python3.6/site-packages (from keras) (2.9.0)\r\n",
      "Requirement already satisfied, skipping upgrade: keras_applications>=1.0.6 in /opt/conda/lib/python3.6/site-packages (from keras) (1.0.6)\r\n",
      "Requirement already satisfied, skipping upgrade: keras_preprocessing>=1.0.5 in /opt/conda/lib/python3.6/site-packages (from keras) (1.0.5)\r\n",
      "\u001b[33mYou are using pip version 18.1, however version 19.0.2 is available.\r\n",
      "You should consider upgrading via the 'pip install --upgrade pip' command.\u001b[0m\r\n",
      "Collecting pandas\r\n",
      "\u001b[?25l  Downloading https://files.pythonhosted.org/packages/e6/de/a0d3defd8f338eaf53ef716e40ef6d6c277c35d50e09b586e170169cdf0d/pandas-0.24.1-cp36-cp36m-manylinux1_x86_64.whl (10.1MB)\r\n",
      "\u001b[K    100% |████████████████████████████████| 10.1MB 4.6MB/s \r\n",
      "\u001b[?25hRequirement already satisfied, skipping upgrade: python-dateutil>=2.5.0 in /opt/conda/lib/python3.6/site-packages (from pandas) (2.6.0)\r\n",
      "Requirement already satisfied, skipping upgrade: numpy>=1.12.0 in /opt/conda/lib/python3.6/site-packages (from pandas) (1.16.0)\r\n",
      "Requirement already satisfied, skipping upgrade: pytz>=2011k in /opt/conda/lib/python3.6/site-packages (from pandas) (2018.4)\r\n",
      "Requirement already satisfied, skipping upgrade: six>=1.5 in /opt/conda/lib/python3.6/site-packages (from python-dateutil>=2.5.0->pandas) (1.12.0)\r\n",
      "Installing collected packages: pandas\r\n",
      "  Found existing installation: pandas 0.23.4\r\n",
      "    Uninstalling pandas-0.23.4:\r\n",
      "      Successfully uninstalled pandas-0.23.4\r\n",
      "Successfully installed pandas-0.24.1\r\n",
      "\u001b[33mYou are using pip version 18.1, however version 19.0.2 is available.\r\n",
      "You should consider upgrading via the 'pip install --upgrade pip' command.\u001b[0m\r\n"
     ]
    }
   ],
   "source": [
    "!pip install gensim --upgrade\n",
    "!pip install keras --upgrade\n",
    "!pip install pandas --upgrade"
   ]
  },
  {
   "cell_type": "code",
   "execution_count": 2,
   "metadata": {
    "_uuid": "303e72966af732ddef0bd8108a321095314e44af"
   },
   "outputs": [
    {
     "name": "stderr",
     "output_type": "stream",
     "text": [
      "Using TensorFlow backend.\n"
     ]
    }
   ],
   "source": [
    "# DataFrame\n",
    "import pandas as pd\n",
    "\n",
    "# Matplot\n",
    "import matplotlib.pyplot as plt\n",
    "%matplotlib inline\n",
    "\n",
    "# Scikit-learn\n",
    "from sklearn.model_selection import train_test_split\n",
    "from sklearn.preprocessing import LabelEncoder\n",
    "from sklearn.metrics import confusion_matrix, classification_report, accuracy_score\n",
    "from sklearn.manifold import TSNE\n",
    "from sklearn.feature_extraction.text import TfidfVectorizer\n",
    "\n",
    "# Keras\n",
    "from keras.preprocessing.text import Tokenizer\n",
    "from keras.preprocessing.sequence import pad_sequences\n",
    "from keras.models import Sequential\n",
    "from keras.layers import Activation, Dense, Dropout, Embedding, Flatten, Conv1D, MaxPooling1D, LSTM\n",
    "from keras import utils\n",
    "from keras.callbacks import ReduceLROnPlateau, EarlyStopping\n",
    "\n",
    "# nltk\n",
    "import nltk\n",
    "from nltk.corpus import stopwords\n",
    "from  nltk.stem import SnowballStemmer\n",
    "\n",
    "# Word2vec\n",
    "import gensim\n",
    "\n",
    "# Utility\n",
    "import re\n",
    "import numpy as np\n",
    "import os\n",
    "from collections import Counter\n",
    "import logging\n",
    "import time\n",
    "import pickle\n",
    "import itertools\n",
    "\n",
    "# Set log\n",
    "logging.basicConfig(format='%(asctime)s : %(levelname)s : %(message)s', level=logging.INFO)"
   ]
  },
  {
   "cell_type": "code",
   "execution_count": 3,
   "metadata": {
    "_uuid": "35e1a89dead5fd160e4c9a024a21d2e569fc89ff"
   },
   "outputs": [
    {
     "name": "stdout",
     "output_type": "stream",
     "text": [
      "[nltk_data] Downloading package stopwords to /usr/share/nltk_data...\n",
      "[nltk_data]   Package stopwords is already up-to-date!\n"
     ]
    },
    {
     "data": {
      "text/plain": [
       "True"
      ]
     },
     "execution_count": 3,
     "metadata": {},
     "output_type": "execute_result"
    }
   ],
   "source": [
    "nltk.download('stopwords')"
   ]
  },
  {
   "cell_type": "markdown",
   "metadata": {
    "_uuid": "e8b01a07df001e4abcc745900336c4db06e455f3"
   },
   "source": [
    "### Settings"
   ]
  },
  {
   "cell_type": "code",
   "execution_count": 4,
   "metadata": {
    "_uuid": "180f0dd2a95419e4602b5c0229822b0111c826f6"
   },
   "outputs": [],
   "source": [
    "# DATASET\n",
    "DATASET_COLUMNS = [\"target\", \"ids\", \"date\", \"flag\", \"user\", \"text\"]\n",
    "DATASET_ENCODING = \"ISO-8859-1\"\n",
    "TRAIN_SIZE = 0.8\n",
    "\n",
    "# TEXT CLENAING\n",
    "TEXT_CLEANING_RE = \"@\\S+|https?:\\S+|http?:\\S|[^A-Za-z0-9]+\"\n",
    "\n",
    "# WORD2VEC \n",
    "W2V_SIZE = 300\n",
    "W2V_WINDOW = 7\n",
    "W2V_EPOCH = 32\n",
    "W2V_MIN_COUNT = 10\n",
    "\n",
    "# KERAS\n",
    "SEQUENCE_LENGTH = 300\n",
    "EPOCHS = 8\n",
    "BATCH_SIZE = 1024\n",
    "\n",
    "# SENTIMENT\n",
    "POSITIVE = \"POSITIVE\"\n",
    "NEGATIVE = \"NEGATIVE\"\n",
    "NEUTRAL = \"NEUTRAL\"\n",
    "SENTIMENT_THRESHOLDS = (0.4, 0.7)\n",
    "\n",
    "# EXPORT\n",
    "KERAS_MODEL = \"model.h5\"\n",
    "WORD2VEC_MODEL = \"model.w2v\"\n",
    "TOKENIZER_MODEL = \"tokenizer.pkl\"\n",
    "ENCODER_MODEL = \"encoder.pkl\""
   ]
  },
  {
   "cell_type": "markdown",
   "metadata": {
    "_uuid": "1c3beecc618be68480b3d4f0de08d9d863da1dc1"
   },
   "source": [
    "### Read Dataset"
   ]
  },
  {
   "cell_type": "markdown",
   "metadata": {
    "_uuid": "563b3c44f1092dba0b853747b098e00509098cca"
   },
   "source": [
    "### Dataset details\n",
    "* **target**: the polarity of the tweet (0 = negative, 2 = neutral, 4 = positive)\n",
    "* **ids**: The id of the tweet ( 2087)\n",
    "* **date**: the date of the tweet (Sat May 16 23:58:44 UTC 2009)\n",
    "* **flag**: The query (lyx). If there is no query, then this value is NO_QUERY.\n",
    "* **user**: the user that tweeted (robotickilldozr)\n",
    "* **text**: the text of the tweet (Lyx is cool)"
   ]
  },
  {
   "cell_type": "code",
   "execution_count": 5,
   "metadata": {
    "_uuid": "bba8f91cd70de4f5ea0fb0870ae2029b6e3dcc24"
   },
   "outputs": [
    {
     "name": "stdout",
     "output_type": "stream",
     "text": [
      "Open file: ../input/training.1600000.processed.noemoticon.csv\n"
     ]
    }
   ],
   "source": [
    "dataset_filename = os.listdir(\"../input\")[0]\n",
    "dataset_path = os.path.join(\"..\",\"input\",dataset_filename)\n",
    "print(\"Open file:\", dataset_path)\n",
    "df = pd.read_csv(dataset_path, encoding =DATASET_ENCODING , names=DATASET_COLUMNS)"
   ]
  },
  {
   "cell_type": "code",
   "execution_count": 6,
   "metadata": {
    "_uuid": "936d499c00c4f1648bc16ca9d283c3b39be7fb10"
   },
   "outputs": [
    {
     "name": "stdout",
     "output_type": "stream",
     "text": [
      "Dataset size: 1600000\n"
     ]
    }
   ],
   "source": [
    "print(\"Dataset size:\", len(df))"
   ]
  },
  {
   "cell_type": "code",
   "execution_count": 7,
   "metadata": {
    "_uuid": "7486ed895b813c5246f97b31b6162b0f65ff763b"
   },
   "outputs": [],
   "source": []
  },
  {
   "cell_type": "markdown",
   "metadata": {
    "_uuid": "3f9a7bb129e184967b13261fb5d253af451c75c5"
   },
   "source": [
    "### Map target label to String\n",
    "* **0** -> **NEGATIVE**\n",
    "* **2** -> **NEUTRAL**\n",
    "* **4** -> **POSITIVE**"
   ]
  },
  {
   "cell_type": "code",
   "execution_count": 7,
   "metadata": {
    "_uuid": "14074b59106cb9550440839e48b832223fc9502f"
   },
   "outputs": [],
   "source": [
    "decode_map = {0: \"NEGATIVE\", 2: \"NEUTRAL\", 4: \"POSITIVE\"}\n",
    "def decode_sentiment(label):\n",
    "    return decode_map[int(label)]"
   ]
  },
  {
   "cell_type": "code",
   "execution_count": 8,
   "metadata": {
    "_uuid": "4449d473187f647a195a6ac6986b009da32a7f4b"
   },
   "outputs": [
    {
     "name": "stdout",
     "output_type": "stream",
     "text": [
      "CPU times: user 656 ms, sys: 44 ms, total: 700 ms\n",
      "Wall time: 702 ms\n"
     ]
    }
   ],
   "source": [
    "%%time\n",
    "df.target = df.target.apply(lambda x: decode_sentiment(x))"
   ]
  },
  {
   "cell_type": "code",
   "execution_count": 9,
   "metadata": {
    "_uuid": "19eb327803192f31cce3512aacb232f4d6b38715"
   },
   "outputs": [
    {
     "data": {
      "text/plain": [
       "Text(0.5,1,'Dataset labels distribuition')"
      ]
     },
     "execution_count": 9,
     "metadata": {},
     "output_type": "execute_result"
    },
    {
     "data": {
      "image/png": "[encoded data removed]",
      "text/plain": [
       "<Figure size 1152x576 with 1 Axes>"
      ]
     },
     "metadata": {},
     "output_type": "display_data"
    }
   ],
   "source": [
    "target_cnt = Counter(df.target)\n",
    "\n",
    "plt.figure(figsize=(16,8))\n",
    "plt.bar(list(target_cnt.keys()), list(target_cnt.values()))\n",
    "plt.title(\"Dataset labels distribuition\")"
   ]
  },
  {
   "cell_type": "markdown",
   "metadata": {
    "_uuid": "4329b1573518b03e497213efa7676220734ebb4b"
   },
   "source": [
    "### Pre-Process dataset"
   ]
  },
  {
   "cell_type": "code",
   "execution_count": 10,
   "metadata": {
    "_uuid": "8aeee8b7b9ea11b749c7f91cd4787a7b50ed1a91"
   },
   "outputs": [],
   "source": [
    "stop_words = stopwords.words(\"english\")\n",
    "stemmer = SnowballStemmer(\"english\")"
   ]
  },
  {
   "cell_type": "code",
   "execution_count": 11,
   "metadata": {
    "_uuid": "649ebcb97969b9ac4301138783704bb3d7846a49"
   },
   "outputs": [],
   "source": [
    "def preprocess(text, stem=False):\n",
    "    # Remove link,user and special characters\n",
    "    text = re.sub(TEXT_CLEANING_RE, ' ', str(text).lower()).strip()\n",
    "    tokens = []\n",
    "    for token in text.split():\n",
    "        if token not in stop_words:\n",
    "            if stem:\n",
    "                tokens.append(stemmer.stem(token))\n",
    "            else:\n",
    "                tokens.append(token)\n",
    "    return \" \".join(tokens)"
   ]
  },
  {
   "cell_type": "code",
   "execution_count": 12,
   "metadata": {
    "_uuid": "f7f3e77ab9291d14687c49e71ba9b2b1e3323432"
   },
   "outputs": [
    {
     "name": "stdout",
     "output_type": "stream",
     "text": [
      "CPU times: user 58.7 s, sys: 264 ms, total: 59 s\n",
      "Wall time: 59.1 s\n"
     ]
    }
   ],
   "source": [
    "%%time\n",
    "df.text = df.text.apply(lambda x: preprocess(x))"
   ]
  },
  {
   "cell_type": "markdown",
   "metadata": {
    "_uuid": "f5f9714a8507409bbe780eebf2855a33e8e6ba37"
   },
   "source": [
    "### Split train and test"
   ]
  },
  {
   "cell_type": "code",
   "execution_count": 13,
   "metadata": {
    "_uuid": "d2b1179c968e3f3910c790ecf0c5b2cbb34b0e68"
   },
   "outputs": [
    {
     "name": "stdout",
     "output_type": "stream",
     "text": [
      "TRAIN size: 1280000\n",
      "TEST size: 320000\n"
     ]
    }
   ],
   "source": [
    "df_train, df_test = train_test_split(df, test_size=1-TRAIN_SIZE, random_state=42)\n",
    "print(\"TRAIN size:\", len(df_train))\n",
    "print(\"TEST size:\", len(df_test))"
   ]
  },
  {
   "cell_type": "markdown",
   "metadata": {
    "_uuid": "f08a28aab2c3d16d8b9681a7d5d07587153a1cd6"
   },
   "source": [
    "### Word2Vec "
   ]
  },
  {
   "cell_type": "code",
   "execution_count": 14,
   "metadata": {
    "_uuid": "2461bf564de1b4414841933d0c1d1bee5f5cc5a6"
   },
   "outputs": [
    {
     "name": "stdout",
     "output_type": "stream",
     "text": [
      "CPU times: user 3.78 s, sys: 324 ms, total: 4.11 s\n",
      "Wall time: 4.11 s\n"
     ]
    }
   ],
   "source": [
    "%%time\n",
    "documents = [_text.split() for _text in df_train.text] "
   ]
  },
  {
   "cell_type": "code",
   "execution_count": 15,
   "metadata": {
    "_uuid": "8e19b9f25801ba86420decc266d2b3e6fb44f1ea"
   },
   "outputs": [],
   "source": [
    "w2v_model = gensim.models.word2vec.Word2Vec(size=W2V_SIZE, \n",
    "                                            window=W2V_WINDOW, \n",
    "                                            min_count=W2V_MIN_COUNT, \n",
    "                                            workers=8)"
   ]
  },
  {
   "cell_type": "code",
   "execution_count": 16,
   "metadata": {
    "_uuid": "58d655af07653c594bec6bebcfb302a973b0ad9c"
   },
   "outputs": [
    {
     "name": "stderr",
     "output_type": "stream",
     "text": [
      "2019-02-17 08:37:59,770 : INFO : collecting all words and their counts\n",
      "2019-02-17 08:37:59,771 : INFO : PROGRESS: at sentence #0, processed 0 words, keeping 0 word types\n",
      "2019-02-17 08:37:59,797 : INFO : PROGRESS: at sentence #10000, processed 72565 words, keeping 14005 word types\n",
      "2019-02-17 08:37:59,821 : INFO : PROGRESS: at sentence #20000, processed 144393 words, keeping 21587 word types\n",
      "2019-02-17 08:37:59,848 : INFO : PROGRESS: at sentence #30000, processed 215826 words, keeping 27541 word types\n",
      "2019-02-17 08:37:59,881 : INFO : PROGRESS: at sentence #40000, processed 288271 words, keeping 32764 word types\n",
      "2019-02-17 08:37:59,908 : INFO : PROGRESS: at sentence #50000, processed 359772 words, keeping 37587 word types\n",
      "2019-02-17 08:37:59,933 : INFO : PROGRESS: at sentence #60000, processed 431431 words, keeping 42198 word types\n",
      "2019-02-17 08:37:59,960 : INFO : PROGRESS: at sentence #70000, processed 503103 words, keeping 46458 word types\n",
      "2019-02-17 08:37:59,985 : INFO : PROGRESS: at sentence #80000, processed 575709 words, keeping 50476 word types\n",
      "2019-02-17 08:38:00,011 : INFO : PROGRESS: at sentence #90000, processed 647100 words, keeping 54140 word types\n",
      "2019-02-17 08:38:00,036 : INFO : PROGRESS: at sentence #100000, processed 718681 words, keeping 57777 word types\n",
      "2019-02-17 08:38:00,062 : INFO : PROGRESS: at sentence #110000, processed 790696 words, keeping 61207 word types\n",
      "2019-02-17 08:38:00,088 : INFO : PROGRESS: at sentence #120000, processed 863134 words, keeping 64583 word types\n",
      "2019-02-17 08:38:00,115 : INFO : PROGRESS: at sentence #130000, processed 935111 words, keeping 67865 word types\n",
      "2019-02-17 08:38:00,143 : INFO : PROGRESS: at sentence #140000, processed 1006668 words, keeping 70966 word types\n",
      "2019-02-17 08:38:00,174 : INFO : PROGRESS: at sentence #150000, processed 1078512 words, keeping 74119 word types\n",
      "2019-02-17 08:38:00,203 : INFO : PROGRESS: at sentence #160000, processed 1149914 words, keeping 77187 word types\n",
      "2019-02-17 08:38:00,231 : INFO : PROGRESS: at sentence #170000, processed 1222145 words, keeping 80267 word types\n",
      "2019-02-17 08:38:00,259 : INFO : PROGRESS: at sentence #180000, processed 1294708 words, keeping 83393 word types\n",
      "2019-02-17 08:38:00,287 : INFO : PROGRESS: at sentence #190000, processed 1367608 words, keeping 86329 word types\n",
      "2019-02-17 08:38:00,315 : INFO : PROGRESS: at sentence #200000, processed 1439469 words, keeping 89103 word types\n",
      "2019-02-17 08:38:00,343 : INFO : PROGRESS: at sentence #210000, processed 1512099 words, keeping 91840 word types\n",
      "2019-02-17 08:38:00,370 : INFO : PROGRESS: at sentence #220000, processed 1584149 words, keeping 94636 word types\n",
      "2019-02-17 08:38:00,398 : INFO : PROGRESS: at sentence #230000, processed 1656354 words, keeping 97353 word types\n",
      "2019-02-17 08:38:00,425 : INFO : PROGRESS: at sentence #240000, processed 1728573 words, keeping 99975 word types\n",
      "2019-02-17 08:38:00,452 : INFO : PROGRESS: at sentence #250000, processed 1801102 words, keeping 102594 word types\n",
      "2019-02-17 08:38:00,480 : INFO : PROGRESS: at sentence #260000, processed 1873103 words, keeping 105162 word types\n",
      "2019-02-17 08:38:00,507 : INFO : PROGRESS: at sentence #270000, processed 1945245 words, keeping 107626 word types\n",
      "2019-02-17 08:38:00,536 : INFO : PROGRESS: at sentence #280000, processed 2017163 words, keeping 110141 word types\n",
      "2019-02-17 08:38:00,563 : INFO : PROGRESS: at sentence #290000, processed 2089574 words, keeping 112539 word types\n",
      "2019-02-17 08:38:00,590 : INFO : PROGRESS: at sentence #300000, processed 2160996 words, keeping 114893 word types\n",
      "2019-02-17 08:38:00,621 : INFO : PROGRESS: at sentence #310000, processed 2232913 words, keeping 117298 word types\n",
      "2019-02-17 08:38:00,651 : INFO : PROGRESS: at sentence #320000, processed 2305039 words, keeping 119693 word types\n",
      "2019-02-17 08:38:00,680 : INFO : PROGRESS: at sentence #330000, processed 2377119 words, keeping 122131 word types\n",
      "2019-02-17 08:38:00,708 : INFO : PROGRESS: at sentence #340000, processed 2449370 words, keeping 124416 word types\n",
      "2019-02-17 08:38:00,737 : INFO : PROGRESS: at sentence #350000, processed 2521564 words, keeping 126669 word types\n",
      "2019-02-17 08:38:00,766 : INFO : PROGRESS: at sentence #360000, processed 2593681 words, keeping 128912 word types\n",
      "2019-02-17 08:38:00,795 : INFO : PROGRESS: at sentence #370000, processed 2665692 words, keeping 131135 word types\n",
      "2019-02-17 08:38:00,823 : INFO : PROGRESS: at sentence #380000, processed 2737859 words, keeping 133403 word types\n",
      "2019-02-17 08:38:00,852 : INFO : PROGRESS: at sentence #390000, processed 2809848 words, keeping 135551 word types\n",
      "2019-02-17 08:38:00,882 : INFO : PROGRESS: at sentence #400000, processed 2882438 words, keeping 137742 word types\n",
      "2019-02-17 08:38:00,910 : INFO : PROGRESS: at sentence #410000, processed 2954075 words, keeping 139909 word types\n",
      "2019-02-17 08:38:00,938 : INFO : PROGRESS: at sentence #420000, processed 3026247 words, keeping 142144 word types\n",
      "2019-02-17 08:38:00,965 : INFO : PROGRESS: at sentence #430000, processed 3098659 words, keeping 144364 word types\n",
      "2019-02-17 08:38:00,993 : INFO : PROGRESS: at sentence #440000, processed 3170663 words, keeping 146439 word types\n",
      "2019-02-17 08:38:01,021 : INFO : PROGRESS: at sentence #450000, processed 3243344 words, keeping 148526 word types\n",
      "2019-02-17 08:38:01,047 : INFO : PROGRESS: at sentence #460000, processed 3315466 words, keeping 150610 word types\n",
      "2019-02-17 08:38:01,075 : INFO : PROGRESS: at sentence #470000, processed 3388295 words, keeping 152737 word types\n",
      "2019-02-17 08:38:01,105 : INFO : PROGRESS: at sentence #480000, processed 3460120 words, keeping 154757 word types\n",
      "2019-02-17 08:38:01,135 : INFO : PROGRESS: at sentence #490000, processed 3531883 words, keeping 156825 word types\n",
      "2019-02-17 08:38:01,165 : INFO : PROGRESS: at sentence #500000, processed 3604217 words, keeping 158859 word types\n",
      "2019-02-17 08:38:01,194 : INFO : PROGRESS: at sentence #510000, processed 3676427 words, keeping 160852 word types\n",
      "2019-02-17 08:38:01,222 : INFO : PROGRESS: at sentence #520000, processed 3749045 words, keeping 162863 word types\n",
      "2019-02-17 08:38:01,250 : INFO : PROGRESS: at sentence #530000, processed 3821622 words, keeping 164929 word types\n",
      "2019-02-17 08:38:01,278 : INFO : PROGRESS: at sentence #540000, processed 3893627 words, keeping 166840 word types\n",
      "2019-02-17 08:38:01,305 : INFO : PROGRESS: at sentence #550000, processed 3965477 words, keeping 168799 word types\n",
      "2019-02-17 08:38:01,333 : INFO : PROGRESS: at sentence #560000, processed 4038050 words, keeping 170802 word types\n",
      "2019-02-17 08:38:01,361 : INFO : PROGRESS: at sentence #570000, processed 4110296 words, keeping 172760 word types\n",
      "2019-02-17 08:38:01,389 : INFO : PROGRESS: at sentence #580000, processed 4182385 words, keeping 174635 word types\n",
      "2019-02-17 08:38:01,423 : INFO : PROGRESS: at sentence #590000, processed 4254632 words, keeping 176470 word types\n",
      "2019-02-17 08:38:01,451 : INFO : PROGRESS: at sentence #600000, processed 4326859 words, keeping 178350 word types\n",
      "2019-02-17 08:38:01,479 : INFO : PROGRESS: at sentence #610000, processed 4399183 words, keeping 180290 word types\n",
      "2019-02-17 08:38:01,507 : INFO : PROGRESS: at sentence #620000, processed 4471343 words, keeping 182129 word types\n",
      "2019-02-17 08:38:01,536 : INFO : PROGRESS: at sentence #630000, processed 4543286 words, keeping 184005 word types\n",
      "2019-02-17 08:38:01,564 : INFO : PROGRESS: at sentence #640000, processed 4615780 words, keeping 185835 word types\n",
      "2019-02-17 08:38:01,593 : INFO : PROGRESS: at sentence #650000, processed 4688481 words, keeping 187705 word types\n",
      "2019-02-17 08:38:01,622 : INFO : PROGRESS: at sentence #660000, processed 4760481 words, keeping 189439 word types\n",
      "2019-02-17 08:38:01,651 : INFO : PROGRESS: at sentence #670000, processed 4833024 words, keeping 191232 word types\n",
      "2019-02-17 08:38:01,680 : INFO : PROGRESS: at sentence #680000, processed 4904516 words, keeping 193177 word types\n",
      "2019-02-17 08:38:01,707 : INFO : PROGRESS: at sentence #690000, processed 4976968 words, keeping 194960 word types\n",
      "2019-02-17 08:38:01,734 : INFO : PROGRESS: at sentence #700000, processed 5049412 words, keeping 196725 word types\n",
      "2019-02-17 08:38:01,762 : INFO : PROGRESS: at sentence #710000, processed 5121976 words, keeping 198516 word types\n",
      "2019-02-17 08:38:01,790 : INFO : PROGRESS: at sentence #720000, processed 5193881 words, keeping 200325 word types\n",
      "2019-02-17 08:38:01,818 : INFO : PROGRESS: at sentence #730000, processed 5265467 words, keeping 202133 word types\n",
      "2019-02-17 08:38:01,847 : INFO : PROGRESS: at sentence #740000, processed 5337518 words, keeping 203818 word types\n",
      "2019-02-17 08:38:01,877 : INFO : PROGRESS: at sentence #750000, processed 5409321 words, keeping 205535 word types\n",
      "2019-02-17 08:38:01,905 : INFO : PROGRESS: at sentence #760000, processed 5481512 words, keeping 207282 word types\n",
      "2019-02-17 08:38:01,933 : INFO : PROGRESS: at sentence #770000, processed 5554093 words, keeping 209076 word types\n",
      "2019-02-17 08:38:01,960 : INFO : PROGRESS: at sentence #780000, processed 5625382 words, keeping 210805 word types\n",
      "2019-02-17 08:38:01,988 : INFO : PROGRESS: at sentence #790000, processed 5698066 words, keeping 212618 word types\n",
      "2019-02-17 08:38:02,017 : INFO : PROGRESS: at sentence #800000, processed 5770880 words, keeping 214374 word types\n",
      "2019-02-17 08:38:02,046 : INFO : PROGRESS: at sentence #810000, processed 5843418 words, keeping 216009 word types\n",
      "2019-02-17 08:38:02,074 : INFO : PROGRESS: at sentence #820000, processed 5915628 words, keeping 217804 word types\n",
      "2019-02-17 08:38:02,103 : INFO : PROGRESS: at sentence #830000, processed 5987499 words, keeping 219585 word types\n",
      "2019-02-17 08:38:02,131 : INFO : PROGRESS: at sentence #840000, processed 6058973 words, keeping 221344 word types\n",
      "2019-02-17 08:38:02,161 : INFO : PROGRESS: at sentence #850000, processed 6131125 words, keeping 223002 word types\n",
      "2019-02-17 08:38:02,190 : INFO : PROGRESS: at sentence #860000, processed 6202951 words, keeping 224643 word types\n",
      "2019-02-17 08:38:02,218 : INFO : PROGRESS: at sentence #870000, processed 6275461 words, keeping 226362 word types\n",
      "2019-02-17 08:38:02,246 : INFO : PROGRESS: at sentence #880000, processed 6347661 words, keeping 227986 word types\n",
      "2019-02-17 08:38:02,274 : INFO : PROGRESS: at sentence #890000, processed 6419806 words, keeping 229634 word types\n",
      "2019-02-17 08:38:02,302 : INFO : PROGRESS: at sentence #900000, processed 6491644 words, keeping 231389 word types\n",
      "2019-02-17 08:38:02,330 : INFO : PROGRESS: at sentence #910000, processed 6564022 words, keeping 233050 word types\n",
      "2019-02-17 08:38:02,358 : INFO : PROGRESS: at sentence #920000, processed 6636228 words, keeping 234686 word types\n",
      "2019-02-17 08:38:02,386 : INFO : PROGRESS: at sentence #930000, processed 6708573 words, keeping 236393 word types\n",
      "2019-02-17 08:38:02,414 : INFO : PROGRESS: at sentence #940000, processed 6779956 words, keeping 238052 word types\n",
      "2019-02-17 08:38:02,442 : INFO : PROGRESS: at sentence #950000, processed 6852599 words, keeping 239716 word types\n",
      "2019-02-17 08:38:02,471 : INFO : PROGRESS: at sentence #960000, processed 6924717 words, keeping 241354 word types\n",
      "2019-02-17 08:38:02,500 : INFO : PROGRESS: at sentence #970000, processed 6996992 words, keeping 242980 word types\n",
      "2019-02-17 08:38:02,529 : INFO : PROGRESS: at sentence #980000, processed 7068402 words, keeping 244646 word types\n",
      "2019-02-17 08:38:02,557 : INFO : PROGRESS: at sentence #990000, processed 7140346 words, keeping 246186 word types\n",
      "2019-02-17 08:38:02,586 : INFO : PROGRESS: at sentence #1000000, processed 7211757 words, keeping 247726 word types\n",
      "2019-02-17 08:38:02,616 : INFO : PROGRESS: at sentence #1010000, processed 7283267 words, keeping 249288 word types\n",
      "2019-02-17 08:38:02,646 : INFO : PROGRESS: at sentence #1020000, processed 7355299 words, keeping 250860 word types\n",
      "2019-02-17 08:38:02,676 : INFO : PROGRESS: at sentence #1030000, processed 7426918 words, keeping 252366 word types\n",
      "2019-02-17 08:38:02,706 : INFO : PROGRESS: at sentence #1040000, processed 7498815 words, keeping 253930 word types\n",
      "2019-02-17 08:38:02,736 : INFO : PROGRESS: at sentence #1050000, processed 7570499 words, keeping 255471 word types\n",
      "2019-02-17 08:38:02,766 : INFO : PROGRESS: at sentence #1060000, processed 7643251 words, keeping 257035 word types\n",
      "2019-02-17 08:38:02,795 : INFO : PROGRESS: at sentence #1070000, processed 7714721 words, keeping 258509 word types\n",
      "2019-02-17 08:38:02,825 : INFO : PROGRESS: at sentence #1080000, processed 7787371 words, keeping 260071 word types\n",
      "2019-02-17 08:38:02,855 : INFO : PROGRESS: at sentence #1090000, processed 7859336 words, keeping 261683 word types\n",
      "2019-02-17 08:38:02,887 : INFO : PROGRESS: at sentence #1100000, processed 7932029 words, keeping 263278 word types\n",
      "2019-02-17 08:38:02,917 : INFO : PROGRESS: at sentence #1110000, processed 8004146 words, keeping 264800 word types\n",
      "2019-02-17 08:38:02,947 : INFO : PROGRESS: at sentence #1120000, processed 8075880 words, keeping 266309 word types\n",
      "2019-02-17 08:38:02,976 : INFO : PROGRESS: at sentence #1130000, processed 8148163 words, keeping 267826 word types\n",
      "2019-02-17 08:38:03,005 : INFO : PROGRESS: at sentence #1140000, processed 8220487 words, keeping 269391 word types\n",
      "2019-02-17 08:38:03,034 : INFO : PROGRESS: at sentence #1150000, processed 8292498 words, keeping 270894 word types\n",
      "2019-02-17 08:38:03,063 : INFO : PROGRESS: at sentence #1160000, processed 8363838 words, keeping 272400 word types\n",
      "2019-02-17 08:38:03,092 : INFO : PROGRESS: at sentence #1170000, processed 8435510 words, keeping 273970 word types\n",
      "2019-02-17 08:38:03,120 : INFO : PROGRESS: at sentence #1180000, processed 8507795 words, keeping 275521 word types\n",
      "2019-02-17 08:38:03,150 : INFO : PROGRESS: at sentence #1190000, processed 8579080 words, keeping 277007 word types\n",
      "2019-02-17 08:38:03,179 : INFO : PROGRESS: at sentence #1200000, processed 8650606 words, keeping 278457 word types\n",
      "2019-02-17 08:38:03,207 : INFO : PROGRESS: at sentence #1210000, processed 8721893 words, keeping 279959 word types\n",
      "2019-02-17 08:38:03,235 : INFO : PROGRESS: at sentence #1220000, processed 8793795 words, keeping 281427 word types\n",
      "2019-02-17 08:38:03,262 : INFO : PROGRESS: at sentence #1230000, processed 8865726 words, keeping 282981 word types\n",
      "2019-02-17 08:38:03,290 : INFO : PROGRESS: at sentence #1240000, processed 8938173 words, keeping 284542 word types\n",
      "2019-02-17 08:38:03,319 : INFO : PROGRESS: at sentence #1250000, processed 9010842 words, keeping 286064 word types\n",
      "2019-02-17 08:38:03,347 : INFO : PROGRESS: at sentence #1260000, processed 9083261 words, keeping 287521 word types\n",
      "2019-02-17 08:38:03,375 : INFO : PROGRESS: at sentence #1270000, processed 9155616 words, keeping 288987 word types\n",
      "2019-02-17 08:38:03,403 : INFO : collected 290418 word types from a corpus of 9227204 raw words and 1280000 sentences\n",
      "2019-02-17 08:38:03,404 : INFO : Loading a fresh vocabulary\n",
      "2019-02-17 08:38:03,607 : INFO : effective_min_count=10 retains 30369 unique words (10% of original 290418, drops 260049)\n",
      "2019-02-17 08:38:03,608 : INFO : effective_min_count=10 leaves 8780739 word corpus (95% of original 9227204, drops 446465)\n",
      "2019-02-17 08:38:03,719 : INFO : deleting the raw counts dictionary of 290418 items\n",
      "2019-02-17 08:38:03,729 : INFO : sample=0.001 downsamples 45 most-common words\n",
      "2019-02-17 08:38:03,730 : INFO : downsampling leaves estimated 8222658 word corpus (93.6% of prior 8780739)\n",
      "2019-02-17 08:38:03,818 : INFO : estimated required memory for 30369 words and 300 dimensions: 88070100 bytes\n",
      "2019-02-17 08:38:03,819 : INFO : resetting layer weights\n"
     ]
    }
   ],
   "source": [
    "w2v_model.build_vocab(documents)"
   ]
  },
  {
   "cell_type": "code",
   "execution_count": 17,
   "metadata": {
    "_uuid": "72a5628ca81fd4b8983c12d93ae0bf950b86b6ae"
   },
   "outputs": [
    {
     "name": "stdout",
     "output_type": "stream",
     "text": [
      "Vocab size 30369\n"
     ]
    }
   ],
   "source": [
    "words = w2v_model.wv.vocab.keys()\n",
    "vocab_size = len(words)\n",
    "print(\"Vocab size\", vocab_size)"
   ]
  },
  {
   "cell_type": "code",
   "execution_count": 18,
   "metadata": {
    "_uuid": "68c3e4a5ba07cac3dee67f78ecdd1404c7f83f14"
   },
   "outputs": [
    {
     "name": "stderr",
     "output_type": "stream",
     "text": [
      "2019-02-17 08:38:04,375 : INFO : training model with 8 workers on 30369 vocabulary and 300 features, using sg=0 hs=0 sample=0.001 negative=5 window=7\n",
      "2019-02-17 08:38:05,397 : INFO : EPOCH 1 - PROGRESS: at 3.58% examples, 292145 words/s, in_qsize 15, out_qsize 0\n",
      "2019-02-17 08:38:06,401 : INFO : EPOCH 1 - PROGRESS: at 7.93% examples, 323374 words/s, in_qsize 16, out_qsize 0\n",
      "2019-02-17 08:38:07,450 : INFO : EPOCH 1 - PROGRESS: at 11.95% examples, 320278 words/s, in_qsize 15, out_qsize 0\n",
      "2019-02-17 08:38:08,514 : INFO : EPOCH 1 - PROGRESS: at 16.37% examples, 326118 words/s, in_qsize 16, out_qsize 0\n",
      "2019-02-17 08:38:09,518 : INFO : EPOCH 1 - PROGRESS: at 20.70% examples, 331696 words/s, in_qsize 15, out_qsize 0\n",
      "2019-02-17 08:38:10,548 : INFO : EPOCH 1 - PROGRESS: at 25.15% examples, 335566 words/s, in_qsize 15, out_qsize 0\n",
      "2019-02-17 08:38:11,591 : INFO : EPOCH 1 - PROGRESS: at 29.05% examples, 331525 words/s, in_qsize 13, out_qsize 2\n",
      "2019-02-17 08:38:12,602 : INFO : EPOCH 1 - PROGRESS: at 33.92% examples, 339493 words/s, in_qsize 15, out_qsize 0\n",
      "2019-02-17 08:38:13,657 : INFO : EPOCH 1 - PROGRESS: at 37.59% examples, 334498 words/s, in_qsize 15, out_qsize 4\n",
      "2019-02-17 08:38:14,634 : INFO : EPOCH 1 - PROGRESS: at 41.70% examples, 334743 words/s, in_qsize 15, out_qsize 0\n",
      "2019-02-17 08:38:15,643 : INFO : EPOCH 1 - PROGRESS: at 45.37% examples, 331658 words/s, in_qsize 13, out_qsize 2\n",
      "2019-02-17 08:38:16,663 : INFO : EPOCH 1 - PROGRESS: at 49.27% examples, 330236 words/s, in_qsize 16, out_qsize 0\n",
      "2019-02-17 08:38:17,715 : INFO : EPOCH 1 - PROGRESS: at 53.16% examples, 328222 words/s, in_qsize 15, out_qsize 0\n",
      "2019-02-17 08:38:18,724 : INFO : EPOCH 1 - PROGRESS: at 56.84% examples, 326252 words/s, in_qsize 16, out_qsize 0\n",
      "2019-02-17 08:38:19,766 : INFO : EPOCH 1 - PROGRESS: at 60.85% examples, 325585 words/s, in_qsize 13, out_qsize 2\n",
      "2019-02-17 08:38:20,788 : INFO : EPOCH 1 - PROGRESS: at 65.17% examples, 327018 words/s, in_qsize 15, out_qsize 0\n",
      "2019-02-17 08:38:21,822 : INFO : EPOCH 1 - PROGRESS: at 69.07% examples, 326591 words/s, in_qsize 15, out_qsize 3\n",
      "2019-02-17 08:38:22,810 : INFO : EPOCH 1 - PROGRESS: at 73.30% examples, 327368 words/s, in_qsize 16, out_qsize 0\n",
      "2019-02-17 08:38:23,820 : INFO : EPOCH 1 - PROGRESS: at 77.09% examples, 326386 words/s, in_qsize 15, out_qsize 0\n",
      "2019-02-17 08:38:24,833 : INFO : EPOCH 1 - PROGRESS: at 81.34% examples, 327212 words/s, in_qsize 16, out_qsize 0\n",
      "2019-02-17 08:38:25,857 : INFO : EPOCH 1 - PROGRESS: at 85.55% examples, 327792 words/s, in_qsize 15, out_qsize 0\n",
      "2019-02-17 08:38:26,867 : INFO : EPOCH 1 - PROGRESS: at 89.67% examples, 328126 words/s, in_qsize 15, out_qsize 0\n",
      "2019-02-17 08:38:27,883 : INFO : EPOCH 1 - PROGRESS: at 93.81% examples, 328322 words/s, in_qsize 15, out_qsize 0\n",
      "2019-02-17 08:38:28,892 : INFO : EPOCH 1 - PROGRESS: at 97.82% examples, 328253 words/s, in_qsize 15, out_qsize 0\n",
      "2019-02-17 08:38:29,195 : INFO : worker thread finished; awaiting finish of 7 more threads\n",
      "2019-02-17 08:38:29,201 : INFO : worker thread finished; awaiting finish of 6 more threads\n",
      "2019-02-17 08:38:29,203 : INFO : worker thread finished; awaiting finish of 5 more threads\n",
      "2019-02-17 08:38:29,204 : INFO : worker thread finished; awaiting finish of 4 more threads\n",
      "2019-02-17 08:38:29,235 : INFO : worker thread finished; awaiting finish of 3 more threads\n",
      "2019-02-17 08:38:29,255 : INFO : worker thread finished; awaiting finish of 2 more threads\n",
      "2019-02-17 08:38:29,267 : INFO : worker thread finished; awaiting finish of 1 more threads\n",
      "2019-02-17 08:38:29,271 : INFO : worker thread finished; awaiting finish of 0 more threads\n",
      "2019-02-17 08:38:29,272 : INFO : EPOCH - 1 : training on 9227204 raw words (8221943 effective words) took 24.9s, 330438 effective words/s\n",
      "2019-02-17 08:38:30,313 : INFO : EPOCH 2 - PROGRESS: at 3.80% examples, 303847 words/s, in_qsize 15, out_qsize 0\n",
      "2019-02-17 08:38:31,395 : INFO : EPOCH 2 - PROGRESS: at 8.15% examples, 316875 words/s, in_qsize 15, out_qsize 0\n",
      "2019-02-17 08:38:32,490 : INFO : EPOCH 2 - PROGRESS: at 12.60% examples, 322675 words/s, in_qsize 12, out_qsize 3\n",
      "2019-02-17 08:38:33,513 : INFO : EPOCH 2 - PROGRESS: at 16.92% examples, 328871 words/s, in_qsize 15, out_qsize 2\n",
      "2019-02-17 08:38:34,536 : INFO : EPOCH 2 - PROGRESS: at 21.68% examples, 339438 words/s, in_qsize 15, out_qsize 0\n",
      "2019-02-17 08:38:35,590 : INFO : EPOCH 2 - PROGRESS: at 25.80% examples, 336404 words/s, in_qsize 15, out_qsize 0\n",
      "2019-02-17 08:38:36,639 : INFO : EPOCH 2 - PROGRESS: at 30.24% examples, 338116 words/s, in_qsize 15, out_qsize 0\n",
      "2019-02-17 08:38:37,650 : INFO : EPOCH 2 - PROGRESS: at 34.35% examples, 337719 words/s, in_qsize 15, out_qsize 0\n",
      "2019-02-17 08:38:38,650 : INFO : EPOCH 2 - PROGRESS: at 38.57% examples, 338747 words/s, in_qsize 15, out_qsize 0\n",
      "2019-02-17 08:38:39,737 : INFO : EPOCH 2 - PROGRESS: at 42.78% examples, 336764 words/s, in_qsize 14, out_qsize 1\n",
      "2019-02-17 08:38:40,759 : INFO : EPOCH 2 - PROGRESS: at 46.89% examples, 336284 words/s, in_qsize 15, out_qsize 1\n",
      "2019-02-17 08:38:41,785 : INFO : EPOCH 2 - PROGRESS: at 51.10% examples, 336485 words/s, in_qsize 11, out_qsize 4\n",
      "2019-02-17 08:38:42,795 : INFO : EPOCH 2 - PROGRESS: at 55.53% examples, 338372 words/s, in_qsize 14, out_qsize 1\n",
      "2019-02-17 08:38:43,797 : INFO : EPOCH 2 - PROGRESS: at 59.77% examples, 338974 words/s, in_qsize 15, out_qsize 0\n",
      "2019-02-17 08:38:44,809 : INFO : EPOCH 2 - PROGRESS: at 63.87% examples, 338668 words/s, in_qsize 13, out_qsize 1\n",
      "2019-02-17 08:38:45,823 : INFO : EPOCH 2 - PROGRESS: at 67.99% examples, 338370 words/s, in_qsize 15, out_qsize 0\n",
      "2019-02-17 08:38:46,966 : INFO : EPOCH 2 - PROGRESS: at 72.64% examples, 338921 words/s, in_qsize 15, out_qsize 1\n",
      "2019-02-17 08:38:47,970 : INFO : EPOCH 2 - PROGRESS: at 76.98% examples, 339763 words/s, in_qsize 15, out_qsize 0\n",
      "2019-02-17 08:38:48,939 : INFO : EPOCH 2 - PROGRESS: at 81.45% examples, 340921 words/s, in_qsize 15, out_qsize 0\n",
      "2019-02-17 08:38:49,989 : INFO : EPOCH 2 - PROGRESS: at 85.34% examples, 339114 words/s, in_qsize 15, out_qsize 3\n",
      "2019-02-17 08:38:51,034 : INFO : EPOCH 2 - PROGRESS: at 89.89% examples, 340015 words/s, in_qsize 13, out_qsize 2\n",
      "2019-02-17 08:38:52,089 : INFO : EPOCH 2 - PROGRESS: at 94.47% examples, 340660 words/s, in_qsize 15, out_qsize 0\n",
      "2019-02-17 08:38:53,110 : INFO : EPOCH 2 - PROGRESS: at 98.69% examples, 340648 words/s, in_qsize 13, out_qsize 0\n",
      "2019-02-17 08:38:53,291 : INFO : worker thread finished; awaiting finish of 7 more threads\n",
      "2019-02-17 08:38:53,294 : INFO : worker thread finished; awaiting finish of 6 more threads\n",
      "2019-02-17 08:38:53,295 : INFO : worker thread finished; awaiting finish of 5 more threads\n",
      "2019-02-17 08:38:53,316 : INFO : worker thread finished; awaiting finish of 4 more threads\n",
      "2019-02-17 08:38:53,318 : INFO : worker thread finished; awaiting finish of 3 more threads\n",
      "2019-02-17 08:38:53,322 : INFO : worker thread finished; awaiting finish of 2 more threads\n",
      "2019-02-17 08:38:53,333 : INFO : worker thread finished; awaiting finish of 1 more threads\n",
      "2019-02-17 08:38:53,345 : INFO : worker thread finished; awaiting finish of 0 more threads\n",
      "2019-02-17 08:38:53,346 : INFO : EPOCH - 2 : training on 9227204 raw words (8223134 effective words) took 24.1s, 341795 effective words/s\n",
      "2019-02-17 08:38:54,377 : INFO : EPOCH 3 - PROGRESS: at 4.13% examples, 333014 words/s, in_qsize 15, out_qsize 0\n",
      "2019-02-17 08:38:55,398 : INFO : EPOCH 3 - PROGRESS: at 8.15% examples, 328023 words/s, in_qsize 15, out_qsize 3\n",
      "2019-02-17 08:38:56,446 : INFO : EPOCH 3 - PROGRESS: at 12.39% examples, 329252 words/s, in_qsize 16, out_qsize 0\n",
      "2019-02-17 08:38:57,472 : INFO : EPOCH 3 - PROGRESS: at 16.70% examples, 333728 words/s, in_qsize 15, out_qsize 0\n",
      "2019-02-17 08:38:58,530 : INFO : EPOCH 3 - PROGRESS: at 21.03% examples, 334390 words/s, in_qsize 15, out_qsize 0\n",
      "2019-02-17 08:38:59,571 : INFO : EPOCH 3 - PROGRESS: at 25.48% examples, 337188 words/s, in_qsize 14, out_qsize 1\n",
      "2019-02-17 08:39:00,638 : INFO : EPOCH 3 - PROGRESS: at 30.02% examples, 339999 words/s, in_qsize 15, out_qsize 1\n",
      "2019-02-17 08:39:01,693 : INFO : EPOCH 3 - PROGRESS: at 34.35% examples, 338987 words/s, in_qsize 15, out_qsize 1\n",
      "2019-02-17 08:39:02,706 : INFO : EPOCH 3 - PROGRESS: at 39.00% examples, 343218 words/s, in_qsize 15, out_qsize 0\n",
      "2019-02-17 08:39:03,758 : INFO : EPOCH 3 - PROGRESS: at 43.21% examples, 341922 words/s, in_qsize 15, out_qsize 0\n",
      "2019-02-17 08:39:04,798 : INFO : EPOCH 3 - PROGRESS: at 47.97% examples, 345089 words/s, in_qsize 15, out_qsize 0\n",
      "2019-02-17 08:39:05,830 : INFO : EPOCH 3 - PROGRESS: at 51.86% examples, 342285 words/s, in_qsize 14, out_qsize 3\n",
      "2019-02-17 08:39:06,836 : INFO : EPOCH 3 - PROGRESS: at 56.18% examples, 343190 words/s, in_qsize 14, out_qsize 1\n",
      "2019-02-17 08:39:07,839 : INFO : EPOCH 3 - PROGRESS: at 60.52% examples, 344001 words/s, in_qsize 15, out_qsize 0\n",
      "2019-02-17 08:39:08,846 : INFO : EPOCH 3 - PROGRESS: at 64.40% examples, 342326 words/s, in_qsize 16, out_qsize 1\n",
      "2019-02-17 08:39:09,921 : INFO : EPOCH 3 - PROGRESS: at 68.96% examples, 343356 words/s, in_qsize 15, out_qsize 0\n",
      "2019-02-17 08:39:10,914 : INFO : EPOCH 3 - PROGRESS: at 73.62% examples, 345142 words/s, in_qsize 15, out_qsize 0\n",
      "2019-02-17 08:39:11,925 : INFO : EPOCH 3 - PROGRESS: at 77.85% examples, 345035 words/s, in_qsize 15, out_qsize 0\n",
      "2019-02-17 08:39:12,929 : INFO : EPOCH 3 - PROGRESS: at 81.99% examples, 344628 words/s, in_qsize 12, out_qsize 2\n",
      "2019-02-17 08:39:13,988 : INFO : EPOCH 3 - PROGRESS: at 86.10% examples, 343341 words/s, in_qsize 14, out_qsize 1\n",
      "2019-02-17 08:39:14,995 : INFO : EPOCH 3 - PROGRESS: at 90.54% examples, 344242 words/s, in_qsize 15, out_qsize 0\n",
      "2019-02-17 08:39:16,003 : INFO : EPOCH 3 - PROGRESS: at 94.69% examples, 343844 words/s, in_qsize 15, out_qsize 0\n",
      "2019-02-17 08:39:17,027 : INFO : EPOCH 3 - PROGRESS: at 99.33% examples, 345152 words/s, in_qsize 7, out_qsize 1\n",
      "2019-02-17 08:39:17,058 : INFO : worker thread finished; awaiting finish of 7 more threads\n",
      "2019-02-17 08:39:17,060 : INFO : worker thread finished; awaiting finish of 6 more threads\n",
      "2019-02-17 08:39:17,062 : INFO : worker thread finished; awaiting finish of 5 more threads\n",
      "2019-02-17 08:39:17,094 : INFO : worker thread finished; awaiting finish of 4 more threads\n",
      "2019-02-17 08:39:17,096 : INFO : worker thread finished; awaiting finish of 3 more threads\n",
      "2019-02-17 08:39:17,100 : INFO : worker thread finished; awaiting finish of 2 more threads\n",
      "2019-02-17 08:39:17,130 : INFO : worker thread finished; awaiting finish of 1 more threads\n",
      "2019-02-17 08:39:17,135 : INFO : worker thread finished; awaiting finish of 0 more threads\n",
      "2019-02-17 08:39:17,135 : INFO : EPOCH - 3 : training on 9227204 raw words (8222999 effective words) took 23.8s, 345875 effective words/s\n",
      "2019-02-17 08:39:18,172 : INFO : EPOCH 4 - PROGRESS: at 3.80% examples, 304917 words/s, in_qsize 13, out_qsize 2\n",
      "2019-02-17 08:39:19,190 : INFO : EPOCH 4 - PROGRESS: at 8.36% examples, 336075 words/s, in_qsize 15, out_qsize 0\n",
      "2019-02-17 08:39:20,199 : INFO : EPOCH 4 - PROGRESS: at 12.49% examples, 335950 words/s, in_qsize 15, out_qsize 0\n",
      "2019-02-17 08:39:21,238 : INFO : EPOCH 4 - PROGRESS: at 16.81% examples, 337649 words/s, in_qsize 15, out_qsize 0\n",
      "2019-02-17 08:39:22,251 : INFO : EPOCH 4 - PROGRESS: at 21.25% examples, 342221 words/s, in_qsize 16, out_qsize 0\n",
      "2019-02-17 08:39:23,296 : INFO : EPOCH 4 - PROGRESS: at 25.04% examples, 336760 words/s, in_qsize 15, out_qsize 1\n",
      "2019-02-17 08:39:24,271 : INFO : EPOCH 4 - PROGRESS: at 28.94% examples, 334345 words/s, in_qsize 16, out_qsize 2\n",
      "2019-02-17 08:39:25,339 : INFO : EPOCH 4 - PROGRESS: at 33.27% examples, 333979 words/s, in_qsize 15, out_qsize 1\n",
      "2019-02-17 08:39:26,373 : INFO : EPOCH 4 - PROGRESS: at 38.03% examples, 339002 words/s, in_qsize 15, out_qsize 0\n",
      "2019-02-17 08:39:27,413 : INFO : EPOCH 4 - PROGRESS: at 42.02% examples, 336868 words/s, in_qsize 15, out_qsize 1\n",
      "2019-02-17 08:39:28,452 : INFO : EPOCH 4 - PROGRESS: at 46.35% examples, 337339 words/s, in_qsize 14, out_qsize 1\n",
      "2019-02-17 08:39:29,522 : INFO : EPOCH 4 - PROGRESS: at 51.10% examples, 339870 words/s, in_qsize 15, out_qsize 0\n",
      "2019-02-17 08:39:30,533 : INFO : EPOCH 4 - PROGRESS: at 55.21% examples, 339483 words/s, in_qsize 16, out_qsize 1\n",
      "2019-02-17 08:39:31,556 : INFO : EPOCH 4 - PROGRESS: at 59.55% examples, 340143 words/s, in_qsize 15, out_qsize 0\n",
      "2019-02-17 08:39:32,611 : INFO : EPOCH 4 - PROGRESS: at 63.97% examples, 340560 words/s, in_qsize 15, out_qsize 0\n",
      "2019-02-17 08:39:33,630 : INFO : EPOCH 4 - PROGRESS: at 68.32% examples, 341119 words/s, in_qsize 16, out_qsize 0\n",
      "2019-02-17 08:39:34,676 : INFO : EPOCH 4 - PROGRESS: at 72.97% examples, 342588 words/s, in_qsize 15, out_qsize 0\n",
      "2019-02-17 08:39:35,705 : INFO : EPOCH 4 - PROGRESS: at 77.20% examples, 342301 words/s, in_qsize 15, out_qsize 0\n",
      "2019-02-17 08:39:36,754 : INFO : EPOCH 4 - PROGRESS: at 81.45% examples, 341965 words/s, in_qsize 15, out_qsize 0\n",
      "2019-02-17 08:39:37,761 : INFO : EPOCH 4 - PROGRESS: at 85.55% examples, 341440 words/s, in_qsize 16, out_qsize 3\n",
      "2019-02-17 08:39:38,762 : INFO : EPOCH 4 - PROGRESS: at 89.89% examples, 342116 words/s, in_qsize 15, out_qsize 0\n",
      "2019-02-17 08:39:39,788 : INFO : EPOCH 4 - PROGRESS: at 93.92% examples, 341142 words/s, in_qsize 15, out_qsize 0\n",
      "2019-02-17 08:39:40,802 : INFO : EPOCH 4 - PROGRESS: at 98.15% examples, 341206 words/s, in_qsize 13, out_qsize 2\n",
      "2019-02-17 08:39:41,035 : INFO : worker thread finished; awaiting finish of 7 more threads\n",
      "2019-02-17 08:39:41,038 : INFO : worker thread finished; awaiting finish of 6 more threads\n",
      "2019-02-17 08:39:41,040 : INFO : worker thread finished; awaiting finish of 5 more threads\n",
      "2019-02-17 08:39:41,059 : INFO : worker thread finished; awaiting finish of 4 more threads\n",
      "2019-02-17 08:39:41,060 : INFO : worker thread finished; awaiting finish of 3 more threads\n",
      "2019-02-17 08:39:41,066 : INFO : worker thread finished; awaiting finish of 2 more threads\n",
      "2019-02-17 08:39:41,072 : INFO : worker thread finished; awaiting finish of 1 more threads\n",
      "2019-02-17 08:39:41,081 : INFO : worker thread finished; awaiting finish of 0 more threads\n",
      "2019-02-17 08:39:41,082 : INFO : EPOCH - 4 : training on 9227204 raw words (8222618 effective words) took 23.9s, 343575 effective words/s\n",
      "2019-02-17 08:39:42,115 : INFO : EPOCH 5 - PROGRESS: at 3.69% examples, 297361 words/s, in_qsize 15, out_qsize 0\n",
      "2019-02-17 08:39:43,125 : INFO : EPOCH 5 - PROGRESS: at 7.93% examples, 320577 words/s, in_qsize 14, out_qsize 1\n",
      "2019-02-17 08:39:44,166 : INFO : EPOCH 5 - PROGRESS: at 12.39% examples, 331024 words/s, in_qsize 15, out_qsize 0\n",
      "2019-02-17 08:39:45,249 : INFO : EPOCH 5 - PROGRESS: at 16.70% examples, 333352 words/s, in_qsize 14, out_qsize 4\n",
      "2019-02-17 08:39:46,246 : INFO : EPOCH 5 - PROGRESS: at 20.92% examples, 334465 words/s, in_qsize 15, out_qsize 0\n",
      "2019-02-17 08:39:47,248 : INFO : EPOCH 5 - PROGRESS: at 25.37% examples, 338853 words/s, in_qsize 14, out_qsize 1\n",
      "2019-02-17 08:39:48,251 : INFO : EPOCH 5 - PROGRESS: at 29.37% examples, 337459 words/s, in_qsize 15, out_qsize 0\n",
      "2019-02-17 08:39:49,276 : INFO : EPOCH 5 - PROGRESS: at 33.81% examples, 339802 words/s, in_qsize 15, out_qsize 0\n",
      "2019-02-17 08:39:50,318 : INFO : EPOCH 5 - PROGRESS: at 38.14% examples, 340058 words/s, in_qsize 15, out_qsize 0\n",
      "2019-02-17 08:39:51,318 : INFO : EPOCH 5 - PROGRESS: at 42.57% examples, 342491 words/s, in_qsize 15, out_qsize 0\n",
      "2019-02-17 08:39:52,418 : INFO : EPOCH 5 - PROGRESS: at 46.89% examples, 340673 words/s, in_qsize 16, out_qsize 0\n",
      "2019-02-17 08:39:53,453 : INFO : EPOCH 5 - PROGRESS: at 51.43% examples, 342443 words/s, in_qsize 15, out_qsize 0\n",
      "2019-02-17 08:39:54,526 : INFO : EPOCH 5 - PROGRESS: at 55.86% examples, 342286 words/s, in_qsize 15, out_qsize 0\n",
      "2019-02-17 08:39:55,569 : INFO : EPOCH 5 - PROGRESS: at 60.41% examples, 343459 words/s, in_qsize 15, out_qsize 0\n",
      "2019-02-17 08:39:56,610 : INFO : EPOCH 5 - PROGRESS: at 64.73% examples, 343388 words/s, in_qsize 16, out_qsize 0\n",
      "2019-02-17 08:39:57,643 : INFO : EPOCH 5 - PROGRESS: at 68.96% examples, 342937 words/s, in_qsize 16, out_qsize 1\n",
      "2019-02-17 08:39:58,727 : INFO : EPOCH 5 - PROGRESS: at 73.52% examples, 343063 words/s, in_qsize 15, out_qsize 0\n",
      "2019-02-17 08:39:59,734 : INFO : EPOCH 5 - PROGRESS: at 77.74% examples, 343160 words/s, in_qsize 16, out_qsize 1\n",
      "2019-02-17 08:40:00,736 : INFO : EPOCH 5 - PROGRESS: at 82.10% examples, 343799 words/s, in_qsize 15, out_qsize 0\n",
      "2019-02-17 08:40:01,740 : INFO : EPOCH 5 - PROGRESS: at 86.53% examples, 344765 words/s, in_qsize 14, out_qsize 1\n",
      "2019-02-17 08:40:02,754 : INFO : EPOCH 5 - PROGRESS: at 90.65% examples, 344240 words/s, in_qsize 15, out_qsize 0\n",
      "2019-02-17 08:40:03,779 : INFO : EPOCH 5 - PROGRESS: at 94.79% examples, 343916 words/s, in_qsize 15, out_qsize 1\n",
      "2019-02-17 08:40:04,776 : INFO : EPOCH 5 - PROGRESS: at 99.22% examples, 344538 words/s, in_qsize 6, out_qsize 4\n",
      "2019-02-17 08:40:04,779 : INFO : worker thread finished; awaiting finish of 7 more threads\n",
      "2019-02-17 08:40:04,780 : INFO : worker thread finished; awaiting finish of 6 more threads\n",
      "2019-02-17 08:40:04,782 : INFO : worker thread finished; awaiting finish of 5 more threads\n",
      "2019-02-17 08:40:04,785 : INFO : worker thread finished; awaiting finish of 4 more threads\n",
      "2019-02-17 08:40:04,796 : INFO : worker thread finished; awaiting finish of 3 more threads\n",
      "2019-02-17 08:40:04,824 : INFO : worker thread finished; awaiting finish of 2 more threads\n",
      "2019-02-17 08:40:04,828 : INFO : worker thread finished; awaiting finish of 1 more threads\n",
      "2019-02-17 08:40:04,841 : INFO : worker thread finished; awaiting finish of 0 more threads\n",
      "2019-02-17 08:40:04,842 : INFO : EPOCH - 5 : training on 9227204 raw words (8221915 effective words) took 23.7s, 346252 effective words/s\n",
      "2019-02-17 08:40:05,856 : INFO : EPOCH 6 - PROGRESS: at 3.58% examples, 292966 words/s, in_qsize 16, out_qsize 0\n",
      "2019-02-17 08:40:06,868 : INFO : EPOCH 6 - PROGRESS: at 8.15% examples, 331364 words/s, in_qsize 15, out_qsize 0\n",
      "2019-02-17 08:40:07,894 : INFO : EPOCH 6 - PROGRESS: at 12.06% examples, 325063 words/s, in_qsize 13, out_qsize 5\n",
      "2019-02-17 08:40:08,911 : INFO : EPOCH 6 - PROGRESS: at 16.70% examples, 337942 words/s, in_qsize 15, out_qsize 0\n",
      "2019-02-17 08:40:09,917 : INFO : EPOCH 6 - PROGRESS: at 21.03% examples, 341193 words/s, in_qsize 15, out_qsize 0\n",
      "2019-02-17 08:40:10,926 : INFO : EPOCH 6 - PROGRESS: at 25.04% examples, 338799 words/s, in_qsize 16, out_qsize 0\n",
      "2019-02-17 08:40:11,970 : INFO : EPOCH 6 - PROGRESS: at 29.59% examples, 341644 words/s, in_qsize 15, out_qsize 0\n",
      "2019-02-17 08:40:13,009 : INFO : EPOCH 6 - PROGRESS: at 34.02% examples, 342937 words/s, in_qsize 13, out_qsize 2\n",
      "2019-02-17 08:40:14,012 : INFO : EPOCH 6 - PROGRESS: at 38.24% examples, 343291 words/s, in_qsize 14, out_qsize 1\n",
      "2019-02-17 08:40:15,027 : INFO : EPOCH 6 - PROGRESS: at 42.78% examples, 345832 words/s, in_qsize 15, out_qsize 0\n",
      "2019-02-17 08:40:16,091 : INFO : EPOCH 6 - PROGRESS: at 47.21% examples, 345594 words/s, in_qsize 15, out_qsize 0\n",
      "2019-02-17 08:40:17,096 : INFO : EPOCH 6 - PROGRESS: at 51.64% examples, 347079 words/s, in_qsize 16, out_qsize 0\n",
      "2019-02-17 08:40:18,127 : INFO : EPOCH 6 - PROGRESS: at 55.75% examples, 345817 words/s, in_qsize 15, out_qsize 1\n",
      "2019-02-17 08:40:19,121 : INFO : EPOCH 6 - PROGRESS: at 59.98% examples, 345909 words/s, in_qsize 16, out_qsize 0\n",
      "2019-02-17 08:40:20,124 : INFO : EPOCH 6 - PROGRESS: at 64.08% examples, 345351 words/s, in_qsize 13, out_qsize 2\n",
      "2019-02-17 08:40:21,165 : INFO : EPOCH 6 - PROGRESS: at 68.21% examples, 344047 words/s, in_qsize 15, out_qsize 0\n",
      "2019-02-17 08:40:22,169 : INFO : EPOCH 6 - PROGRESS: at 72.75% examples, 345692 words/s, in_qsize 15, out_qsize 0\n",
      "2019-02-17 08:40:23,172 : INFO : EPOCH 6 - PROGRESS: at 76.55% examples, 343764 words/s, in_qsize 14, out_qsize 1\n",
      "2019-02-17 08:40:24,173 : INFO : EPOCH 6 - PROGRESS: at 80.90% examples, 344403 words/s, in_qsize 15, out_qsize 0\n",
      "2019-02-17 08:40:25,190 : INFO : EPOCH 6 - PROGRESS: at 85.13% examples, 344258 words/s, in_qsize 15, out_qsize 0\n",
      "2019-02-17 08:40:26,201 : INFO : EPOCH 6 - PROGRESS: at 89.23% examples, 343811 words/s, in_qsize 15, out_qsize 0\n",
      "2019-02-17 08:40:27,204 : INFO : EPOCH 6 - PROGRESS: at 93.26% examples, 343107 words/s, in_qsize 15, out_qsize 0\n",
      "2019-02-17 08:40:28,300 : INFO : EPOCH 6 - PROGRESS: at 97.82% examples, 343348 words/s, in_qsize 15, out_qsize 0\n",
      "2019-02-17 08:40:28,585 : INFO : worker thread finished; awaiting finish of 7 more threads\n",
      "2019-02-17 08:40:28,591 : INFO : worker thread finished; awaiting finish of 6 more threads\n",
      "2019-02-17 08:40:28,592 : INFO : worker thread finished; awaiting finish of 5 more threads\n",
      "2019-02-17 08:40:28,593 : INFO : worker thread finished; awaiting finish of 4 more threads\n",
      "2019-02-17 08:40:28,594 : INFO : worker thread finished; awaiting finish of 3 more threads\n",
      "2019-02-17 08:40:28,599 : INFO : worker thread finished; awaiting finish of 2 more threads\n",
      "2019-02-17 08:40:28,629 : INFO : worker thread finished; awaiting finish of 1 more threads\n",
      "2019-02-17 08:40:28,632 : INFO : worker thread finished; awaiting finish of 0 more threads\n",
      "2019-02-17 08:40:28,632 : INFO : EPOCH - 6 : training on 9227204 raw words (8222010 effective words) took 23.8s, 345755 effective words/s\n",
      "2019-02-17 08:40:29,731 : INFO : EPOCH 7 - PROGRESS: at 3.91% examples, 301841 words/s, in_qsize 14, out_qsize 1\n",
      "2019-02-17 08:40:30,754 : INFO : EPOCH 7 - PROGRESS: at 8.25% examples, 324446 words/s, in_qsize 15, out_qsize 2\n",
      "2019-02-17 08:40:31,791 : INFO : EPOCH 7 - PROGRESS: at 12.71% examples, 333813 words/s, in_qsize 15, out_qsize 0\n",
      "2019-02-17 08:40:32,860 : INFO : EPOCH 7 - PROGRESS: at 17.13% examples, 335761 words/s, in_qsize 13, out_qsize 3\n",
      "2019-02-17 08:40:33,867 : INFO : EPOCH 7 - PROGRESS: at 21.57% examples, 341037 words/s, in_qsize 15, out_qsize 0\n",
      "2019-02-17 08:40:34,869 : INFO : EPOCH 7 - PROGRESS: at 25.59% examples, 339080 words/s, in_qsize 16, out_qsize 0\n",
      "2019-02-17 08:40:35,903 : INFO : EPOCH 7 - PROGRESS: at 29.91% examples, 339878 words/s, in_qsize 16, out_qsize 1\n",
      "2019-02-17 08:40:36,911 : INFO : EPOCH 7 - PROGRESS: at 34.13% examples, 340465 words/s, in_qsize 15, out_qsize 0\n",
      "2019-02-17 08:40:37,943 : INFO : EPOCH 7 - PROGRESS: at 38.24% examples, 339083 words/s, in_qsize 14, out_qsize 1\n",
      "2019-02-17 08:40:39,007 : INFO : EPOCH 7 - PROGRESS: at 42.68% examples, 339517 words/s, in_qsize 15, out_qsize 0\n",
      "2019-02-17 08:40:40,129 : INFO : EPOCH 7 - PROGRESS: at 47.32% examples, 339700 words/s, in_qsize 15, out_qsize 0\n",
      "2019-02-17 08:40:41,181 : INFO : EPOCH 7 - PROGRESS: at 51.75% examples, 340331 words/s, in_qsize 14, out_qsize 1\n",
      "2019-02-17 08:40:42,277 : INFO : EPOCH 7 - PROGRESS: at 56.40% examples, 341097 words/s, in_qsize 13, out_qsize 2\n",
      "2019-02-17 08:40:43,426 : INFO : EPOCH 7 - PROGRESS: at 61.18% examples, 341649 words/s, in_qsize 15, out_qsize 0\n",
      "2019-02-17 08:40:44,436 : INFO : EPOCH 7 - PROGRESS: at 65.60% examples, 342394 words/s, in_qsize 15, out_qsize 0\n",
      "2019-02-17 08:40:45,445 : INFO : EPOCH 7 - PROGRESS: at 69.94% examples, 343061 words/s, in_qsize 14, out_qsize 1\n",
      "2019-02-17 08:40:46,511 : INFO : EPOCH 7 - PROGRESS: at 74.27% examples, 342528 words/s, in_qsize 15, out_qsize 0\n",
      "2019-02-17 08:40:47,517 : INFO : EPOCH 7 - PROGRESS: at 78.95% examples, 344549 words/s, in_qsize 14, out_qsize 1\n",
      "2019-02-17 08:40:48,539 : INFO : EPOCH 7 - PROGRESS: at 83.18% examples, 344324 words/s, in_qsize 14, out_qsize 1\n",
      "2019-02-17 08:40:49,629 : INFO : EPOCH 7 - PROGRESS: at 87.40% examples, 343476 words/s, in_qsize 15, out_qsize 2\n",
      "2019-02-17 08:40:50,619 : INFO : EPOCH 7 - PROGRESS: at 92.28% examples, 345765 words/s, in_qsize 15, out_qsize 0\n",
      "2019-02-17 08:40:51,625 : INFO : EPOCH 7 - PROGRESS: at 96.31% examples, 344973 words/s, in_qsize 14, out_qsize 1\n",
      "2019-02-17 08:40:52,246 : INFO : worker thread finished; awaiting finish of 7 more threads\n",
      "2019-02-17 08:40:52,282 : INFO : worker thread finished; awaiting finish of 6 more threads\n",
      "2019-02-17 08:40:52,305 : INFO : worker thread finished; awaiting finish of 5 more threads\n",
      "2019-02-17 08:40:52,307 : INFO : worker thread finished; awaiting finish of 4 more threads\n",
      "2019-02-17 08:40:52,311 : INFO : worker thread finished; awaiting finish of 3 more threads\n",
      "2019-02-17 08:40:52,327 : INFO : worker thread finished; awaiting finish of 2 more threads\n",
      "2019-02-17 08:40:52,331 : INFO : worker thread finished; awaiting finish of 1 more threads\n",
      "2019-02-17 08:40:52,333 : INFO : worker thread finished; awaiting finish of 0 more threads\n",
      "2019-02-17 08:40:52,334 : INFO : EPOCH - 7 : training on 9227204 raw words (8222961 effective words) took 23.7s, 347473 effective words/s\n",
      "2019-02-17 08:40:53,456 : INFO : EPOCH 8 - PROGRESS: at 4.13% examples, 305635 words/s, in_qsize 15, out_qsize 0\n",
      "2019-02-17 08:40:54,489 : INFO : EPOCH 8 - PROGRESS: at 8.69% examples, 332901 words/s, in_qsize 15, out_qsize 0\n",
      "2019-02-17 08:40:55,530 : INFO : EPOCH 8 - PROGRESS: at 13.25% examples, 341489 words/s, in_qsize 15, out_qsize 0\n",
      "2019-02-17 08:40:56,636 : INFO : EPOCH 8 - PROGRESS: at 17.68% examples, 338543 words/s, in_qsize 15, out_qsize 0\n",
      "2019-02-17 08:40:57,689 : INFO : EPOCH 8 - PROGRESS: at 22.33% examples, 343607 words/s, in_qsize 15, out_qsize 0\n",
      "2019-02-17 08:40:58,718 : INFO : EPOCH 8 - PROGRESS: at 27.10% examples, 349654 words/s, in_qsize 15, out_qsize 0\n",
      "2019-02-17 08:40:59,862 : INFO : EPOCH 8 - PROGRESS: at 31.54% examples, 345067 words/s, in_qsize 15, out_qsize 3\n",
      "2019-02-17 08:41:00,863 : INFO : EPOCH 8 - PROGRESS: at 36.29% examples, 350516 words/s, in_qsize 16, out_qsize 0\n",
      "2019-02-17 08:41:01,891 : INFO : EPOCH 8 - PROGRESS: at 40.19% examples, 346922 words/s, in_qsize 16, out_qsize 1\n",
      "2019-02-17 08:41:02,884 : INFO : EPOCH 8 - PROGRESS: at 44.51% examples, 347508 words/s, in_qsize 14, out_qsize 1\n",
      "2019-02-17 08:41:03,900 : INFO : EPOCH 8 - PROGRESS: at 48.95% examples, 348603 words/s, in_qsize 15, out_qsize 0\n",
      "2019-02-17 08:41:04,925 : INFO : EPOCH 8 - PROGRESS: at 53.38% examples, 349238 words/s, in_qsize 15, out_qsize 0\n",
      "2019-02-17 08:41:05,940 : INFO : EPOCH 8 - PROGRESS: at 57.81% examples, 350036 words/s, in_qsize 14, out_qsize 0\n",
      "2019-02-17 08:41:06,947 : INFO : EPOCH 8 - PROGRESS: at 61.82% examples, 348480 words/s, in_qsize 15, out_qsize 1\n",
      "2019-02-17 08:41:07,959 : INFO : EPOCH 8 - PROGRESS: at 66.15% examples, 348700 words/s, in_qsize 14, out_qsize 1\n",
      "2019-02-17 08:41:08,993 : INFO : EPOCH 8 - PROGRESS: at 70.48% examples, 348437 words/s, in_qsize 15, out_qsize 0\n",
      "2019-02-17 08:41:10,048 : INFO : EPOCH 8 - PROGRESS: at 75.03% examples, 348794 words/s, in_qsize 15, out_qsize 0\n",
      "2019-02-17 08:41:11,108 : INFO : EPOCH 8 - PROGRESS: at 79.38% examples, 348084 words/s, in_qsize 13, out_qsize 2\n",
      "2019-02-17 08:41:12,111 : INFO : EPOCH 8 - PROGRESS: at 84.15% examples, 350240 words/s, in_qsize 15, out_qsize 0\n",
      "2019-02-17 08:41:13,125 : INFO : EPOCH 8 - PROGRESS: at 88.05% examples, 348566 words/s, in_qsize 14, out_qsize 3\n",
      "2019-02-17 08:41:14,132 : INFO : EPOCH 8 - PROGRESS: at 92.50% examples, 349193 words/s, in_qsize 15, out_qsize 0\n",
      "2019-02-17 08:41:15,168 : INFO : EPOCH 8 - PROGRESS: at 96.85% examples, 348940 words/s, in_qsize 15, out_qsize 0\n",
      "2019-02-17 08:41:15,651 : INFO : worker thread finished; awaiting finish of 7 more threads\n",
      "2019-02-17 08:41:15,669 : INFO : worker thread finished; awaiting finish of 6 more threads\n",
      "2019-02-17 08:41:15,730 : INFO : worker thread finished; awaiting finish of 5 more threads\n",
      "2019-02-17 08:41:15,733 : INFO : worker thread finished; awaiting finish of 4 more threads\n",
      "2019-02-17 08:41:15,745 : INFO : worker thread finished; awaiting finish of 3 more threads\n",
      "2019-02-17 08:41:15,747 : INFO : worker thread finished; awaiting finish of 2 more threads\n",
      "2019-02-17 08:41:15,749 : INFO : worker thread finished; awaiting finish of 1 more threads\n",
      "2019-02-17 08:41:15,754 : INFO : worker thread finished; awaiting finish of 0 more threads\n",
      "2019-02-17 08:41:15,755 : INFO : EPOCH - 8 : training on 9227204 raw words (8221977 effective words) took 23.4s, 351274 effective words/s\n",
      "2019-02-17 08:41:16,797 : INFO : EPOCH 9 - PROGRESS: at 3.69% examples, 294697 words/s, in_qsize 15, out_qsize 2\n",
      "2019-02-17 08:41:17,802 : INFO : EPOCH 9 - PROGRESS: at 8.37% examples, 337617 words/s, in_qsize 15, out_qsize 1\n",
      "2019-02-17 08:41:18,825 : INFO : EPOCH 9 - PROGRESS: at 12.49% examples, 335365 words/s, in_qsize 15, out_qsize 0\n",
      "2019-02-17 08:41:19,830 : INFO : EPOCH 9 - PROGRESS: at 16.92% examples, 342230 words/s, in_qsize 15, out_qsize 0\n",
      "2019-02-17 08:41:20,832 : INFO : EPOCH 9 - PROGRESS: at 21.14% examples, 343157 words/s, in_qsize 15, out_qsize 1\n",
      "2019-02-17 08:41:21,845 : INFO : EPOCH 9 - PROGRESS: at 25.48% examples, 344601 words/s, in_qsize 15, out_qsize 0\n",
      "2019-02-17 08:41:22,980 : INFO : EPOCH 9 - PROGRESS: at 29.91% examples, 340988 words/s, in_qsize 15, out_qsize 0\n",
      "2019-02-17 08:41:23,997 : INFO : EPOCH 9 - PROGRESS: at 34.24% examples, 342171 words/s, in_qsize 15, out_qsize 0\n",
      "2019-02-17 08:41:25,074 : INFO : EPOCH 9 - PROGRESS: at 38.57% examples, 340835 words/s, in_qsize 14, out_qsize 2\n",
      "2019-02-17 08:41:26,144 : INFO : EPOCH 9 - PROGRESS: at 43.11% examples, 341735 words/s, in_qsize 15, out_qsize 0\n",
      "2019-02-17 08:41:27,146 : INFO : EPOCH 9 - PROGRESS: at 47.43% examples, 342984 words/s, in_qsize 15, out_qsize 2\n",
      "2019-02-17 08:41:28,151 : INFO : EPOCH 9 - PROGRESS: at 51.64% examples, 343230 words/s, in_qsize 15, out_qsize 0\n",
      "2019-02-17 08:41:29,168 : INFO : EPOCH 9 - PROGRESS: at 56.40% examples, 346457 words/s, in_qsize 15, out_qsize 1\n",
      "2019-02-17 08:41:30,216 : INFO : EPOCH 9 - PROGRESS: at 60.85% examples, 346612 words/s, in_qsize 13, out_qsize 2\n",
      "2019-02-17 08:41:31,234 : INFO : EPOCH 9 - PROGRESS: at 64.95% examples, 345664 words/s, in_qsize 15, out_qsize 0\n",
      "2019-02-17 08:41:32,254 : INFO : EPOCH 9 - PROGRESS: at 69.50% examples, 346997 words/s, in_qsize 13, out_qsize 0\n",
      "2019-02-17 08:41:33,287 : INFO : EPOCH 9 - PROGRESS: at 73.73% examples, 346347 words/s, in_qsize 14, out_qsize 1\n",
      "2019-02-17 08:41:34,297 : INFO : EPOCH 9 - PROGRESS: at 77.96% examples, 346213 words/s, in_qsize 15, out_qsize 1\n",
      "2019-02-17 08:41:35,301 : INFO : EPOCH 9 - PROGRESS: at 81.99% examples, 345304 words/s, in_qsize 12, out_qsize 3\n",
      "2019-02-17 08:41:36,308 : INFO : EPOCH 9 - PROGRESS: at 85.88% examples, 343971 words/s, in_qsize 14, out_qsize 1\n",
      "2019-02-17 08:41:37,310 : INFO : EPOCH 9 - PROGRESS: at 90.33% examples, 344903 words/s, in_qsize 15, out_qsize 0\n",
      "2019-02-17 08:41:38,322 : INFO : EPOCH 9 - PROGRESS: at 93.92% examples, 342447 words/s, in_qsize 16, out_qsize 7\n",
      "2019-02-17 08:41:39,381 : INFO : EPOCH 9 - PROGRESS: at 98.69% examples, 343684 words/s, in_qsize 13, out_qsize 0\n",
      "2019-02-17 08:41:39,481 : INFO : worker thread finished; awaiting finish of 7 more threads\n",
      "2019-02-17 08:41:39,491 : INFO : worker thread finished; awaiting finish of 6 more threads\n",
      "2019-02-17 08:41:39,498 : INFO : worker thread finished; awaiting finish of 5 more threads\n",
      "2019-02-17 08:41:39,528 : INFO : worker thread finished; awaiting finish of 4 more threads\n",
      "2019-02-17 08:41:39,550 : INFO : worker thread finished; awaiting finish of 3 more threads\n",
      "2019-02-17 08:41:39,564 : INFO : worker thread finished; awaiting finish of 2 more threads\n",
      "2019-02-17 08:41:39,567 : INFO : worker thread finished; awaiting finish of 1 more threads\n",
      "2019-02-17 08:41:39,571 : INFO : worker thread finished; awaiting finish of 0 more threads\n",
      "2019-02-17 08:41:39,571 : INFO : EPOCH - 9 : training on 9227204 raw words (8222734 effective words) took 23.8s, 345477 effective words/s\n",
      "2019-02-17 08:41:40,638 : INFO : EPOCH 10 - PROGRESS: at 3.69% examples, 287924 words/s, in_qsize 15, out_qsize 1\n",
      "2019-02-17 08:41:41,645 : INFO : EPOCH 10 - PROGRESS: at 8.25% examples, 328913 words/s, in_qsize 16, out_qsize 0\n",
      "2019-02-17 08:41:42,715 : INFO : EPOCH 10 - PROGRESS: at 12.49% examples, 327498 words/s, in_qsize 13, out_qsize 2\n",
      "2019-02-17 08:41:43,762 : INFO : EPOCH 10 - PROGRESS: at 16.92% examples, 332728 words/s, in_qsize 15, out_qsize 0\n",
      "2019-02-17 08:41:44,775 : INFO : EPOCH 10 - PROGRESS: at 21.35% examples, 338206 words/s, in_qsize 14, out_qsize 1\n",
      "2019-02-17 08:41:45,792 : INFO : EPOCH 10 - PROGRESS: at 25.48% examples, 337343 words/s, in_qsize 15, out_qsize 2\n",
      "2019-02-17 08:41:46,831 : INFO : EPOCH 10 - PROGRESS: at 29.91% examples, 339389 words/s, in_qsize 16, out_qsize 0\n",
      "2019-02-17 08:41:47,897 : INFO : EPOCH 10 - PROGRESS: at 34.35% examples, 341527 words/s, in_qsize 15, out_qsize 2\n",
      "2019-02-17 08:41:48,868 : INFO : EPOCH 10 - PROGRESS: at 38.35% examples, 339801 words/s, in_qsize 15, out_qsize 0\n",
      "2019-02-17 08:41:49,871 : INFO : EPOCH 10 - PROGRESS: at 42.67% examples, 341282 words/s, in_qsize 15, out_qsize 0\n",
      "2019-02-17 08:41:50,906 : INFO : EPOCH 10 - PROGRESS: at 47.21% examples, 343783 words/s, in_qsize 15, out_qsize 0\n",
      "2019-02-17 08:41:51,885 : INFO : EPOCH 10 - PROGRESS: at 51.10% examples, 341914 words/s, in_qsize 16, out_qsize 0\n",
      "2019-02-17 08:41:52,923 : INFO : EPOCH 10 - PROGRESS: at 55.10% examples, 340033 words/s, in_qsize 15, out_qsize 0\n",
      "2019-02-17 08:41:53,993 : INFO : EPOCH 10 - PROGRESS: at 58.90% examples, 336432 words/s, in_qsize 12, out_qsize 3\n",
      "2019-02-17 08:41:55,045 : INFO : EPOCH 10 - PROGRESS: at 63.00% examples, 335431 words/s, in_qsize 16, out_qsize 0\n",
      "2019-02-17 08:41:56,070 : INFO : EPOCH 10 - PROGRESS: at 66.69% examples, 332958 words/s, in_qsize 13, out_qsize 2\n",
      "2019-02-17 08:41:57,075 : INFO : EPOCH 10 - PROGRESS: at 71.02% examples, 334181 words/s, in_qsize 16, out_qsize 0\n",
      "2019-02-17 08:41:58,089 : INFO : EPOCH 10 - PROGRESS: at 75.13% examples, 334162 words/s, in_qsize 15, out_qsize 0\n",
      "2019-02-17 08:41:59,115 : INFO : EPOCH 10 - PROGRESS: at 79.27% examples, 333938 words/s, in_qsize 15, out_qsize 0\n",
      "2019-02-17 08:42:00,129 : INFO : EPOCH 10 - PROGRESS: at 83.51% examples, 334377 words/s, in_qsize 14, out_qsize 1\n",
      "2019-02-17 08:42:01,196 : INFO : EPOCH 10 - PROGRESS: at 87.61% examples, 333508 words/s, in_qsize 16, out_qsize 1\n",
      "2019-02-17 08:42:02,206 : INFO : EPOCH 10 - PROGRESS: at 91.96% examples, 334359 words/s, in_qsize 15, out_qsize 1\n",
      "2019-02-17 08:42:03,293 : INFO : EPOCH 10 - PROGRESS: at 96.21% examples, 334252 words/s, in_qsize 14, out_qsize 4\n",
      "2019-02-17 08:42:03,871 : INFO : worker thread finished; awaiting finish of 7 more threads\n",
      "2019-02-17 08:42:03,898 : INFO : worker thread finished; awaiting finish of 6 more threads\n",
      "2019-02-17 08:42:03,907 : INFO : worker thread finished; awaiting finish of 5 more threads\n",
      "2019-02-17 08:42:03,942 : INFO : worker thread finished; awaiting finish of 4 more threads\n",
      "2019-02-17 08:42:03,956 : INFO : worker thread finished; awaiting finish of 3 more threads\n",
      "2019-02-17 08:42:03,974 : INFO : worker thread finished; awaiting finish of 2 more threads\n",
      "2019-02-17 08:42:03,981 : INFO : worker thread finished; awaiting finish of 1 more threads\n",
      "2019-02-17 08:42:03,983 : INFO : worker thread finished; awaiting finish of 0 more threads\n",
      "2019-02-17 08:42:03,984 : INFO : EPOCH - 10 : training on 9227204 raw words (8223248 effective words) took 24.4s, 337045 effective words/s\n",
      "2019-02-17 08:42:05,012 : INFO : EPOCH 11 - PROGRESS: at 3.47% examples, 280171 words/s, in_qsize 12, out_qsize 3\n",
      "2019-02-17 08:42:06,014 : INFO : EPOCH 11 - PROGRESS: at 8.25% examples, 335290 words/s, in_qsize 15, out_qsize 0\n",
      "2019-02-17 08:42:07,046 : INFO : EPOCH 11 - PROGRESS: at 12.06% examples, 324114 words/s, in_qsize 13, out_qsize 2\n",
      "2019-02-17 08:42:08,117 : INFO : EPOCH 11 - PROGRESS: at 16.37% examples, 326592 words/s, in_qsize 15, out_qsize 1\n",
      "2019-02-17 08:42:09,125 : INFO : EPOCH 11 - PROGRESS: at 20.48% examples, 328123 words/s, in_qsize 13, out_qsize 2\n",
      "2019-02-17 08:42:10,180 : INFO : EPOCH 11 - PROGRESS: at 24.94% examples, 331254 words/s, in_qsize 15, out_qsize 0\n",
      "2019-02-17 08:42:11,186 : INFO : EPOCH 11 - PROGRESS: at 29.26% examples, 334462 words/s, in_qsize 15, out_qsize 0\n",
      "2019-02-17 08:42:12,235 : INFO : EPOCH 11 - PROGRESS: at 33.59% examples, 335115 words/s, in_qsize 14, out_qsize 1\n",
      "2019-02-17 08:42:13,257 : INFO : EPOCH 11 - PROGRESS: at 38.14% examples, 338546 words/s, in_qsize 13, out_qsize 0\n",
      "2019-02-17 08:42:14,285 : INFO : EPOCH 11 - PROGRESS: at 42.24% examples, 337604 words/s, in_qsize 16, out_qsize 0\n",
      "2019-02-17 08:42:15,324 : INFO : EPOCH 11 - PROGRESS: at 46.67% examples, 338895 words/s, in_qsize 15, out_qsize 0\n",
      "2019-02-17 08:42:16,326 : INFO : EPOCH 11 - PROGRESS: at 50.67% examples, 338100 words/s, in_qsize 14, out_qsize 1\n",
      "2019-02-17 08:42:17,335 : INFO : EPOCH 11 - PROGRESS: at 55.21% examples, 340578 words/s, in_qsize 14, out_qsize 1\n",
      "2019-02-17 08:42:18,420 : INFO : EPOCH 11 - PROGRESS: at 59.12% examples, 337201 words/s, in_qsize 12, out_qsize 3\n",
      "2019-02-17 08:42:19,464 : INFO : EPOCH 11 - PROGRESS: at 63.43% examples, 337473 words/s, in_qsize 14, out_qsize 1\n",
      "2019-02-17 08:42:20,475 : INFO : EPOCH 11 - PROGRESS: at 67.88% examples, 338927 words/s, in_qsize 15, out_qsize 0\n",
      "2019-02-17 08:42:21,480 : INFO : EPOCH 11 - PROGRESS: at 71.89% examples, 338298 words/s, in_qsize 14, out_qsize 0\n",
      "2019-02-17 08:42:22,498 : INFO : EPOCH 11 - PROGRESS: at 76.22% examples, 338921 words/s, in_qsize 15, out_qsize 0\n",
      "2019-02-17 08:42:23,555 : INFO : EPOCH 11 - PROGRESS: at 80.25% examples, 337438 words/s, in_qsize 15, out_qsize 0\n",
      "2019-02-17 08:42:24,598 : INFO : EPOCH 11 - PROGRESS: at 84.26% examples, 336364 words/s, in_qsize 16, out_qsize 1\n",
      "2019-02-17 08:42:25,619 : INFO : EPOCH 11 - PROGRESS: at 88.48% examples, 336545 words/s, in_qsize 13, out_qsize 2\n",
      "2019-02-17 08:42:26,702 : INFO : EPOCH 11 - PROGRESS: at 92.83% examples, 336149 words/s, in_qsize 16, out_qsize 0\n",
      "2019-02-17 08:42:27,722 : INFO : EPOCH 11 - PROGRESS: at 97.29% examples, 337089 words/s, in_qsize 15, out_qsize 0\n",
      "2019-02-17 08:42:28,198 : INFO : worker thread finished; awaiting finish of 7 more threads\n",
      "2019-02-17 08:42:28,215 : INFO : worker thread finished; awaiting finish of 6 more threads\n",
      "2019-02-17 08:42:28,217 : INFO : worker thread finished; awaiting finish of 5 more threads\n",
      "2019-02-17 08:42:28,218 : INFO : worker thread finished; awaiting finish of 4 more threads\n",
      "2019-02-17 08:42:28,223 : INFO : worker thread finished; awaiting finish of 3 more threads\n",
      "2019-02-17 08:42:28,223 : INFO : worker thread finished; awaiting finish of 2 more threads\n",
      "2019-02-17 08:42:28,228 : INFO : worker thread finished; awaiting finish of 1 more threads\n",
      "2019-02-17 08:42:28,230 : INFO : worker thread finished; awaiting finish of 0 more threads\n",
      "2019-02-17 08:42:28,231 : INFO : EPOCH - 11 : training on 9227204 raw words (8221907 effective words) took 24.2s, 339239 effective words/s\n",
      "2019-02-17 08:42:29,276 : INFO : EPOCH 12 - PROGRESS: at 3.69% examples, 293150 words/s, in_qsize 15, out_qsize 0\n",
      "2019-02-17 08:42:30,327 : INFO : EPOCH 12 - PROGRESS: at 8.15% examples, 325787 words/s, in_qsize 15, out_qsize 1\n",
      "2019-02-17 08:42:31,321 : INFO : EPOCH 12 - PROGRESS: at 12.49% examples, 332877 words/s, in_qsize 15, out_qsize 0\n",
      "2019-02-17 08:42:32,345 : INFO : EPOCH 12 - PROGRESS: at 16.59% examples, 332256 words/s, in_qsize 15, out_qsize 0\n",
      "2019-02-17 08:42:33,376 : INFO : EPOCH 12 - PROGRESS: at 20.81% examples, 333229 words/s, in_qsize 15, out_qsize 0\n",
      "2019-02-17 08:42:34,434 : INFO : EPOCH 12 - PROGRESS: at 25.48% examples, 339301 words/s, in_qsize 15, out_qsize 0\n",
      "2019-02-17 08:42:35,519 : INFO : EPOCH 12 - PROGRESS: at 29.70% examples, 335525 words/s, in_qsize 12, out_qsize 3\n",
      "2019-02-17 08:42:36,554 : INFO : EPOCH 12 - PROGRESS: at 34.02% examples, 337052 words/s, in_qsize 15, out_qsize 1\n",
      "2019-02-17 08:42:37,562 : INFO : EPOCH 12 - PROGRESS: at 38.24% examples, 337455 words/s, in_qsize 15, out_qsize 0\n",
      "2019-02-17 08:42:38,562 : INFO : EPOCH 12 - PROGRESS: at 42.24% examples, 336693 words/s, in_qsize 12, out_qsize 3\n",
      "2019-02-17 08:42:39,623 : INFO : EPOCH 12 - PROGRESS: at 47.00% examples, 339727 words/s, in_qsize 15, out_qsize 0\n",
      "2019-02-17 08:42:40,655 : INFO : EPOCH 12 - PROGRESS: at 51.21% examples, 339498 words/s, in_qsize 14, out_qsize 1\n",
      "2019-02-17 08:42:41,671 : INFO : EPOCH 12 - PROGRESS: at 55.42% examples, 339711 words/s, in_qsize 15, out_qsize 0\n",
      "2019-02-17 08:42:42,727 : INFO : EPOCH 12 - PROGRESS: at 60.09% examples, 341406 words/s, in_qsize 15, out_qsize 0\n",
      "2019-02-17 08:42:43,732 : INFO : EPOCH 12 - PROGRESS: at 64.19% examples, 341090 words/s, in_qsize 13, out_qsize 2\n",
      "2019-02-17 08:42:44,762 : INFO : EPOCH 12 - PROGRESS: at 68.53% examples, 341407 words/s, in_qsize 15, out_qsize 0\n",
      "2019-02-17 08:42:45,864 : INFO : EPOCH 12 - PROGRESS: at 73.08% examples, 341267 words/s, in_qsize 15, out_qsize 0\n",
      "2019-02-17 08:42:46,895 : INFO : EPOCH 12 - PROGRESS: at 77.31% examples, 341000 words/s, in_qsize 14, out_qsize 1\n",
      "2019-02-17 08:42:47,905 : INFO : EPOCH 12 - PROGRESS: at 81.66% examples, 341618 words/s, in_qsize 15, out_qsize 0\n",
      "2019-02-17 08:42:48,939 : INFO : EPOCH 12 - PROGRESS: at 85.55% examples, 340038 words/s, in_qsize 15, out_qsize 0\n",
      "2019-02-17 08:42:50,039 : INFO : EPOCH 12 - PROGRESS: at 90.22% examples, 340457 words/s, in_qsize 14, out_qsize 1\n",
      "2019-02-17 08:42:51,040 : INFO : EPOCH 12 - PROGRESS: at 94.47% examples, 340728 words/s, in_qsize 16, out_qsize 0\n",
      "2019-02-17 08:42:52,051 : INFO : EPOCH 12 - PROGRESS: at 98.58% examples, 340480 words/s, in_qsize 14, out_qsize 0\n",
      "2019-02-17 08:42:52,163 : INFO : worker thread finished; awaiting finish of 7 more threads\n",
      "2019-02-17 08:42:52,165 : INFO : worker thread finished; awaiting finish of 6 more threads\n",
      "2019-02-17 08:42:52,218 : INFO : worker thread finished; awaiting finish of 5 more threads\n",
      "2019-02-17 08:42:52,225 : INFO : worker thread finished; awaiting finish of 4 more threads\n",
      "2019-02-17 08:42:52,236 : INFO : worker thread finished; awaiting finish of 3 more threads\n",
      "2019-02-17 08:42:52,237 : INFO : worker thread finished; awaiting finish of 2 more threads\n",
      "2019-02-17 08:42:52,238 : INFO : worker thread finished; awaiting finish of 1 more threads\n",
      "2019-02-17 08:42:52,239 : INFO : worker thread finished; awaiting finish of 0 more threads\n",
      "2019-02-17 08:42:52,239 : INFO : EPOCH - 12 : training on 9227204 raw words (8223104 effective words) took 24.0s, 342666 effective words/s\n",
      "2019-02-17 08:42:53,310 : INFO : EPOCH 13 - PROGRESS: at 4.02% examples, 327003 words/s, in_qsize 15, out_qsize 0\n",
      "2019-02-17 08:42:54,315 : INFO : EPOCH 13 - PROGRESS: at 8.25% examples, 336254 words/s, in_qsize 15, out_qsize 2\n",
      "2019-02-17 08:42:55,307 : INFO : EPOCH 13 - PROGRESS: at 12.60% examples, 340435 words/s, in_qsize 14, out_qsize 1\n",
      "2019-02-17 08:42:56,388 : INFO : EPOCH 13 - PROGRESS: at 17.02% examples, 342082 words/s, in_qsize 15, out_qsize 0\n",
      "2019-02-17 08:42:57,380 : INFO : EPOCH 13 - PROGRESS: at 21.14% examples, 340020 words/s, in_qsize 15, out_qsize 0\n",
      "2019-02-17 08:42:58,442 : INFO : EPOCH 13 - PROGRESS: at 25.80% examples, 343587 words/s, in_qsize 15, out_qsize 0\n",
      "2019-02-17 08:42:59,466 : INFO : EPOCH 13 - PROGRESS: at 30.24% examples, 345487 words/s, in_qsize 15, out_qsize 0\n",
      "2019-02-17 08:43:00,492 : INFO : EPOCH 13 - PROGRESS: at 34.68% examples, 346784 words/s, in_qsize 15, out_qsize 0\n",
      "2019-02-17 08:43:01,500 : INFO : EPOCH 13 - PROGRESS: at 39.11% examples, 348510 words/s, in_qsize 16, out_qsize 0\n",
      "2019-02-17 08:43:02,503 : INFO : EPOCH 13 - PROGRESS: at 43.43% examples, 349149 words/s, in_qsize 15, out_qsize 0\n",
      "2019-02-17 08:43:03,503 : INFO : EPOCH 13 - PROGRESS: at 47.86% examples, 350574 words/s, in_qsize 13, out_qsize 0\n",
      "2019-02-17 08:43:04,510 : INFO : EPOCH 13 - PROGRESS: at 51.86% examples, 348686 words/s, in_qsize 16, out_qsize 0\n",
      "2019-02-17 08:43:05,523 : INFO : EPOCH 13 - PROGRESS: at 56.19% examples, 348932 words/s, in_qsize 15, out_qsize 1\n",
      "2019-02-17 08:43:06,524 : INFO : EPOCH 13 - PROGRESS: at 60.74% examples, 350693 words/s, in_qsize 15, out_qsize 0\n",
      "2019-02-17 08:43:07,540 : INFO : EPOCH 13 - PROGRESS: at 64.95% examples, 350116 words/s, in_qsize 15, out_qsize 1\n",
      "2019-02-17 08:43:08,561 : INFO : EPOCH 13 - PROGRESS: at 69.18% examples, 349486 words/s, in_qsize 16, out_qsize 1\n",
      "2019-02-17 08:43:09,568 : INFO : EPOCH 13 - PROGRESS: at 73.30% examples, 348700 words/s, in_qsize 14, out_qsize 2\n",
      "2019-02-17 08:43:10,575 : INFO : EPOCH 13 - PROGRESS: at 77.63% examples, 348961 words/s, in_qsize 14, out_qsize 1\n",
      "2019-02-17 08:43:11,591 : INFO : EPOCH 13 - PROGRESS: at 82.10% examples, 349520 words/s, in_qsize 15, out_qsize 0\n",
      "2019-02-17 08:43:12,595 : INFO : EPOCH 13 - PROGRESS: at 86.43% examples, 349762 words/s, in_qsize 14, out_qsize 1\n",
      "2019-02-17 08:43:13,639 : INFO : EPOCH 13 - PROGRESS: at 90.54% examples, 348525 words/s, in_qsize 14, out_qsize 3\n",
      "2019-02-17 08:43:14,650 : INFO : EPOCH 13 - PROGRESS: at 95.01% examples, 349078 words/s, in_qsize 13, out_qsize 2\n",
      "2019-02-17 08:43:15,568 : INFO : worker thread finished; awaiting finish of 7 more threads\n",
      "2019-02-17 08:43:15,578 : INFO : worker thread finished; awaiting finish of 6 more threads\n",
      "2019-02-17 08:43:15,620 : INFO : worker thread finished; awaiting finish of 5 more threads\n",
      "2019-02-17 08:43:15,639 : INFO : worker thread finished; awaiting finish of 4 more threads\n",
      "2019-02-17 08:43:15,641 : INFO : worker thread finished; awaiting finish of 3 more threads\n",
      "2019-02-17 08:43:15,643 : INFO : worker thread finished; awaiting finish of 2 more threads\n",
      "2019-02-17 08:43:15,649 : INFO : worker thread finished; awaiting finish of 1 more threads\n",
      "2019-02-17 08:43:15,658 : INFO : EPOCH 13 - PROGRESS: at 100.00% examples, 351607 words/s, in_qsize 0, out_qsize 1\n",
      "2019-02-17 08:43:15,659 : INFO : worker thread finished; awaiting finish of 0 more threads\n",
      "2019-02-17 08:43:15,660 : INFO : EPOCH - 13 : training on 9227204 raw words (8222894 effective words) took 23.4s, 351579 effective words/s\n",
      "2019-02-17 08:43:16,694 : INFO : EPOCH 14 - PROGRESS: at 3.80% examples, 305970 words/s, in_qsize 16, out_qsize 1\n",
      "2019-02-17 08:43:17,763 : INFO : EPOCH 14 - PROGRESS: at 8.37% examples, 328679 words/s, in_qsize 14, out_qsize 1\n",
      "2019-02-17 08:43:18,774 : INFO : EPOCH 14 - PROGRESS: at 12.82% examples, 339376 words/s, in_qsize 16, out_qsize 1\n",
      "2019-02-17 08:43:19,879 : INFO : EPOCH 14 - PROGRESS: at 17.57% examples, 343269 words/s, in_qsize 15, out_qsize 0\n",
      "2019-02-17 08:43:20,919 : INFO : EPOCH 14 - PROGRESS: at 21.90% examples, 345376 words/s, in_qsize 15, out_qsize 1\n",
      "2019-02-17 08:43:21,898 : INFO : EPOCH 14 - PROGRESS: at 26.23% examples, 346433 words/s, in_qsize 15, out_qsize 0\n",
      "2019-02-17 08:43:22,905 : INFO : EPOCH 14 - PROGRESS: at 30.67% examples, 348748 words/s, in_qsize 16, out_qsize 0\n",
      "2019-02-17 08:43:23,946 : INFO : EPOCH 14 - PROGRESS: at 34.68% examples, 344652 words/s, in_qsize 15, out_qsize 0\n",
      "2019-02-17 08:43:24,955 : INFO : EPOCH 14 - PROGRESS: at 39.00% examples, 345595 words/s, in_qsize 14, out_qsize 1\n",
      "2019-02-17 08:43:26,071 : INFO : EPOCH 14 - PROGRESS: at 43.65% examples, 346012 words/s, in_qsize 15, out_qsize 0\n",
      "2019-02-17 08:43:27,075 : INFO : EPOCH 14 - PROGRESS: at 47.86% examples, 345389 words/s, in_qsize 15, out_qsize 0\n",
      "2019-02-17 08:43:28,126 : INFO : EPOCH 14 - PROGRESS: at 52.51% examples, 347043 words/s, in_qsize 16, out_qsize 0\n",
      "2019-02-17 08:43:29,142 : INFO : EPOCH 14 - PROGRESS: at 56.84% examples, 347333 words/s, in_qsize 15, out_qsize 0\n",
      "2019-02-17 08:43:30,186 : INFO : EPOCH 14 - PROGRESS: at 61.50% examples, 348750 words/s, in_qsize 16, out_qsize 0\n",
      "2019-02-17 08:43:31,197 : INFO : EPOCH 14 - PROGRESS: at 65.83% examples, 348978 words/s, in_qsize 16, out_qsize 0\n",
      "2019-02-17 08:43:32,227 : INFO : EPOCH 14 - PROGRESS: at 70.26% examples, 349346 words/s, in_qsize 16, out_qsize 1\n",
      "2019-02-17 08:43:33,267 : INFO : EPOCH 14 - PROGRESS: at 74.59% examples, 349287 words/s, in_qsize 15, out_qsize 0\n",
      "2019-02-17 08:43:34,264 : INFO : EPOCH 14 - PROGRESS: at 79.05% examples, 349833 words/s, in_qsize 15, out_qsize 0\n",
      "2019-02-17 08:43:35,356 : INFO : EPOCH 14 - PROGRESS: at 83.50% examples, 349001 words/s, in_qsize 15, out_qsize 0\n",
      "2019-02-17 08:43:36,373 : INFO : EPOCH 14 - PROGRESS: at 88.16% examples, 350350 words/s, in_qsize 14, out_qsize 1\n",
      "2019-02-17 08:43:37,374 : INFO : EPOCH 14 - PROGRESS: at 92.61% examples, 351010 words/s, in_qsize 15, out_qsize 0\n",
      "2019-02-17 08:43:38,426 : INFO : EPOCH 14 - PROGRESS: at 96.85% examples, 350034 words/s, in_qsize 16, out_qsize 0\n",
      "2019-02-17 08:43:38,979 : INFO : worker thread finished; awaiting finish of 7 more threads\n",
      "2019-02-17 08:43:38,984 : INFO : worker thread finished; awaiting finish of 6 more threads\n",
      "2019-02-17 08:43:38,989 : INFO : worker thread finished; awaiting finish of 5 more threads\n",
      "2019-02-17 08:43:39,007 : INFO : worker thread finished; awaiting finish of 4 more threads\n",
      "2019-02-17 08:43:39,009 : INFO : worker thread finished; awaiting finish of 3 more threads\n",
      "2019-02-17 08:43:39,025 : INFO : worker thread finished; awaiting finish of 2 more threads\n",
      "2019-02-17 08:43:39,033 : INFO : worker thread finished; awaiting finish of 1 more threads\n",
      "2019-02-17 08:43:39,036 : INFO : worker thread finished; awaiting finish of 0 more threads\n",
      "2019-02-17 08:43:39,036 : INFO : EPOCH - 14 : training on 9227204 raw words (8223175 effective words) took 23.4s, 352002 effective words/s\n",
      "2019-02-17 08:43:40,095 : INFO : EPOCH 15 - PROGRESS: at 3.80% examples, 302093 words/s, in_qsize 14, out_qsize 1\n",
      "2019-02-17 08:43:41,099 : INFO : EPOCH 15 - PROGRESS: at 8.36% examples, 336871 words/s, in_qsize 15, out_qsize 0\n",
      "2019-02-17 08:43:42,142 : INFO : EPOCH 15 - PROGRESS: at 12.82% examples, 341388 words/s, in_qsize 15, out_qsize 0\n",
      "2019-02-17 08:43:43,202 : INFO : EPOCH 15 - PROGRESS: at 17.13% examples, 339943 words/s, in_qsize 15, out_qsize 0\n",
      "2019-02-17 08:43:44,232 : INFO : EPOCH 15 - PROGRESS: at 21.46% examples, 341139 words/s, in_qsize 12, out_qsize 3\n",
      "2019-02-17 08:43:45,236 : INFO : EPOCH 15 - PROGRESS: at 25.80% examples, 343405 words/s, in_qsize 15, out_qsize 0\n",
      "2019-02-17 08:43:46,307 : INFO : EPOCH 15 - PROGRESS: at 30.56% examples, 346775 words/s, in_qsize 15, out_qsize 0\n",
      "2019-02-17 08:43:47,317 : INFO : EPOCH 15 - PROGRESS: at 34.89% examples, 347487 words/s, in_qsize 16, out_qsize 0\n",
      "2019-02-17 08:43:48,360 : INFO : EPOCH 15 - PROGRESS: at 39.22% examples, 346838 words/s, in_qsize 13, out_qsize 2\n",
      "2019-02-17 08:43:49,434 : INFO : EPOCH 15 - PROGRESS: at 43.97% examples, 349392 words/s, in_qsize 15, out_qsize 0\n",
      "2019-02-17 08:43:50,423 : INFO : EPOCH 15 - PROGRESS: at 48.30% examples, 349703 words/s, in_qsize 15, out_qsize 0\n",
      "2019-02-17 08:43:51,466 : INFO : EPOCH 15 - PROGRESS: at 52.84% examples, 350498 words/s, in_qsize 15, out_qsize 0\n",
      "2019-02-17 08:43:52,473 : INFO : EPOCH 15 - PROGRESS: at 57.60% examples, 353435 words/s, in_qsize 13, out_qsize 0\n",
      "2019-02-17 08:43:53,475 : INFO : EPOCH 15 - PROGRESS: at 61.71% examples, 352365 words/s, in_qsize 16, out_qsize 0\n",
      "2019-02-17 08:43:54,475 : INFO : EPOCH 15 - PROGRESS: at 65.93% examples, 352013 words/s, in_qsize 16, out_qsize 0\n",
      "2019-02-17 08:43:55,495 : INFO : EPOCH 15 - PROGRESS: at 70.59% examples, 353479 words/s, in_qsize 15, out_qsize 0\n",
      "2019-02-17 08:43:56,529 : INFO : EPOCH 15 - PROGRESS: at 74.70% examples, 351922 words/s, in_qsize 16, out_qsize 0\n",
      "2019-02-17 08:43:57,598 : INFO : EPOCH 15 - PROGRESS: at 79.05% examples, 350839 words/s, in_qsize 15, out_qsize 0\n",
      "2019-02-17 08:43:58,618 : INFO : EPOCH 15 - PROGRESS: at 83.72% examples, 352132 words/s, in_qsize 16, out_qsize 0\n",
      "2019-02-17 08:43:59,644 : INFO : EPOCH 15 - PROGRESS: at 88.05% examples, 351882 words/s, in_qsize 14, out_qsize 1\n",
      "2019-02-17 08:44:00,673 : INFO : EPOCH 15 - PROGRESS: at 92.50% examples, 352002 words/s, in_qsize 16, out_qsize 0\n",
      "2019-02-17 08:44:01,813 : INFO : EPOCH 15 - PROGRESS: at 97.29% examples, 351583 words/s, in_qsize 13, out_qsize 2\n",
      "2019-02-17 08:44:02,200 : INFO : worker thread finished; awaiting finish of 7 more threads\n",
      "2019-02-17 08:44:02,235 : INFO : worker thread finished; awaiting finish of 6 more threads\n",
      "2019-02-17 08:44:02,237 : INFO : worker thread finished; awaiting finish of 5 more threads\n",
      "2019-02-17 08:44:02,256 : INFO : worker thread finished; awaiting finish of 4 more threads\n",
      "2019-02-17 08:44:02,258 : INFO : worker thread finished; awaiting finish of 3 more threads\n",
      "2019-02-17 08:44:02,261 : INFO : worker thread finished; awaiting finish of 2 more threads\n",
      "2019-02-17 08:44:02,262 : INFO : worker thread finished; awaiting finish of 1 more threads\n",
      "2019-02-17 08:44:02,273 : INFO : worker thread finished; awaiting finish of 0 more threads\n",
      "2019-02-17 08:44:02,274 : INFO : EPOCH - 15 : training on 9227204 raw words (8222464 effective words) took 23.2s, 354251 effective words/s\n",
      "2019-02-17 08:44:03,332 : INFO : EPOCH 16 - PROGRESS: at 4.01% examples, 314822 words/s, in_qsize 13, out_qsize 2\n",
      "2019-02-17 08:44:04,339 : INFO : EPOCH 16 - PROGRESS: at 8.26% examples, 329688 words/s, in_qsize 15, out_qsize 0\n",
      "2019-02-17 08:44:05,347 : INFO : EPOCH 16 - PROGRESS: at 12.82% examples, 343398 words/s, in_qsize 15, out_qsize 0\n",
      "2019-02-17 08:44:06,443 : INFO : EPOCH 16 - PROGRESS: at 17.13% examples, 340017 words/s, in_qsize 15, out_qsize 0\n",
      "2019-02-17 08:44:07,459 : INFO : EPOCH 16 - PROGRESS: at 21.68% examples, 344328 words/s, in_qsize 15, out_qsize 0\n",
      "2019-02-17 08:44:08,600 : INFO : EPOCH 16 - PROGRESS: at 26.23% examples, 341402 words/s, in_qsize 14, out_qsize 1\n",
      "2019-02-17 08:44:09,628 : INFO : EPOCH 16 - PROGRESS: at 30.78% examples, 344542 words/s, in_qsize 15, out_qsize 0\n",
      "2019-02-17 08:44:10,647 : INFO : EPOCH 16 - PROGRESS: at 35.32% examples, 347256 words/s, in_qsize 16, out_qsize 1\n",
      "2019-02-17 08:44:11,654 : INFO : EPOCH 16 - PROGRESS: at 39.54% examples, 347002 words/s, in_qsize 15, out_qsize 0\n",
      "2019-02-17 08:44:12,669 : INFO : EPOCH 16 - PROGRESS: at 43.75% examples, 346541 words/s, in_qsize 13, out_qsize 2\n",
      "2019-02-17 08:44:13,707 : INFO : EPOCH 16 - PROGRESS: at 47.97% examples, 345504 words/s, in_qsize 15, out_qsize 0\n",
      "2019-02-17 08:44:14,735 : INFO : EPOCH 16 - PROGRESS: at 52.29% examples, 345600 words/s, in_qsize 13, out_qsize 2\n",
      "2019-02-17 08:44:15,760 : INFO : EPOCH 16 - PROGRESS: at 57.06% examples, 348401 words/s, in_qsize 15, out_qsize 1\n",
      "2019-02-17 08:44:16,770 : INFO : EPOCH 16 - PROGRESS: at 61.28% examples, 348107 words/s, in_qsize 15, out_qsize 0\n",
      "2019-02-17 08:44:17,807 : INFO : EPOCH 16 - PROGRESS: at 65.93% examples, 349525 words/s, in_qsize 15, out_qsize 0\n",
      "2019-02-17 08:44:18,815 : INFO : EPOCH 16 - PROGRESS: at 69.72% examples, 347085 words/s, in_qsize 14, out_qsize 1\n",
      "2019-02-17 08:44:19,841 : INFO : EPOCH 16 - PROGRESS: at 74.27% examples, 348108 words/s, in_qsize 16, out_qsize 2\n",
      "2019-02-17 08:44:20,844 : INFO : EPOCH 16 - PROGRESS: at 79.05% examples, 350392 words/s, in_qsize 15, out_qsize 0\n",
      "2019-02-17 08:44:21,865 : INFO : EPOCH 16 - PROGRESS: at 83.18% examples, 349417 words/s, in_qsize 15, out_qsize 0\n",
      "2019-02-17 08:44:22,945 : INFO : EPOCH 16 - PROGRESS: at 87.40% examples, 347966 words/s, in_qsize 15, out_qsize 0\n",
      "2019-02-17 08:44:24,012 : INFO : EPOCH 16 - PROGRESS: at 91.74% examples, 347250 words/s, in_qsize 15, out_qsize 0\n",
      "2019-02-17 08:44:25,025 : INFO : EPOCH 16 - PROGRESS: at 96.64% examples, 349405 words/s, in_qsize 15, out_qsize 0\n",
      "2019-02-17 08:44:25,677 : INFO : worker thread finished; awaiting finish of 7 more threads\n",
      "2019-02-17 08:44:25,700 : INFO : worker thread finished; awaiting finish of 6 more threads\n",
      "2019-02-17 08:44:25,702 : INFO : worker thread finished; awaiting finish of 5 more threads\n",
      "2019-02-17 08:44:25,703 : INFO : worker thread finished; awaiting finish of 4 more threads\n",
      "2019-02-17 08:44:25,710 : INFO : worker thread finished; awaiting finish of 3 more threads\n",
      "2019-02-17 08:44:25,743 : INFO : worker thread finished; awaiting finish of 2 more threads\n",
      "2019-02-17 08:44:25,746 : INFO : worker thread finished; awaiting finish of 1 more threads\n",
      "2019-02-17 08:44:25,756 : INFO : worker thread finished; awaiting finish of 0 more threads\n",
      "2019-02-17 08:44:25,757 : INFO : EPOCH - 16 : training on 9227204 raw words (8222586 effective words) took 23.5s, 350318 effective words/s\n",
      "2019-02-17 08:44:26,794 : INFO : EPOCH 17 - PROGRESS: at 3.69% examples, 298199 words/s, in_qsize 16, out_qsize 1\n",
      "2019-02-17 08:44:27,801 : INFO : EPOCH 17 - PROGRESS: at 8.36% examples, 339169 words/s, in_qsize 15, out_qsize 0\n",
      "2019-02-17 08:44:28,819 : INFO : EPOCH 17 - PROGRESS: at 12.39% examples, 333992 words/s, in_qsize 15, out_qsize 0\n",
      "2019-02-17 08:44:29,904 : INFO : EPOCH 17 - PROGRESS: at 17.24% examples, 343165 words/s, in_qsize 15, out_qsize 0\n",
      "2019-02-17 08:44:30,909 : INFO : EPOCH 17 - PROGRESS: at 21.68% examples, 347207 words/s, in_qsize 15, out_qsize 0\n",
      "2019-02-17 08:44:31,909 : INFO : EPOCH 17 - PROGRESS: at 26.02% examples, 348681 words/s, in_qsize 15, out_qsize 0\n",
      "2019-02-17 08:44:32,949 : INFO : EPOCH 17 - PROGRESS: at 30.46% examples, 349052 words/s, in_qsize 15, out_qsize 0\n",
      "2019-02-17 08:44:33,951 : INFO : EPOCH 17 - PROGRESS: at 34.89% examples, 350967 words/s, in_qsize 15, out_qsize 0\n",
      "2019-02-17 08:44:34,951 : INFO : EPOCH 17 - PROGRESS: at 39.11% examples, 350557 words/s, in_qsize 16, out_qsize 0\n",
      "2019-02-17 08:44:36,017 : INFO : EPOCH 17 - PROGRESS: at 43.32% examples, 348675 words/s, in_qsize 15, out_qsize 4\n",
      "2019-02-17 08:44:37,006 : INFO : EPOCH 17 - PROGRESS: at 47.65% examples, 349056 words/s, in_qsize 16, out_qsize 0\n",
      "2019-02-17 08:44:38,064 : INFO : EPOCH 17 - PROGRESS: at 52.07% examples, 348752 words/s, in_qsize 16, out_qsize 2\n",
      "2019-02-17 08:44:39,085 : INFO : EPOCH 17 - PROGRESS: at 56.73% examples, 350787 words/s, in_qsize 14, out_qsize 1\n",
      "2019-02-17 08:44:40,085 : INFO : EPOCH 17 - PROGRESS: at 60.96% examples, 350554 words/s, in_qsize 15, out_qsize 0\n",
      "2019-02-17 08:44:41,091 : INFO : EPOCH 17 - PROGRESS: at 65.06% examples, 349635 words/s, in_qsize 15, out_qsize 0\n",
      "2019-02-17 08:44:42,156 : INFO : EPOCH 17 - PROGRESS: at 69.40% examples, 348653 words/s, in_qsize 16, out_qsize 0\n",
      "2019-02-17 08:44:43,204 : INFO : EPOCH 17 - PROGRESS: at 74.37% examples, 351203 words/s, in_qsize 16, out_qsize 0\n",
      "2019-02-17 08:44:44,314 : INFO : EPOCH 17 - PROGRESS: at 78.84% examples, 349854 words/s, in_qsize 14, out_qsize 1\n",
      "2019-02-17 08:44:45,332 : INFO : EPOCH 17 - PROGRESS: at 83.40% examples, 350775 words/s, in_qsize 14, out_qsize 1\n",
      "2019-02-17 08:44:46,353 : INFO : EPOCH 17 - PROGRESS: at 87.62% examples, 350239 words/s, in_qsize 16, out_qsize 0\n",
      "2019-02-17 08:44:47,428 : INFO : EPOCH 17 - PROGRESS: at 92.18% examples, 350124 words/s, in_qsize 15, out_qsize 0\n",
      "2019-02-17 08:44:48,463 : INFO : EPOCH 17 - PROGRESS: at 96.85% examples, 351020 words/s, in_qsize 15, out_qsize 0\n",
      "2019-02-17 08:44:49,043 : INFO : worker thread finished; awaiting finish of 7 more threads\n",
      "2019-02-17 08:44:49,046 : INFO : worker thread finished; awaiting finish of 6 more threads\n",
      "2019-02-17 08:44:49,052 : INFO : worker thread finished; awaiting finish of 5 more threads\n",
      "2019-02-17 08:44:49,074 : INFO : worker thread finished; awaiting finish of 4 more threads\n",
      "2019-02-17 08:44:49,080 : INFO : worker thread finished; awaiting finish of 3 more threads\n",
      "2019-02-17 08:44:49,084 : INFO : worker thread finished; awaiting finish of 2 more threads\n",
      "2019-02-17 08:44:49,088 : INFO : worker thread finished; awaiting finish of 1 more threads\n",
      "2019-02-17 08:44:49,101 : INFO : worker thread finished; awaiting finish of 0 more threads\n",
      "2019-02-17 08:44:49,102 : INFO : EPOCH - 17 : training on 9227204 raw words (8222392 effective words) took 23.3s, 352534 effective words/s\n",
      "2019-02-17 08:44:50,120 : INFO : EPOCH 18 - PROGRESS: at 3.91% examples, 318482 words/s, in_qsize 15, out_qsize 0\n",
      "2019-02-17 08:44:51,137 : INFO : EPOCH 18 - PROGRESS: at 8.25% examples, 334364 words/s, in_qsize 15, out_qsize 0\n",
      "2019-02-17 08:44:52,159 : INFO : EPOCH 18 - PROGRESS: at 12.60% examples, 339292 words/s, in_qsize 14, out_qsize 1\n",
      "2019-02-17 08:44:53,161 : INFO : EPOCH 18 - PROGRESS: at 17.03% examples, 345457 words/s, in_qsize 15, out_qsize 1\n",
      "2019-02-17 08:44:54,166 : INFO : EPOCH 18 - PROGRESS: at 21.46% examples, 348999 words/s, in_qsize 16, out_qsize 1\n",
      "2019-02-17 08:44:55,168 : INFO : EPOCH 18 - PROGRESS: at 25.91% examples, 351658 words/s, in_qsize 14, out_qsize 1\n",
      "2019-02-17 08:44:56,228 : INFO : EPOCH 18 - PROGRESS: at 30.13% examples, 348063 words/s, in_qsize 14, out_qsize 1\n",
      "2019-02-17 08:44:57,266 : INFO : EPOCH 18 - PROGRESS: at 34.68% examples, 349629 words/s, in_qsize 15, out_qsize 0\n",
      "2019-02-17 08:44:58,317 : INFO : EPOCH 18 - PROGRESS: at 39.10% examples, 349378 words/s, in_qsize 14, out_qsize 1\n",
      "2019-02-17 08:44:59,425 : INFO : EPOCH 18 - PROGRESS: at 43.65% examples, 348116 words/s, in_qsize 15, out_qsize 0\n",
      "2019-02-17 08:45:00,430 : INFO : EPOCH 18 - PROGRESS: at 48.29% examples, 351067 words/s, in_qsize 16, out_qsize 0\n",
      "2019-02-17 08:45:01,454 : INFO : EPOCH 18 - PROGRESS: at 52.73% examples, 351538 words/s, in_qsize 16, out_qsize 1\n",
      "2019-02-17 08:45:02,529 : INFO : EPOCH 18 - PROGRESS: at 57.27% examples, 351840 words/s, in_qsize 16, out_qsize 2\n",
      "2019-02-17 08:45:03,521 : INFO : EPOCH 18 - PROGRESS: at 61.82% examples, 353062 words/s, in_qsize 16, out_qsize 0\n",
      "2019-02-17 08:45:04,540 : INFO : EPOCH 18 - PROGRESS: at 66.25% examples, 353426 words/s, in_qsize 15, out_qsize 0\n",
      "2019-02-17 08:45:05,548 : INFO : EPOCH 18 - PROGRESS: at 70.37% examples, 352328 words/s, in_qsize 15, out_qsize 3\n",
      "2019-02-17 08:45:06,568 : INFO : EPOCH 18 - PROGRESS: at 74.81% examples, 352648 words/s, in_qsize 15, out_qsize 0\n",
      "2019-02-17 08:45:07,612 : INFO : EPOCH 18 - PROGRESS: at 79.38% examples, 352972 words/s, in_qsize 15, out_qsize 0\n",
      "2019-02-17 08:45:08,700 : INFO : EPOCH 18 - PROGRESS: at 84.05% examples, 353185 words/s, in_qsize 15, out_qsize 1\n",
      "2019-02-17 08:45:09,702 : INFO : EPOCH 18 - PROGRESS: at 88.48% examples, 353488 words/s, in_qsize 15, out_qsize 0\n",
      "2019-02-17 08:45:10,775 : INFO : EPOCH 18 - PROGRESS: at 92.94% examples, 352809 words/s, in_qsize 15, out_qsize 0\n",
      "2019-02-17 08:45:11,797 : INFO : EPOCH 18 - PROGRESS: at 97.61% examples, 353787 words/s, in_qsize 13, out_qsize 2\n",
      "2019-02-17 08:45:12,167 : INFO : worker thread finished; awaiting finish of 7 more threads\n",
      "2019-02-17 08:45:12,172 : INFO : worker thread finished; awaiting finish of 6 more threads\n",
      "2019-02-17 08:45:12,173 : INFO : worker thread finished; awaiting finish of 5 more threads\n",
      "2019-02-17 08:45:12,174 : INFO : worker thread finished; awaiting finish of 4 more threads\n",
      "2019-02-17 08:45:12,194 : INFO : worker thread finished; awaiting finish of 3 more threads\n",
      "2019-02-17 08:45:12,214 : INFO : worker thread finished; awaiting finish of 2 more threads\n",
      "2019-02-17 08:45:12,237 : INFO : worker thread finished; awaiting finish of 1 more threads\n",
      "2019-02-17 08:45:12,239 : INFO : worker thread finished; awaiting finish of 0 more threads\n",
      "2019-02-17 08:45:12,240 : INFO : EPOCH - 18 : training on 9227204 raw words (8222731 effective words) took 23.1s, 355540 effective words/s\n",
      "2019-02-17 08:45:13,258 : INFO : EPOCH 19 - PROGRESS: at 3.80% examples, 309398 words/s, in_qsize 14, out_qsize 1\n",
      "2019-02-17 08:45:14,260 : INFO : EPOCH 19 - PROGRESS: at 8.37% examples, 341267 words/s, in_qsize 16, out_qsize 0\n",
      "2019-02-17 08:45:15,279 : INFO : EPOCH 19 - PROGRESS: at 12.71% examples, 344222 words/s, in_qsize 15, out_qsize 0\n",
      "2019-02-17 08:45:16,296 : INFO : EPOCH 19 - PROGRESS: at 17.24% examples, 349993 words/s, in_qsize 15, out_qsize 0\n",
      "2019-02-17 08:45:17,414 : INFO : EPOCH 19 - PROGRESS: at 21.68% examples, 344951 words/s, in_qsize 15, out_qsize 0\n",
      "2019-02-17 08:45:18,535 : INFO : EPOCH 19 - PROGRESS: at 26.34% examples, 344427 words/s, in_qsize 14, out_qsize 1\n",
      "2019-02-17 08:45:19,545 : INFO : EPOCH 19 - PROGRESS: at 31.10% examples, 350543 words/s, in_qsize 15, out_qsize 0\n",
      "2019-02-17 08:45:20,556 : INFO : EPOCH 19 - PROGRESS: at 35.43% examples, 350737 words/s, in_qsize 13, out_qsize 2\n",
      "2019-02-17 08:45:21,564 : INFO : EPOCH 19 - PROGRESS: at 39.76% examples, 351044 words/s, in_qsize 16, out_qsize 0\n",
      "2019-02-17 08:45:22,570 : INFO : EPOCH 19 - PROGRESS: at 43.75% examples, 348740 words/s, in_qsize 15, out_qsize 0\n",
      "2019-02-17 08:45:23,640 : INFO : EPOCH 19 - PROGRESS: at 48.19% examples, 348038 words/s, in_qsize 15, out_qsize 0\n",
      "2019-02-17 08:45:24,655 : INFO : EPOCH 19 - PROGRESS: at 52.51% examples, 348328 words/s, in_qsize 15, out_qsize 0\n",
      "2019-02-17 08:45:25,718 : INFO : EPOCH 19 - PROGRESS: at 56.95% examples, 347955 words/s, in_qsize 16, out_qsize 0\n",
      "2019-02-17 08:45:26,740 : INFO : EPOCH 19 - PROGRESS: at 61.50% examples, 349262 words/s, in_qsize 14, out_qsize 0\n",
      "2019-02-17 08:45:27,769 : INFO : EPOCH 19 - PROGRESS: at 65.50% examples, 347326 words/s, in_qsize 15, out_qsize 0\n",
      "2019-02-17 08:45:28,857 : INFO : EPOCH 19 - PROGRESS: at 69.94% examples, 346581 words/s, in_qsize 13, out_qsize 2\n",
      "2019-02-17 08:45:29,858 : INFO : EPOCH 19 - PROGRESS: at 74.59% examples, 348630 words/s, in_qsize 15, out_qsize 0\n",
      "2019-02-17 08:45:30,940 : INFO : EPOCH 19 - PROGRESS: at 79.38% examples, 349710 words/s, in_qsize 15, out_qsize 0\n",
      "2019-02-17 08:45:31,982 : INFO : EPOCH 19 - PROGRESS: at 83.94% examples, 349921 words/s, in_qsize 15, out_qsize 0\n",
      "2019-02-17 08:45:32,983 : INFO : EPOCH 19 - PROGRESS: at 88.48% examples, 351057 words/s, in_qsize 15, out_qsize 0\n",
      "2019-02-17 08:45:34,041 : INFO : EPOCH 19 - PROGRESS: at 92.72% examples, 350322 words/s, in_qsize 15, out_qsize 2\n",
      "2019-02-17 08:45:35,167 : INFO : EPOCH 19 - PROGRESS: at 97.61% examples, 350230 words/s, in_qsize 12, out_qsize 3\n",
      "2019-02-17 08:45:35,403 : INFO : worker thread finished; awaiting finish of 7 more threads\n",
      "2019-02-17 08:45:35,426 : INFO : worker thread finished; awaiting finish of 6 more threads\n",
      "2019-02-17 08:45:35,445 : INFO : worker thread finished; awaiting finish of 5 more threads\n",
      "2019-02-17 08:45:35,490 : INFO : worker thread finished; awaiting finish of 4 more threads\n",
      "2019-02-17 08:45:35,506 : INFO : worker thread finished; awaiting finish of 3 more threads\n",
      "2019-02-17 08:45:35,512 : INFO : worker thread finished; awaiting finish of 2 more threads\n",
      "2019-02-17 08:45:35,521 : INFO : worker thread finished; awaiting finish of 1 more threads\n",
      "2019-02-17 08:45:35,529 : INFO : worker thread finished; awaiting finish of 0 more threads\n",
      "2019-02-17 08:45:35,530 : INFO : EPOCH - 19 : training on 9227204 raw words (8223061 effective words) took 23.3s, 353240 effective words/s\n",
      "2019-02-17 08:45:36,573 : INFO : EPOCH 20 - PROGRESS: at 3.80% examples, 303209 words/s, in_qsize 14, out_qsize 0\n",
      "2019-02-17 08:45:37,639 : INFO : EPOCH 20 - PROGRESS: at 8.15% examples, 319098 words/s, in_qsize 15, out_qsize 1\n",
      "2019-02-17 08:45:38,692 : INFO : EPOCH 20 - PROGRESS: at 12.60% examples, 328386 words/s, in_qsize 15, out_qsize 2\n",
      "2019-02-17 08:45:39,694 : INFO : EPOCH 20 - PROGRESS: at 17.13% examples, 339208 words/s, in_qsize 14, out_qsize 1\n",
      "2019-02-17 08:45:40,747 : INFO : EPOCH 20 - PROGRESS: at 21.46% examples, 339030 words/s, in_qsize 15, out_qsize 0\n",
      "2019-02-17 08:45:41,823 : INFO : EPOCH 20 - PROGRESS: at 26.02% examples, 341212 words/s, in_qsize 15, out_qsize 3\n",
      "2019-02-17 08:45:42,826 : INFO : EPOCH 20 - PROGRESS: at 30.78% examples, 347490 words/s, in_qsize 16, out_qsize 0\n",
      "2019-02-17 08:45:43,892 : INFO : EPOCH 20 - PROGRESS: at 35.10% examples, 345776 words/s, in_qsize 15, out_qsize 0\n",
      "2019-02-17 08:45:44,927 : INFO : EPOCH 20 - PROGRESS: at 39.33% examples, 344649 words/s, in_qsize 13, out_qsize 2\n",
      "2019-02-17 08:45:45,982 : INFO : EPOCH 20 - PROGRESS: at 43.75% examples, 344823 words/s, in_qsize 15, out_qsize 0\n",
      "2019-02-17 08:45:47,050 : INFO : EPOCH 20 - PROGRESS: at 48.29% examples, 345339 words/s, in_qsize 15, out_qsize 0\n",
      "2019-02-17 08:45:48,062 : INFO : EPOCH 20 - PROGRESS: at 52.62% examples, 345940 words/s, in_qsize 15, out_qsize 2\n",
      "2019-02-17 08:45:49,093 : INFO : EPOCH 20 - PROGRESS: at 57.16% examples, 347250 words/s, in_qsize 15, out_qsize 0\n",
      "2019-02-17 08:45:50,110 : INFO : EPOCH 20 - PROGRESS: at 61.71% examples, 348698 words/s, in_qsize 16, out_qsize 0\n",
      "2019-02-17 08:45:51,202 : INFO : EPOCH 20 - PROGRESS: at 66.04% examples, 347139 words/s, in_qsize 15, out_qsize 0\n",
      "2019-02-17 08:45:52,203 : INFO : EPOCH 20 - PROGRESS: at 70.59% examples, 348725 words/s, in_qsize 14, out_qsize 1\n",
      "2019-02-17 08:45:53,213 : INFO : EPOCH 20 - PROGRESS: at 74.59% examples, 347448 words/s, in_qsize 15, out_qsize 2\n",
      "2019-02-17 08:45:54,227 : INFO : EPOCH 20 - PROGRESS: at 78.95% examples, 347644 words/s, in_qsize 12, out_qsize 3\n",
      "2019-02-17 08:45:55,301 : INFO : EPOCH 20 - PROGRESS: at 83.39% examples, 347434 words/s, in_qsize 15, out_qsize 4\n",
      "2019-02-17 08:45:56,332 : INFO : EPOCH 20 - PROGRESS: at 87.72% examples, 347171 words/s, in_qsize 15, out_qsize 0\n",
      "2019-02-17 08:45:57,444 : INFO : EPOCH 20 - PROGRESS: at 92.06% examples, 346105 words/s, in_qsize 15, out_qsize 1\n",
      "2019-02-17 08:45:58,450 : INFO : EPOCH 20 - PROGRESS: at 96.21% examples, 345371 words/s, in_qsize 15, out_qsize 0\n",
      "2019-02-17 08:45:59,162 : INFO : worker thread finished; awaiting finish of 7 more threads\n",
      "2019-02-17 08:45:59,180 : INFO : worker thread finished; awaiting finish of 6 more threads\n",
      "2019-02-17 08:45:59,182 : INFO : worker thread finished; awaiting finish of 5 more threads\n",
      "2019-02-17 08:45:59,200 : INFO : worker thread finished; awaiting finish of 4 more threads\n",
      "2019-02-17 08:45:59,221 : INFO : worker thread finished; awaiting finish of 3 more threads\n",
      "2019-02-17 08:45:59,223 : INFO : worker thread finished; awaiting finish of 2 more threads\n",
      "2019-02-17 08:45:59,225 : INFO : worker thread finished; awaiting finish of 1 more threads\n",
      "2019-02-17 08:45:59,230 : INFO : worker thread finished; awaiting finish of 0 more threads\n",
      "2019-02-17 08:45:59,231 : INFO : EPOCH - 20 : training on 9227204 raw words (8223485 effective words) took 23.7s, 347186 effective words/s\n",
      "2019-02-17 08:46:00,256 : INFO : EPOCH 21 - PROGRESS: at 3.58% examples, 289899 words/s, in_qsize 16, out_qsize 0\n",
      "2019-02-17 08:46:01,303 : INFO : EPOCH 21 - PROGRESS: at 7.82% examples, 311186 words/s, in_qsize 15, out_qsize 0\n",
      "2019-02-17 08:46:02,317 : INFO : EPOCH 21 - PROGRESS: at 11.95% examples, 318751 words/s, in_qsize 15, out_qsize 0\n",
      "2019-02-17 08:46:03,403 : INFO : EPOCH 21 - PROGRESS: at 15.94% examples, 314625 words/s, in_qsize 16, out_qsize 1\n",
      "2019-02-17 08:46:04,424 : INFO : EPOCH 21 - PROGRESS: at 20.49% examples, 324835 words/s, in_qsize 15, out_qsize 0\n",
      "2019-02-17 08:46:05,428 : INFO : EPOCH 21 - PROGRESS: at 24.39% examples, 323996 words/s, in_qsize 16, out_qsize 1\n",
      "2019-02-17 08:46:06,435 : INFO : EPOCH 21 - PROGRESS: at 28.51% examples, 325694 words/s, in_qsize 14, out_qsize 1\n",
      "2019-02-17 08:46:07,479 : INFO : EPOCH 21 - PROGRESS: at 32.84% examples, 328682 words/s, in_qsize 15, out_qsize 0\n",
      "2019-02-17 08:46:08,458 : INFO : EPOCH 21 - PROGRESS: at 36.72% examples, 327674 words/s, in_qsize 16, out_qsize 0\n",
      "2019-02-17 08:46:09,519 : INFO : EPOCH 21 - PROGRESS: at 41.05% examples, 328505 words/s, in_qsize 13, out_qsize 2\n",
      "2019-02-17 08:46:10,550 : INFO : EPOCH 21 - PROGRESS: at 45.37% examples, 330052 words/s, in_qsize 15, out_qsize 0\n",
      "2019-02-17 08:46:11,630 : INFO : EPOCH 21 - PROGRESS: at 49.70% examples, 330473 words/s, in_qsize 16, out_qsize 1\n",
      "2019-02-17 08:46:12,721 : INFO : EPOCH 21 - PROGRESS: at 54.24% examples, 331828 words/s, in_qsize 15, out_qsize 0\n",
      "2019-02-17 08:46:13,725 : INFO : EPOCH 21 - PROGRESS: at 58.58% examples, 332767 words/s, in_qsize 15, out_qsize 0\n",
      "2019-02-17 08:46:14,794 : INFO : EPOCH 21 - PROGRESS: at 62.68% examples, 331668 words/s, in_qsize 14, out_qsize 1\n",
      "2019-02-17 08:46:15,814 : INFO : EPOCH 21 - PROGRESS: at 67.13% examples, 333281 words/s, in_qsize 15, out_qsize 0\n",
      "2019-02-17 08:46:16,831 : INFO : EPOCH 21 - PROGRESS: at 71.24% examples, 333256 words/s, in_qsize 16, out_qsize 1\n",
      "2019-02-17 08:46:17,843 : INFO : EPOCH 21 - PROGRESS: at 75.03% examples, 331878 words/s, in_qsize 16, out_qsize 0\n",
      "2019-02-17 08:46:18,892 : INFO : EPOCH 21 - PROGRESS: at 79.05% examples, 331335 words/s, in_qsize 15, out_qsize 0\n",
      "2019-02-17 08:46:19,885 : INFO : EPOCH 21 - PROGRESS: at 83.07% examples, 330963 words/s, in_qsize 15, out_qsize 0\n",
      "2019-02-17 08:46:20,988 : INFO : EPOCH 21 - PROGRESS: at 87.51% examples, 331423 words/s, in_qsize 15, out_qsize 1\n",
      "2019-02-17 08:46:21,999 : INFO : EPOCH 21 - PROGRESS: at 91.63% examples, 331103 words/s, in_qsize 15, out_qsize 0\n",
      "2019-02-17 08:46:23,000 : INFO : EPOCH 21 - PROGRESS: at 95.77% examples, 331397 words/s, in_qsize 15, out_qsize 0\n",
      "2019-02-17 08:46:23,830 : INFO : worker thread finished; awaiting finish of 7 more threads\n",
      "2019-02-17 08:46:23,848 : INFO : worker thread finished; awaiting finish of 6 more threads\n",
      "2019-02-17 08:46:23,852 : INFO : worker thread finished; awaiting finish of 5 more threads\n",
      "2019-02-17 08:46:23,922 : INFO : worker thread finished; awaiting finish of 4 more threads\n",
      "2019-02-17 08:46:23,927 : INFO : worker thread finished; awaiting finish of 3 more threads\n",
      "2019-02-17 08:46:23,929 : INFO : worker thread finished; awaiting finish of 2 more threads\n",
      "2019-02-17 08:46:23,940 : INFO : worker thread finished; awaiting finish of 1 more threads\n",
      "2019-02-17 08:46:23,944 : INFO : worker thread finished; awaiting finish of 0 more threads\n",
      "2019-02-17 08:46:23,945 : INFO : EPOCH - 21 : training on 9227204 raw words (8222045 effective words) took 24.7s, 332830 effective words/s\n",
      "2019-02-17 08:46:24,964 : INFO : EPOCH 22 - PROGRESS: at 3.47% examples, 284194 words/s, in_qsize 14, out_qsize 1\n",
      "2019-02-17 08:46:26,042 : INFO : EPOCH 22 - PROGRESS: at 7.82% examples, 308060 words/s, in_qsize 15, out_qsize 0\n",
      "2019-02-17 08:46:27,102 : INFO : EPOCH 22 - PROGRESS: at 12.28% examples, 320490 words/s, in_qsize 15, out_qsize 0\n",
      "2019-02-17 08:46:28,130 : INFO : EPOCH 22 - PROGRESS: at 16.59% examples, 326885 words/s, in_qsize 15, out_qsize 0\n",
      "2019-02-17 08:46:29,173 : INFO : EPOCH 22 - PROGRESS: at 20.48% examples, 325040 words/s, in_qsize 15, out_qsize 0\n",
      "2019-02-17 08:46:30,175 : INFO : EPOCH 22 - PROGRESS: at 24.94% examples, 329723 words/s, in_qsize 15, out_qsize 0\n",
      "2019-02-17 08:46:31,208 : INFO : EPOCH 22 - PROGRESS: at 28.61% examples, 324492 words/s, in_qsize 15, out_qsize 0\n",
      "2019-02-17 08:46:32,277 : INFO : EPOCH 22 - PROGRESS: at 32.62% examples, 323660 words/s, in_qsize 15, out_qsize 1\n",
      "2019-02-17 08:46:33,260 : INFO : EPOCH 22 - PROGRESS: at 36.29% examples, 320944 words/s, in_qsize 13, out_qsize 5\n",
      "2019-02-17 08:46:34,275 : INFO : EPOCH 22 - PROGRESS: at 40.73% examples, 324736 words/s, in_qsize 15, out_qsize 0\n",
      "2019-02-17 08:46:35,309 : INFO : EPOCH 22 - PROGRESS: at 45.37% examples, 328879 words/s, in_qsize 14, out_qsize 2\n",
      "2019-02-17 08:46:36,408 : INFO : EPOCH 22 - PROGRESS: at 49.92% examples, 329936 words/s, in_qsize 15, out_qsize 0\n",
      "2019-02-17 08:46:37,548 : INFO : EPOCH 22 - PROGRESS: at 54.56% examples, 330436 words/s, in_qsize 11, out_qsize 4\n",
      "2019-02-17 08:46:38,556 : INFO : EPOCH 22 - PROGRESS: at 59.12% examples, 333290 words/s, in_qsize 15, out_qsize 0\n",
      "2019-02-17 08:46:39,579 : INFO : EPOCH 22 - PROGRESS: at 63.33% examples, 333701 words/s, in_qsize 14, out_qsize 1\n",
      "2019-02-17 08:46:40,585 : INFO : EPOCH 22 - PROGRESS: at 68.10% examples, 337059 words/s, in_qsize 16, out_qsize 0\n",
      "2019-02-17 08:46:41,600 : INFO : EPOCH 22 - PROGRESS: at 71.99% examples, 335842 words/s, in_qsize 14, out_qsize 1\n",
      "2019-02-17 08:46:42,681 : INFO : EPOCH 22 - PROGRESS: at 76.55% examples, 336663 words/s, in_qsize 15, out_qsize 0\n",
      "2019-02-17 08:46:43,701 : INFO : EPOCH 22 - PROGRESS: at 81.01% examples, 337543 words/s, in_qsize 13, out_qsize 2\n",
      "2019-02-17 08:46:44,803 : INFO : EPOCH 22 - PROGRESS: at 85.66% examples, 338071 words/s, in_qsize 13, out_qsize 2\n",
      "2019-02-17 08:46:45,848 : INFO : EPOCH 22 - PROGRESS: at 90.22% examples, 339020 words/s, in_qsize 15, out_qsize 0\n",
      "2019-02-17 08:46:46,893 : INFO : EPOCH 22 - PROGRESS: at 94.36% examples, 338327 words/s, in_qsize 15, out_qsize 2\n",
      "2019-02-17 08:46:47,906 : INFO : EPOCH 22 - PROGRESS: at 99.33% examples, 341113 words/s, in_qsize 7, out_qsize 1\n",
      "2019-02-17 08:46:47,909 : INFO : worker thread finished; awaiting finish of 7 more threads\n",
      "2019-02-17 08:46:47,933 : INFO : worker thread finished; awaiting finish of 6 more threads\n",
      "2019-02-17 08:46:47,963 : INFO : worker thread finished; awaiting finish of 5 more threads\n",
      "2019-02-17 08:46:48,002 : INFO : worker thread finished; awaiting finish of 4 more threads\n",
      "2019-02-17 08:46:48,005 : INFO : worker thread finished; awaiting finish of 3 more threads\n",
      "2019-02-17 08:46:48,019 : INFO : worker thread finished; awaiting finish of 2 more threads\n",
      "2019-02-17 08:46:48,024 : INFO : worker thread finished; awaiting finish of 1 more threads\n",
      "2019-02-17 08:46:48,034 : INFO : worker thread finished; awaiting finish of 0 more threads\n",
      "2019-02-17 08:46:48,035 : INFO : EPOCH - 22 : training on 9227204 raw words (8222743 effective words) took 24.1s, 341547 effective words/s\n",
      "2019-02-17 08:46:49,090 : INFO : EPOCH 23 - PROGRESS: at 3.80% examples, 299236 words/s, in_qsize 14, out_qsize 1\n",
      "2019-02-17 08:46:50,098 : INFO : EPOCH 23 - PROGRESS: at 8.04% examples, 321594 words/s, in_qsize 15, out_qsize 0\n",
      "2019-02-17 08:46:51,107 : INFO : EPOCH 23 - PROGRESS: at 12.60% examples, 337911 words/s, in_qsize 15, out_qsize 0\n",
      "2019-02-17 08:46:52,185 : INFO : EPOCH 23 - PROGRESS: at 16.59% examples, 329497 words/s, in_qsize 15, out_qsize 0\n",
      "2019-02-17 08:46:53,315 : INFO : EPOCH 23 - PROGRESS: at 20.81% examples, 324966 words/s, in_qsize 15, out_qsize 1\n",
      "2019-02-17 08:46:54,367 : INFO : EPOCH 23 - PROGRESS: at 25.37% examples, 329902 words/s, in_qsize 15, out_qsize 0\n",
      "2019-02-17 08:46:55,383 : INFO : EPOCH 23 - PROGRESS: at 29.70% examples, 332817 words/s, in_qsize 15, out_qsize 0\n",
      "2019-02-17 08:46:56,452 : INFO : EPOCH 23 - PROGRESS: at 33.81% examples, 331243 words/s, in_qsize 15, out_qsize 1\n",
      "2019-02-17 08:46:57,459 : INFO : EPOCH 23 - PROGRESS: at 38.24% examples, 334186 words/s, in_qsize 16, out_qsize 0\n",
      "2019-02-17 08:46:58,475 : INFO : EPOCH 23 - PROGRESS: at 41.80% examples, 329804 words/s, in_qsize 15, out_qsize 0\n",
      "2019-02-17 08:46:59,500 : INFO : EPOCH 23 - PROGRESS: at 46.13% examples, 331402 words/s, in_qsize 14, out_qsize 1\n",
      "2019-02-17 08:47:00,543 : INFO : EPOCH 23 - PROGRESS: at 49.92% examples, 328722 words/s, in_qsize 15, out_qsize 0\n",
      "2019-02-17 08:47:01,594 : INFO : EPOCH 23 - PROGRESS: at 54.13% examples, 329092 words/s, in_qsize 15, out_qsize 1\n",
      "2019-02-17 08:47:02,675 : INFO : EPOCH 23 - PROGRESS: at 58.47% examples, 328944 words/s, in_qsize 15, out_qsize 0\n",
      "2019-02-17 08:47:03,702 : INFO : EPOCH 23 - PROGRESS: at 62.68% examples, 329564 words/s, in_qsize 15, out_qsize 0\n",
      "2019-02-17 08:47:04,709 : INFO : EPOCH 23 - PROGRESS: at 67.23% examples, 332101 words/s, in_qsize 12, out_qsize 1\n",
      "2019-02-17 08:47:05,778 : INFO : EPOCH 23 - PROGRESS: at 71.24% examples, 330683 words/s, in_qsize 15, out_qsize 1\n",
      "2019-02-17 08:47:06,783 : INFO : EPOCH 23 - PROGRESS: at 75.57% examples, 331949 words/s, in_qsize 14, out_qsize 0\n",
      "2019-02-17 08:47:07,822 : INFO : EPOCH 23 - PROGRESS: at 79.71% examples, 331639 words/s, in_qsize 16, out_qsize 0\n",
      "2019-02-17 08:47:08,837 : INFO : EPOCH 23 - PROGRESS: at 83.50% examples, 330447 words/s, in_qsize 15, out_qsize 0\n",
      "2019-02-17 08:47:09,884 : INFO : EPOCH 23 - PROGRESS: at 87.83% examples, 330923 words/s, in_qsize 12, out_qsize 5\n",
      "2019-02-17 08:47:10,922 : INFO : EPOCH 23 - PROGRESS: at 92.39% examples, 332251 words/s, in_qsize 15, out_qsize 0\n",
      "2019-02-17 08:47:11,984 : INFO : EPOCH 23 - PROGRESS: at 97.18% examples, 333869 words/s, in_qsize 15, out_qsize 0\n",
      "2019-02-17 08:47:12,454 : INFO : worker thread finished; awaiting finish of 7 more threads\n",
      "2019-02-17 08:47:12,479 : INFO : worker thread finished; awaiting finish of 6 more threads\n",
      "2019-02-17 08:47:12,487 : INFO : worker thread finished; awaiting finish of 5 more threads\n",
      "2019-02-17 08:47:12,490 : INFO : worker thread finished; awaiting finish of 4 more threads\n",
      "2019-02-17 08:47:12,492 : INFO : worker thread finished; awaiting finish of 3 more threads\n",
      "2019-02-17 08:47:12,495 : INFO : worker thread finished; awaiting finish of 2 more threads\n",
      "2019-02-17 08:47:12,504 : INFO : worker thread finished; awaiting finish of 1 more threads\n",
      "2019-02-17 08:47:12,519 : INFO : worker thread finished; awaiting finish of 0 more threads\n",
      "2019-02-17 08:47:12,520 : INFO : EPOCH - 23 : training on 9227204 raw words (8223792 effective words) took 24.5s, 336070 effective words/s\n",
      "2019-02-17 08:47:13,533 : INFO : EPOCH 24 - PROGRESS: at 3.47% examples, 284146 words/s, in_qsize 13, out_qsize 5\n",
      "2019-02-17 08:47:14,563 : INFO : EPOCH 24 - PROGRESS: at 8.04% examples, 328740 words/s, in_qsize 15, out_qsize 0\n",
      "2019-02-17 08:47:15,560 : INFO : EPOCH 24 - PROGRESS: at 12.49% examples, 338077 words/s, in_qsize 16, out_qsize 2\n",
      "2019-02-17 08:47:16,561 : INFO : EPOCH 24 - PROGRESS: at 16.70% examples, 340272 words/s, in_qsize 16, out_qsize 0\n",
      "2019-02-17 08:47:17,576 : INFO : EPOCH 24 - PROGRESS: at 21.03% examples, 342437 words/s, in_qsize 15, out_qsize 2\n",
      "2019-02-17 08:47:18,592 : INFO : EPOCH 24 - PROGRESS: at 25.26% examples, 342441 words/s, in_qsize 15, out_qsize 0\n",
      "2019-02-17 08:47:19,659 : INFO : EPOCH 24 - PROGRESS: at 29.80% examples, 343672 words/s, in_qsize 15, out_qsize 0\n",
      "2019-02-17 08:47:20,664 : INFO : EPOCH 24 - PROGRESS: at 34.13% examples, 344973 words/s, in_qsize 15, out_qsize 0\n",
      "2019-02-17 08:47:21,783 : INFO : EPOCH 24 - PROGRESS: at 38.68% examples, 343660 words/s, in_qsize 12, out_qsize 3\n",
      "2019-02-17 08:47:22,818 : INFO : EPOCH 24 - PROGRESS: at 43.21% examples, 345448 words/s, in_qsize 16, out_qsize 0\n",
      "2019-02-17 08:47:23,852 : INFO : EPOCH 24 - PROGRESS: at 47.32% examples, 343808 words/s, in_qsize 15, out_qsize 0\n",
      "2019-02-17 08:47:24,862 : INFO : EPOCH 24 - PROGRESS: at 51.86% examples, 345988 words/s, in_qsize 15, out_qsize 1\n",
      "2019-02-17 08:47:25,866 : INFO : EPOCH 24 - PROGRESS: at 56.18% examples, 346685 words/s, in_qsize 15, out_qsize 0\n",
      "2019-02-17 08:47:26,890 : INFO : EPOCH 24 - PROGRESS: at 60.52% examples, 346795 words/s, in_qsize 15, out_qsize 0\n",
      "2019-02-17 08:47:28,039 : INFO : EPOCH 24 - PROGRESS: at 65.06% examples, 345909 words/s, in_qsize 15, out_qsize 2\n",
      "2019-02-17 08:47:29,091 : INFO : EPOCH 24 - PROGRESS: at 69.61% examples, 345878 words/s, in_qsize 13, out_qsize 2\n",
      "2019-02-17 08:47:30,114 : INFO : EPOCH 24 - PROGRESS: at 74.16% examples, 347017 words/s, in_qsize 15, out_qsize 0\n",
      "2019-02-17 08:47:31,117 : INFO : EPOCH 24 - PROGRESS: at 78.95% examples, 349358 words/s, in_qsize 15, out_qsize 0\n",
      "2019-02-17 08:47:32,163 : INFO : EPOCH 24 - PROGRESS: at 83.07% examples, 348075 words/s, in_qsize 16, out_qsize 3\n",
      "2019-02-17 08:47:33,179 : INFO : EPOCH 24 - PROGRESS: at 87.51% examples, 348554 words/s, in_qsize 14, out_qsize 1\n",
      "2019-02-17 08:47:34,187 : INFO : EPOCH 24 - PROGRESS: at 91.96% examples, 349172 words/s, in_qsize 14, out_qsize 1\n",
      "2019-02-17 08:47:35,194 : INFO : EPOCH 24 - PROGRESS: at 96.53% examples, 350166 words/s, in_qsize 16, out_qsize 0\n",
      "2019-02-17 08:47:35,850 : INFO : worker thread finished; awaiting finish of 7 more threads\n",
      "2019-02-17 08:47:35,855 : INFO : worker thread finished; awaiting finish of 6 more threads\n",
      "2019-02-17 08:47:35,857 : INFO : worker thread finished; awaiting finish of 5 more threads\n",
      "2019-02-17 08:47:35,859 : INFO : worker thread finished; awaiting finish of 4 more threads\n",
      "2019-02-17 08:47:35,872 : INFO : worker thread finished; awaiting finish of 3 more threads\n",
      "2019-02-17 08:47:35,880 : INFO : worker thread finished; awaiting finish of 2 more threads\n",
      "2019-02-17 08:47:35,890 : INFO : worker thread finished; awaiting finish of 1 more threads\n",
      "2019-02-17 08:47:35,904 : INFO : worker thread finished; awaiting finish of 0 more threads\n",
      "2019-02-17 08:47:35,904 : INFO : EPOCH - 24 : training on 9227204 raw words (8222222 effective words) took 23.4s, 351758 effective words/s\n",
      "2019-02-17 08:47:36,987 : INFO : EPOCH 25 - PROGRESS: at 3.91% examples, 298963 words/s, in_qsize 15, out_qsize 0\n",
      "2019-02-17 08:47:37,999 : INFO : EPOCH 25 - PROGRESS: at 8.36% examples, 329136 words/s, in_qsize 13, out_qsize 2\n",
      "2019-02-17 08:47:39,030 : INFO : EPOCH 25 - PROGRESS: at 12.82% examples, 337517 words/s, in_qsize 15, out_qsize 2\n",
      "2019-02-17 08:47:40,058 : INFO : EPOCH 25 - PROGRESS: at 17.02% examples, 337492 words/s, in_qsize 12, out_qsize 4\n",
      "2019-02-17 08:47:41,072 : INFO : EPOCH 25 - PROGRESS: at 21.57% examples, 344506 words/s, in_qsize 15, out_qsize 3\n",
      "2019-02-17 08:47:42,101 : INFO : EPOCH 25 - PROGRESS: at 26.02% examples, 345576 words/s, in_qsize 15, out_qsize 0\n",
      "2019-02-17 08:47:43,108 : INFO : EPOCH 25 - PROGRESS: at 30.67% examples, 350440 words/s, in_qsize 14, out_qsize 1\n",
      "2019-02-17 08:47:44,110 : INFO : EPOCH 25 - PROGRESS: at 34.57% examples, 346728 words/s, in_qsize 13, out_qsize 2\n",
      "2019-02-17 08:47:45,118 : INFO : EPOCH 25 - PROGRESS: at 39.11% examples, 349678 words/s, in_qsize 16, out_qsize 1\n",
      "2019-02-17 08:47:46,122 : INFO : EPOCH 25 - PROGRESS: at 43.43% examples, 349942 words/s, in_qsize 15, out_qsize 0\n",
      "2019-02-17 08:47:47,137 : INFO : EPOCH 25 - PROGRESS: at 47.54% examples, 348441 words/s, in_qsize 16, out_qsize 0\n",
      "2019-02-17 08:47:48,183 : INFO : EPOCH 25 - PROGRESS: at 51.86% examples, 347795 words/s, in_qsize 14, out_qsize 1\n",
      "2019-02-17 08:47:49,199 : INFO : EPOCH 25 - PROGRESS: at 56.40% examples, 349382 words/s, in_qsize 15, out_qsize 0\n",
      "2019-02-17 08:47:50,220 : INFO : EPOCH 25 - PROGRESS: at 60.85% examples, 349986 words/s, in_qsize 16, out_qsize 0\n",
      "2019-02-17 08:47:51,297 : INFO : EPOCH 25 - PROGRESS: at 64.51% examples, 345162 words/s, in_qsize 16, out_qsize 1\n",
      "2019-02-17 08:47:52,426 : INFO : EPOCH 25 - PROGRESS: at 69.18% examples, 345069 words/s, in_qsize 15, out_qsize 1\n",
      "2019-02-17 08:47:53,459 : INFO : EPOCH 25 - PROGRESS: at 73.62% examples, 345275 words/s, in_qsize 14, out_qsize 1\n",
      "2019-02-17 08:47:54,551 : INFO : EPOCH 25 - PROGRESS: at 78.18% examples, 345090 words/s, in_qsize 15, out_qsize 0\n",
      "2019-02-17 08:47:55,594 : INFO : EPOCH 25 - PROGRESS: at 82.64% examples, 345365 words/s, in_qsize 16, out_qsize 0\n",
      "2019-02-17 08:47:56,682 : INFO : EPOCH 25 - PROGRESS: at 86.96% examples, 344420 words/s, in_qsize 15, out_qsize 0\n",
      "2019-02-17 08:47:57,742 : INFO : EPOCH 25 - PROGRESS: at 91.63% examples, 345235 words/s, in_qsize 15, out_qsize 0\n",
      "2019-02-17 08:47:58,789 : INFO : EPOCH 25 - PROGRESS: at 95.88% examples, 344613 words/s, in_qsize 13, out_qsize 2\n",
      "2019-02-17 08:47:59,529 : INFO : worker thread finished; awaiting finish of 7 more threads\n",
      "2019-02-17 08:47:59,544 : INFO : worker thread finished; awaiting finish of 6 more threads\n",
      "2019-02-17 08:47:59,546 : INFO : worker thread finished; awaiting finish of 5 more threads\n",
      "2019-02-17 08:47:59,551 : INFO : worker thread finished; awaiting finish of 4 more threads\n",
      "2019-02-17 08:47:59,556 : INFO : worker thread finished; awaiting finish of 3 more threads\n",
      "2019-02-17 08:47:59,580 : INFO : worker thread finished; awaiting finish of 2 more threads\n",
      "2019-02-17 08:47:59,588 : INFO : worker thread finished; awaiting finish of 1 more threads\n",
      "2019-02-17 08:47:59,597 : INFO : worker thread finished; awaiting finish of 0 more threads\n",
      "2019-02-17 08:47:59,598 : INFO : EPOCH - 25 : training on 9227204 raw words (8222149 effective words) took 23.7s, 347188 effective words/s\n",
      "2019-02-17 08:48:00,635 : INFO : EPOCH 26 - PROGRESS: at 3.80% examples, 305757 words/s, in_qsize 14, out_qsize 1\n",
      "2019-02-17 08:48:01,665 : INFO : EPOCH 26 - PROGRESS: at 8.47% examples, 338906 words/s, in_qsize 14, out_qsize 1\n",
      "2019-02-17 08:48:02,700 : INFO : EPOCH 26 - PROGRESS: at 13.14% examples, 349495 words/s, in_qsize 15, out_qsize 0\n",
      "2019-02-17 08:48:03,793 : INFO : EPOCH 26 - PROGRESS: at 17.35% examples, 341158 words/s, in_qsize 15, out_qsize 0\n",
      "2019-02-17 08:48:04,856 : INFO : EPOCH 26 - PROGRESS: at 21.90% examples, 343352 words/s, in_qsize 16, out_qsize 2\n",
      "2019-02-17 08:48:05,917 : INFO : EPOCH 26 - PROGRESS: at 26.67% examples, 347777 words/s, in_qsize 15, out_qsize 0\n",
      "2019-02-17 08:48:06,930 : INFO : EPOCH 26 - PROGRESS: at 30.99% examples, 348359 words/s, in_qsize 15, out_qsize 0\n",
      "2019-02-17 08:48:07,935 : INFO : EPOCH 26 - PROGRESS: at 35.54% examples, 351220 words/s, in_qsize 15, out_qsize 0\n",
      "2019-02-17 08:48:08,979 : INFO : EPOCH 26 - PROGRESS: at 39.54% examples, 347283 words/s, in_qsize 15, out_qsize 0\n",
      "2019-02-17 08:48:10,011 : INFO : EPOCH 26 - PROGRESS: at 44.29% examples, 350498 words/s, in_qsize 14, out_qsize 1\n",
      "2019-02-17 08:48:11,108 : INFO : EPOCH 26 - PROGRESS: at 48.95% examples, 350475 words/s, in_qsize 16, out_qsize 0\n",
      "2019-02-17 08:48:12,154 : INFO : EPOCH 26 - PROGRESS: at 53.48% examples, 351015 words/s, in_qsize 15, out_qsize 0\n",
      "2019-02-17 08:48:13,157 : INFO : EPOCH 26 - PROGRESS: at 58.03% examples, 352650 words/s, in_qsize 14, out_qsize 0\n",
      "2019-02-17 08:48:14,235 : INFO : EPOCH 26 - PROGRESS: at 62.25% examples, 350584 words/s, in_qsize 15, out_qsize 1\n",
      "2019-02-17 08:48:15,228 : INFO : EPOCH 26 - PROGRESS: at 66.80% examples, 352091 words/s, in_qsize 15, out_qsize 0\n",
      "2019-02-17 08:48:16,230 : INFO : EPOCH 26 - PROGRESS: at 71.13% examples, 352312 words/s, in_qsize 15, out_qsize 0\n",
      "2019-02-17 08:48:17,245 : INFO : EPOCH 26 - PROGRESS: at 75.46% examples, 352242 words/s, in_qsize 16, out_qsize 0\n",
      "2019-02-17 08:48:18,248 : INFO : EPOCH 26 - PROGRESS: at 79.70% examples, 351915 words/s, in_qsize 14, out_qsize 1\n",
      "2019-02-17 08:48:19,264 : INFO : EPOCH 26 - PROGRESS: at 84.15% examples, 352321 words/s, in_qsize 16, out_qsize 0\n",
      "2019-02-17 08:48:20,284 : INFO : EPOCH 26 - PROGRESS: at 88.59% examples, 352586 words/s, in_qsize 15, out_qsize 0\n",
      "2019-02-17 08:48:21,304 : INFO : EPOCH 26 - PROGRESS: at 93.05% examples, 352828 words/s, in_qsize 15, out_qsize 0\n",
      "2019-02-17 08:48:22,333 : INFO : EPOCH 26 - PROGRESS: at 97.39% examples, 352520 words/s, in_qsize 16, out_qsize 0\n",
      "2019-02-17 08:48:22,785 : INFO : worker thread finished; awaiting finish of 7 more threads\n",
      "2019-02-17 08:48:22,789 : INFO : worker thread finished; awaiting finish of 6 more threads\n",
      "2019-02-17 08:48:22,791 : INFO : worker thread finished; awaiting finish of 5 more threads\n",
      "2019-02-17 08:48:22,798 : INFO : worker thread finished; awaiting finish of 4 more threads\n",
      "2019-02-17 08:48:22,804 : INFO : worker thread finished; awaiting finish of 3 more threads\n",
      "2019-02-17 08:48:22,835 : INFO : worker thread finished; awaiting finish of 2 more threads\n",
      "2019-02-17 08:48:22,837 : INFO : worker thread finished; awaiting finish of 1 more threads\n",
      "2019-02-17 08:48:22,838 : INFO : worker thread finished; awaiting finish of 0 more threads\n",
      "2019-02-17 08:48:22,839 : INFO : EPOCH - 26 : training on 9227204 raw words (8223476 effective words) took 23.2s, 354095 effective words/s\n",
      "2019-02-17 08:48:23,885 : INFO : EPOCH 27 - PROGRESS: at 3.47% examples, 275343 words/s, in_qsize 16, out_qsize 3\n",
      "2019-02-17 08:48:25,016 : INFO : EPOCH 27 - PROGRESS: at 8.25% examples, 312529 words/s, in_qsize 14, out_qsize 1\n",
      "2019-02-17 08:48:26,106 : INFO : EPOCH 27 - PROGRESS: at 12.93% examples, 325526 words/s, in_qsize 15, out_qsize 0\n",
      "2019-02-17 08:48:27,163 : INFO : EPOCH 27 - PROGRESS: at 17.35% examples, 330371 words/s, in_qsize 15, out_qsize 0\n",
      "2019-02-17 08:48:28,238 : INFO : EPOCH 27 - PROGRESS: at 22.00% examples, 335570 words/s, in_qsize 15, out_qsize 0\n",
      "2019-02-17 08:48:29,242 : INFO : EPOCH 27 - PROGRESS: at 26.34% examples, 338600 words/s, in_qsize 15, out_qsize 3\n",
      "2019-02-17 08:48:30,270 : INFO : EPOCH 27 - PROGRESS: at 31.00% examples, 343321 words/s, in_qsize 15, out_qsize 0\n",
      "2019-02-17 08:48:31,295 : INFO : EPOCH 27 - PROGRESS: at 35.21% examples, 342786 words/s, in_qsize 15, out_qsize 0\n",
      "2019-02-17 08:48:32,317 : INFO : EPOCH 27 - PROGRESS: at 40.08% examples, 348092 words/s, in_qsize 14, out_qsize 0\n",
      "2019-02-17 08:48:33,325 : INFO : EPOCH 27 - PROGRESS: at 44.07% examples, 346066 words/s, in_qsize 15, out_qsize 0\n",
      "2019-02-17 08:48:34,344 : INFO : EPOCH 27 - PROGRESS: at 48.51% examples, 347185 words/s, in_qsize 13, out_qsize 2\n",
      "2019-02-17 08:48:35,360 : INFO : EPOCH 27 - PROGRESS: at 52.95% examples, 348206 words/s, in_qsize 16, out_qsize 1\n",
      "2019-02-17 08:48:36,361 : INFO : EPOCH 27 - PROGRESS: at 57.16% examples, 348127 words/s, in_qsize 16, out_qsize 0\n",
      "2019-02-17 08:48:37,446 : INFO : EPOCH 27 - PROGRESS: at 61.39% examples, 346054 words/s, in_qsize 15, out_qsize 0\n",
      "2019-02-17 08:48:38,516 : INFO : EPOCH 27 - PROGRESS: at 65.83% examples, 345734 words/s, in_qsize 15, out_qsize 0\n",
      "2019-02-17 08:48:39,526 : INFO : EPOCH 27 - PROGRESS: at 70.59% examples, 348290 words/s, in_qsize 16, out_qsize 0\n",
      "2019-02-17 08:48:40,526 : INFO : EPOCH 27 - PROGRESS: at 74.16% examples, 345198 words/s, in_qsize 15, out_qsize 0\n",
      "2019-02-17 08:48:41,619 : INFO : EPOCH 27 - PROGRESS: at 78.40% examples, 343597 words/s, in_qsize 15, out_qsize 0\n",
      "2019-02-17 08:48:42,661 : INFO : EPOCH 27 - PROGRESS: at 82.96% examples, 344419 words/s, in_qsize 16, out_qsize 1\n",
      "2019-02-17 08:48:43,680 : INFO : EPOCH 27 - PROGRESS: at 87.62% examples, 345932 words/s, in_qsize 16, out_qsize 0\n",
      "2019-02-17 08:48:44,732 : INFO : EPOCH 27 - PROGRESS: at 92.07% examples, 345978 words/s, in_qsize 15, out_qsize 0\n",
      "2019-02-17 08:48:45,745 : INFO : EPOCH 27 - PROGRESS: at 96.31% examples, 345839 words/s, in_qsize 14, out_qsize 1\n",
      "2019-02-17 08:48:46,396 : INFO : worker thread finished; awaiting finish of 7 more threads\n",
      "2019-02-17 08:48:46,414 : INFO : worker thread finished; awaiting finish of 6 more threads\n",
      "2019-02-17 08:48:46,440 : INFO : worker thread finished; awaiting finish of 5 more threads\n",
      "2019-02-17 08:48:46,470 : INFO : worker thread finished; awaiting finish of 4 more threads\n",
      "2019-02-17 08:48:46,474 : INFO : worker thread finished; awaiting finish of 3 more threads\n",
      "2019-02-17 08:48:46,476 : INFO : worker thread finished; awaiting finish of 2 more threads\n",
      "2019-02-17 08:48:46,479 : INFO : worker thread finished; awaiting finish of 1 more threads\n",
      "2019-02-17 08:48:46,480 : INFO : worker thread finished; awaiting finish of 0 more threads\n",
      "2019-02-17 08:48:46,481 : INFO : EPOCH - 27 : training on 9227204 raw words (8221990 effective words) took 23.6s, 347930 effective words/s\n",
      "2019-02-17 08:48:47,524 : INFO : EPOCH 28 - PROGRESS: at 3.91% examples, 311774 words/s, in_qsize 15, out_qsize 0\n",
      "2019-02-17 08:48:48,684 : INFO : EPOCH 28 - PROGRESS: at 8.69% examples, 325854 words/s, in_qsize 15, out_qsize 0\n",
      "2019-02-17 08:48:49,723 : INFO : EPOCH 28 - PROGRESS: at 13.36% examples, 339684 words/s, in_qsize 15, out_qsize 0\n",
      "2019-02-17 08:48:50,739 : INFO : EPOCH 28 - PROGRESS: at 17.89% examples, 346407 words/s, in_qsize 15, out_qsize 0\n",
      "2019-02-17 08:48:51,764 : INFO : EPOCH 28 - PROGRESS: at 22.33% examples, 348366 words/s, in_qsize 15, out_qsize 0\n",
      "2019-02-17 08:48:52,806 : INFO : EPOCH 28 - PROGRESS: at 26.88% examples, 350166 words/s, in_qsize 15, out_qsize 0\n",
      "2019-02-17 08:48:53,847 : INFO : EPOCH 28 - PROGRESS: at 31.21% examples, 349095 words/s, in_qsize 16, out_qsize 2\n",
      "2019-02-17 08:48:54,868 : INFO : EPOCH 28 - PROGRESS: at 35.65% examples, 350105 words/s, in_qsize 16, out_qsize 0\n",
      "2019-02-17 08:48:55,884 : INFO : EPOCH 28 - PROGRESS: at 40.19% examples, 352053 words/s, in_qsize 15, out_qsize 0\n",
      "2019-02-17 08:48:56,923 : INFO : EPOCH 28 - PROGRESS: at 44.51% examples, 351140 words/s, in_qsize 15, out_qsize 0\n",
      "2019-02-17 08:48:57,936 : INFO : EPOCH 28 - PROGRESS: at 48.51% examples, 348980 words/s, in_qsize 15, out_qsize 1\n",
      "2019-02-17 08:48:58,935 : INFO : EPOCH 28 - PROGRESS: at 53.27% examples, 352348 words/s, in_qsize 14, out_qsize 1\n",
      "2019-02-17 08:48:59,941 : INFO : EPOCH 28 - PROGRESS: at 57.49% examples, 351842 words/s, in_qsize 16, out_qsize 0\n",
      "2019-02-17 08:49:00,941 : INFO : EPOCH 28 - PROGRESS: at 61.82% examples, 352126 words/s, in_qsize 14, out_qsize 1\n",
      "2019-02-17 08:49:01,954 : INFO : EPOCH 28 - PROGRESS: at 66.25% examples, 352678 words/s, in_qsize 15, out_qsize 0\n",
      "2019-02-17 08:49:02,969 : INFO : EPOCH 28 - PROGRESS: at 70.37% examples, 351493 words/s, in_qsize 15, out_qsize 0\n",
      "2019-02-17 08:49:04,037 : INFO : EPOCH 28 - PROGRESS: at 74.92% examples, 351408 words/s, in_qsize 12, out_qsize 3\n",
      "2019-02-17 08:49:05,096 : INFO : EPOCH 28 - PROGRESS: at 79.49% examples, 352191 words/s, in_qsize 15, out_qsize 1\n",
      "2019-02-17 08:49:06,123 : INFO : EPOCH 28 - PROGRESS: at 83.94% examples, 351716 words/s, in_qsize 14, out_qsize 2\n",
      "2019-02-17 08:49:07,143 : INFO : EPOCH 28 - PROGRESS: at 88.48% examples, 352446 words/s, in_qsize 16, out_qsize 0\n",
      "2019-02-17 08:49:08,176 : INFO : EPOCH 28 - PROGRESS: at 92.61% examples, 351243 words/s, in_qsize 15, out_qsize 0\n",
      "2019-02-17 08:49:09,182 : INFO : EPOCH 28 - PROGRESS: at 97.28% examples, 352541 words/s, in_qsize 12, out_qsize 0\n",
      "2019-02-17 08:49:09,643 : INFO : worker thread finished; awaiting finish of 7 more threads\n",
      "2019-02-17 08:49:09,658 : INFO : worker thread finished; awaiting finish of 6 more threads\n",
      "2019-02-17 08:49:09,668 : INFO : worker thread finished; awaiting finish of 5 more threads\n",
      "2019-02-17 08:49:09,680 : INFO : worker thread finished; awaiting finish of 4 more threads\n",
      "2019-02-17 08:49:09,731 : INFO : worker thread finished; awaiting finish of 3 more threads\n",
      "2019-02-17 08:49:09,736 : INFO : worker thread finished; awaiting finish of 2 more threads\n",
      "2019-02-17 08:49:09,738 : INFO : worker thread finished; awaiting finish of 1 more threads\n",
      "2019-02-17 08:49:09,740 : INFO : worker thread finished; awaiting finish of 0 more threads\n",
      "2019-02-17 08:49:09,741 : INFO : EPOCH - 28 : training on 9227204 raw words (8221752 effective words) took 23.2s, 353702 effective words/s\n",
      "2019-02-17 08:49:10,756 : INFO : EPOCH 29 - PROGRESS: at 3.69% examples, 301521 words/s, in_qsize 14, out_qsize 1\n",
      "2019-02-17 08:49:11,760 : INFO : EPOCH 29 - PROGRESS: at 8.04% examples, 328113 words/s, in_qsize 15, out_qsize 1\n",
      "2019-02-17 08:49:12,770 : INFO : EPOCH 29 - PROGRESS: at 12.49% examples, 339284 words/s, in_qsize 15, out_qsize 0\n",
      "2019-02-17 08:49:13,780 : INFO : EPOCH 29 - PROGRESS: at 16.81% examples, 342579 words/s, in_qsize 15, out_qsize 0\n",
      "2019-02-17 08:49:14,978 : INFO : EPOCH 29 - PROGRESS: at 21.35% examples, 339456 words/s, in_qsize 14, out_qsize 3\n",
      "2019-02-17 08:49:15,950 : INFO : EPOCH 29 - PROGRESS: at 26.12% examples, 346218 words/s, in_qsize 16, out_qsize 0\n",
      "2019-02-17 08:49:17,012 : INFO : EPOCH 29 - PROGRESS: at 30.45% examples, 344682 words/s, in_qsize 15, out_qsize 0\n",
      "2019-02-17 08:49:18,055 : INFO : EPOCH 29 - PROGRESS: at 35.10% examples, 347505 words/s, in_qsize 13, out_qsize 1\n",
      "2019-02-17 08:49:19,058 : INFO : EPOCH 29 - PROGRESS: at 39.43% examples, 348319 words/s, in_qsize 16, out_qsize 0\n",
      "2019-02-17 08:49:20,070 : INFO : EPOCH 29 - PROGRESS: at 43.53% examples, 346952 words/s, in_qsize 13, out_qsize 2\n",
      "2019-02-17 08:49:21,113 : INFO : EPOCH 29 - PROGRESS: at 48.08% examples, 348017 words/s, in_qsize 14, out_qsize 1\n",
      "2019-02-17 08:49:22,232 : INFO : EPOCH 29 - PROGRESS: at 52.62% examples, 346801 words/s, in_qsize 12, out_qsize 3\n",
      "2019-02-17 08:49:23,273 : INFO : EPOCH 29 - PROGRESS: at 57.16% examples, 347796 words/s, in_qsize 15, out_qsize 0\n",
      "2019-02-17 08:49:24,318 : INFO : EPOCH 29 - PROGRESS: at 61.17% examples, 345484 words/s, in_qsize 16, out_qsize 0\n",
      "2019-02-17 08:49:25,318 : INFO : EPOCH 29 - PROGRESS: at 65.72% examples, 347313 words/s, in_qsize 15, out_qsize 0\n",
      "2019-02-17 08:49:26,333 : INFO : EPOCH 29 - PROGRESS: at 69.51% examples, 344843 words/s, in_qsize 15, out_qsize 1\n",
      "2019-02-17 08:49:27,364 : INFO : EPOCH 29 - PROGRESS: at 74.05% examples, 345892 words/s, in_qsize 14, out_qsize 3\n",
      "2019-02-17 08:49:28,398 : INFO : EPOCH 29 - PROGRESS: at 78.51% examples, 346546 words/s, in_qsize 15, out_qsize 2\n",
      "2019-02-17 08:49:29,484 : INFO : EPOCH 29 - PROGRESS: at 83.18% examples, 346634 words/s, in_qsize 15, out_qsize 0\n",
      "2019-02-17 08:49:30,610 : INFO : EPOCH 29 - PROGRESS: at 87.94% examples, 347269 words/s, in_qsize 14, out_qsize 7\n",
      "2019-02-17 08:49:31,623 : INFO : EPOCH 29 - PROGRESS: at 92.61% examples, 348152 words/s, in_qsize 15, out_qsize 0\n",
      "2019-02-17 08:49:32,631 : INFO : EPOCH 29 - PROGRESS: at 97.18% examples, 349142 words/s, in_qsize 15, out_qsize 0\n",
      "2019-02-17 08:49:33,126 : INFO : worker thread finished; awaiting finish of 7 more threads\n",
      "2019-02-17 08:49:33,135 : INFO : worker thread finished; awaiting finish of 6 more threads\n",
      "2019-02-17 08:49:33,151 : INFO : worker thread finished; awaiting finish of 5 more threads\n",
      "2019-02-17 08:49:33,185 : INFO : worker thread finished; awaiting finish of 4 more threads\n",
      "2019-02-17 08:49:33,186 : INFO : worker thread finished; awaiting finish of 3 more threads\n",
      "2019-02-17 08:49:33,188 : INFO : worker thread finished; awaiting finish of 2 more threads\n",
      "2019-02-17 08:49:33,189 : INFO : worker thread finished; awaiting finish of 1 more threads\n",
      "2019-02-17 08:49:33,191 : INFO : worker thread finished; awaiting finish of 0 more threads\n",
      "2019-02-17 08:49:33,192 : INFO : EPOCH - 29 : training on 9227204 raw words (8220963 effective words) took 23.4s, 350718 effective words/s\n",
      "2019-02-17 08:49:34,210 : INFO : EPOCH 30 - PROGRESS: at 3.69% examples, 302102 words/s, in_qsize 16, out_qsize 2\n",
      "2019-02-17 08:49:35,276 : INFO : EPOCH 30 - PROGRESS: at 8.15% examples, 322992 words/s, in_qsize 13, out_qsize 4\n",
      "2019-02-17 08:49:36,286 : INFO : EPOCH 30 - PROGRESS: at 12.82% examples, 341674 words/s, in_qsize 14, out_qsize 0\n",
      "2019-02-17 08:49:37,418 : INFO : EPOCH 30 - PROGRESS: at 17.24% examples, 336478 words/s, in_qsize 15, out_qsize 0\n",
      "2019-02-17 08:49:38,486 : INFO : EPOCH 30 - PROGRESS: at 21.79% examples, 339290 words/s, in_qsize 15, out_qsize 0\n",
      "2019-02-17 08:49:39,567 : INFO : EPOCH 30 - PROGRESS: at 26.13% examples, 338908 words/s, in_qsize 11, out_qsize 6\n",
      "2019-02-17 08:49:40,564 : INFO : EPOCH 30 - PROGRESS: at 30.56% examples, 341531 words/s, in_qsize 16, out_qsize 0\n",
      "2019-02-17 08:49:41,568 : INFO : EPOCH 30 - PROGRESS: at 35.21% examples, 346326 words/s, in_qsize 16, out_qsize 0\n",
      "2019-02-17 08:49:42,596 : INFO : EPOCH 30 - PROGRESS: at 39.11% examples, 342567 words/s, in_qsize 14, out_qsize 1\n",
      "2019-02-17 08:49:43,598 : INFO : EPOCH 30 - PROGRESS: at 43.21% examples, 342103 words/s, in_qsize 15, out_qsize 1\n",
      "2019-02-17 08:49:44,699 : INFO : EPOCH 30 - PROGRESS: at 47.86% examples, 342649 words/s, in_qsize 16, out_qsize 2\n",
      "2019-02-17 08:49:45,712 : INFO : EPOCH 30 - PROGRESS: at 51.97% examples, 342015 words/s, in_qsize 11, out_qsize 7\n",
      "2019-02-17 08:49:46,755 : INFO : EPOCH 30 - PROGRESS: at 56.41% examples, 343533 words/s, in_qsize 15, out_qsize 2\n",
      "2019-02-17 08:49:47,731 : INFO : EPOCH 30 - PROGRESS: at 60.74% examples, 344146 words/s, in_qsize 16, out_qsize 2\n",
      "2019-02-17 08:49:48,740 : INFO : EPOCH 30 - PROGRESS: at 65.38% examples, 346448 words/s, in_qsize 14, out_qsize 0\n",
      "2019-02-17 08:49:49,740 : INFO : EPOCH 30 - PROGRESS: at 69.51% examples, 345973 words/s, in_qsize 14, out_qsize 1\n",
      "2019-02-17 08:49:50,743 : INFO : EPOCH 30 - PROGRESS: at 73.73% examples, 345994 words/s, in_qsize 15, out_qsize 0\n",
      "2019-02-17 08:49:51,812 : INFO : EPOCH 30 - PROGRESS: at 78.29% examples, 346214 words/s, in_qsize 15, out_qsize 0\n",
      "2019-02-17 08:49:52,954 : INFO : EPOCH 30 - PROGRESS: at 83.07% examples, 346145 words/s, in_qsize 15, out_qsize 1\n",
      "2019-02-17 08:49:53,957 : INFO : EPOCH 30 - PROGRESS: at 87.51% examples, 346922 words/s, in_qsize 16, out_qsize 0\n",
      "2019-02-17 08:49:54,994 : INFO : EPOCH 30 - PROGRESS: at 91.96% examples, 347146 words/s, in_qsize 15, out_qsize 0\n",
      "2019-02-17 08:49:56,112 : INFO : EPOCH 30 - PROGRESS: at 96.64% examples, 346929 words/s, in_qsize 15, out_qsize 0\n",
      "2019-02-17 08:49:56,675 : INFO : worker thread finished; awaiting finish of 7 more threads\n",
      "2019-02-17 08:49:56,683 : INFO : worker thread finished; awaiting finish of 6 more threads\n",
      "2019-02-17 08:49:56,690 : INFO : worker thread finished; awaiting finish of 5 more threads\n",
      "2019-02-17 08:49:56,691 : INFO : worker thread finished; awaiting finish of 4 more threads\n",
      "2019-02-17 08:49:56,714 : INFO : worker thread finished; awaiting finish of 3 more threads\n",
      "2019-02-17 08:49:56,736 : INFO : worker thread finished; awaiting finish of 2 more threads\n",
      "2019-02-17 08:49:56,742 : INFO : worker thread finished; awaiting finish of 1 more threads\n",
      "2019-02-17 08:49:56,745 : INFO : worker thread finished; awaiting finish of 0 more threads\n",
      "2019-02-17 08:49:56,745 : INFO : EPOCH - 30 : training on 9227204 raw words (8223493 effective words) took 23.5s, 349368 effective words/s\n",
      "2019-02-17 08:49:57,773 : INFO : EPOCH 31 - PROGRESS: at 4.02% examples, 323867 words/s, in_qsize 15, out_qsize 0\n",
      "2019-02-17 08:49:58,792 : INFO : EPOCH 31 - PROGRESS: at 8.25% examples, 332270 words/s, in_qsize 15, out_qsize 0\n",
      "2019-02-17 08:49:59,891 : INFO : EPOCH 31 - PROGRESS: at 12.82% examples, 338077 words/s, in_qsize 14, out_qsize 2\n",
      "2019-02-17 08:50:00,892 : INFO : EPOCH 31 - PROGRESS: at 17.13% examples, 340199 words/s, in_qsize 14, out_qsize 1\n",
      "2019-02-17 08:50:01,959 : INFO : EPOCH 31 - PROGRESS: at 21.90% examples, 345810 words/s, in_qsize 15, out_qsize 0\n",
      "2019-02-17 08:50:03,040 : INFO : EPOCH 31 - PROGRESS: at 26.34% examples, 344458 words/s, in_qsize 16, out_qsize 2\n",
      "2019-02-17 08:50:04,092 : INFO : EPOCH 31 - PROGRESS: at 30.78% examples, 344866 words/s, in_qsize 14, out_qsize 1\n",
      "2019-02-17 08:50:05,095 : INFO : EPOCH 31 - PROGRESS: at 35.43% examples, 349344 words/s, in_qsize 13, out_qsize 0\n",
      "2019-02-17 08:50:06,098 : INFO : EPOCH 31 - PROGRESS: at 39.65% examples, 349025 words/s, in_qsize 16, out_qsize 1\n",
      "2019-02-17 08:50:07,142 : INFO : EPOCH 31 - PROGRESS: at 43.97% examples, 348237 words/s, in_qsize 15, out_qsize 0\n",
      "2019-02-17 08:50:08,223 : INFO : EPOCH 31 - PROGRESS: at 48.62% examples, 348857 words/s, in_qsize 15, out_qsize 0\n",
      "2019-02-17 08:50:09,314 : INFO : EPOCH 31 - PROGRESS: at 53.27% examples, 349037 words/s, in_qsize 16, out_qsize 0\n",
      "2019-02-17 08:50:10,341 : INFO : EPOCH 31 - PROGRESS: at 57.49% examples, 348267 words/s, in_qsize 15, out_qsize 0\n",
      "2019-02-17 08:50:11,345 : INFO : EPOCH 31 - PROGRESS: at 62.03% examples, 349946 words/s, in_qsize 15, out_qsize 0\n",
      "2019-02-17 08:50:12,361 : INFO : EPOCH 31 - PROGRESS: at 66.26% examples, 349423 words/s, in_qsize 13, out_qsize 2\n",
      "2019-02-17 08:50:13,377 : INFO : EPOCH 31 - PROGRESS: at 70.26% examples, 347882 words/s, in_qsize 13, out_qsize 2\n",
      "2019-02-17 08:50:14,378 : INFO : EPOCH 31 - PROGRESS: at 75.03% examples, 350335 words/s, in_qsize 15, out_qsize 0\n",
      "2019-02-17 08:50:15,408 : INFO : EPOCH 31 - PROGRESS: at 79.05% examples, 348649 words/s, in_qsize 16, out_qsize 2\n",
      "2019-02-17 08:50:16,419 : INFO : EPOCH 31 - PROGRESS: at 83.83% examples, 350660 words/s, in_qsize 15, out_qsize 0\n",
      "2019-02-17 08:50:17,435 : INFO : EPOCH 31 - PROGRESS: at 87.72% examples, 348942 words/s, in_qsize 16, out_qsize 0\n",
      "2019-02-17 08:50:18,474 : INFO : EPOCH 31 - PROGRESS: at 92.39% examples, 349864 words/s, in_qsize 16, out_qsize 0\n",
      "2019-02-17 08:50:19,481 : INFO : EPOCH 31 - PROGRESS: at 96.64% examples, 349647 words/s, in_qsize 15, out_qsize 0\n",
      "2019-02-17 08:50:20,082 : INFO : worker thread finished; awaiting finish of 7 more threads\n",
      "2019-02-17 08:50:20,115 : INFO : worker thread finished; awaiting finish of 6 more threads\n",
      "2019-02-17 08:50:20,164 : INFO : worker thread finished; awaiting finish of 5 more threads\n",
      "2019-02-17 08:50:20,172 : INFO : worker thread finished; awaiting finish of 4 more threads\n",
      "2019-02-17 08:50:20,177 : INFO : worker thread finished; awaiting finish of 3 more threads\n",
      "2019-02-17 08:50:20,196 : INFO : worker thread finished; awaiting finish of 2 more threads\n",
      "2019-02-17 08:50:20,198 : INFO : worker thread finished; awaiting finish of 1 more threads\n",
      "2019-02-17 08:50:20,200 : INFO : worker thread finished; awaiting finish of 0 more threads\n",
      "2019-02-17 08:50:20,201 : INFO : EPOCH - 31 : training on 9227204 raw words (8223272 effective words) took 23.4s, 350738 effective words/s\n",
      "2019-02-17 08:50:21,234 : INFO : EPOCH 32 - PROGRESS: at 3.91% examples, 315224 words/s, in_qsize 14, out_qsize 1\n",
      "2019-02-17 08:50:22,407 : INFO : EPOCH 32 - PROGRESS: at 8.69% examples, 325539 words/s, in_qsize 15, out_qsize 0\n",
      "2019-02-17 08:50:23,432 : INFO : EPOCH 32 - PROGRESS: at 13.04% examples, 332555 words/s, in_qsize 15, out_qsize 0\n",
      "2019-02-17 08:50:24,483 : INFO : EPOCH 32 - PROGRESS: at 17.46% examples, 336128 words/s, in_qsize 15, out_qsize 0\n",
      "2019-02-17 08:50:25,522 : INFO : EPOCH 32 - PROGRESS: at 22.00% examples, 340905 words/s, in_qsize 13, out_qsize 2\n",
      "2019-02-17 08:50:26,556 : INFO : EPOCH 32 - PROGRESS: at 26.23% examples, 340132 words/s, in_qsize 16, out_qsize 0\n",
      "2019-02-17 08:50:27,611 : INFO : EPOCH 32 - PROGRESS: at 30.67% examples, 341026 words/s, in_qsize 16, out_qsize 1\n",
      "2019-02-17 08:50:28,638 : INFO : EPOCH 32 - PROGRESS: at 34.89% examples, 340666 words/s, in_qsize 16, out_qsize 1\n",
      "2019-02-17 08:50:29,663 : INFO : EPOCH 32 - PROGRESS: at 39.22% examples, 341421 words/s, in_qsize 15, out_qsize 0\n",
      "2019-02-17 08:50:30,668 : INFO : EPOCH 32 - PROGRESS: at 43.54% examples, 342675 words/s, in_qsize 14, out_qsize 1\n",
      "2019-02-17 08:50:31,673 : INFO : EPOCH 32 - PROGRESS: at 47.86% examples, 343714 words/s, in_qsize 15, out_qsize 0\n",
      "2019-02-17 08:50:32,686 : INFO : EPOCH 32 - PROGRESS: at 52.07% examples, 343659 words/s, in_qsize 16, out_qsize 0\n",
      "2019-02-17 08:50:33,826 : INFO : EPOCH 32 - PROGRESS: at 56.62% examples, 342376 words/s, in_qsize 15, out_qsize 0\n",
      "2019-02-17 08:50:34,854 : INFO : EPOCH 32 - PROGRESS: at 61.39% examples, 345124 words/s, in_qsize 15, out_qsize 0\n",
      "2019-02-17 08:50:35,871 : INFO : EPOCH 32 - PROGRESS: at 65.83% examples, 346053 words/s, in_qsize 15, out_qsize 0\n",
      "2019-02-17 08:50:36,914 : INFO : EPOCH 32 - PROGRESS: at 70.27% examples, 346300 words/s, in_qsize 15, out_qsize 0\n",
      "2019-02-17 08:50:37,928 : INFO : EPOCH 32 - PROGRESS: at 74.48% examples, 346090 words/s, in_qsize 16, out_qsize 0\n",
      "2019-02-17 08:50:39,042 : INFO : EPOCH 32 - PROGRESS: at 79.16% examples, 345949 words/s, in_qsize 11, out_qsize 4\n",
      "2019-02-17 08:50:40,067 : INFO : EPOCH 32 - PROGRESS: at 83.83% examples, 347379 words/s, in_qsize 15, out_qsize 0\n",
      "2019-02-17 08:50:41,122 : INFO : EPOCH 32 - PROGRESS: at 87.94% examples, 346336 words/s, in_qsize 14, out_qsize 6\n",
      "2019-02-17 08:50:42,127 : INFO : EPOCH 32 - PROGRESS: at 92.72% examples, 348017 words/s, in_qsize 15, out_qsize 0\n",
      "2019-02-17 08:50:43,165 : INFO : EPOCH 32 - PROGRESS: at 97.07% examples, 347804 words/s, in_qsize 14, out_qsize 1\n",
      "2019-02-17 08:50:43,584 : INFO : worker thread finished; awaiting finish of 7 more threads\n",
      "2019-02-17 08:50:43,655 : INFO : worker thread finished; awaiting finish of 6 more threads\n",
      "2019-02-17 08:50:43,657 : INFO : worker thread finished; awaiting finish of 5 more threads\n",
      "2019-02-17 08:50:43,658 : INFO : worker thread finished; awaiting finish of 4 more threads\n",
      "2019-02-17 08:50:43,661 : INFO : worker thread finished; awaiting finish of 3 more threads\n",
      "2019-02-17 08:50:43,661 : INFO : worker thread finished; awaiting finish of 2 more threads\n",
      "2019-02-17 08:50:43,665 : INFO : worker thread finished; awaiting finish of 1 more threads\n",
      "2019-02-17 08:50:43,666 : INFO : worker thread finished; awaiting finish of 0 more threads\n",
      "2019-02-17 08:50:43,667 : INFO : EPOCH - 32 : training on 9227204 raw words (8222966 effective words) took 23.4s, 350666 effective words/s\n",
      "2019-02-17 08:50:43,667 : INFO : training on a 295270528 raw words (263124201 effective words) took 759.3s, 346539 effective words/s\n"
     ]
    },
    {
     "name": "stdout",
     "output_type": "stream",
     "text": [
      "CPU times: user 24min 37s, sys: 7.27 s, total: 24min 44s\n",
      "Wall time: 12min 39s\n"
     ]
    },
    {
     "data": {
      "text/plain": [
       "(263124201, 295270528)"
      ]
     },
     "execution_count": 18,
     "metadata": {},
     "output_type": "execute_result"
    }
   ],
   "source": [
    "%%time\n",
    "w2v_model.train(documents, total_examples=len(documents), epochs=W2V_EPOCH)"
   ]
  },
  {
   "cell_type": "code",
   "execution_count": 19,
   "metadata": {
    "_uuid": "27cc2651c74227115d8bfd8c40e5618048e05edd"
   },
   "outputs": [
    {
     "name": "stderr",
     "output_type": "stream",
     "text": [
      "/opt/conda/lib/python3.6/site-packages/ipykernel_launcher.py:1: DeprecationWarning: Call to deprecated `most_similar` (Method will be removed in 4.0.0, use self.wv.most_similar() instead).\n",
      "  \"\"\"Entry point for launching an IPython kernel.\n",
      "2019-02-17 08:50:44,280 : INFO : precomputing L2-norms of word weight vectors\n"
     ]
    },
    {
     "data": {
      "text/plain": [
       "[('luv', 0.5840025544166565),\n",
       " ('loves', 0.5525496602058411),\n",
       " ('loved', 0.5403332710266113),\n",
       " ('adore', 0.5374413728713989),\n",
       " ('looove', 0.5025960206985474),\n",
       " ('amazing', 0.494439959526062),\n",
       " ('loooove', 0.47303086519241333),\n",
       " ('awesome', 0.46765822172164917),\n",
       " ('loveee', 0.456807404756546),\n",
       " ('lovee', 0.45561471581459045)]"
      ]
     },
     "execution_count": 19,
     "metadata": {},
     "output_type": "execute_result"
    }
   ],
   "source": [
    "w2v_model.most_similar(\"love\")"
   ]
  },
  {
   "cell_type": "markdown",
   "metadata": {
    "_uuid": "e13563644468037258598637b49373ca96b9b879"
   },
   "source": [
    "### Tokenize Text"
   ]
  },
  {
   "cell_type": "code",
   "execution_count": 20,
   "metadata": {
    "_uuid": "6852bc709a7cd20173cbeeb218505078f8f37c57"
   },
   "outputs": [
    {
     "name": "stdout",
     "output_type": "stream",
     "text": [
      "Total words 290419\n",
      "CPU times: user 23.3 s, sys: 192 ms, total: 23.5 s\n",
      "Wall time: 23.4 s\n"
     ]
    }
   ],
   "source": [
    "%%time\n",
    "tokenizer = Tokenizer()\n",
    "tokenizer.fit_on_texts(df_train.text)\n",
    "\n",
    "vocab_size = len(tokenizer.word_index) + 1\n",
    "print(\"Total words\", vocab_size)"
   ]
  },
  {
   "cell_type": "code",
   "execution_count": 21,
   "metadata": {
    "_uuid": "45de439df3015030c71f84c2d170346936a1d68f"
   },
   "outputs": [
    {
     "name": "stdout",
     "output_type": "stream",
     "text": [
      "CPU times: user 35.1 s, sys: 1.04 s, total: 36.1 s\n",
      "Wall time: 36.2 s\n"
     ]
    }
   ],
   "source": [
    "%%time\n",
    "x_train = pad_sequences(tokenizer.texts_to_sequences(df_train.text), maxlen=SEQUENCE_LENGTH)\n",
    "x_test = pad_sequences(tokenizer.texts_to_sequences(df_test.text), maxlen=SEQUENCE_LENGTH)"
   ]
  },
  {
   "cell_type": "markdown",
   "metadata": {
    "_uuid": "03b35903fc6260e190d6928d240ef7432de117fc"
   },
   "source": [
    "### Label Encoder "
   ]
  },
  {
   "cell_type": "code",
   "execution_count": 22,
   "metadata": {
    "_uuid": "33676e0efa39e97d89bd650b8b4eae933a22fbf0"
   },
   "outputs": [
    {
     "data": {
      "text/plain": [
       "['POSITIVE', 'NEGATIVE', 'NEUTRAL']"
      ]
     },
     "execution_count": 22,
     "metadata": {},
     "output_type": "execute_result"
    }
   ],
   "source": [
    "labels = df_train.target.unique().tolist()\n",
    "labels.append(NEUTRAL)\n",
    "labels"
   ]
  },
  {
   "cell_type": "code",
   "execution_count": 23,
   "metadata": {
    "_uuid": "04239a9bef76e7922fd86098a5601dfde8ee4665"
   },
   "outputs": [
    {
     "name": "stdout",
     "output_type": "stream",
     "text": [
      "y_train (1280000, 1)\n",
      "y_test (320000, 1)\n"
     ]
    }
   ],
   "source": [
    "encoder = LabelEncoder()\n",
    "encoder.fit(df_train.target.tolist())\n",
    "\n",
    "y_train = encoder.transform(df_train.target.tolist())\n",
    "y_test = encoder.transform(df_test.target.tolist())\n",
    "\n",
    "y_train = y_train.reshape(-1,1)\n",
    "y_test = y_test.reshape(-1,1)\n",
    "\n",
    "print(\"y_train\",y_train.shape)\n",
    "print(\"y_test\",y_test.shape)"
   ]
  },
  {
   "cell_type": "code",
   "execution_count": 24,
   "metadata": {
    "_uuid": "04299c886911ca135583ab64878f213939a2990c"
   },
   "outputs": [
    {
     "name": "stdout",
     "output_type": "stream",
     "text": [
      "x_train (1280000, 300)\n",
      "y_train (1280000, 1)\n",
      "\n",
      "x_test (320000, 300)\n",
      "y_test (320000, 1)\n"
     ]
    }
   ],
   "source": [
    "print(\"x_train\", x_train.shape)\n",
    "print(\"y_train\", y_train.shape)\n",
    "print()\n",
    "print(\"x_test\", x_test.shape)\n",
    "print(\"y_test\", y_test.shape)"
   ]
  },
  {
   "cell_type": "code",
   "execution_count": 25,
   "metadata": {
    "_uuid": "232533fb27b7be99d9b8c2f8fb22c9c6bf121a6f"
   },
   "outputs": [
    {
     "data": {
      "text/plain": [
       "array([[1],\n",
       "       [1],\n",
       "       [1],\n",
       "       [0],\n",
       "       [1],\n",
       "       [1],\n",
       "       [1],\n",
       "       [1],\n",
       "       [1],\n",
       "       [1]])"
      ]
     },
     "execution_count": 25,
     "metadata": {},
     "output_type": "execute_result"
    }
   ],
   "source": [
    "y_train[:10]"
   ]
  },
  {
   "cell_type": "markdown",
   "metadata": {
    "_uuid": "233c0ea94055a03e2e7df3e2a13d036ec963484f"
   },
   "source": [
    "### Embedding layer"
   ]
  },
  {
   "cell_type": "code",
   "execution_count": 26,
   "metadata": {
    "_uuid": "9ab488374b59e3f30f8b1ea92767d853c4846bac"
   },
   "outputs": [
    {
     "name": "stdout",
     "output_type": "stream",
     "text": [
      "(290419, 300)\n"
     ]
    }
   ],
   "source": [
    "embedding_matrix = np.zeros((vocab_size, W2V_SIZE))\n",
    "for word, i in tokenizer.word_index.items():\n",
    "  if word in w2v_model.wv:\n",
    "    embedding_matrix[i] = w2v_model.wv[word]\n",
    "print(embedding_matrix.shape)"
   ]
  },
  {
   "cell_type": "code",
   "execution_count": 27,
   "metadata": {
    "_uuid": "833279d91e4286065968237fb5f2a0c2dd4d246c"
   },
   "outputs": [],
   "source": [
    "embedding_layer = Embedding(vocab_size, W2V_SIZE, weights=[embedding_matrix], input_length=SEQUENCE_LENGTH, trainable=False)"
   ]
  },
  {
   "cell_type": "markdown",
   "metadata": {
    "_uuid": "b299ef78f94c2085942c993a2d58753a7476305a"
   },
   "source": [
    "### Build Model"
   ]
  },
  {
   "cell_type": "code",
   "execution_count": 28,
   "metadata": {
    "_uuid": "e775ef4f1b74e6412457181383c39f2df554ef3f"
   },
   "outputs": [
    {
     "name": "stdout",
     "output_type": "stream",
     "text": [
      "_________________________________________________________________\n",
      "Layer (type)                 Output Shape              Param #   \n",
      "=================================================================\n",
      "embedding_1 (Embedding)      (None, 300, 300)          87125700  \n",
      "_________________________________________________________________\n",
      "dropout_1 (Dropout)          (None, 300, 300)          0         \n",
      "_________________________________________________________________\n",
      "lstm_1 (LSTM)                (None, 100)               160400    \n",
      "_________________________________________________________________\n",
      "dense_1 (Dense)              (None, 1)                 101       \n",
      "=================================================================\n",
      "Total params: 87,286,201\n",
      "Trainable params: 160,501\n",
      "Non-trainable params: 87,125,700\n",
      "_________________________________________________________________\n"
     ]
    }
   ],
   "source": [
    "model = Sequential()\n",
    "model.add(embedding_layer)\n",
    "model.add(Dropout(0.5))\n",
    "model.add(LSTM(100, dropout=0.2, recurrent_dropout=0.2))\n",
    "model.add(Dense(1, activation='sigmoid'))\n",
    "\n",
    "model.summary()"
   ]
  },
  {
   "cell_type": "markdown",
   "metadata": {
    "_uuid": "28d22eafd0c7d798dcf3d742bc92fb8577939e6c"
   },
   "source": [
    "### Compile model"
   ]
  },
  {
   "cell_type": "code",
   "execution_count": 29,
   "metadata": {
    "_uuid": "1331e08d590bb2aa2033706c8faca217afc0f1c3"
   },
   "outputs": [],
   "source": [
    "model.compile(loss='binary_crossentropy',\n",
    "              optimizer=\"adam\",\n",
    "              metrics=['accuracy'])"
   ]
  },
  {
   "cell_type": "markdown",
   "metadata": {
    "_uuid": "c7733127cb8b380e0c807268903bf4d03ef92542"
   },
   "source": [
    "### Callbacks"
   ]
  },
  {
   "cell_type": "code",
   "execution_count": 30,
   "metadata": {
    "_uuid": "a688df590386f5748da6fe00b01904fe6c71619e"
   },
   "outputs": [],
   "source": [
    "callbacks = [ ReduceLROnPlateau(monitor='val_loss', patience=5, cooldown=0),\n",
    "              EarlyStopping(monitor='val_acc', min_delta=1e-4, patience=5)]"
   ]
  },
  {
   "cell_type": "markdown",
   "metadata": {
    "_uuid": "8d0873633dd49179c8cae17377641b97d323ef3b"
   },
   "source": [
    "### Train"
   ]
  },
  {
   "cell_type": "code",
   "execution_count": 31,
   "metadata": {
    "_uuid": "2b659d390c6577dc5cdb6b6297934279b4e801d5"
   },
   "outputs": [
    {
     "name": "stdout",
     "output_type": "stream",
     "text": [
      "Train on 1152000 samples, validate on 128000 samples\n",
      "Epoch 1/8\n",
      "1152000/1152000 [==============================] - 1041s 904us/step - loss: 0.5048 - acc: 0.7493 - val_loss: 0.4628 - val_acc: 0.7795\n",
      "Epoch 2/8\n",
      "1152000/1152000 [==============================] - 1040s 903us/step - loss: 0.4809 - acc: 0.7662 - val_loss: 0.4588 - val_acc: 0.7827\n",
      "Epoch 3/8\n",
      "1152000/1152000 [==============================] - 1041s 904us/step - loss: 0.4742 - acc: 0.7700 - val_loss: 0.4563 - val_acc: 0.7851\n",
      "Epoch 4/8\n",
      "1152000/1152000 [==============================] - 1042s 904us/step - loss: 0.4708 - acc: 0.7723 - val_loss: 0.4514 - val_acc: 0.7867\n",
      "Epoch 5/8\n",
      "1152000/1152000 [==============================] - 1043s 905us/step - loss: 0.4684 - acc: 0.7742 - val_loss: 0.4513 - val_acc: 0.7873\n",
      "Epoch 6/8\n",
      "1152000/1152000 [==============================] - 1043s 906us/step - loss: 0.4668 - acc: 0.7748 - val_loss: 0.4524 - val_acc: 0.7879\n",
      "Epoch 7/8\n",
      "1152000/1152000 [==============================] - 1041s 904us/step - loss: 0.4650 - acc: 0.7762 - val_loss: 0.4493 - val_acc: 0.7889\n",
      "Epoch 8/8\n",
      "1152000/1152000 [==============================] - 1040s 902us/step - loss: 0.4643 - acc: 0.7768 - val_loss: 0.4479 - val_acc: 0.7895\n",
      "CPU times: user 2h 45min 15s, sys: 20min 8s, total: 3h 5min 23s\n",
      "Wall time: 2h 18min 52s\n"
     ]
    }
   ],
   "source": [
    "%%time\n",
    "history = model.fit(x_train, y_train,\n",
    "                    batch_size=BATCH_SIZE,\n",
    "                    epochs=EPOCHS,\n",
    "                    validation_split=0.1,\n",
    "                    verbose=1,\n",
    "                    callbacks=callbacks)"
   ]
  },
  {
   "cell_type": "markdown",
   "metadata": {
    "_uuid": "267258196d96796ac69a7b8c466314bcf5d6ee42"
   },
   "source": [
    "### Evaluate"
   ]
  },
  {
   "cell_type": "code",
   "execution_count": 32,
   "metadata": {
    "_uuid": "98ecd8f1b8b74594c3ea775dd68a094e92458022"
   },
   "outputs": [
    {
     "name": "stdout",
     "output_type": "stream",
     "text": [
      "320000/320000 [==============================] - 113s 352us/step\n",
      "\n",
      "ACCURACY: 0.78994375\n",
      "LOSS: 0.44659377183914184\n",
      "CPU times: user 2min 22s, sys: 16.5 s, total: 2min 38s\n",
      "Wall time: 1min 52s\n"
     ]
    }
   ],
   "source": [
    "%%time\n",
    "score = model.evaluate(x_test, y_test, batch_size=BATCH_SIZE)\n",
    "print()\n",
    "print(\"ACCURACY:\",score[1])\n",
    "print(\"LOSS:\",score[0])"
   ]
  },
  {
   "cell_type": "code",
   "execution_count": 33,
   "metadata": {
    "_uuid": "40c72cd1e9d6c4fd799cbba7c813765ac4039dfc"
   },
   "outputs": [
    {
     "data": {
      "image/png": "[encoded data removed]",
      "text/plain": [
       "<Figure size 432x288 with 1 Axes>"
      ]
     },
     "metadata": {},
     "output_type": "display_data"
    },
    {
     "data": {
      "image/png": "[encoded data removed]",
      "text/plain": [
       "<Figure size 432x288 with 1 Axes>"
      ]
     },
     "metadata": {},
     "output_type": "display_data"
    }
   ],
   "source": [
    "acc = history.history['acc']\n",
    "val_acc = history.history['val_acc']\n",
    "loss = history.history['loss']\n",
    "val_loss = history.history['val_loss']\n",
    " \n",
    "epochs = range(len(acc))\n",
    " \n",
    "plt.plot(epochs, acc, 'b', label='Training acc')\n",
    "plt.plot(epochs, val_acc, 'r', label='Validation acc')\n",
    "plt.title('Training and validation accuracy')\n",
    "plt.legend()\n",
    " \n",
    "plt.figure()\n",
    " \n",
    "plt.plot(epochs, loss, 'b', label='Training loss')\n",
    "plt.plot(epochs, val_loss, 'r', label='Validation loss')\n",
    "plt.title('Training and validation loss')\n",
    "plt.legend()\n",
    " \n",
    "plt.show()"
   ]
  },
  {
   "cell_type": "markdown",
   "metadata": {
    "_uuid": "6bdfc0f6a6af5bebc0271d83dd7432c91001409b"
   },
   "source": [
    "### Predict"
   ]
  },
  {
   "cell_type": "code",
   "execution_count": 34,
   "metadata": {
    "_uuid": "f0b0fa3d4b1bb14b3f5e3d169a369f3ebef29ae1"
   },
   "outputs": [],
   "source": [
    "def decode_sentiment(score, include_neutral=True):\n",
    "    if include_neutral:        \n",
    "        label = NEUTRAL\n",
    "        if score <= SENTIMENT_THRESHOLDS[0]:\n",
    "            label = NEGATIVE\n",
    "        elif score >= SENTIMENT_THRESHOLDS[1]:\n",
    "            label = POSITIVE\n",
    "\n",
    "        return label\n",
    "    else:\n",
    "        return NEGATIVE if score < 0.5 else POSITIVE"
   ]
  },
  {
   "cell_type": "code",
   "execution_count": 35,
   "metadata": {
    "_uuid": "ed4086d651f2f8cbed11d3c909a8873607d29a06"
   },
   "outputs": [],
   "source": [
    "def predict(text, include_neutral=True):\n",
    "    start_at = time.time()\n",
    "    # Tokenize text\n",
    "    x_test = pad_sequences(tokenizer.texts_to_sequences([text]), maxlen=SEQUENCE_LENGTH)\n",
    "    # Predict\n",
    "    score = model.predict([x_test])[0]\n",
    "    # Decode sentiment\n",
    "    label = decode_sentiment(score, include_neutral=include_neutral)\n",
    "\n",
    "    return {\"label\": label, \"score\": float(score),\n",
    "       \"elapsed_time\": time.time()-start_at}  "
   ]
  },
  {
   "cell_type": "code",
   "execution_count": 36,
   "metadata": {
    "_uuid": "ca38b1e6c9b5acfed7467de2cf02a78333108872"
   },
   "outputs": [
    {
     "data": {
      "text/plain": [
       "{'label': 'POSITIVE',\n",
       " 'score': 0.963658332824707,\n",
       " 'elapsed_time': 0.4383208751678467}"
      ]
     },
     "execution_count": 36,
     "metadata": {},
     "output_type": "execute_result"
    }
   ],
   "source": [
    "predict(\"I love the music\")"
   ]
  },
  {
   "cell_type": "code",
   "execution_count": 37,
   "metadata": {
    "_uuid": "0e5fe647533be0148850de349fea6ef6f71303d1"
   },
   "outputs": [
    {
     "data": {
      "text/plain": [
       "{'label': 'NEGATIVE',\n",
       " 'score': 0.015783820301294327,\n",
       " 'elapsed_time': 0.2579636573791504}"
      ]
     },
     "execution_count": 37,
     "metadata": {},
     "output_type": "execute_result"
    }
   ],
   "source": [
    "predict(\"I hate the rain\")"
   ]
  },
  {
   "cell_type": "code",
   "execution_count": 38,
   "metadata": {
    "_uuid": "37064dffcc8920d34ccd54fac7c8b50e583a8269"
   },
   "outputs": [
    {
     "data": {
      "text/plain": [
       "{'label': 'NEGATIVE',\n",
       " 'score': 0.0034968769177794456,\n",
       " 'elapsed_time': 0.26694488525390625}"
      ]
     },
     "execution_count": 38,
     "metadata": {},
     "output_type": "execute_result"
    }
   ],
   "source": [
    "predict(\"He is sad\")"
   ]
  },
  {
   "cell_type": "code",
   "execution_count": 39,
   "metadata": {
    "_uuid": "afdb0ae8b0cfb17d62ff3cc8fd6699aa4d5a6e86"
   },
   "outputs": [
    {
     "data": {
      "text/plain": [
       "{'label': 'NEGATIVE',\n",
       " 'score': 0.03207983821630478,\n",
       " 'elapsed_time': 0.2546839714050293}"
      ]
     },
     "execution_count": 39,
     "metadata": {},
     "output_type": "execute_result"
    }
   ],
   "source": [
    "predict(\"is upset that he can't update his Facebook by texting it... and might cry as a result School today also. Blah!\")"
   ]
  },
  {
   "cell_type": "code",
   "execution_count": null,
   "metadata": {
    "_uuid": "d7c468815c5768326704c0e8475157fd124293a0"
   },
   "outputs": [],
   "source": []
  },
  {
   "cell_type": "code",
   "execution_count": null,
   "metadata": {
    "_uuid": "90e04fd45bc9f9e4854870ec1d6ddc1c9f9eb184"
   },
   "outputs": [],
   "source": []
  },
  {
   "cell_type": "markdown",
   "metadata": {
    "_uuid": "3ee72e47f84b6dbc32e02a783de5ec1661f157e1"
   },
   "source": [
    "### Confusion Matrix"
   ]
  },
  {
   "cell_type": "code",
   "execution_count": 42,
   "metadata": {
    "_uuid": "0e920173eb05f04aecdd735bc5dff0f5be5f8d15"
   },
   "outputs": [
    {
     "name": "stdout",
     "output_type": "stream",
     "text": [
      "320000/320000 [==============================] - 67s 208us/step\n",
      "CPU times: user 25.4 s, sys: 3.91 s, total: 29.3 s\n",
      "Wall time: 1min 7s\n"
     ]
    }
   ],
   "source": [
    "%%time\n",
    "y_pred_1d = []\n",
    "y_test_1d = list(df_test.target)\n",
    "scores = model.predict(x_test, verbose=1, batch_size=8000)\n",
    "y_pred_1d = [decode_sentiment(score, include_neutral=False) for score in scores]"
   ]
  },
  {
   "cell_type": "code",
   "execution_count": 43,
   "metadata": {
    "_uuid": "b3575191bb425ab871f3f41e83812ee84bb7e595"
   },
   "outputs": [],
   "source": [
    "def plot_confusion_matrix(cm, classes,\n",
    "                          title='Confusion matrix',\n",
    "                          cmap=plt.cm.Blues):\n",
    "    \"\"\"\n",
    "    This function prints and plots the confusion matrix.\n",
    "    Normalization can be applied by setting `normalize=True`.\n",
    "    \"\"\"\n",
    "\n",
    "    cm = cm.astype('float') / cm.sum(axis=1)[:, np.newaxis]\n",
    "\n",
    "    plt.imshow(cm, interpolation='nearest', cmap=cmap)\n",
    "    plt.title(title, fontsize=30)\n",
    "    plt.colorbar()\n",
    "    tick_marks = np.arange(len(classes))\n",
    "    plt.xticks(tick_marks, classes, rotation=90, fontsize=22)\n",
    "    plt.yticks(tick_marks, classes, fontsize=22)\n",
    "\n",
    "    fmt = '.2f'\n",
    "    thresh = cm.max() / 2.\n",
    "    for i, j in itertools.product(range(cm.shape[0]), range(cm.shape[1])):\n",
    "        plt.text(j, i, format(cm[i, j], fmt),\n",
    "                 horizontalalignment=\"center\",\n",
    "                 color=\"white\" if cm[i, j] > thresh else \"black\")\n",
    "\n",
    "    plt.ylabel('True label', fontsize=25)\n",
    "    plt.xlabel('Predicted label', fontsize=25)"
   ]
  },
  {
   "cell_type": "code",
   "execution_count": 44,
   "metadata": {
    "_uuid": "a57dc6f6211c144491a70f533225edfa95a2dc66"
   },
   "outputs": [
    {
     "data": {
      "image/png": "[encoded data removed]",
      "text/plain": [
       "<Figure size 864x864 with 2 Axes>"
      ]
     },
     "metadata": {},
     "output_type": "display_data"
    },
    {
     "name": "stdout",
     "output_type": "stream",
     "text": [
      "CPU times: user 1.38 s, sys: 252 ms, total: 1.64 s\n",
      "Wall time: 1.36 s\n"
     ]
    }
   ],
   "source": [
    "%%time\n",
    "\n",
    "cnf_matrix = confusion_matrix(y_test_1d, y_pred_1d)\n",
    "plt.figure(figsize=(12,12))\n",
    "plot_confusion_matrix(cnf_matrix, classes=df_train.target.unique(), title=\"Confusion matrix\")\n",
    "plt.show()"
   ]
  },
  {
   "cell_type": "markdown",
   "metadata": {
    "_uuid": "e23b957348dcc084249d3cc7538b972da471c2cd"
   },
   "source": [
    "### Classification Report"
   ]
  },
  {
   "cell_type": "code",
   "execution_count": 45,
   "metadata": {
    "_uuid": "a7fe05b7caa1c984ff1deb0be2f7c6bc043df9f5"
   },
   "outputs": [
    {
     "name": "stdout",
     "output_type": "stream",
     "text": [
      "              precision    recall  f1-score   support\n",
      "\n",
      "    NEGATIVE       0.80      0.77      0.78    159494\n",
      "    POSITIVE       0.78      0.81      0.79    160506\n",
      "\n",
      "   micro avg       0.79      0.79      0.79    320000\n",
      "   macro avg       0.79      0.79      0.79    320000\n",
      "weighted avg       0.79      0.79      0.79    320000\n",
      "\n"
     ]
    }
   ],
   "source": [
    "print(classification_report(y_test_1d, y_pred_1d))"
   ]
  },
  {
   "cell_type": "markdown",
   "metadata": {
    "_uuid": "4eb300f0c6693a618587c7dcf32f77f5416cbfb9"
   },
   "source": [
    "### Accuracy Score"
   ]
  },
  {
   "cell_type": "code",
   "execution_count": 46,
   "metadata": {
    "_uuid": "5cf76e6e09f8a60ed25947932b94c772eda44d23"
   },
   "outputs": [
    {
     "data": {
      "text/plain": [
       "0.78994375"
      ]
     },
     "execution_count": 46,
     "metadata": {},
     "output_type": "execute_result"
    }
   ],
   "source": [
    "accuracy_score(y_test_1d, y_pred_1d)"
   ]
  },
  {
   "cell_type": "markdown",
   "metadata": {
    "_uuid": "4f014c32f3833db282e1a075c526604f34e3158c"
   },
   "source": [
    "### Save model"
   ]
  },
  {
   "cell_type": "code",
   "execution_count": 47,
   "metadata": {
    "_uuid": "3b2b3ad5b592977b404acfa1c9ad303a62837255"
   },
   "outputs": [
    {
     "name": "stderr",
     "output_type": "stream",
     "text": [
      "2019-02-17 11:13:53,022 : INFO : saving Word2Vec object under model.w2v, separately None\n",
      "2019-02-17 11:13:53,023 : INFO : not storing attribute vectors_norm\n",
      "2019-02-17 11:13:53,025 : INFO : not storing attribute cum_table\n",
      "2019-02-17 11:13:53,916 : INFO : saved model.w2v\n"
     ]
    }
   ],
   "source": [
    "model.save(KERAS_MODEL)\n",
    "w2v_model.save(WORD2VEC_MODEL)\n",
    "pickle.dump(tokenizer, open(TOKENIZER_MODEL, \"wb\"), protocol=0)\n",
    "pickle.dump(encoder, open(ENCODER_MODEL, \"wb\"), protocol=0)"
   ]
  },
  {
   "cell_type": "code",
   "execution_count": 48,
   "metadata": {
    "_uuid": "cc363c54782894757f5ea8820c6a170f2e16ef93"
   },
   "outputs": [],
   "source": []
  },
  {
   "cell_type": "code",
   "execution_count": 48,
   "metadata": {
    "_uuid": "9a79c75aa253eb331672ea72749d2e3e0826a9f5"
   },
   "outputs": [],
   "source": []
  },
  {
   "cell_type": "code",
   "execution_count": 48,
   "metadata": {
    "_uuid": "fae4d563550221b606fc60fe74b3aef931a5fc1c"
   },
   "outputs": [],
   "source": []
  },
  {
   "cell_type": "code",
   "execution_count": 48,
   "metadata": {
    "_uuid": "f8219774d8d9874c336e5d7568d531571adb6ed4"
   },
   "outputs": [],
   "source": []
  },
  {
   "cell_type": "code",
   "execution_count": 48,
   "metadata": {
    "_uuid": "93af905912809fdab264bf11748bf7d6d634273d"
   },
   "outputs": [],
   "source": []
  },
  {
   "cell_type": "code",
   "execution_count": 48,
   "metadata": {
    "_uuid": "e0557bf39b2a284eee2bafcc61ec26551d5a0fb8"
   },
   "outputs": [],
   "source": []
  },
  {
   "cell_type": "code",
   "execution_count": 48,
   "metadata": {
    "_uuid": "08c1fec96cc395c67627e05408d95c080a77204f"
   },
   "outputs": [],
   "source": []
  },
  {
   "cell_type": "code",
   "execution_count": 48,
   "metadata": {
    "_uuid": "6b061120e561f67e0b58a20e52b4b8cd8e6a5528"
   },
   "outputs": [],
   "source": []
  },
  {
   "cell_type": "code",
   "execution_count": 48,
   "metadata": {
    "_uuid": "d2599466b5123caf32fe005f8c994d03eaf02e4a"
   },
   "outputs": [],
   "source": []
  },
  {
   "cell_type": "code",
   "execution_count": 48,
   "metadata": {
    "_uuid": "b7bfb1ad2a2ad6753de376d72edf7e13669fd9ea"
   },
   "outputs": [],
   "source": []
  },
  {
   "cell_type": "code",
   "execution_count": 48,
   "metadata": {
    "_uuid": "68031e2d96a65a879b8d64ac82f4ed12d857d6dd"
   },
   "outputs": [],
   "source": []
  },
  {
   "cell_type": "code",
   "execution_count": 48,
   "metadata": {
    "_uuid": "eabfc0aa34bcf1adfd2512fe1de888e774264d3b"
   },
   "outputs": [],
   "source": []
  }
 ],
 "metadata": {
  "kernelspec": {
   "display_name": "Python 3",
   "language": "python",
   "name": "python3"
  },
  "language_info": {
   "codemirror_mode": {
    "name": "ipython",
    "version": 3
   },
   "file_extension": ".py",
   "mimetype": "text/x-python",
   "name": "python",
   "nbconvert_exporter": "python",
   "pygments_lexer": "ipython3",
   "version": "3.6.8"
  }
 },
 "nbformat": 4,
 "nbformat_minor": 1
}
